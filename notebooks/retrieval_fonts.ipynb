{
 "cells": [
  {
   "cell_type": "code",
   "execution_count": 1,
   "metadata": {
    "collapsed": true,
    "ExecuteTime": {
     "start_time": "2023-04-30T18:37:27.529570Z",
     "end_time": "2023-04-30T18:37:33.498840Z"
    }
   },
   "outputs": [],
   "source": [
    "import numpy as np\n",
    "import torch\n",
    "import torch.nn as nn\n",
    "from torch.utils.data import Dataset, DataLoader\n",
    "import torch.optim as optim\n",
    "from PIL import Image, ImageDraw, ImageFont\n",
    "import json\n",
    "import random\n",
    "import gradio as gr\n",
    "\n",
    "import clip\n",
    "import os\n",
    "from tqdm import tqdm\n",
    "from fine_tune import draw_text_with_new_lines, MyDataset, TestDataset, calculate_corr, load_model, evaluate, all_attributes\n",
    "from IPython.display import display\n",
    "import matplotlib.pyplot as plt\n",
    "import matplotlib as mpl\n",
    "import matplotlib.font_manager as font_manager\n",
    "\n",
    "# If using GPU then use mixed precision training.\n",
    "device = \"cuda:0\" if torch.cuda.is_available() else \"cpu\"\n",
    "# Must set jit=False for training\n",
    "model, preprocess = clip.load(\"ViT-B/32\", device=device, jit=False)\n",
    "\n",
    "from torchvision.transforms.functional import pil_to_tensor, to_pil_image"
   ]
  },
  {
   "cell_type": "code",
   "execution_count": 68,
   "outputs": [],
   "source": [
    "char_size = 150\n",
    "font_dir = '../gwfonts'\n",
    "cj_font_dir = '../all-fonts'\n",
    "font_paths = [os.path.join(font_dir, f) for f in os.listdir(font_dir)]\n",
    "cj_font_paths = [os.path.join(cj_font_dir, f) for f in os.listdir(cj_font_dir)]\n",
    "\n",
    "# add font\n",
    "for font in font_manager.findSystemFonts(font_dir):\n",
    "    font_manager.fontManager.addfont(font)\n",
    "\n",
    "for font in font_manager.findSystemFonts(cj_font_dir):\n",
    "    font_manager.fontManager.addfont(font)\n",
    "\n",
    "ttf_list = font_manager.fontManager.ttflist\n",
    "\n",
    "predicted_attributes = json.load(open('../attributeData/predicted_cj_font_attribute.json', 'r'))\n",
    "attribute_to_indexes = {attribute: all_attributes.index(attribute) for attribute in all_attributes}"
   ],
   "metadata": {
    "collapsed": false,
    "ExecuteTime": {
     "start_time": "2023-04-10T17:06:26.557722Z",
     "end_time": "2023-04-10T17:06:26.684404Z"
    }
   }
  },
  {
   "cell_type": "code",
   "execution_count": 69,
   "outputs": [],
   "source": [
    "def draw_text_with_new_lines(text, font, img_width, img_height):\n",
    "    image = Image.new('RGB', (img_width, img_height), color=(255, 255, 255))\n",
    "    draw = ImageDraw.Draw(image)\n",
    "    lines = text.split('\\n')\n",
    "    y_text = 0\n",
    "    for line in lines:\n",
    "        line_width, line_height = font.getsize(line)\n",
    "        draw.text(((img_width - line_width) / 2, y_text),\n",
    "                  line, font=font, fill=(0, 0, 0))\n",
    "        y_text += line_height\n",
    "    return image"
   ],
   "metadata": {
    "collapsed": false,
    "ExecuteTime": {
     "start_time": "2023-04-10T17:06:27.534186Z",
     "end_time": "2023-04-10T17:06:27.547087Z"
    }
   }
  },
  {
   "cell_type": "code",
   "execution_count": 70,
   "outputs": [],
   "source": [
    "font_to_indexes = {}\n",
    "for attribute in all_attributes:\n",
    "    cos_sims = np.array([predicted_attributes[os.path.splitext(os.path.basename(font_path))[0]][attribute] for font_path in cj_font_paths])\n",
    "    sorted_index = np.argsort(-cos_sims)\n",
    "    for i, font_path in enumerate(cj_font_paths):\n",
    "        font_name = os.path.splitext(os.path.basename(font_path))[0]\n",
    "        if font_name not in font_to_indexes:\n",
    "            font_to_indexes[font_name] = []\n",
    "        font_to_indexes[font_name].append(sorted_index[i])"
   ],
   "metadata": {
    "collapsed": false,
    "ExecuteTime": {
     "start_time": "2023-04-10T17:06:28.489132Z",
     "end_time": "2023-04-10T17:06:28.525915Z"
    }
   }
  },
  {
   "cell_type": "code",
   "execution_count": 71,
   "outputs": [],
   "source": [
    "def choose_closest_font(target_attributes, target_attribute_scores):\n",
    "    assert len(target_attributes) == len(target_attribute_scores)\n",
    "\n",
    "    predicted_target_attribute_scores = []\n",
    "    for attribute, attribute_score in zip(target_attributes, target_attribute_scores):\n",
    "        tmp = []\n",
    "        attribute_index = attribute_to_indexes[attribute]\n",
    "        for i, font_path in enumerate(cj_font_paths):\n",
    "            font_name = os.path.splitext(os.path.basename(font_path))[0]\n",
    "            tmp.append(abs(font_to_indexes[font_name][attribute_index] - attribute_score))\n",
    "        predicted_target_attribute_scores.append(np.array(tmp))\n",
    "    distances = np.sum(np.array(predicted_target_attribute_scores), axis=0)\n",
    "    min_index = np.argmin(distances)\n",
    "    return cj_font_paths[min_index]"
   ],
   "metadata": {
    "collapsed": false,
    "ExecuteTime": {
     "start_time": "2023-04-10T17:06:29.206032Z",
     "end_time": "2023-04-10T17:06:29.207590Z"
    }
   }
  },
  {
   "cell_type": "code",
   "execution_count": 72,
   "outputs": [
    {
     "name": "stdout",
     "output_type": "stream",
     "text": [
      "9\n",
      "6\n"
     ]
    }
   ],
   "source": [
    "target_attributes = ['angular', 'happy',]\n",
    "target_attribute_scores = [10, 10]\n",
    "font_path = choose_closest_font(target_attributes, target_attribute_scores)\n",
    "font_name = os.path.splitext(os.path.basename(font_path))[0]\n",
    "for attribute in target_attributes:\n",
    "    attribute_index = attribute_to_indexes[attribute]\n",
    "    index = font_to_indexes[font_name][attribute_index]\n",
    "    print(index)"
   ],
   "metadata": {
    "collapsed": false,
    "ExecuteTime": {
     "start_time": "2023-04-10T17:06:29.817211Z",
     "end_time": "2023-04-10T17:06:29.830539Z"
    }
   }
  },
  {
   "cell_type": "code",
   "execution_count": 74,
   "outputs": [
    {
     "name": "stderr",
     "output_type": "stream",
     "text": [
      "/home/yuki/anaconda3/envs/dgfont-env/lib/python3.7/site-packages/ipykernel_launcher.py:7: DeprecationWarning: getsize is deprecated and will be removed in Pillow 10 (2023-07-01). Use getbbox or getlength instead.\n",
      "  import sys\n"
     ]
    },
    {
     "name": "stdout",
     "output_type": "stream",
     "text": [
      "Running on local URL:  http://127.0.0.1:7860\n",
      "Running on public URL: https://7c0f30338a045be41a.gradio.live\n",
      "\n",
      "This share link expires in 72 hours. For free permanent hosting and GPU upgrades (NEW!), check out Spaces: https://huggingface.co/spaces\n"
     ]
    },
    {
     "data": {
      "text/plain": "<IPython.core.display.HTML object>",
      "text/html": "<div><iframe src=\"https://7c0f30338a045be41a.gradio.live\" width=\"100%\" height=\"500\" allow=\"autoplay; camera; microphone; clipboard-read; clipboard-write;\" frameborder=\"0\" allowfullscreen></iframe></div>"
     },
     "metadata": {},
     "output_type": "display_data"
    },
    {
     "name": "stderr",
     "output_type": "stream",
     "text": [
      "/home/yuki/anaconda3/envs/dgfont-env/lib/python3.7/site-packages/ipykernel_launcher.py:7: DeprecationWarning: getsize is deprecated and will be removed in Pillow 10 (2023-07-01). Use getbbox or getlength instead.\n",
      "  import sys\n"
     ]
    },
    {
     "name": "stdout",
     "output_type": "stream",
     "text": [
      "Keyboard interruption in main thread... closing server.\n",
      "Killing tunnel 127.0.0.1:7860 <> https://7c0f30338a045be41a.gradio.live\n"
     ]
    },
    {
     "data": {
      "text/plain": ""
     },
     "execution_count": 74,
     "metadata": {},
     "output_type": "execute_result"
    }
   ],
   "source": [
    "target_attributes = ['formal', 'artistic', 'italic']\n",
    "def image_builder(text, *target_attribute_scores):\n",
    "    font_path = choose_closest_font(target_attributes, target_attribute_scores)\n",
    "    font = ImageFont.truetype(font_path, char_size)\n",
    "    line_num = text.count('\\n') + 1\n",
    "    width = int(char_size * len(text) / line_num)\n",
    "    height = (char_size + int(char_size/3)) * line_num\n",
    "    image = draw_text_with_new_lines(text, font, width, height)\n",
    "    return image\n",
    "sliders = []\n",
    "with gr.Blocks() as demo:\n",
    "    with gr.Row():\n",
    "        text = gr.Textbox(value='A')\n",
    "    for attribute in target_attributes:\n",
    "        with gr.Row():\n",
    "            sliders.append(gr.Slider(0, 301, 150, label=attribute))\n",
    "    with gr.Row():\n",
    "        values = [slider.value for slider in sliders]\n",
    "        output_img1 = gr.Image(value=image_builder(text.value, *values), show_label=False)\n",
    "\n",
    "    for i, attribute in enumerate(target_attributes):\n",
    "        sliders[i].change(fn=image_builder, inputs=[text, *sliders], outputs=[output_img1], show_progress=False)\n",
    "    text.change(fn=image_builder, inputs=[text, *sliders], outputs=[output_img1], show_progress=False)\n",
    "\n",
    "\n",
    "demo.launch(debug=True, share=True)"
   ],
   "metadata": {
    "collapsed": false,
    "ExecuteTime": {
     "start_time": "2023-04-10T17:30:25.578033Z",
     "end_time": "2023-04-13T15:59:50.481049Z"
    }
   }
  },
  {
   "cell_type": "code",
   "execution_count": 44,
   "outputs": [
    {
     "data": {
      "text/plain": "50"
     },
     "execution_count": 44,
     "metadata": {},
     "output_type": "execute_result"
    }
   ],
   "source": [
    "char_size"
   ],
   "metadata": {
    "collapsed": false,
    "ExecuteTime": {
     "start_time": "2023-04-10T16:42:34.399707Z",
     "end_time": "2023-04-10T16:42:34.427486Z"
    }
   }
  },
  {
   "cell_type": "code",
   "execution_count": null,
   "outputs": [],
   "source": [],
   "metadata": {
    "collapsed": false
   }
  }
 ],
 "metadata": {
  "kernelspec": {
   "display_name": "Python 3",
   "language": "python",
   "name": "python3"
  },
  "language_info": {
   "codemirror_mode": {
    "name": "ipython",
    "version": 2
   },
   "file_extension": ".py",
   "mimetype": "text/x-python",
   "name": "python",
   "nbconvert_exporter": "python",
   "pygments_lexer": "ipython2",
   "version": "2.7.6"
  }
 },
 "nbformat": 4,
 "nbformat_minor": 0
}
