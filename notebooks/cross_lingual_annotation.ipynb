{
 "cells": [
  {
   "cell_type": "code",
   "execution_count": 1,
   "metadata": {
    "ExecuteTime": {
     "end_time": "2023-04-19T13:34:11.943150Z",
     "start_time": "2023-04-19T13:34:07.526734Z"
    },
    "pycharm": {
     "is_executing": true
    }
   },
   "outputs": [
    {
     "name": "stdout",
     "output_type": "stream",
     "text": [
      "exclusive_attributes:  ['capitals', 'cursive', 'display', 'italic', 'monospace', 'serif']\n"
     ]
    }
   ],
   "source": [
    "import numpy as np\n",
    "import torch\n",
    "import torch.nn as nn\n",
    "from torch.utils.data import Dataset, DataLoader\n",
    "import torch.optim as optim\n",
    "from PIL import Image, ImageDraw, ImageFont\n",
    "import json\n",
    "import random\n",
    "import gradio as gr\n",
    "import queue\n",
    "\n",
    "import clip\n",
    "import os\n",
    "from tqdm import tqdm\n",
    "from utils.initialize_font_data import all_attributes, fox_text_four_lines, font_paths as roman_font_paths, retrieve_font_path\n",
    "from utils.transform_image import draw_text_with_new_lines\n",
    "from utils.cross_lingual_font_retrieval import inclusive_cjk_font_paths, roman_ref_font_paths, cjk_ref_font_paths\n",
    "\n",
    "from cj_fonts import inclusive_fonts, fifty_fonts\n",
    "from IPython.display import display\n",
    "import matplotlib.pyplot as plt\n",
    "import matplotlib as mpl\n",
    "import matplotlib.font_manager as font_manager\n",
    "\n",
    "# If using GPU then use mixed precision training.\n",
    "device = \"cuda:0\" if torch.cuda.is_available() else \"cpu\"\n",
    "# Must set jit=False for training\n",
    "model, preprocess = clip.load(\"ViT-B/32\", device=device, jit=False)\n",
    "\n",
    "from torchvision.transforms.functional import pil_to_tensor, to_pil_image"
   ]
  },
  {
   "cell_type": "code",
   "execution_count": 2,
   "metadata": {
    "ExecuteTime": {
     "end_time": "2023-04-19T13:34:13.017181Z",
     "start_time": "2023-04-19T13:34:12.277361Z"
    }
   },
   "outputs": [],
   "source": [
    "char_size = 150\n",
    "font_dir = '../gwfonts'\n",
    "cj_font_dir = '../all-fonts'\n",
    "# cj_font_paths = [os.path.join(cj_font_dir, f) for f in os.listdir(cj_font_dir)]\n",
    "cj_font_paths = inclusive_cjk_font_paths\n",
    "fifty_cj_font_paths = [os.path.join(cj_font_dir, f) for f in fifty_fonts.split('\\n') if f != '']\n",
    "\n",
    "# add font\n",
    "for font in font_manager.findSystemFonts(font_dir):\n",
    "    font_manager.fontManager.addfont(font)\n",
    "\n",
    "for font in font_manager.findSystemFonts(cj_font_dir):\n",
    "    font_manager.fontManager.addfont(font)\n",
    "\n",
    "ttf_list = font_manager.fontManager.ttflist\n",
    "\n",
    "predicted_attributes = json.load(open('../attributeData/predicted_cj_font_attribute.json', 'r'))\n",
    "attribute_to_indexes = {attribute: all_attributes.index(attribute) for attribute in all_attributes}"
   ]
  },
  {
   "cell_type": "code",
   "execution_count": 3,
   "metadata": {
    "ExecuteTime": {
     "end_time": "2023-04-19T13:34:15.465906Z",
     "start_time": "2023-04-19T13:34:15.459846Z"
    }
   },
   "outputs": [],
   "source": [
    "def choose_random_font_pairs(font_dir):\n",
    "    font_paths = [os.path.join(font_dir, f) for f in os.listdir(font_dir)]\n",
    "    font_path1 = random.choice(font_paths)\n",
    "    font_path2 = random.choice(font_paths)\n",
    "    while font_path1 == font_path2:\n",
    "        font2_path2 = random.choice(font_paths)\n",
    "    return font_path1, font_path2"
   ]
  },
  {
   "cell_type": "code",
   "execution_count": 4,
   "metadata": {
    "ExecuteTime": {
     "end_time": "2023-04-19T13:34:15.968817Z",
     "start_time": "2023-04-19T13:34:15.963926Z"
    }
   },
   "outputs": [],
   "source": [
    "def choose_font_pairs_in_order(font_dir):\n",
    "    font_paths = [os.path.join(font_dir, f) for f in os.listdir(font_dir)]\n",
    "    for font_path1 in font_paths:\n",
    "        for font_path2 in font_paths:\n",
    "            if font_path1 != font_path2:\n",
    "                yield font_path1, font_path2"
   ]
  },
  {
   "cell_type": "code",
   "execution_count": 5,
   "metadata": {
    "ExecuteTime": {
     "end_time": "2023-04-19T13:34:16.290344Z",
     "start_time": "2023-04-19T13:34:16.287848Z"
    }
   },
   "outputs": [],
   "source": [
    "def choose_font_pairs_same_apper_times_with_queue(font_paths, appear_times=8, target_font_num=50, random_seed = 123):\n",
    "    sorted_font_paths = sorted(font_paths)\n",
    "\n",
    "    random.seed(random_seed)\n",
    "    font_paths = sorted_font_paths[:target_font_num] * appear_times\n",
    "    random.shuffle(font_paths)\n",
    "\n",
    "    font_paths_queue = queue.Queue()\n",
    "    for font_path in font_paths:\n",
    "        font_paths_queue.put(font_path)\n",
    "    flag = False\n",
    "    count = 0\n",
    "    # extract two font paths from font_paths_queue\n",
    "    while True:\n",
    "        if font_paths_queue.qsize() < 2:\n",
    "            break\n",
    "        if count > 1000:\n",
    "            break\n",
    "\n",
    "        font_path2 = font_paths_queue.get()\n",
    "        if not flag:\n",
    "            font_path1 = font_paths_queue.get()\n",
    "        flag = False\n",
    "        if font_path1 != font_path2:\n",
    "            yield font_path1, font_path2\n",
    "        else:\n",
    "            count += 1\n",
    "            font_paths_queue.put(font_path2)\n",
    "            flag = True"
   ]
  },
  {
   "cell_type": "code",
   "execution_count": 6,
   "metadata": {},
   "outputs": [],
   "source": [
    "def choose_reference_font(font_paths, appear_times=1, target_font_num=50, random_seed=123):\n",
    "    sorted_font_paths = sorted(font_paths)\n",
    "    random.seed(random_seed)\n",
    "    font_paths = sorted_font_paths[:target_font_num] * appear_times\n",
    "    random.shuffle(font_paths)\n",
    "\n",
    "    font_paths_queue = queue.Queue()\n",
    "    for font_path in font_paths:\n",
    "        font_paths_queue.put(font_path)\n",
    "    while True:\n",
    "        if font_paths_queue.qsize() == 0:\n",
    "            break\n",
    "\n",
    "        font_path = font_paths_queue.get()\n",
    "        yield font_path"
   ]
  },
  {
   "cell_type": "code",
   "execution_count": 7,
   "metadata": {},
   "outputs": [],
   "source": [
    "cjk_text = '春夏\\n秋冬'\n",
    "roman_text = fox_text_four_lines\n",
    "\n",
    "def draw_percentage_bar(current_num, total_num, size=(300, 10), background_color=(255, 255, 255), bar_color=(186, 251, 176), total_bar_color=(131, 237, 231)):\n",
    "    if current_num == 0:\n",
    "        return Image.new('RGB', size, background_color)\n",
    "\n",
    "    percentage = min(current_num / total_num, 1)\n",
    "    image = Image.new('RGB', size, background_color)\n",
    "    draw = ImageDraw.Draw(image)\n",
    "    bar_width = int(size[0] * percentage)\n",
    "    bar_height = int(size[1] / 3)\n",
    "    bar_height = int(0)\n",
    "    draw.rectangle((0, bar_height, bar_width, int(size[1])), fill=bar_color)\n",
    "    return image"
   ]
  },
  {
   "cell_type": "code",
   "execution_count": 8,
   "metadata": {},
   "outputs": [],
   "source": [
    "char_size = 150\n",
    "draw_percentage_bar(10, 10)\n",
    "navigation_font_path = os.path.join(cj_font_dir, 'ipaexg.ttf')\n",
    "navigation_font = ImageFont.truetype(navigation_font_path, char_size)\n",
    "navigation_width = char_size * 15\n",
    "navigation_height = char_size * 2"
   ]
  },
  {
   "cell_type": "code",
   "execution_count": 12,
   "metadata": {},
   "outputs": [
    {
     "name": "stdout",
     "output_type": "stream",
     "text": [
      "total_num 100\n"
     ]
    }
   ],
   "source": [
    "roman_char_size = 100\n",
    "appearance_times = 4\n",
    "target_font_num = 50\n",
    "total_num = appearance_times * target_font_num // 2\n",
    "print('total_num', total_num)\n",
    "assert total_num == len(roman_ref_font_paths)\n",
    "mode = 'CJK'\n",
    "if mode == 'Roman':\n",
    "  ref_font_generator = (font_path for font_path in roman_ref_font_paths)\n",
    "  font_pair_generator = choose_font_pairs_same_apper_times_with_queue(fifty_cj_font_paths, appear_times=appearance_times, target_font_num=target_font_num, random_seed=123)\n",
    "else:\n",
    "  ref_font_generator = (font_path for font_path in cjk_ref_font_paths)\n",
    "  font_pair_generator = choose_font_pairs_same_apper_times_with_queue(roman_font_paths, appear_times=appearance_times, target_font_num=target_font_num, random_seed=123)"
   ]
  },
  {
   "cell_type": "code",
   "execution_count": 13,
   "metadata": {},
   "outputs": [
    {
     "name": "stdout",
     "output_type": "stream",
     "text": [
      "Aldrich, Bello-Pro, 001Shirokuma-Regular\n"
     ]
    }
   ],
   "source": [
    "current_num = 0\n",
    "if mode == 'Roman':\n",
    "  ref_text = roman_text\n",
    "  text = cjk_text\n",
    "  ref_char_size = roman_char_size\n",
    "  option_char_size = char_size\n",
    "else:\n",
    "  ref_text = cjk_text\n",
    "  text = roman_text\n",
    "  ref_char_size = char_size\n",
    "  option_char_size = roman_char_size\n",
    "\n",
    "line_num = ref_text.count('\\n') + 1\n",
    "ref_default_width = int((ref_char_size+20) * len(ref_text) / line_num)\n",
    "ref_default_height = int((ref_char_size+20) * line_num)\n",
    "line_num = text.count('\\n') + 1\n",
    "default_width = int((option_char_size+20) * len(text) / line_num)\n",
    "default_height = int((option_char_size+20) * line_num)\n",
    "\n",
    "\n",
    "default_ref_font_path = next(ref_font_generator)\n",
    "default_ref_font = ImageFont.truetype(default_ref_font_path, ref_char_size)\n",
    "default_font_path1, default_font_path2 = next(font_pair_generator)\n",
    "default_font1 = ImageFont.truetype(default_font_path1, option_char_size)\n",
    "default_font2 = ImageFont.truetype(default_font_path2, option_char_size)\n",
    "\n",
    "\n",
    "global_font_name1 = os.path.splitext(os.path.basename(default_font_path1))[0]\n",
    "global_font_name2 = os.path.splitext(os.path.basename(default_font_path2))[0]\n",
    "global_ref_font_name = os.path.splitext(os.path.basename(default_ref_font_path))[0]\n",
    "print(f'{global_font_name1}, {global_font_name2}, {global_ref_font_name}')"
   ]
  },
  {
   "cell_type": "code",
   "execution_count": 14,
   "metadata": {},
   "outputs": [
    {
     "name": "stdout",
     "output_type": "stream",
     "text": [
      "Running on local URL:  http://127.0.0.1:7860\n"
     ]
    },
    {
     "name": "stdout",
     "output_type": "stream",
     "text": [
      "Running on public URL: https://f55b648d18bdc17b48.gradio.live\n",
      "\n",
      "This share link expires in 72 hours. For free permanent hosting and GPU upgrades (NEW!), check out Spaces: https://huggingface.co/spaces\n"
     ]
    },
    {
     "data": {
      "text/html": [
       "<div><iframe src=\"https://f55b648d18bdc17b48.gradio.live\" width=\"100%\" height=\"500\" allow=\"autoplay; camera; microphone; clipboard-read; clipboard-write;\" frameborder=\"0\" allowfullscreen></iframe></div>"
      ],
      "text/plain": [
       "<IPython.core.display.HTML object>"
      ]
     },
     "metadata": {},
     "output_type": "display_data"
    },
    {
     "name": "stdout",
     "output_type": "stream",
     "text": [
      "1 ../all-fonts/AsebiMin-Light.otf /home/yuki/learn-computer-vision/gwfonts/Amethysta-Regular.ttf /home/yuki/learn-computer-vision/gwfonts/Arizonia-Regular.ttf\n",
      "2 ../all-fonts/Boku2-Regular.otf /home/yuki/learn-computer-vision/gwfonts/Andada-Bold.ttf /home/yuki/learn-computer-vision/gwfonts/ARSMaquetteWebOne.ttf\n",
      "3 ../all-fonts/chinese-handwriting-style.ttf /home/yuki/learn-computer-vision/gwfonts/CabinCondensed-Medium.ttf /home/yuki/learn-computer-vision/gwfonts/BilboSwashCaps-Regular.ttf\n",
      "4 ../all-fonts/站酷庆科黄油体.ttf /home/yuki/learn-computer-vision/gwfonts/ARSMaquetteWebOne.ttf /home/yuki/learn-computer-vision/gwfonts/AnonymousPro.ttf\n",
      "5 ../all-fonts/dfpop2w9.ttc /home/yuki/learn-computer-vision/gwfonts/Bevan.ttf /home/yuki/learn-computer-vision/gwfonts/BadScript-Regular.ttf\n",
      "6 ../all-fonts/HarmonyOS_Sans_SC_Light.ttf /home/yuki/learn-computer-vision/gwfonts/CabinCondensed-Medium.ttf /home/yuki/learn-computer-vision/gwfonts/Bevan.ttf\n",
      "7 ../all-fonts/jianshuihei.TTF /home/yuki/learn-computer-vision/gwfonts/BenchNine-Regular.ttf /home/yuki/learn-computer-vision/gwfonts/Acme-Regular.ttf\n",
      "8 ../all-fonts/font_1_kokumr_1.00_rls.ttf /home/yuki/learn-computer-vision/gwfonts/Cardo-Italic.ttf /home/yuki/learn-computer-vision/gwfonts/Cabin-SemiBoldItalic.ttf\n",
      "9 ../all-fonts/irohamaru-mikami-Medium.ttf /home/yuki/learn-computer-vision/gwfonts/ArialRoundedMTBold.ttf /home/yuki/learn-computer-vision/gwfonts/Brevia-Regular.otf\n",
      "10 ../all-fonts/JP_NotoSerifJP-Regular.otf /home/yuki/learn-computer-vision/gwfonts/Arimo-Bold.ttf /home/yuki/learn-computer-vision/gwfonts/Bentham-Regular.ttf\n",
      "11 ../all-fonts/851H-kktt_004.ttf /home/yuki/learn-computer-vision/gwfonts/CabinCondensed.ttf /home/yuki/learn-computer-vision/gwfonts/Cantarell-BoldOblique.ttf\n",
      "12 ../all-fonts/g_comickoin_freeB.ttf /home/yuki/learn-computer-vision/gwfonts/AllertaStencil-Regular.ttf /home/yuki/learn-computer-vision/gwfonts/Cardo-Italic.ttf\n",
      "13 ../all-fonts/ZCOOLXiaoWei-Regular.ttf /home/yuki/learn-computer-vision/gwfonts/Chivo-Italic.ttf /home/yuki/learn-computer-vision/gwfonts/ArialRoundedMTBold.ttf\n",
      "14 ../all-fonts/えり字.otf /home/yuki/learn-computer-vision/gwfonts/CenturyGothic.ttf /home/yuki/learn-computer-vision/gwfonts/AveriaSerifLibre-Italic.ttf\n",
      "15 ../all-fonts/站酷庆科黄油体.ttf /home/yuki/learn-computer-vision/gwfonts/Arvo-BoldItalic.ttf /home/yuki/learn-computer-vision/gwfonts/Asap-Regular.ttf\n",
      "16 ../all-fonts/001Shirokuma-Regular.otf /home/yuki/learn-computer-vision/gwfonts/Bello-Pro.otf /home/yuki/learn-computer-vision/gwfonts/Cantarell-BoldOblique.ttf\n",
      "17 ../all-fonts/851tegaki_zatsu_normal_0883.ttf /home/yuki/learn-computer-vision/gwfonts/BadScript-Regular.ttf /home/yuki/learn-computer-vision/gwfonts/CrimsonText-BoldItalic.ttf\n",
      "18 ../all-fonts/AlibabaPuHuiTi-2-35-Thin.ttf /home/yuki/learn-computer-vision/gwfonts/AdventPro-SemiBold.ttf /home/yuki/learn-computer-vision/gwfonts/BenchNine-Regular.ttf\n",
      "19 ../all-fonts/AlibabaPuHuiTi-2-95-ExtraBold.otf /home/yuki/learn-computer-vision/gwfonts/BlackOpsOne-Regular.ttf /home/yuki/learn-computer-vision/gwfonts/CabinCondensed.ttf\n",
      "20 ../all-fonts/dfpop2w9.ttc /home/yuki/learn-computer-vision/gwfonts/AndadaSC-Bold.ttf /home/yuki/learn-computer-vision/gwfonts/CabinCondensed-Medium.ttf\n",
      "21 ../all-fonts/HanyiSentyFountainPen.ttf /home/yuki/learn-computer-vision/gwfonts/Alegreya-BoldItalic.ttf /home/yuki/learn-computer-vision/gwfonts/Arizonia-Regular.ttf\n",
      "22 ../all-fonts/Kaisotai-Next-UP-B.otf /home/yuki/learn-computer-vision/gwfonts/Arimo-BoldItalic.ttf /home/yuki/learn-computer-vision/gwfonts/Calluna-Regular.otf\n",
      "23 ../all-fonts/Kazesawa-Light.ttf /home/yuki/learn-computer-vision/gwfonts/Arizonia-Regular.ttf /home/yuki/learn-computer-vision/gwfonts/CantoraOne-Regular.ttf\n",
      "24 ../all-fonts/Kazesawa-Regular.ttf /home/yuki/learn-computer-vision/gwfonts/AveriaSansLibre-Italic.ttf /home/yuki/learn-computer-vision/gwfonts/Asap-Regular.ttf\n",
      "25 ../all-fonts/KFhimaji.otf /home/yuki/learn-computer-vision/gwfonts/Alegreya-BoldItalic.ttf /home/yuki/learn-computer-vision/gwfonts/Andada-Bold.ttf\n",
      "26 ../all-fonts/LXGWWenKai-Light.ttf /home/yuki/learn-computer-vision/gwfonts/AveriaSerifLibre-Italic.ttf /home/yuki/learn-computer-vision/gwfonts/Alegreya-BoldItalic.ttf\n",
      "27 ../all-fonts/MPLUS1p-Thin.ttf /home/yuki/learn-computer-vision/gwfonts/BubblerOne.ttf /home/yuki/learn-computer-vision/gwfonts/Astloch-Bold.ttf\n",
      "28 ../all-fonts/mqinghuahk.otf /home/yuki/learn-computer-vision/gwfonts/AveriaLibre-LightItalic.ttf /home/yuki/learn-computer-vision/gwfonts/Asset.ttf\n",
      "29 ../all-fonts/myoungheihk.ttf /home/yuki/learn-computer-vision/gwfonts/BubblerOne.ttf /home/yuki/learn-computer-vision/gwfonts/Arvo-BoldItalic.ttf\n",
      "30 ../all-fonts/Oshidashi-M-Gothic.otf /home/yuki/learn-computer-vision/gwfonts/CrimsonText-Semibold.ttf /home/yuki/learn-computer-vision/gwfonts/BubblerOne.ttf\n",
      "31 ../all-fonts/ZCOOLXiaoWei-Regular.ttf /home/yuki/learn-computer-vision/gwfonts/AnonymousPro.ttf /home/yuki/learn-computer-vision/gwfonts/Chivo-Italic.ttf\n",
      "32 ../all-fonts/irohakakuC-Bold.ttf /home/yuki/learn-computer-vision/gwfonts/BenchNine-Regular.ttf /home/yuki/learn-computer-vision/gwfonts/BowlbyOneSC-Regular.ttf\n",
      "33 ../all-fonts/ipaexm.ttf /home/yuki/learn-computer-vision/gwfonts/Damion.ttf /home/yuki/learn-computer-vision/gwfonts/CrimsonText-BoldItalic.ttf\n",
      "34 ../all-fonts/BIZUDPMincho-Regular.ttf /home/yuki/learn-computer-vision/gwfonts/Bentham-Regular.ttf /home/yuki/learn-computer-vision/gwfonts/Amethysta-Regular.ttf\n",
      "35 ../all-fonts/HarmonyOS_Sans_SC_Thin.ttf /home/yuki/learn-computer-vision/gwfonts/CabinCondensed.ttf /home/yuki/learn-computer-vision/gwfonts/CenturyGothic.ttf\n",
      "36 ../all-fonts/ipaexm.ttf /home/yuki/learn-computer-vision/gwfonts/AnonymousPro.ttf /home/yuki/learn-computer-vision/gwfonts/Calluna-Regular.otf\n",
      "37 ../all-fonts/MOBO.otf /home/yuki/learn-computer-vision/gwfonts/BowlbyOneSC-Regular.ttf /home/yuki/learn-computer-vision/gwfonts/Arvo-Italic.ttf\n",
      "38 ../all-fonts/myoungheihks.ttf /home/yuki/learn-computer-vision/gwfonts/BlackOpsOne-Regular.ttf /home/yuki/learn-computer-vision/gwfonts/Arimo-BoldItalic.ttf\n",
      "39 ../all-fonts/makiirclehand.ttf /home/yuki/learn-computer-vision/gwfonts/Bello-Pro.otf /home/yuki/learn-computer-vision/gwfonts/Buenard-Bold.ttf\n",
      "40 ../all-fonts/zhs-caonima-ti.ttf /home/yuki/learn-computer-vision/gwfonts/AllertaStencil-Regular.ttf /home/yuki/learn-computer-vision/gwfonts/Aldrich.ttf\n",
      "41 ../all-fonts/ゆず ポップ A [M] Light.ttf /home/yuki/learn-computer-vision/gwfonts/ArialUnicodeMS.ttf /home/yuki/learn-computer-vision/gwfonts/Brevia-Regular.otf\n",
      "42 ../all-fonts/mgentle-hks.ttf /home/yuki/learn-computer-vision/gwfonts/AndadaSC-Bold.ttf /home/yuki/learn-computer-vision/gwfonts/Arimo-Bold.ttf\n",
      "43 ../all-fonts/mqinghuahk.otf /home/yuki/learn-computer-vision/gwfonts/Andada-Italic.ttf /home/yuki/learn-computer-vision/gwfonts/Asset.ttf\n",
      "44 ../all-fonts/N-utamin=02=20220217.otf /home/yuki/learn-computer-vision/gwfonts/Arimo-BoldItalic.ttf /home/yuki/learn-computer-vision/gwfonts/Astloch-Bold.ttf\n",
      "45 ../all-fonts/Nasu-Regular-20200227.ttf /home/yuki/learn-computer-vision/gwfonts/AndadaSC-Bold.ttf /home/yuki/learn-computer-vision/gwfonts/ArialUnicodeMS.ttf\n",
      "46 ../all-fonts/sawarabi-mincho-medium.ttf /home/yuki/learn-computer-vision/gwfonts/Amethysta-Regular.ttf /home/yuki/learn-computer-vision/gwfonts/CrimsonText-Semibold.ttf\n",
      "47 ../all-fonts/ZCOOLXiaoWei-Regular.ttf /home/yuki/learn-computer-vision/gwfonts/Arvo-Italic.ttf /home/yuki/learn-computer-vision/gwfonts/ArchivoNarrow-Regular.ttf\n",
      "48 ../all-fonts/幻ノにじみ明朝.otf /home/yuki/learn-computer-vision/gwfonts/ArchivoNarrow-Regular.ttf /home/yuki/learn-computer-vision/gwfonts/AveriaSerifLibre-Italic.ttf\n",
      "49 ../all-fonts/ZenMaruGothic-Medium.ttf /home/yuki/learn-computer-vision/gwfonts/ArialRoundedMTBold.ttf /home/yuki/learn-computer-vision/gwfonts/Arvo-Italic.ttf\n",
      "50 ../all-fonts/Kaisotai-Next-UP-B.otf /home/yuki/learn-computer-vision/gwfonts/Arvo-Bold.ttf /home/yuki/learn-computer-vision/gwfonts/Andada-Italic.ttf\n",
      "51 ../all-fonts/851H-kktt_004.ttf /home/yuki/learn-computer-vision/gwfonts/ArialUnicodeMS.ttf /home/yuki/learn-computer-vision/gwfonts/Cantarell-BoldOblique.ttf\n",
      "52 ../all-fonts/chinese-handwriting-style.ttf /home/yuki/learn-computer-vision/gwfonts/BilboSwashCaps-Regular.ttf /home/yuki/learn-computer-vision/gwfonts/Arimo-BoldItalic.ttf\n",
      "53 ../all-fonts/jianshuihei.TTF /home/yuki/learn-computer-vision/gwfonts/AllertaStencil-Regular.ttf /home/yuki/learn-computer-vision/gwfonts/Andada-Bold.ttf\n",
      "54 ../all-fonts/Kaisotai-Next-UP-B.otf /home/yuki/learn-computer-vision/gwfonts/Arimo-Bold.ttf /home/yuki/learn-computer-vision/gwfonts/CantoraOne-Regular.ttf\n",
      "55 ../all-fonts/Kazesawa-Light.ttf /home/yuki/learn-computer-vision/gwfonts/Acme-Regular.ttf /home/yuki/learn-computer-vision/gwfonts/CenturyGothic.ttf\n",
      "56 ../all-fonts/Kokoro.otf /home/yuki/learn-computer-vision/gwfonts/Chivo-Italic.ttf /home/yuki/learn-computer-vision/gwfonts/Bentham-Regular.ttf\n",
      "57 ../all-fonts/SoukouMincho.ttf /home/yuki/learn-computer-vision/gwfonts/Asset.ttf /home/yuki/learn-computer-vision/gwfonts/Arvo-Italic.ttf\n",
      "58 ../all-fonts/SourceHanSerif-Bold.otf /home/yuki/learn-computer-vision/gwfonts/CrimsonText-Semibold.ttf /home/yuki/learn-computer-vision/gwfonts/Buenard-Bold.ttf\n",
      "59 ../all-fonts/ZCOOLQingKeHuangYou-Regular.ttf /home/yuki/learn-computer-vision/gwfonts/Arvo-Bold.ttf /home/yuki/learn-computer-vision/gwfonts/Amethysta-Regular.ttf\n",
      "60 ../all-fonts/851H-kktt_004.ttf /home/yuki/learn-computer-vision/gwfonts/AveriaSansLibre-Italic.ttf /home/yuki/learn-computer-vision/gwfonts/AveriaSerifLibre-Italic.ttf\n",
      "61 ../all-fonts/dfpop2w9.ttc /home/yuki/learn-computer-vision/gwfonts/BlackOpsOne-Regular.ttf /home/yuki/learn-computer-vision/gwfonts/AdventPro-SemiBold.ttf\n",
      "62 ../all-fonts/FZKaTong-s.TTF /home/yuki/learn-computer-vision/gwfonts/AveriaLibre-LightItalic.ttf /home/yuki/learn-computer-vision/gwfonts/Damion.ttf\n",
      "63 ../all-fonts/HanyiSentyFountainPen.ttf /home/yuki/learn-computer-vision/gwfonts/Arizonia-Regular.ttf /home/yuki/learn-computer-vision/gwfonts/Damion.ttf\n",
      "64 ../all-fonts/hanyishengong-simplified.TTF /home/yuki/learn-computer-vision/gwfonts/ARSMaquetteWebOne.ttf /home/yuki/learn-computer-vision/gwfonts/Arvo-BoldItalic.ttf\n",
      "65 ../all-fonts/HarmonyOS_Sans_SC_Medium.ttf /home/yuki/learn-computer-vision/gwfonts/BilboSwashCaps-Regular.ttf /home/yuki/learn-computer-vision/gwfonts/BowlbyOneSC-Regular.ttf\n",
      "66 ../all-fonts/font_1_kokumr_1.00_rls.ttf /home/yuki/learn-computer-vision/gwfonts/Andada-Italic.ttf /home/yuki/learn-computer-vision/gwfonts/Cardo-Italic.ttf\n",
      "67 ../all-fonts/gomarice_mukasi_mukasi.ttf /home/yuki/learn-computer-vision/gwfonts/Asset.ttf /home/yuki/learn-computer-vision/gwfonts/CantoraOne-Regular.ttf\n",
      "68 ../all-fonts/851MkPOP_101.ttf /home/yuki/learn-computer-vision/gwfonts/Andada-Italic.ttf /home/yuki/learn-computer-vision/gwfonts/ClickerScript-Regular.ttf\n",
      "69 ../all-fonts/07鉄瓶ゴシック.otf /home/yuki/learn-computer-vision/gwfonts/Chivo-Italic.ttf /home/yuki/learn-computer-vision/gwfonts/Bevan.ttf\n",
      "70 ../all-fonts/Kaisotai-Next-UP-B.otf /home/yuki/learn-computer-vision/gwfonts/Aldrich.ttf /home/yuki/learn-computer-vision/gwfonts/Andada-Bold.ttf\n",
      "71 ../all-fonts/Kokoro.otf /home/yuki/learn-computer-vision/gwfonts/Calluna-Regular.otf /home/yuki/learn-computer-vision/gwfonts/AveriaSansLibre-Italic.ttf\n",
      "72 ../all-fonts/qishangbaxia.ttf /home/yuki/learn-computer-vision/gwfonts/BilboSwashCaps-Regular.ttf /home/yuki/learn-computer-vision/gwfonts/BadScript-Regular.ttf\n",
      "73 ../all-fonts/Tanugo-TTF-Light.ttf /home/yuki/learn-computer-vision/gwfonts/Aldrich.ttf /home/yuki/learn-computer-vision/gwfonts/Acme-Regular.ttf\n",
      "74 ../all-fonts/timemachine-wa.ttf /home/yuki/learn-computer-vision/gwfonts/CenturyGothic.ttf /home/yuki/learn-computer-vision/gwfonts/Asap-Regular.ttf\n",
      "75 ../all-fonts/YuseiMagic-Regular.ttf /home/yuki/learn-computer-vision/gwfonts/AdventPro-SemiBold.ttf /home/yuki/learn-computer-vision/gwfonts/Brevia-Regular.otf\n",
      "76 ../all-fonts/AlibabaPuHuiTi-2-115-Black.ttf /home/yuki/learn-computer-vision/gwfonts/BowlbyOneSC-Regular.ttf /home/yuki/learn-computer-vision/gwfonts/AveriaLibre-LightItalic.ttf\n",
      "77 ../all-fonts/AlibabaPuHuiTi-2-35-Thin.ttf /home/yuki/learn-computer-vision/gwfonts/BenchNine-Regular.ttf /home/yuki/learn-computer-vision/gwfonts/Cabin-SemiBoldItalic.ttf\n",
      "78 ../all-fonts/AlibabaPuHuiTi-2-65-Medium.ttf /home/yuki/learn-computer-vision/gwfonts/Asap-Regular.ttf /home/yuki/learn-computer-vision/gwfonts/CantoraOne-Regular.ttf\n",
      "79 ../all-fonts/35.ttf /home/yuki/learn-computer-vision/gwfonts/Astloch-Bold.ttf /home/yuki/learn-computer-vision/gwfonts/Arvo-Bold.ttf\n",
      "80 ../all-fonts/HanyiSentyJournal.ttf /home/yuki/learn-computer-vision/gwfonts/AnonymousPro.ttf /home/yuki/learn-computer-vision/gwfonts/ClickerScript-Regular.ttf\n",
      "81 ../all-fonts/ipaexg.ttf /home/yuki/learn-computer-vision/gwfonts/AllertaStencil-Regular.ttf /home/yuki/learn-computer-vision/gwfonts/AveriaSansLibre-Italic.ttf\n",
      "82 ../all-fonts/irohakakuC-Bold.ttf /home/yuki/learn-computer-vision/gwfonts/Buenard-Bold.ttf /home/yuki/learn-computer-vision/gwfonts/BlackOpsOne-Regular.ttf\n",
      "83 ../all-fonts/jianshuihei.TTF /home/yuki/learn-computer-vision/gwfonts/ArchivoNarrow-Regular.ttf /home/yuki/learn-computer-vision/gwfonts/AveriaLibre-LightItalic.ttf\n",
      "84 ../all-fonts/JiyunoTsubasa.ttf /home/yuki/learn-computer-vision/gwfonts/Arimo-Bold.ttf /home/yuki/learn-computer-vision/gwfonts/BadScript-Regular.ttf\n",
      "85 ../all-fonts/NewTegomin-Regular.ttf /home/yuki/learn-computer-vision/gwfonts/Acme-Regular.ttf /home/yuki/learn-computer-vision/gwfonts/Bevan.ttf\n",
      "86 ../all-fonts/Senobi-Gothic-Bold.ttf /home/yuki/learn-computer-vision/gwfonts/ClickerScript-Regular.ttf /home/yuki/learn-computer-vision/gwfonts/Arvo-Bold.ttf\n",
      "87 ../all-fonts/SentyCaramel.ttf /home/yuki/learn-computer-vision/gwfonts/CrimsonText-BoldItalic.ttf /home/yuki/learn-computer-vision/gwfonts/AdventPro-SemiBold.ttf\n",
      "88 ../all-fonts/ZenMaruGothic-Light.ttf /home/yuki/learn-computer-vision/gwfonts/ARSMaquetteWebOne.ttf /home/yuki/learn-computer-vision/gwfonts/ArchivoNarrow-Regular.ttf\n",
      "89 ../all-fonts/851H-kktt_004.ttf /home/yuki/learn-computer-vision/gwfonts/ArialRoundedMTBold.ttf /home/yuki/learn-computer-vision/gwfonts/Cantarell-BoldOblique.ttf\n",
      "90 ../all-fonts/AsebiMin-Light.otf /home/yuki/learn-computer-vision/gwfonts/CabinCondensed-Medium.ttf /home/yuki/learn-computer-vision/gwfonts/Bentham-Regular.ttf\n",
      "91 ../all-fonts/BIZUDPMincho-Regular.ttf /home/yuki/learn-computer-vision/gwfonts/Buenard-Bold.ttf /home/yuki/learn-computer-vision/gwfonts/CabinCondensed.ttf\n",
      "92 ../all-fonts/AlibabaPuHuiTi-2-45-Light.otf /home/yuki/learn-computer-vision/gwfonts/Calluna-Regular.otf /home/yuki/learn-computer-vision/gwfonts/Brevia-Regular.otf\n",
      "93 ../all-fonts/AP.ttf /home/yuki/learn-computer-vision/gwfonts/Cabin-SemiBoldItalic.ttf /home/yuki/learn-computer-vision/gwfonts/Damion.ttf\n",
      "94 ../all-fonts/chogokubosogothic_5.ttf /home/yuki/learn-computer-vision/gwfonts/Cardo-Italic.ttf /home/yuki/learn-computer-vision/gwfonts/BubblerOne.ttf\n",
      "95 ../all-fonts/dfpop2w9.ttc /home/yuki/learn-computer-vision/gwfonts/CrimsonText-BoldItalic.ttf /home/yuki/learn-computer-vision/gwfonts/Cabin-SemiBoldItalic.ttf\n",
      "96 ../all-fonts/しょかきリン片（無料版）.ttf /home/yuki/learn-computer-vision/gwfonts/Bello-Pro.otf /home/yuki/learn-computer-vision/gwfonts/AndadaSC-Bold.ttf\n",
      "97 ../all-fonts/AsebiMin-Light.otf /home/yuki/learn-computer-vision/gwfonts/Alegreya-BoldItalic.ttf /home/yuki/learn-computer-vision/gwfonts/CrimsonText-Semibold.ttf\n",
      "98 ../all-fonts/ZenjidoJP-FeltPenLMT-TTF.ttf /home/yuki/learn-computer-vision/gwfonts/Astloch-Bold.ttf /home/yuki/learn-computer-vision/gwfonts/ClickerScript-Regular.ttf\n",
      "99 ../all-fonts/AlibabaPuHuiTi-2-55-Regular.ttf /home/yuki/learn-computer-vision/gwfonts/ArialUnicodeMS.ttf /home/yuki/learn-computer-vision/gwfonts/Arvo-BoldItalic.ttf\n",
      "StopIteration\n",
      "Keyboard interruption in main thread... closing server.\n",
      "Killing tunnel 127.0.0.1:7860 <> https://f55b648d18bdc17b48.gradio.live\n"
     ]
    },
    {
     "data": {
      "text/plain": []
     },
     "execution_count": 14,
     "metadata": {},
     "output_type": "execute_result"
    }
   ],
   "source": [
    "annotation_result = []\n",
    "def builder(result, name, ref_text=ref_text, text=text, char_size=char_size, total_num=total_num, mode=mode):\n",
    "        \n",
    "    global global_ref_font_name, global_font_name1, global_font_name2, current_num, target_attribute_count, annotation_result, ref_font_generator, font_pair_generator\n",
    "\n",
    "\n",
    "    # set annotation_result\n",
    "    annotation_result.append((global_ref_font_name, global_font_name1, global_font_name2, result))\n",
    "\n",
    "    #font_path1, font_path2 = choose_random_font_pairs(font_dir)\n",
    "    current_num += 1\n",
    "    percentage_image = draw_percentage_bar(current_num, total_num=total_num)\n",
    "    try:\n",
    "        ref_font_path = next(ref_font_generator)\n",
    "        font_path1, font_path2 = next(font_pair_generator)\n",
    "        # set up percentage bar\n",
    "    except StopIteration:\n",
    "        print('StopIteration')\n",
    "\n",
    "        rator_name = name.replace(' ', '_')\n",
    "        output_dir = '../attributeData/cross-lingual-outputs'\n",
    "        if not os.path.exists(output_dir):\n",
    "            os.makedirs(output_dir)\n",
    "        output_path = os.path.join(output_dir, f'{rator_name}-{mode}-{target_font_num}.json')\n",
    "        if not os.path.exists(output_path):\n",
    "            with open(output_path, 'w', encoding='utf-8') as f:\n",
    "                json.dump(annotation_result, f, ensure_ascii=False)\n",
    "        image1 = draw_text_with_new_lines('finish', navigation_font, ref_default_width, ref_default_height)\n",
    "        image2 = draw_text_with_new_lines('thank', navigation_font, ref_default_width, ref_default_height)\n",
    "        image3 = draw_text_with_new_lines('you', navigation_font, ref_default_width, ref_default_height)\n",
    "        percentage_image = draw_percentage_bar(current_num, total_num=total_num)\n",
    "        return image1, image2, image3, percentage_image\n",
    "\n",
    "    print(current_num, ref_font_path, font_path1, font_path2)\n",
    "    ref_font = ImageFont.truetype(ref_font_path, ref_char_size)\n",
    "    font1 = ImageFont.truetype(font_path1, option_char_size)\n",
    "    font2 = ImageFont.truetype(font_path2, option_char_size)\n",
    "    ref_font_name = os.path.splitext(os.path.basename(ref_font_path))[0]\n",
    "    font_name1 = os.path.splitext(os.path.basename(font_path1))[0]\n",
    "    font_name2 = os.path.splitext(os.path.basename(font_path2))[0]\n",
    "    global_font_name1 = font_name1\n",
    "    global_font_name2 = font_name2\n",
    "    global_ref_font_name = ref_font_name\n",
    "\n",
    "    image1 = draw_text_with_new_lines(ref_text, ref_font, ref_default_width, ref_default_height)\n",
    "    image2 = draw_text_with_new_lines(text, font1, default_width, default_height)\n",
    "    image3 = draw_text_with_new_lines(text, font2, default_width, default_height)\n",
    "    return image1, image2, image3, percentage_image\n",
    "\n",
    "with gr.Blocks() as demo:\n",
    "\n",
    "    with gr.Row():\n",
    "        name = gr.Text(value='Your Name', label='Name', interactive=True)\n",
    "    with gr.Row():\n",
    "        percentage_image = gr.Image(value=draw_percentage_bar(0, total_num=total_num), label='Progress', interactive=False, show_label=False)\n",
    "    with gr.Row():\n",
    "        with gr.Column(scale=0.4):\n",
    "            pass\n",
    "        with gr.Column(scale=0.2):\n",
    "            image1 = gr.Image(value=draw_text_with_new_lines(ref_text, default_ref_font, ref_default_width, ref_default_height), label='Reference', interactive=False)\n",
    "        with gr.Column(scale=0.4):\n",
    "            pass\n",
    "    with gr.Row():\n",
    "        with gr.Column(scale=0.3):\n",
    "            pass\n",
    "        with gr.Column(scale=0.2):\n",
    "            image2 = gr.Image(value=draw_text_with_new_lines(text, default_font1, default_width, default_height), label='Font A', interactive=False)\n",
    "        with gr.Column(scale=0.2):\n",
    "            image3 = gr.Image(value=draw_text_with_new_lines(text, default_font2, default_width, default_height), label='Font B', interactive=False)\n",
    "        with gr.Column(scale=0.3):\n",
    "            pass\n",
    "    with gr.Row():\n",
    "        with gr.Column(scale=0.4):\n",
    "            pass\n",
    "        with gr.Column(scale=0.1):\n",
    "            check = gr.Radio(choices=['Font A', 'Font B'], value = 'Font A', label=f'', interactive=True)\n",
    "        with gr.Column(scale=0.2):\n",
    "            next_button  = gr.Button(value='Next', interactive=True)\n",
    "    next_button.click(builder, inputs=[check, name], outputs=[image1, image2, image3, percentage_image], show_progress=True)\n",
    "\n",
    "\n",
    "\n",
    "demo.launch(debug=True, share=True)"
   ]
  },
  {
   "cell_type": "code",
   "execution_count": null,
   "metadata": {},
   "outputs": [],
   "source": []
  },
  {
   "cell_type": "code",
   "execution_count": null,
   "metadata": {},
   "outputs": [],
   "source": []
  },
  {
   "cell_type": "code",
   "execution_count": null,
   "metadata": {
    "ExecuteTime": {
     "end_time": "2023-04-19T14:15:52.844083Z",
     "start_time": "2023-04-19T14:13:05.817943Z"
    },
    "pycharm": {
     "name": "#%%\n"
    }
   },
   "outputs": [
    {
     "name": "stdout",
     "output_type": "stream",
     "text": [
      "../all-fonts/JP_Ronde-B_square.otf ../all-fonts/SanariFontB001.ttf\n",
      "../all-fonts/ZenOldMincho-Black.ttf ../all-fonts/HanyiSentyPastel.ttf\n",
      "../all-fonts/crayon_1-1.ttf ../all-fonts/SentyCaramel.ttf\n",
      "../all-fonts/kiloji_d.ttf ../all-fonts/irohamaru-Medium.ttf\n",
      "../all-fonts/Tanugo-TTF-Regular.ttf ../all-fonts/YuseiMagic-Regular.ttf\n",
      "../all-fonts/chogokubosogothic_5.ttf ../all-fonts/g_pencilkaisho_free.ttf\n",
      "../all-fonts/HanyiSentyPastel.ttf ../all-fonts/ゆず ポップ A [M] Light.ttf\n",
      "../all-fonts/HachiMaruPop-Regular.ttf ../all-fonts/crayon_1-1.ttf\n",
      "../all-fonts/KFhimaji.otf ../all-fonts/Corporate-Logo-Medium-ver3.otf\n",
      "../all-fonts/kiloji_d.ttf ../all-fonts/Kazesawa-ExtraLight.ttf\n",
      "../all-fonts/Corporate-Logo-Medium-ver3.otf ../all-fonts/chinese-handwriting-style.ttf\n",
      "../all-fonts/SentyGoldSand.ttf ../all-fonts/Chalk-S-JP.otf\n",
      "../all-fonts/g_comickoin_freeL.ttf ../all-fonts/35.ttf\n",
      "../all-fonts/g_comickoin_freeB.ttf ../all-fonts/ZCOOLXiaoWei-Regular.ttf\n",
      "../all-fonts/KodomoRounded.otf ../all-fonts/M+A1_heavy-10-1.2.otf\n",
      "../all-fonts/NasuM-Bold-20200227.ttf ../all-fonts/SentyGoldSand.ttf\n",
      "../all-fonts/JP_Ronde-B_square.otf ../all-fonts/ロゴたいぷゴシック.otf\n",
      "../all-fonts/ZCOOLXiaoWei-Regular.ttf ../all-fonts/NewTegomin-Regular.ttf\n",
      "../all-fonts/NasuM-Bold-20200227.ttf ../all-fonts/mellehks.ttf\n",
      "../all-fonts/Senobi-Gothic-Bold.ttf ../all-fonts/001Shirokuma-Regular.otf\n",
      "../all-fonts/MWindyHK-Bold.otf ../all-fonts/irohamaru-mikami-Light.ttf\n",
      "../all-fonts/SentyCaramel.ttf ../all-fonts/chinese-handwriting-style.ttf\n",
      "../all-fonts/LXGWWenKai-Light.ttf ../all-fonts/JP_ReggaeOne-Regular.ttf\n",
      "../all-fonts/myoungheihks.ttf ../all-fonts/35.ttf\n",
      "../all-fonts/g_comickoin_freeB.ttf ../all-fonts/g_pencilkaisho_free.ttf\n",
      "../all-fonts/ゆず ポップ A [M] Light.ttf ../all-fonts/hanyishengong-simplified.TTF\n",
      "../all-fonts/Kazesawa-ExtraLight.ttf ../all-fonts/Hosohuwafont.ttf\n",
      "../all-fonts/NewTegomin-Regular.ttf ../all-fonts/azukiLB.ttf\n",
      "../all-fonts/KFhimaji.otf ../all-fonts/yutaCo2_p_Regular_OT_100.otf\n",
      "../all-fonts/mgentle-hks.ttf ../all-fonts/zhs-caonima-ti.ttf\n",
      "../all-fonts/Senobi-Gothic-Bold.ttf ../all-fonts/ちはや純.ttf\n",
      "../all-fonts/mgentle-hks.ttf ../all-fonts/SourceHanSerif-Bold.otf\n",
      "../all-fonts/851CHIKARA-DZUYOKU_kanaA_004.ttf ../all-fonts/myoungheihks.ttf\n",
      "../all-fonts/001Shirokuma-Regular.otf ../all-fonts/M+A1_heavy-10-1.2.otf\n",
      "../all-fonts/SanariFontB001.ttf ../all-fonts/ZenOldMincho-Medium.ttf\n",
      "../all-fonts/851CHIKARA-DZUYOKU_kanaA_004.ttf ../all-fonts/Tanugo-TTF-Round-Bold.ttf\n",
      "../all-fonts/Hosohuwafont.ttf ../all-fonts/g_comickoin_freeL.ttf\n",
      "../all-fonts/Chalk-S-JP.otf ../all-fonts/Tanugo-TTF-Regular.ttf\n",
      "../all-fonts/HanyiSentySpringBrush.ttf ../all-fonts/SourceHanSerif-Bold.otf\n",
      "../all-fonts/ZenOldMincho-Black.ttf ../all-fonts/yutaCo2_p_Regular_OT_100.otf\n",
      "../all-fonts/azukiLB.ttf ../all-fonts/chogokubosogothic_5.ttf\n",
      "../all-fonts/ちはや純.ttf ../all-fonts/MWindyHK-Bold.otf\n",
      "../all-fonts/LXGWWenKai-Light.ttf ../all-fonts/mellehks.ttf\n",
      "../all-fonts/FZ-black.TTF ../all-fonts/ロゴたいぷゴシック.otf\n",
      "../all-fonts/JP_ReggaeOne-Regular.ttf ../all-fonts/YuseiMagic-Regular.ttf\n",
      "../all-fonts/hanyishengong-simplified.TTF ../all-fonts/HachiMaruPop-Regular.ttf\n",
      "../all-fonts/zhs-caonima-ti.ttf ../all-fonts/ZenOldMincho-Medium.ttf\n",
      "../all-fonts/Tanugo-TTF-Round-Bold.ttf ../all-fonts/KodomoRounded.otf\n",
      "../all-fonts/irohamaru-mikami-Light.ttf ../all-fonts/irohamaru-Medium.ttf\n",
      "../all-fonts/FZ-black.TTF ../all-fonts/HanyiSentySpringBrush.ttf\n",
      "total_pair_num 50\n",
      "../all-fonts/JP_Ronde-B_square.otf ../all-fonts/SanariFontB001.ttf\n",
      "../all-fonts/JP_Ronde-B_square.otf\n",
      "Running on local URL:  http://127.0.0.1:7860\n"
     ]
    }
   ],
   "source": [
    "text = '春夏\\n秋冬'\n",
    "top5_attributes = ['thin', 'calm', 'sloppy', 'complex', 'strong',]\n",
    "bottom5_attributes = ['happy', 'fresh', 'gentle', 'sharp', 'technical',]\n",
    "#target_attributes = top5_attributes\n",
    "target_attributes = ['thin', 'calm', 'sloppy', 'sharp', 'technical', 'traditional', 'Japanese_style', 'robust']\n",
    "target_attribute = target_attributes[0]\n",
    "fifty_cj_font_paths = [os.path.join(cj_font_dir, f) for f in fifty_fonts.split('\\n') if f != '']\n",
    "target_font_num = 50\n",
    "#target_font_num = 10\n",
    "appear_times = 2\n",
    "share = True\n",
    "\n",
    "\n",
    "line_num = text.count('\\n') + 1\n",
    "default_width = int((char_size+50) * len(text) / line_num)\n",
    "default_height = int((char_size+50) * line_num)\n",
    "#font_paris_generator = choose_font_pairs_in_order(cj_font_dir)\n",
    "\n",
    "# generate random seed by converting target_attribute to int\n",
    "random_seed = int.from_bytes(target_attribute.encode(), 'little')\n",
    "\n",
    "font_paris_generator = choose_font_pairs_same_apper_times_with_queue(fifty_cj_font_paths, appear_times=appear_times, target_font_num=target_font_num, random_seed = random_seed)\n",
    "total_pair_num = sum([1 for _ in font_paris_generator])\n",
    "print('total_pair_num', total_pair_num)\n",
    "font_paris_generator = choose_font_pairs_same_apper_times_with_queue(fifty_cj_font_paths, appear_times=appear_times, target_font_num=target_font_num, random_seed = random_seed)\n",
    "\n",
    "default_font_path1, default_font_path2 = next(font_paris_generator)\n",
    "print(default_font_path1)\n",
    "default_font1 = ImageFont.truetype(default_font_path1, char_size)\n",
    "default_font2 = ImageFont.truetype(default_font_path2, char_size)\n",
    "navigation_font_path = os.path.join(cj_font_dir, 'ipaexg.ttf')\n",
    "navigation_font = ImageFont.truetype(navigation_font_path, char_size)\n",
    "navigation_width = char_size * 15\n",
    "navigation_height = char_size * 2\n",
    "\n",
    "global_font_name1 = os.path.splitext(os.path.basename(default_font_path1))[0]\n",
    "global_font_name2 = os.path.splitext(os.path.basename(default_font_path2))[0]\n",
    "\n",
    "annotation_result = []\n",
    "target_attribute_count = 0\n",
    "current_num = 0\n",
    "save_flags = []\n",
    "\n",
    "def create_attribute_markdown(target_attribute):\n",
    "    #return f'<div style=\"font-size: 50px; text-align: center\">Which font is more {target_attribute}?</div>'\n",
    "#     return f'Which is more {target_attribute}?'\n",
    "    return f'{target_attribute}?'\n",
    "\n",
    "\n"
   ]
  },
  {
   "cell_type": "code",
   "execution_count": null,
   "metadata": {
    "ExecuteTime": {
     "end_time": "2023-04-14T16:02:04.488961Z",
     "start_time": "2023-04-14T16:02:04.446938Z"
    }
   },
   "outputs": [
    {
     "ename": "FileNotFoundError",
     "evalue": "[Errno 2] No such file or directory: '../attributeData/outputs/Takahori_Hosokawa-thin-50.json'",
     "output_type": "error",
     "traceback": [
      "\u001b[0;31m---------------------------------------------------------------------------\u001b[0m",
      "\u001b[0;31mFileNotFoundError\u001b[0m                         Traceback (most recent call last)",
      "Cell \u001b[0;32mIn [49], line 3\u001b[0m\n\u001b[1;32m      1\u001b[0m name\u001b[38;5;241m=\u001b[39m\u001b[38;5;124m'\u001b[39m\u001b[38;5;124mTakahori_Hosokawa\u001b[39m\u001b[38;5;124m'\u001b[39m\n\u001b[1;32m      2\u001b[0m target_attribute \u001b[38;5;241m=\u001b[39m \u001b[38;5;124m'\u001b[39m\u001b[38;5;124mthin\u001b[39m\u001b[38;5;124m'\u001b[39m\n\u001b[0;32m----> 3\u001b[0m \u001b[38;5;28;01mwith\u001b[39;00m \u001b[38;5;28;43mopen\u001b[39;49m\u001b[43m(\u001b[49m\u001b[38;5;124;43mf\u001b[39;49m\u001b[38;5;124;43m'\u001b[39;49m\u001b[38;5;124;43m../attributeData/outputs/\u001b[39;49m\u001b[38;5;132;43;01m{\u001b[39;49;00m\u001b[43mname\u001b[49m\u001b[38;5;132;43;01m}\u001b[39;49;00m\u001b[38;5;124;43m-\u001b[39;49m\u001b[38;5;132;43;01m{\u001b[39;49;00m\u001b[43mtarget_attribute\u001b[49m\u001b[38;5;132;43;01m}\u001b[39;49;00m\u001b[38;5;124;43m-\u001b[39;49m\u001b[38;5;132;43;01m{\u001b[39;49;00m\u001b[43mtarget_font_num\u001b[49m\u001b[38;5;132;43;01m}\u001b[39;49;00m\u001b[38;5;124;43m.json\u001b[39;49m\u001b[38;5;124;43m'\u001b[39;49m\u001b[43m,\u001b[49m\u001b[43m \u001b[49m\u001b[38;5;124;43m'\u001b[39;49m\u001b[38;5;124;43mr\u001b[39;49m\u001b[38;5;124;43m'\u001b[39;49m\u001b[43m)\u001b[49m \u001b[38;5;28;01mas\u001b[39;00m f:\n\u001b[1;32m      4\u001b[0m     results \u001b[38;5;241m=\u001b[39m json\u001b[38;5;241m.\u001b[39mload(f)\n",
      "\u001b[0;31mFileNotFoundError\u001b[0m: [Errno 2] No such file or directory: '../attributeData/outputs/Takahori_Hosokawa-thin-50.json'"
     ]
    }
   ],
   "source": [
    "name='Takahori_Hosokawa'\n",
    "target_attribute = 'thin'\n",
    "with open(f'../attributeData/outputs/{name}-{target_attribute}-{target_font_num}.json', 'r') as f:\n",
    "    results = json.load(f)"
   ]
  },
  {
   "cell_type": "code",
   "execution_count": null,
   "metadata": {},
   "outputs": [
    {
     "data": {
      "text/plain": [
       "50"
      ]
     },
     "execution_count": 45,
     "metadata": {},
     "output_type": "execute_result"
    }
   ],
   "source": [
    "len(results)"
   ]
  },
  {
   "cell_type": "code",
   "execution_count": null,
   "metadata": {},
   "outputs": [],
   "source": []
  }
 ],
 "metadata": {
  "kernelspec": {
   "display_name": "Python 3 (ipykernel)",
   "language": "python",
   "name": "python3"
  },
  "language_info": {
   "codemirror_mode": {
    "name": "ipython",
    "version": 3
   },
   "file_extension": ".py",
   "mimetype": "text/x-python",
   "name": "python",
   "nbconvert_exporter": "python",
   "pygments_lexer": "ipython3",
   "version": "3.7.16"
  }
 },
 "nbformat": 4,
 "nbformat_minor": 1
}
