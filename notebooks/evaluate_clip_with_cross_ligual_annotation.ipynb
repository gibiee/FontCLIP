{
 "cells": [
  {
   "cell_type": "code",
   "execution_count": 1,
   "metadata": {},
   "outputs": [
    {
     "name": "stdout",
     "output_type": "stream",
     "text": [
      "exclusive_attributes:  ['capitals', 'cursive', 'display', 'italic', 'monospace', 'serif']\n"
     ]
    }
   ],
   "source": [
    "import os\n",
    "import json\n",
    "import torch\n",
    "from tqdm import tqdm\n",
    "\n",
    "from utils.cross_lingual_font_retrieval import inclusive_cjk_font_paths\n",
    "from utils.init_model import model, preprocess, load_model, device\n",
    "from utils.initialize_font_data import retrieve_font_path, fox_text_four_lines\n",
    "from utils.transform_image import draw_text_with_new_lines, generate_all_fonts_embedded_images"
   ]
  },
  {
   "cell_type": "code",
   "execution_count": 3,
   "metadata": {},
   "outputs": [],
   "source": [
    "roman_font_dir = '../gwfonts'\n",
    "cjk_font_dir = '../all-fonts'\n",
    "annotation_file_dir = '../attributeData/cross-lingual-outputs/'\n",
    "cjk_text = '夏林\\n火山'\n",
    "char_size = 150\n",
    "roman_font_paths = [os.path.join(roman_font_dir, font_name) for font_name in os.listdir(roman_font_dir)]\n",
    "cjk_font_paths = [os.path.join(cjk_font_dir, font_name) for font_name in os.listdir(cjk_font_dir)]"
   ]
  },
  {
   "cell_type": "code",
   "execution_count": 9,
   "metadata": {},
   "outputs": [],
   "source": [
    "checkpoint_path = None\n",
    "checkpoint_path = 'model_checkpoints/new_best_fox_negative_91011_1011_use_weight_image_file_dir_ex.pt'\n",
    "checkpoint_path = 'model_checkpoints/best_ViT-B_32_cnn_based_vae_loss_weight_3.0_vae_loss_kl_weight0.001_res_64_9101191011_batch64_aug200_lower_bound_of_scale0.35_use_negative_lr1e-05-0.1.pt'\n",
    "model = load_model(model, checkpoint_path)"
   ]
  },
  {
   "cell_type": "code",
   "execution_count": 10,
   "metadata": {},
   "outputs": [],
   "source": [
    "roman_embedded_images = generate_all_fonts_embedded_images(roman_font_paths, fox_text_four_lines, model=model, preprocess=preprocess)\n",
    "cjk_embedded_images = generate_all_fonts_embedded_images(cjk_font_paths, cjk_text, model=model, preprocess=preprocess)"
   ]
  },
  {
   "cell_type": "code",
   "execution_count": 11,
   "metadata": {},
   "outputs": [],
   "source": [
    "def evaluate_with_annotation_json(name, mode='Roman'):\n",
    "  name = name.replace(' ', '_')\n",
    "  basename = f'{name}-{mode}-50.json'\n",
    "  data_path = os.path.join(annotation_file_dir, basename) \n",
    "  data = json.load(open(data_path, 'r'))\n",
    "  if mode == 'Roman':\n",
    "    ref_embedded_images = roman_embedded_images\n",
    "    option_embedded_images = cjk_embedded_images\n",
    "  else:\n",
    "    ref_embedded_images = cjk_embedded_images\n",
    "    option_embedded_images = roman_embedded_images\n",
    "  \n",
    "  correct_count = 0\n",
    "  for i, (ref_font_name, font1_name, font2_name, choice) in tqdm(enumerate(data)):\n",
    "    ref_embedded_image = ref_embedded_images[ref_font_name].to(device)\n",
    "    embedded_image1 = option_embedded_images[font1_name].to(device)\n",
    "    embedded_image2 = option_embedded_images[font2_name].to(device)\n",
    "    cos_sim1 = torch.cosine_similarity(ref_embedded_image, embedded_image1, dim=-1)\n",
    "    cos_sim2 = torch.cosine_similarity(ref_embedded_image, embedded_image2, dim=-1)\n",
    "    prediction = 'Font A' if cos_sim1 > cos_sim2 else 'Font B'\n",
    "    if prediction == choice:\n",
    "      correct_count += 1\n",
    "  return correct_count / len(data)"
   ]
  },
  {
   "cell_type": "code",
   "execution_count": 12,
   "metadata": {},
   "outputs": [],
   "source": [
    "rator_names = ['Akihiri_Kiuchi', 'Atsushi_Maruyama', 'Sotaro_Kanazawa', 'Sodai_Furuoka', 'Kento_Shiraki']"
   ]
  },
  {
   "cell_type": "code",
   "execution_count": 13,
   "metadata": {},
   "outputs": [
    {
     "name": "stderr",
     "output_type": "stream",
     "text": [
      "100it [00:00, 9134.14it/s]\n",
      "100it [00:00, 11884.24it/s]\n",
      "100it [00:00, 11967.65it/s]\n",
      "100it [00:00, 11792.02it/s]\n",
      "100it [00:00, 11533.27it/s]\n"
     ]
    },
    {
     "name": "stdout",
     "output_type": "stream",
     "text": [
      "0.6340000000000001\n"
     ]
    },
    {
     "name": "stderr",
     "output_type": "stream",
     "text": [
      "100it [00:00, 12023.58it/s]\n",
      "100it [00:00, 12063.00it/s]\n",
      "100it [00:00, 12118.41it/s]\n",
      "100it [00:00, 12164.45it/s]\n",
      "100it [00:00, 12131.73it/s]"
     ]
    },
    {
     "name": "stdout",
     "output_type": "stream",
     "text": [
      "0.6020000000000001\n"
     ]
    },
    {
     "name": "stderr",
     "output_type": "stream",
     "text": [
      "\n"
     ]
    }
   ],
   "source": [
    "result = []\n",
    "for rator_name in rator_names:\n",
    "  result.append(evaluate_with_annotation_json(rator_name, mode='Roman'))\n",
    "print(sum(result) / len(result))\n",
    "result = []\n",
    "for rator_name in rator_names:\n",
    "  result.append(evaluate_with_annotation_json(rator_name, mode='CJK'))\n",
    "print(sum(result) / len(result))"
   ]
  },
  {
   "cell_type": "code",
   "execution_count": null,
   "metadata": {},
   "outputs": [],
   "source": []
  }
 ],
 "metadata": {
  "kernelspec": {
   "display_name": "dgfont-env",
   "language": "python",
   "name": "python3"
  },
  "language_info": {
   "codemirror_mode": {
    "name": "ipython",
    "version": 3
   },
   "file_extension": ".py",
   "mimetype": "text/x-python",
   "name": "python",
   "nbconvert_exporter": "python",
   "pygments_lexer": "ipython3",
   "version": "3.7.16"
  },
  "orig_nbformat": 4
 },
 "nbformat": 4,
 "nbformat_minor": 2
}
