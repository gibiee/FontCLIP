{
 "cells": [
  {
   "cell_type": "code",
   "execution_count": 1,
   "metadata": {},
   "outputs": [
    {
     "name": "stdout",
     "output_type": "stream",
     "text": [
      "exclusive_attributes:  ['capitals', 'monospace']\n",
      "loading JIT archive /home/yuki/.cache/clip/ViT-B-32.pt\n"
     ]
    }
   ],
   "source": [
    "from PIL import Image, ImageFont\n",
    "import string\n",
    "import numpy as np\n",
    "from tqdm import tqdm\n",
    "import os\n",
    "import torch\n",
    "from torch import nn\n",
    "from torch.utils.data import DataLoader\n",
    "import torch.optim as optim\n",
    "from torchvision.transforms.functional import to_pil_image, to_tensor\n",
    "from IPython.display import display\n",
    "import wandb\n",
    "\n",
    "import clip\n",
    "from clip.model import CLIP\n",
    "from utils.transform_image import (\n",
    "    draw_text_with_new_lines,\n",
    "    char_size,\n",
    "    transform_for_resize,\n",
    ")\n",
    "from utils.initialize_font_data import (\n",
    "    fox_text,\n",
    "    fox_text_four_lines,\n",
    "    gray_scale_image_file_dir,\n",
    "    train_json_path,\n",
    "    font_dir,\n",
    "    all_gray_scale_image_file_dir,\n",
    "    exclusive_attributes,\n",
    ")\n",
    "from utils.init_model import (\n",
    "    preprocess,\n",
    "    load_model,\n",
    "    device,\n",
    "    my_preprocess,\n",
    "    preprocess_for_aug,\n",
    "    preprocess_for_normalize,\n",
    ")\n",
    "from utils.clip_vae import VAE, VAELoss, Discriminator, AE, AELoss\n",
    "from dataset.dataset import MyDataset, set_image_tensors\n",
    "from models.lora_clip import LoRAConfig"
   ]
  },
  {
   "cell_type": "code",
   "execution_count": 2,
   "metadata": {},
   "outputs": [],
   "source": [
    "def create_image(text, font, char_size=char_size, image_file_dir=None):\n",
    "    if len(text) == 1:\n",
    "        width = char_size\n",
    "        height = char_size\n",
    "        image = draw_text_with_new_lines(text, font, width, height)\n",
    "        return image\n",
    "    line_num = text.count(\"\\n\") + 1\n",
    "    width = int(char_size * len(text) * 0.66 / line_num)\n",
    "    height = int(char_size * 1.0) * line_num\n",
    "    image = draw_text_with_new_lines(text, font, width, height)\n",
    "    return image\n",
    "\n",
    "\n",
    "def alphabet_to_index(alphabet: str) -> int:\n",
    "    if alphabet in string.ascii_uppercase:\n",
    "        return ord(alphabet) - ord(\"A\")\n",
    "    if alphabet in string.ascii_lowercase:\n",
    "        return ord(alphabet) - ord(\"a\") + 26\n",
    "    raise ValueError(\"alphabet must be in ascii_letters\")\n",
    "\n",
    "\n",
    "def switch_grad(nn_model: nn.Module, requires_grad: bool):\n",
    "    for param in nn_model.parameters():\n",
    "        param.requires_grad = requires_grad"
   ]
  },
  {
   "cell_type": "code",
   "execution_count": 3,
   "metadata": {},
   "outputs": [
    {
     "name": "stdout",
     "output_type": "stream",
     "text": [
      "loading JIT archive /home/yuki/.cache/clip/ViT-B-32.pt\n",
      "init_model: loading checkpoint model_checkpoints/cv_5_4_ViT-B_32_bce_lora_t-qkvo_256-1024.0_91011_batch64_aug250_cj_lbound_of_scale0.35_max_attr_num_3_random_p_num_70000_geta0.2_use_negative_lr2e-05-0.1_image_file_dir.pt\n"
     ]
    }
   ],
   "source": [
    "# use lora model\n",
    "lora_config_text = LoRAConfig(\n",
    "    r=256,\n",
    "    alpha=1024.0,\n",
    "    bias=False,\n",
    "    learnable_alpha=False,\n",
    "    apply_q=True,\n",
    "    apply_k=True,\n",
    "    apply_v=True,\n",
    "    apply_out=True,\n",
    ")\n",
    "signature = \"cv_5_3_ViT-B_32_bce_lora_t-qkvo_256-1024.0_91011_batch64_aug250_lbound_of_scale0.35_max_attr_num_3_random_p_num_70000_geta0.2_use_negative_til1.0_lr2e-05-0.1_image_file_dir\"\n",
    "signature = \"cv_5_0_ViT-B_32_bce_lora_t-qkvo_256-1024.0_91011_batch64_aug10_lbound_of_scale0.35_max_attr_num_3_random_p_num_100_geta0.2_use_negative_lr2e-05-0.1_image_file_dir\"\n",
    "signature = \"cv_5_4_ViT-B_32_bce_lora_t-qkvo_256-1024.0_91011_batch64_aug250_cj_lbound_of_scale0.35_max_attr_num_3_random_p_num_70000_geta0.2_use_negative_lr2e-05-0.1_image_file_dir\"\n",
    "checkpoint_path = f\"model_checkpoints/{signature}.pt\"\n",
    "lora_model = load_model(\n",
    "    checkpoint_path,\n",
    "    model_name=\"ViT-B/32\",\n",
    "    use_oft_vision=False,\n",
    "    use_oft_text=False,\n",
    "    oft_config_vision=None,\n",
    "    oft_config_text=None,\n",
    "    use_lora_vision=False,\n",
    "    use_lora_text=True,\n",
    "    lora_config_vision=None,\n",
    "    lora_config_text=lora_config_text,\n",
    "    use_coop_vision=False,\n",
    "    use_coop_text=False,\n",
    "    precontext_length_vision=None,\n",
    "    precontext_length_text=None,\n",
    "    precontext_dropout_rate=0.0,\n",
    "    pt_applied_layers=None,\n",
    ")\n",
    "lora_model.eval()\n",
    "for param in lora_model.parameters():\n",
    "    param.requires_grad = False"
   ]
  },
  {
   "cell_type": "code",
   "execution_count": 4,
   "metadata": {},
   "outputs": [],
   "source": [
    "generator_checkpoint_path = f'model_checkpoints/vae/{signature}.pt'\n",
    "generator_checkpoint_path = None\n",
    "output_ch = 1\n",
    "generator = VAE(\n",
    "    lora_model,\n",
    "    output_ch=output_ch,\n",
    "    cnn_based=True,\n",
    "    mode_dual=False,\n",
    "    l_relu=True,\n",
    "    content_conditioned=True,\n",
    "    content_dim=52,\n",
    ").to(device)\n",
    "if generator_checkpoint_path is not None:\n",
    "    print(\"load vae checkpoint\")\n",
    "    generator.load_state_dict(torch.load(generator_checkpoint_path)[\"model_state_dict\"])\n",
    "\n",
    "# ae_checkpoint_path = None\n",
    "# output_ch = 1\n",
    "# ae = AE(\n",
    "#     lora_model,\n",
    "#     output_ch=output_ch,\n",
    "#     input_dim=512,\n",
    "#     hidden_dim=512,\n",
    "#     latent_dim=128,\n",
    "#     cnn_based=True,\n",
    "#     mode_dual=False,\n",
    "#     l_relu=True,\n",
    "#     content_conditioned=True,\n",
    "#     content_dim=52,\n",
    "# ).to(device)\n",
    "# if ae_checkpoint_path is not None:\n",
    "#     print(\"load ae checkpoint\")\n",
    "#     ae.load_state_dict(torch.load(ae_checkpoint_path)[\"model_state_dict\"])"
   ]
  },
  {
   "cell_type": "code",
   "execution_count": 5,
   "metadata": {},
   "outputs": [
    {
     "data": {
      "image/png": "[encoded data removed]",
      "text/plain": [
       "<PIL.Image.Image image mode=RGB size=150x150>"
      ]
     },
     "metadata": {},
     "output_type": "display_data"
    }
   ],
   "source": [
    "text = fox_text_four_lines\n",
    "target_alphabet = \"K\"\n",
    "target_alphabet_index = alphabet_to_index(target_alphabet)\n",
    "font_path = \"../gwfonts/ABeeZee-Italic.ttf\"\n",
    "font = ImageFont.truetype(font_path, char_size)\n",
    "image = create_image(target_alphabet, font, char_size=char_size)\n",
    "display(image)\n",
    "\n",
    "# Define content condition, one-hot vector\n",
    "condition_one_hot_vector = torch.zeros(52).to(device)\n",
    "condition_one_hot_vector[target_alphabet_index] = 1"
   ]
  },
  {
   "cell_type": "code",
   "execution_count": 6,
   "metadata": {},
   "outputs": [
    {
     "name": "stdout",
     "output_type": "stream",
     "text": [
      "torch.Size([1, 1, 64, 64])\n"
     ]
    },
    {
     "data": {
      "image/png": "[encoded data removed]",
      "text/plain": [
       "<PIL.Image.Image image mode=RGB size=224x224>"
      ]
     },
     "metadata": {},
     "output_type": "display_data"
    },
    {
     "data": {
      "image/png": "[encoded data removed]",
      "text/plain": [
       "<PIL.Image.Image image mode=L size=64x64>"
      ]
     },
     "metadata": {},
     "output_type": "display_data"
    },
    {
     "name": "stdout",
     "output_type": "stream",
     "text": [
      "torch.Size([64, 512])\n",
      "torch.Size([64, 1, 64, 64])\n"
     ]
    },
    {
     "data": {
      "image/png": "[encoded data removed]",
      "text/plain": [
       "<PIL.Image.Image image mode=L size=64x64>"
      ]
     },
     "metadata": {},
     "output_type": "display_data"
    }
   ],
   "source": [
    "preprocess_for_resize_224 = transform_for_resize(224)\n",
    "preprocess_for_resize_64 = transform_for_resize(64)\n",
    "# auged_image = preprocess_for_aug(image)\n",
    "# display(to_pil_image(auged_image))\n",
    "auged_image = preprocess_for_resize_224(image)\n",
    "auged_image_gray = to_tensor(to_pil_image(auged_image).convert(\"L\"))\n",
    "preprocessed_image = to_pil_image(preprocess_for_normalize(auged_image))\n",
    "image_for_clip = preprocess(preprocessed_image).unsqueeze(0).to(device)\n",
    "image_for_vae = (\n",
    "    preprocess_for_resize_64(to_pil_image(auged_image).convert(\"L\"))\n",
    "    .unsqueeze(0)\n",
    "    .to(device)\n",
    ")\n",
    "embedded_image = lora_model.encode_image(image_for_clip)\n",
    "print(image_for_vae.shape)\n",
    "display(preprocessed_image)\n",
    "display(to_pil_image(image_for_vae[0].cpu()))\n",
    "\n",
    "input = torch.stack([embedded_image.squeeze(0)] * 64, dim=0)\n",
    "# content_variable = torch.stack(\n",
    "#     [condition_one_hot_vector] * 64, dim=0).to(vae.dtype)\n",
    "content_variable = torch.stack(\n",
    "    [condition_one_hot_vector] * 64, dim=0).to(generator.dtype)\n",
    "print(input.shape)\n",
    "if isinstance(generator, VAE):\n",
    "    x, mean, var = generator(input, content_variable=content_variable)\n",
    "elif isinstance(generator, AE):\n",
    "    x  = generator(input, content_variable=content_variable)\n",
    "# print(x.shape, mean.shape, var.shape)\n",
    "# reshape x to 224 * 224\n",
    "reshaped_x = x.view(x.shape[0], 1, 64, 64)\n",
    "print(reshaped_x.shape)\n",
    "display(to_pil_image(reshaped_x[0]))"
   ]
  },
  {
   "cell_type": "code",
   "execution_count": 7,
   "metadata": {},
   "outputs": [
    {
     "name": "stderr",
     "output_type": "stream",
     "text": [
      "100%|██████████| 120/120 [00:01<00:00, 101.61it/s]\n"
     ]
    },
    {
     "name": "stdout",
     "output_type": "stream",
     "text": [
      "load image tensors from image files ...\n"
     ]
    },
    {
     "name": "stderr",
     "output_type": "stream",
     "text": [
      "100%|██████████| 120/120 [01:33<00:00,  1.28it/s]\n"
     ]
    }
   ],
   "source": [
    "vae_target_characters = string.ascii_uppercase + string.ascii_lowercase\n",
    "dataset = MyDataset(\n",
    "    font_dir,\n",
    "    train_json_path,\n",
    "    texts_for_font_image=[fox_text_four_lines],\n",
    "    use_negative=True,\n",
    "    use_weight=False,\n",
    "    use_score=False,\n",
    "    use_multiple_attributes=True,\n",
    "    use_random_attributes=True,\n",
    "    random_prompts_num=100,\n",
    "    max_sample_num=3,\n",
    "    rich_prompt=False,\n",
    "    sample_num_each_epoch=30,\n",
    "    image_file_dir=all_gray_scale_image_file_dir,\n",
    "    attribute_threshold=50,\n",
    "    attribute_under_threshold=50,\n",
    "    preprocess=preprocess,\n",
    "    dump_image=True,\n",
    "    exclusive_attributes=exclusive_attributes,\n",
    "    geta=0.2,\n",
    "    single_character=False,\n",
    "    use_negative_loss=True,\n",
    "    use_contrastive_image_loss=False,\n",
    "    use_vae_loss=True,\n",
    "    vae_target_characters=vae_target_characters,\n",
    "    vae_target_characters_size=64,\n",
    "    store_unnormalized_image=False,\n",
    "    n_px_of_unnormalized_image=64,\n",
    "    use_clip_like_format=False,\n",
    "    char_size=250,\n",
    "    context_length=77,\n",
    ")\n",
    "set_image_tensors(\n",
    "    dataset,\n",
    "    preprocess=my_preprocess,\n",
    "    sample_num=100,\n",
    ")"
   ]
  },
  {
   "cell_type": "code",
   "execution_count": 8,
   "metadata": {},
   "outputs": [
    {
     "name": "stdout",
     "output_type": "stream",
     "text": [
      "3600\n"
     ]
    }
   ],
   "source": [
    "data_loader = DataLoader(dataset, batch_size=208, shuffle=True)\n",
    "val_data_loader = DataLoader(dataset, batch_size=208, shuffle=False)\n",
    "print(len(dataset))"
   ]
  },
  {
   "cell_type": "code",
   "execution_count": 9,
   "metadata": {},
   "outputs": [],
   "source": [
    "generator = VAE(\n",
    "    lora_model,\n",
    "    output_ch=output_ch,\n",
    "    cnn_based=True,\n",
    "    mode_dual=False,\n",
    "    l_relu=True,\n",
    "    content_conditioned=True,\n",
    "    content_dim=len(vae_target_characters),\n",
    ").to(device)\n",
    "\n",
    "# generator = AE(\n",
    "#     lora_model,\n",
    "#     output_ch=output_ch,\n",
    "#     input_dim=512,\n",
    "#     hidden_dim=512,\n",
    "#     latent_dim=128,\n",
    "#     cnn_based=True,\n",
    "#     mode_dual=False,\n",
    "#     l_relu=True,\n",
    "#     content_conditioned=True,\n",
    "#     content_dim=52,\n",
    "# ).to(device)\n",
    "\n",
    "content_discriminator = Discriminator(\n",
    "    lora_model, input_ch=1, ch=64, latent_dim=256, output_dim=len(vae_target_characters)\n",
    ").to(device)\n",
    "auth_discriminator = Discriminator(\n",
    "    lora_model, input_ch=1, ch=64, latent_dim=256, output_dim=2\n",
    ").to(device)"
   ]
  },
  {
   "cell_type": "code",
   "execution_count": 10,
   "metadata": {},
   "outputs": [],
   "source": [
    "def validation(generator, clip_model, images_for_display, vae_target_images_for_display, one_hot_vectors_for_display, use_cd_loss=False, use_ad_loss=False, content_discriminator=None, auth_discriminator=None):\n",
    "    generator.eval()\n",
    "    clip_model.eval()\n",
    "    if use_cd_loss:\n",
    "        assert content_discriminator is not None\n",
    "        content_discriminator.eval()\n",
    "    if use_ad_loss:\n",
    "        assert auth_discriminator is not None\n",
    "        auth_discriminator.eval()\n",
    "    # print(content_discriminator.conv_in.weight[0][0][0][0])\n",
    "    with torch.no_grad():\n",
    "        total_loss = 0\n",
    "        total_d_loss = 0\n",
    "        total_ad_loss = 0\n",
    "        for batch in iter(val_data_loader):\n",
    "            (\n",
    "                images,\n",
    "                texts,\n",
    "                font_indices,\n",
    "                attribute_indices,\n",
    "                vae_target_images,\n",
    "                one_hot_vectors,\n",
    "            ) = batch\n",
    "            embedded_image = clip_model.encode_image(images.to(device))\n",
    "            # normalization causes weird image\n",
    "            # embedded_image = embedded_image / embedded_image.norm(dim=-1, keepdim=True)\n",
    "\n",
    "            if isinstance(generator, VAE):\n",
    "                x, mean, var = generator(\n",
    "                    embedded_image, content_variable=one_hot_vectors.to(device)\n",
    "                )\n",
    "            elif isinstance(generator, AE):\n",
    "                x = generator(\n",
    "                    embedded_image, content_variable=one_hot_vectors.to(device)\n",
    "                )\n",
    "            ground_truth = vae_target_images.view(vae_target_images.shape[0], -1).to(\n",
    "                device\n",
    "            )\n",
    "            # generator loss\n",
    "            if isinstance(generator, VAE):\n",
    "                loss = vae_loss(x, ground_truth, mean, var)\n",
    "                total_loss += loss.item()\n",
    "            elif isinstance(generator, AE):\n",
    "                loss = ae_loss(x, ground_truth)\n",
    "                total_loss += loss.item()\n",
    "\n",
    "            # content discriminator loss\n",
    "            if use_cd_loss:\n",
    "                d_loss = ce_loss(content_discriminator(x.view(x.shape[0], 1, 64, 64).to(\n",
    "                    device)), one_hot_vectors.argmax(dim=-1).to(device))\n",
    "                total_d_loss += d_loss.item()\n",
    "\n",
    "            # auth discriminator loss\n",
    "            if use_ad_loss:\n",
    "                prediction_x = auth_discriminator(\n",
    "                    x.view(x.shape[0], 1, 64, 64).to(device))\n",
    "                prediction_gt = auth_discriminator(\n",
    "                    vae_target_images.to(device))\n",
    "                target_x = torch.ones(\n",
    "                    prediction_x.shape[0], dtype=int).to(device)\n",
    "                target_gt = torch.zeros(\n",
    "                    prediction_gt.shape[0], dtype=int).to(device)\n",
    "                ad_loss = ce_loss(prediction_x, target_x) + \\\n",
    "                    ce_loss(prediction_gt, target_gt)\n",
    "                total_ad_loss += ad_loss.item()\n",
    "\n",
    "    embedded_image = clip_model.encode_image(images_for_display.to(device))\n",
    "    if isinstance(generator, VAE):\n",
    "        x, mean, var = generator(\n",
    "            embedded_image, content_variable=one_hot_vectors_for_display.to(device)\n",
    "        )\n",
    "    elif isinstance(generator, AE):\n",
    "        x = generator(\n",
    "            embedded_image, content_variable=one_hot_vectors_for_display.to(device)\n",
    "        )\n",
    "    ground_truth = vae_target_images_for_display.view(vae_target_images_for_display.shape[0], -1).to(\n",
    "        device\n",
    "    )\n",
    "    generated_image = to_pil_image(x[0].view(64, 64))\n",
    "    # display(to_pil_image(ground_truth[0].view(64, 64)))\n",
    "    # display(generated_image)\n",
    "    total_loss /= len(val_data_loader)\n",
    "    total_d_loss /= len(val_data_loader)\n",
    "    total_ad_loss /= len(val_data_loader)\n",
    "    generator.train()\n",
    "    if use_cd_loss:\n",
    "        content_discriminator.train()\n",
    "    if use_ad_loss:\n",
    "        auth_discriminator.train()\n",
    "\n",
    "    return generated_image, total_loss, total_d_loss, total_ad_loss\n",
    "\n",
    "\n",
    "EPOCH = 500\n",
    "beta = 0.01\n",
    "vae_loss = VAELoss(beta=beta, rmse=True).to(device)\n",
    "ae_loss = AELoss().to(device)\n",
    "ce_loss = nn.CrossEntropyLoss()\n",
    "generator_lr = 1e-5\n",
    "cd_lr = 1e-4\n",
    "ad_lr = 1e-4\n",
    "generator_optimizer = optim.Adam(\n",
    "    generator.parameters(),\n",
    "    lr=generator_lr,\n",
    "    betas=(0.9, 0.98),\n",
    "    eps=1e-6,\n",
    "    weight_decay=0.2,\n",
    ")\n",
    "generator_schedular = optim.lr_scheduler.LinearLR(\n",
    "    generator_optimizer,\n",
    "    start_factor=1,\n",
    "    total_iters=EPOCH * len(data_loader),\n",
    ")\n",
    "discriminator_optimizer = optim.Adam(\n",
    "    content_discriminator.parameters(),\n",
    "    lr=cd_lr,\n",
    "    betas=(0.9, 0.98),\n",
    "    eps=1e-6,\n",
    "    weight_decay=0.2,\n",
    ")\n",
    "discriminator_schedular = optim.lr_scheduler.LinearLR(\n",
    "    discriminator_optimizer,\n",
    "    start_factor=1,\n",
    "    total_iters=EPOCH * len(data_loader),\n",
    ")\n",
    "auth_discriminator_optimizer = optim.Adam(\n",
    "    auth_discriminator.parameters(),\n",
    "    lr=ad_lr,\n",
    "    betas=(0.9, 0.98),\n",
    "    eps=1e-6,\n",
    "    weight_decay=0.2,\n",
    ")\n",
    "auth_discriminator_schedular = optim.lr_scheduler.LinearLR(\n",
    "    auth_discriminator_optimizer,\n",
    "    start_factor=1,\n",
    "    total_iters=EPOCH * len(data_loader),\n",
    ")"
   ]
  },
  {
   "cell_type": "code",
   "execution_count": 11,
   "metadata": {},
   "outputs": [
    {
     "data": {
      "image/png": "[encoded data removed]",
      "text/plain": [
       "<PIL.Image.Image image mode=RGB size=224x224>"
      ]
     },
     "metadata": {},
     "output_type": "display_data"
    },
    {
     "data": {
      "image/png": "[encoded data removed]",
      "text/plain": [
       "<PIL.Image.Image image mode=L size=64x64>"
      ]
     },
     "metadata": {},
     "output_type": "display_data"
    }
   ],
   "source": [
    "# prepare images for validation visualization\n",
    "\n",
    "font_path = \"../gwfonts/ABeeZee-Italic.ttf\"\n",
    "font_name = os.path.splitext(os.path.basename(font_path))[0]\n",
    "font = ImageFont.truetype(font_path, char_size)\n",
    "image_file_path = os.path.join(\n",
    "    all_gray_scale_image_file_dir, font_name + \".png\")\n",
    "target_alphabet = \"K\"\n",
    "image_for_clip = preprocess(Image.open(image_file_path)).unsqueeze(0)\n",
    "vae_target_image = create_image(target_alphabet, font, char_size=char_size)\n",
    "image_for_vae = (\n",
    "    preprocess_for_resize_64(vae_target_image.convert(\"L\"))\n",
    "    .unsqueeze(0)\n",
    ")\n",
    "\n",
    "display(to_pil_image(image_for_clip[0]))\n",
    "display(to_pil_image(image_for_vae[0]))\n",
    "\n",
    "# Define content condition, one-hot vector\n",
    "target_alphabet_index = alphabet_to_index(target_alphabet)\n",
    "condition_one_hot_vector = torch.zeros(52)\n",
    "condition_one_hot_vector[target_alphabet_index] = 1\n",
    "condition_one_hot_vector = condition_one_hot_vector.unsqueeze(\n",
    "    0).to(torch.float16)"
   ]
  },
  {
   "cell_type": "code",
   "execution_count": 12,
   "metadata": {},
   "outputs": [],
   "source": [
    "def train(\n",
    "    generator,\n",
    "    images_for_display=None,\n",
    "    vae_target_images_for_display=None,\n",
    "    one_hot_vectors_for_display=None,\n",
    "    content_discriminator=None,\n",
    "    auth_discriminator=None,\n",
    "    use_cd_loss=False,\n",
    "    use_ad_loss=False,\n",
    "    cd_loss_weight=1.0,\n",
    "    ad_loss_weight=1.0,\n",
    "    use_wandb=True,\n",
    "    signature=\"vae\",\n",
    "    epoch=500,\n",
    "):\n",
    "    # torch.autograd.set_detect_anomaly(True)\n",
    "    if use_wandb:\n",
    "        wandb.init(\n",
    "            project=\"FCLIP-Generator\",\n",
    "            entity=\"yukitatsu0817\",\n",
    "            name=signature,\n",
    "            id=wandb.util.generate_id(),\n",
    "        )\n",
    "    if images_for_display is None:\n",
    "        # prepare data for validation\n",
    "        (\n",
    "            images_for_display,\n",
    "            _,\n",
    "            _,\n",
    "            _,\n",
    "            vae_target_images_for_display,\n",
    "            one_hot_vectors_for_display,\n",
    "        ) = next(iter(val_data_loader))\n",
    "    wandb.log({\"reference\": wandb.Image(to_pil_image(images_for_display[0]))})\n",
    "    display(to_pil_image(images_for_display[0]))\n",
    "    wandb.log(\n",
    "        {\"ground_truth\": wandb.Image(to_pil_image(vae_target_images_for_display[0]))}\n",
    "    )\n",
    "\n",
    "    best_loss = None\n",
    "    for epoch in tqdm(range(epoch)):\n",
    "        generator.train()\n",
    "        if use_cd_loss:\n",
    "            assert content_discriminator is not None\n",
    "            content_discriminator.train()\n",
    "        if use_ad_loss:\n",
    "            assert auth_discriminator is not None\n",
    "            auth_discriminator.train()\n",
    "\n",
    "        total_loss = 0\n",
    "        for batch in iter(data_loader):\n",
    "            (\n",
    "                images,\n",
    "                texts,\n",
    "                font_indices,\n",
    "                attribute_indices,\n",
    "                vae_target_images,\n",
    "                one_hot_vectors,\n",
    "            ) = batch\n",
    "            embedded_image = lora_model.encode_image(images.to(device))\n",
    "            # normalization causes weird image\n",
    "            # embedded_image = embedded_image / embedded_image.norm(dim=-1, keepdim=True)\n",
    "\n",
    "            # train generator\n",
    "            switch_grad(generator, True)\n",
    "            generator_optimizer.zero_grad()\n",
    "            if use_cd_loss:\n",
    "                switch_grad(content_discriminator, True)\n",
    "                discriminator_optimizer.zero_grad()\n",
    "            if use_ad_loss:\n",
    "                switch_grad(auth_discriminator, False)\n",
    "                auth_discriminator_optimizer.zero_grad()\n",
    "\n",
    "            ground_truth = vae_target_images.view(vae_target_images.shape[0], -1).to(\n",
    "                device\n",
    "            )\n",
    "            if isinstance(generator, VAE):\n",
    "                x, mean, var = generator(\n",
    "                    embedded_image, content_variable=one_hot_vectors.to(device)\n",
    "                )\n",
    "                loss = vae_loss(x, ground_truth, mean, var)\n",
    "            elif isinstance(generator, AE):\n",
    "                x = generator(\n",
    "                    embedded_image, content_variable=one_hot_vectors.to(device)\n",
    "                )\n",
    "                loss = ae_loss(x, ground_truth)\n",
    "            if use_cd_loss:\n",
    "                d_loss = ce_loss(\n",
    "                    content_discriminator(x.view(x.shape[0], 1, 64, 64).to(device)),\n",
    "                    one_hot_vectors.argmax(dim=-1).to(device),\n",
    "                )\n",
    "                loss += d_loss * cd_loss_weight\n",
    "\n",
    "            if use_ad_loss:\n",
    "                prediction_x = auth_discriminator(\n",
    "                    x.view(x.shape[0], 1, 64, 64).to(device)\n",
    "                )\n",
    "                target_x = torch.zeros(prediction_x.shape[0], dtype=int).to(device)\n",
    "                ad_loss = ce_loss(prediction_x, target_x)\n",
    "                loss += ad_loss * ad_loss_weight\n",
    "            loss.backward()\n",
    "            generator_optimizer.step()\n",
    "            generator_schedular.step()\n",
    "\n",
    "            if use_cd_loss:\n",
    "                discriminator_optimizer.step()\n",
    "                discriminator_schedular.step()\n",
    "            total_loss += loss.item()\n",
    "\n",
    "            # train  auth_discriminator\n",
    "            if use_ad_loss:\n",
    "                switch_grad(generator, False)\n",
    "                switch_grad(auth_discriminator, True)\n",
    "                generator_optimizer.zero_grad()\n",
    "                auth_discriminator_optimizer.zero_grad()\n",
    "                if use_cd_loss:\n",
    "                    switch_grad(content_discriminator, False)\n",
    "                    discriminator_optimizer.zero_grad()\n",
    "\n",
    "                x_detached = x.detach()\n",
    "                prediction_x = auth_discriminator(\n",
    "                    x_detached.view(x_detached.shape[0], 1, 64, 64).to(device)\n",
    "                )\n",
    "                prediction_gt = auth_discriminator(vae_target_images.to(device))\n",
    "                target_x = torch.ones(prediction_x.shape[0], dtype=int).to(device)\n",
    "                target_gt = torch.zeros(prediction_gt.shape[0], dtype=int).to(device)\n",
    "                ad_loss = ce_loss(prediction_x, target_x) + ce_loss(\n",
    "                    prediction_gt, target_gt\n",
    "                )\n",
    "                ad_loss.backward()\n",
    "                auth_discriminator_optimizer.step()\n",
    "                auth_discriminator_schedular.step()\n",
    "\n",
    "        if epoch % 1 == 0:\n",
    "            generated_image, val_loss, val_cd_loss, val_ad_loss = validation(\n",
    "                generator,\n",
    "                lora_model,\n",
    "                images_for_display,\n",
    "                vae_target_images_for_display,\n",
    "                one_hot_vectors_for_display,\n",
    "                content_discriminator=content_discriminator,\n",
    "                auth_discriminator=auth_discriminator,\n",
    "                use_ad_loss=use_ad_loss,\n",
    "                use_cd_loss=use_cd_loss,\n",
    "            )\n",
    "            # save model\n",
    "            if best_loss is None or best_loss > val_loss:\n",
    "                best_loss = val_loss\n",
    "                torch.save(\n",
    "                    {\n",
    "                        \"model_state_dict\": generator.state_dict(),\n",
    "                        \"cd_state_dict\": content_discriminator.state_dict(),\n",
    "                        \"ad_state_dict\": auth_discriminator.state_dict(),\n",
    "                    },\n",
    "                    f\"model_checkpoints/vae/{signature}.pt\",\n",
    "                )\n",
    "                print(f\"save generator checkpoint, val_loss: {val_loss}\")\n",
    "            # update wandb\n",
    "            if use_wandb:\n",
    "                wandb.log({\"loss\": val_loss})\n",
    "                wandb.log({\"cd_loss\": val_cd_loss})\n",
    "                wandb.log({\"ad_loss\": val_ad_loss})\n",
    "                wandb.log({\"image\": wandb.Image(generated_image)})\n",
    "    if use_wandb:\n",
    "        wandb.finish()"
   ]
  },
  {
   "cell_type": "code",
   "execution_count": 13,
   "metadata": {},
   "outputs": [
    {
     "data": {
      "text/plain": [
       "True"
      ]
     },
     "execution_count": 13,
     "metadata": {},
     "output_type": "execute_result"
    }
   ],
   "source": [
    "isinstance(generator, VAE)"
   ]
  },
  {
   "cell_type": "code",
   "execution_count": 14,
   "metadata": {},
   "outputs": [
    {
     "name": "stderr",
     "output_type": "stream",
     "text": [
      "Failed to detect the name of this notebook, you can set it manually with the WANDB_NOTEBOOK_NAME environment variable to enable code saving.\n"
     ]
    },
    {
     "name": "stdout",
     "output_type": "stream",
     "text": [
      "vae1e-05-beta0.01\n"
     ]
    },
    {
     "name": "stderr",
     "output_type": "stream",
     "text": [
      "\u001b[34m\u001b[1mwandb\u001b[0m: Currently logged in as: \u001b[33myukitatsu0817\u001b[0m. Use \u001b[1m`wandb login --relogin`\u001b[0m to force relogin\n"
     ]
    },
    {
     "data": {
      "text/html": [
       "Tracking run with wandb version 0.16.1"
      ],
      "text/plain": [
       "<IPython.core.display.HTML object>"
      ]
     },
     "metadata": {},
     "output_type": "display_data"
    },
    {
     "data": {
      "text/html": [
       "Run data is saved locally in <code>/home/yuki/learn-computer-vision/CLIPFont/wandb/run-20231214_190406-tthhn8hf</code>"
      ],
      "text/plain": [
       "<IPython.core.display.HTML object>"
      ]
     },
     "metadata": {},
     "output_type": "display_data"
    },
    {
     "data": {
      "text/html": [
       "Syncing run <strong><a href='https://wandb.ai/yukitatsu0817/FCLIP-Generator/runs/tthhn8hf' target=\"_blank\">vae1e-05-beta0.01</a></strong> to <a href='https://wandb.ai/yukitatsu0817/FCLIP-Generator' target=\"_blank\">Weights & Biases</a> (<a href='https://wandb.me/run' target=\"_blank\">docs</a>)<br/>"
      ],
      "text/plain": [
       "<IPython.core.display.HTML object>"
      ]
     },
     "metadata": {},
     "output_type": "display_data"
    },
    {
     "data": {
      "text/html": [
       " View project at <a href='https://wandb.ai/yukitatsu0817/FCLIP-Generator' target=\"_blank\">https://wandb.ai/yukitatsu0817/FCLIP-Generator</a>"
      ],
      "text/plain": [
       "<IPython.core.display.HTML object>"
      ]
     },
     "metadata": {},
     "output_type": "display_data"
    },
    {
     "data": {
      "text/html": [
       " View run at <a href='https://wandb.ai/yukitatsu0817/FCLIP-Generator/runs/tthhn8hf' target=\"_blank\">https://wandb.ai/yukitatsu0817/FCLIP-Generator/runs/tthhn8hf</a>"
      ],
      "text/plain": [
       "<IPython.core.display.HTML object>"
      ]
     },
     "metadata": {},
     "output_type": "display_data"
    },
    {
     "data": {
      "image/png": "[encoded data removed]",
      "text/plain": [
       "<PIL.Image.Image image mode=RGB size=224x224>"
      ]
     },
     "metadata": {},
     "output_type": "display_data"
    },
    {
     "name": "stderr",
     "output_type": "stream",
     "text": [
      "  0%|          | 1/2000 [00:05<3:01:18,  5.44s/it]"
     ]
    },
    {
     "name": "stdout",
     "output_type": "stream",
     "text": [
      "save generator checkpoint, val_loss: 0.4600287543402778\n"
     ]
    },
    {
     "name": "stderr",
     "output_type": "stream",
     "text": [
      "  1%|          | 20/2000 [01:45<2:55:21,  5.31s/it]"
     ]
    },
    {
     "name": "stdout",
     "output_type": "stream",
     "text": [
      "save generator checkpoint, val_loss: 0.453125\n"
     ]
    },
    {
     "name": "stderr",
     "output_type": "stream",
     "text": [
      "  1%|          | 21/2000 [01:51<2:55:58,  5.34s/it]"
     ]
    },
    {
     "name": "stdout",
     "output_type": "stream",
     "text": [
      "save generator checkpoint, val_loss: 0.4479573567708333\n"
     ]
    },
    {
     "name": "stderr",
     "output_type": "stream",
     "text": [
      "  1%|▏         | 25/2000 [02:12<2:55:02,  5.32s/it]"
     ]
    },
    {
     "name": "stdout",
     "output_type": "stream",
     "text": [
      "save generator checkpoint, val_loss: 0.4334581163194444\n"
     ]
    },
    {
     "name": "stderr",
     "output_type": "stream",
     "text": [
      "  1%|▏         | 26/2000 [02:17<2:55:36,  5.34s/it]"
     ]
    },
    {
     "name": "stdout",
     "output_type": "stream",
     "text": [
      "save generator checkpoint, val_loss: 0.4315456814236111\n"
     ]
    },
    {
     "name": "stderr",
     "output_type": "stream",
     "text": [
      "  2%|▏         | 33/2000 [02:54<2:54:31,  5.32s/it]"
     ]
    },
    {
     "name": "stdout",
     "output_type": "stream",
     "text": [
      "save generator checkpoint, val_loss: 0.4110785590277778\n"
     ]
    },
    {
     "name": "stderr",
     "output_type": "stream",
     "text": [
      "  2%|▏         | 40/2000 [03:31<2:54:09,  5.33s/it]"
     ]
    },
    {
     "name": "stdout",
     "output_type": "stream",
     "text": [
      "save generator checkpoint, val_loss: 0.4100206163194444\n"
     ]
    },
    {
     "name": "stderr",
     "output_type": "stream",
     "text": [
      "  2%|▏         | 43/2000 [03:47<2:54:51,  5.36s/it]"
     ]
    },
    {
     "name": "stdout",
     "output_type": "stream",
     "text": [
      "save generator checkpoint, val_loss: 0.3982611762152778\n"
     ]
    },
    {
     "name": "stderr",
     "output_type": "stream",
     "text": [
      "  2%|▏         | 44/2000 [03:53<2:55:12,  5.37s/it]"
     ]
    },
    {
     "name": "stdout",
     "output_type": "stream",
     "text": [
      "save generator checkpoint, val_loss: 0.3949110243055556\n"
     ]
    },
    {
     "name": "stderr",
     "output_type": "stream",
     "text": [
      "  2%|▏         | 47/2000 [04:09<2:54:18,  5.36s/it]"
     ]
    },
    {
     "name": "stdout",
     "output_type": "stream",
     "text": [
      "save generator checkpoint, val_loss: 0.3870035807291667\n"
     ]
    },
    {
     "name": "stderr",
     "output_type": "stream",
     "text": [
      "  3%|▎         | 51/2000 [04:30<2:53:34,  5.34s/it]"
     ]
    },
    {
     "name": "stdout",
     "output_type": "stream",
     "text": [
      "save generator checkpoint, val_loss: 0.3772379557291667\n"
     ]
    },
    {
     "name": "stderr",
     "output_type": "stream",
     "text": [
      "  3%|▎         | 57/2000 [05:02<2:52:48,  5.34s/it]"
     ]
    },
    {
     "name": "stdout",
     "output_type": "stream",
     "text": [
      "save generator checkpoint, val_loss: 0.3714328342013889\n"
     ]
    },
    {
     "name": "stderr",
     "output_type": "stream",
     "text": [
      "  3%|▎         | 65/2000 [05:44<2:51:57,  5.33s/it]"
     ]
    },
    {
     "name": "stdout",
     "output_type": "stream",
     "text": [
      "save generator checkpoint, val_loss: 0.3548041449652778\n"
     ]
    },
    {
     "name": "stderr",
     "output_type": "stream",
     "text": [
      "  4%|▍         | 77/2000 [06:48<2:50:50,  5.33s/it]"
     ]
    },
    {
     "name": "stdout",
     "output_type": "stream",
     "text": [
      "save generator checkpoint, val_loss: 0.349365234375\n"
     ]
    },
    {
     "name": "stderr",
     "output_type": "stream",
     "text": [
      "  4%|▍         | 79/2000 [06:59<2:51:25,  5.35s/it]"
     ]
    },
    {
     "name": "stdout",
     "output_type": "stream",
     "text": [
      "save generator checkpoint, val_loss: 0.3488633897569444\n"
     ]
    },
    {
     "name": "stderr",
     "output_type": "stream",
     "text": [
      "  5%|▍         | 94/2000 [08:19<2:50:03,  5.35s/it]"
     ]
    },
    {
     "name": "stdout",
     "output_type": "stream",
     "text": [
      "save generator checkpoint, val_loss: 0.3439398871527778\n"
     ]
    },
    {
     "name": "stderr",
     "output_type": "stream",
     "text": [
      "  5%|▍         | 95/2000 [08:24<2:50:40,  5.38s/it]"
     ]
    },
    {
     "name": "stdout",
     "output_type": "stream",
     "text": [
      "save generator checkpoint, val_loss: 0.3409966362847222\n"
     ]
    },
    {
     "name": "stderr",
     "output_type": "stream",
     "text": [
      "  5%|▍         | 96/2000 [08:30<2:51:01,  5.39s/it]"
     ]
    },
    {
     "name": "stdout",
     "output_type": "stream",
     "text": [
      "save generator checkpoint, val_loss: 0.3382839626736111\n"
     ]
    },
    {
     "name": "stderr",
     "output_type": "stream",
     "text": [
      "  5%|▌         | 101/2000 [08:56<2:50:24,  5.38s/it]"
     ]
    },
    {
     "name": "stdout",
     "output_type": "stream",
     "text": [
      "save generator checkpoint, val_loss: 0.3325330946180556\n"
     ]
    },
    {
     "name": "stderr",
     "output_type": "stream",
     "text": [
      "  5%|▌         | 106/2000 [09:23<2:49:11,  5.36s/it]"
     ]
    },
    {
     "name": "stdout",
     "output_type": "stream",
     "text": [
      "save generator checkpoint, val_loss: 0.3320990668402778\n"
     ]
    },
    {
     "name": "stderr",
     "output_type": "stream",
     "text": [
      "  5%|▌         | 109/2000 [09:39<2:48:50,  5.36s/it]"
     ]
    },
    {
     "name": "stdout",
     "output_type": "stream",
     "text": [
      "save generator checkpoint, val_loss: 0.3269856770833333\n"
     ]
    },
    {
     "name": "stderr",
     "output_type": "stream",
     "text": [
      "  6%|▌         | 114/2000 [10:06<2:47:55,  5.34s/it]"
     ]
    },
    {
     "name": "stdout",
     "output_type": "stream",
     "text": [
      "save generator checkpoint, val_loss: 0.3229573567708333\n"
     ]
    },
    {
     "name": "stderr",
     "output_type": "stream",
     "text": [
      "  6%|▌         | 116/2000 [10:16<2:48:12,  5.36s/it]"
     ]
    },
    {
     "name": "stdout",
     "output_type": "stream",
     "text": [
      "save generator checkpoint, val_loss: 0.3171251085069444\n"
     ]
    },
    {
     "name": "stderr",
     "output_type": "stream",
     "text": [
      "  7%|▋         | 147/2000 [13:01<2:44:32,  5.33s/it]"
     ]
    },
    {
     "name": "stdout",
     "output_type": "stream",
     "text": [
      "save generator checkpoint, val_loss: 0.3157552083333333\n"
     ]
    },
    {
     "name": "stderr",
     "output_type": "stream",
     "text": [
      "  9%|▊         | 174/2000 [15:24<2:42:26,  5.34s/it]"
     ]
    },
    {
     "name": "stdout",
     "output_type": "stream",
     "text": [
      "save generator checkpoint, val_loss: 0.3136257595486111\n"
     ]
    },
    {
     "name": "stderr",
     "output_type": "stream",
     "text": [
      "  9%|▉         | 175/2000 [15:29<2:43:05,  5.36s/it]"
     ]
    },
    {
     "name": "stdout",
     "output_type": "stream",
     "text": [
      "save generator checkpoint, val_loss: 0.3126898871527778\n"
     ]
    },
    {
     "name": "stderr",
     "output_type": "stream",
     "text": [
      " 10%|▉         | 192/2000 [17:00<2:41:27,  5.36s/it]"
     ]
    },
    {
     "name": "stdout",
     "output_type": "stream",
     "text": [
      "save generator checkpoint, val_loss: 0.3096245659722222\n"
     ]
    },
    {
     "name": "stderr",
     "output_type": "stream",
     "text": [
      " 12%|█▏        | 242/2000 [21:25<2:36:37,  5.35s/it]"
     ]
    },
    {
     "name": "stdout",
     "output_type": "stream",
     "text": [
      "save generator checkpoint, val_loss: 0.3085801866319444\n"
     ]
    },
    {
     "name": "stderr",
     "output_type": "stream",
     "text": [
      " 14%|█▍        | 290/2000 [25:40<2:32:25,  5.35s/it]"
     ]
    },
    {
     "name": "stdout",
     "output_type": "stream",
     "text": [
      "save generator checkpoint, val_loss: 0.3085123697916667\n"
     ]
    },
    {
     "name": "stderr",
     "output_type": "stream",
     "text": [
      " 18%|█▊        | 356/2000 [31:31<2:26:42,  5.35s/it]"
     ]
    },
    {
     "name": "stdout",
     "output_type": "stream",
     "text": [
      "save generator checkpoint, val_loss: 0.3084174262152778\n"
     ]
    },
    {
     "name": "stderr",
     "output_type": "stream",
     "text": [
      " 25%|██▌       | 504/2000 [44:37<2:13:25,  5.35s/it]"
     ]
    },
    {
     "name": "stdout",
     "output_type": "stream",
     "text": [
      "save generator checkpoint, val_loss: 0.3082004123263889\n"
     ]
    },
    {
     "name": "stderr",
     "output_type": "stream",
     "text": [
      " 31%|███       | 623/2000 [55:10<2:03:12,  5.37s/it]"
     ]
    },
    {
     "name": "stdout",
     "output_type": "stream",
     "text": [
      "save generator checkpoint, val_loss: 0.3078748914930556\n"
     ]
    },
    {
     "name": "stderr",
     "output_type": "stream",
     "text": [
      " 36%|███▌      | 723/2000 [1:04:02<1:53:47,  5.35s/it]"
     ]
    },
    {
     "name": "stdout",
     "output_type": "stream",
     "text": [
      "save generator checkpoint, val_loss: 0.3077935112847222\n"
     ]
    },
    {
     "name": "stderr",
     "output_type": "stream",
     "text": [
      " 66%|██████▌   | 1321/2000 [1:57:07<1:00:51,  5.38s/it]"
     ]
    },
    {
     "name": "stdout",
     "output_type": "stream",
     "text": [
      "save generator checkpoint, val_loss: 0.3077256944444444\n"
     ]
    },
    {
     "name": "stderr",
     "output_type": "stream",
     "text": [
      " 69%|██████▊   | 1371/2000 [2:01:35<55:47,  5.32s/it]  \n"
     ]
    },
    {
     "ename": "KeyboardInterrupt",
     "evalue": "",
     "output_type": "error",
     "traceback": [
      "\u001b[0;31m---------------------------------------------------------------------------\u001b[0m",
      "\u001b[0;31mKeyboardInterrupt\u001b[0m                         Traceback (most recent call last)",
      "\u001b[0;32m/tmp/ipykernel_885468/3297347738.py\u001b[0m in \u001b[0;36m<module>\u001b[0;34m\u001b[0m\n\u001b[1;32m     23\u001b[0m     \u001b[0muse_ad_loss\u001b[0m\u001b[0;34m=\u001b[0m\u001b[0muse_ad_loss\u001b[0m\u001b[0;34m,\u001b[0m\u001b[0;34m\u001b[0m\u001b[0;34m\u001b[0m\u001b[0m\n\u001b[1;32m     24\u001b[0m     \u001b[0msignature\u001b[0m\u001b[0;34m=\u001b[0m\u001b[0msignature\u001b[0m\u001b[0;34m,\u001b[0m\u001b[0;34m\u001b[0m\u001b[0;34m\u001b[0m\u001b[0m\n\u001b[0;32m---> 25\u001b[0;31m     \u001b[0mepoch\u001b[0m\u001b[0;34m=\u001b[0m\u001b[0;36m2000\u001b[0m\u001b[0;34m,\u001b[0m\u001b[0;34m\u001b[0m\u001b[0;34m\u001b[0m\u001b[0m\n\u001b[0m\u001b[1;32m     26\u001b[0m )\n",
      "\u001b[0;32m/tmp/ipykernel_885468/3613853196.py\u001b[0m in \u001b[0;36mtrain\u001b[0;34m(generator, images_for_display, vae_target_images_for_display, one_hot_vectors_for_display, content_discriminator, auth_discriminator, use_cd_loss, use_ad_loss, cd_loss_weight, ad_loss_weight, use_wandb, signature, epoch)\u001b[0m\n\u001b[1;32m     73\u001b[0m \u001b[0;34m\u001b[0m\u001b[0m\n\u001b[1;32m     74\u001b[0m             ground_truth = vae_target_images.view(vae_target_images.shape[0], -1).to(\n\u001b[0;32m---> 75\u001b[0;31m                 \u001b[0mdevice\u001b[0m\u001b[0;34m\u001b[0m\u001b[0;34m\u001b[0m\u001b[0m\n\u001b[0m\u001b[1;32m     76\u001b[0m             )\n\u001b[1;32m     77\u001b[0m             \u001b[0;32mif\u001b[0m \u001b[0misinstance\u001b[0m\u001b[0;34m(\u001b[0m\u001b[0mgenerator\u001b[0m\u001b[0;34m,\u001b[0m \u001b[0mVAE\u001b[0m\u001b[0;34m)\u001b[0m\u001b[0;34m:\u001b[0m\u001b[0;34m\u001b[0m\u001b[0;34m\u001b[0m\u001b[0m\n",
      "\u001b[0;31mKeyboardInterrupt\u001b[0m: "
     ]
    }
   ],
   "source": [
    "use_cd_loss = False\n",
    "use_ad_loss = False\n",
    "signature = \"\"\n",
    "if isinstance(generator, VAE):\n",
    "    signature += f\"vae{generator_lr}-beta{beta}\"\n",
    "elif isinstance(generator, AE):\n",
    "    signature += f\"ae{generator_lr}\"\n",
    "\n",
    "if use_cd_loss:\n",
    "    signature += f\"_cd{cd_lr}\"\n",
    "if use_ad_loss:\n",
    "    signature += f\"_ad{ad_lr}\"\n",
    "print(signature)\n",
    "\n",
    "train(\n",
    "    generator=generator,\n",
    "    images_for_display=image_for_clip,\n",
    "    vae_target_images_for_display=image_for_vae,\n",
    "    one_hot_vectors_for_display=condition_one_hot_vector,\n",
    "    content_discriminator=content_discriminator,\n",
    "    auth_discriminator=auth_discriminator,\n",
    "    use_cd_loss=use_cd_loss,\n",
    "    use_ad_loss=use_ad_loss,\n",
    "    signature=signature,\n",
    "    epoch=2000,\n",
    ")"
   ]
  },
  {
   "cell_type": "code",
   "execution_count": null,
   "metadata": {},
   "outputs": [
    {
     "ename": "",
     "evalue": "",
     "output_type": "error",
     "traceback": [
      "\u001b[1;31mFailed to start the Kernel 'dgfont-env (Python 3.7.16)'. \n",
      "\u001b[1;31mView Jupyter <a href='command:jupyter.viewOutput'>log</a> for further details. ENOSPC: no space left on device, write"
     ]
    }
   ],
   "source": []
  }
 ],
 "metadata": {
  "kernelspec": {
   "display_name": "dgfont-env",
   "language": "python",
   "name": "python3"
  },
  "language_info": {
   "codemirror_mode": {
    "name": "ipython",
    "version": 3
   },
   "file_extension": ".py",
   "mimetype": "text/x-python",
   "name": "python",
   "nbconvert_exporter": "python",
   "pygments_lexer": "ipython3",
   "version": "3.7.16"
  },
  "orig_nbformat": 4
 },
 "nbformat": 4,
 "nbformat_minor": 2
}
