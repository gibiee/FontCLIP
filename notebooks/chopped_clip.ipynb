{
 "cells": [
  {
   "cell_type": "code",
   "execution_count": 1,
   "metadata": {},
   "outputs": [
    {
     "name": "stdout",
     "output_type": "stream",
     "text": [
      "loading JIT archive /home/yuki/.cache/clip/ViT-B-32.pt\n"
     ]
    }
   ],
   "source": [
    "import numpy as np\n",
    "import matplotlib.pyplot as plt\n",
    "import os\n",
    "import tqdm\n",
    "import torch\n",
    "from IPython.display import display\n",
    "\n",
    "import clip\n",
    "from clip.model import CLIP\n",
    "from utils.init_model import model, preprocess, device, load_model, load"
   ]
  },
  {
   "cell_type": "code",
   "execution_count": 2,
   "metadata": {},
   "outputs": [],
   "source": [
    "embed_dim = 512\n",
    "image_resolution = 224\n",
    "vision_layers = 12\n",
    "vision_width = 768\n",
    "vision_patch_size = 32\n",
    "context_length = 77\n",
    "vocab_size = 49408\n",
    "transformer_width = 512\n",
    "transformer_heads = 8\n",
    "transformer_layers = 12"
   ]
  },
  {
   "cell_type": "code",
   "execution_count": 3,
   "metadata": {},
   "outputs": [],
   "source": [
    "vision_layers = 3\n",
    "transformer_layers = 3"
   ]
  },
  {
   "cell_type": "code",
   "execution_count": 5,
   "metadata": {},
   "outputs": [
    {
     "name": "stdout",
     "output_type": "stream",
     "text": [
      "loading JIT archive /home/yuki/.cache/clip/ViT-B-32.pt\n"
     ]
    }
   ],
   "source": [
    "model = load('ViT-B/32', device=device, jit=False, vision_layers=vision_layers, transformer_layers=transformer_layers, load_state_dict=False)[0]"
   ]
  },
  {
   "cell_type": "code",
   "execution_count": 4,
   "metadata": {},
   "outputs": [],
   "source": [
    "model = CLIP(\n",
    "  embed_dim,\n",
    "  image_resolution,\n",
    "  vision_layers,\n",
    "  vision_width,\n",
    "  vision_patch_size,\n",
    "  context_length,\n",
    "  vocab_size,\n",
    "  transformer_width,\n",
    "  transformer_heads,\n",
    "  transformer_layers,\n",
    ").to(device)"
   ]
  },
  {
   "cell_type": "code",
   "execution_count": 6,
   "metadata": {},
   "outputs": [
    {
     "name": "stdout",
     "output_type": "stream",
     "text": [
      "Model parameters: 59,115,009\n",
      "Input resolution: 224\n",
      "Context length: 77\n",
      "Vocab size: 49408\n"
     ]
    }
   ],
   "source": [
    "input_resolution = model.visual.input_resolution\n",
    "context_length = model.context_length\n",
    "vocab_size = model.vocab_size\n",
    "\n",
    "print(\"Model parameters:\", f\"{np.sum([int(np.prod(p.shape)) for p in model.parameters()]):,}\")\n",
    "print(\"Input resolution:\", input_resolution)\n",
    "print(\"Context length:\", context_length)\n",
    "print(\"Vocab size:\", vocab_size)"
   ]
  },
  {
   "cell_type": "code",
   "execution_count": 7,
   "metadata": {},
   "outputs": [
    {
     "name": "stdout",
     "output_type": "stream",
     "text": [
      "torch.Size([1, 77])\n"
     ]
    }
   ],
   "source": [
    "text = \"a photo of a cat\"\n",
    "tokenized_text = clip.tokenize([text]).to(device)\n",
    "print(tokenized_text.shape)"
   ]
  },
  {
   "cell_type": "code",
   "execution_count": 8,
   "metadata": {},
   "outputs": [
    {
     "name": "stdout",
     "output_type": "stream",
     "text": [
      "positional_embedding\n",
      "text_projection\n",
      "logit_scale\n",
      "visual.class_embedding\n",
      "visual.positional_embedding\n",
      "visual.proj\n",
      "visual.conv1.weight\n",
      "visual.ln_pre.weight\n",
      "visual.ln_pre.bias\n",
      "visual.transformer.resblocks.0.attn.in_proj_weight\n",
      "visual.transformer.resblocks.0.attn.in_proj_bias\n",
      "visual.transformer.resblocks.0.attn.out_proj.weight\n",
      "visual.transformer.resblocks.0.attn.out_proj.bias\n",
      "visual.transformer.resblocks.0.ln_1.weight\n",
      "visual.transformer.resblocks.0.ln_1.bias\n",
      "visual.transformer.resblocks.0.mlp.c_fc.weight\n",
      "visual.transformer.resblocks.0.mlp.c_fc.bias\n",
      "visual.transformer.resblocks.0.mlp.c_proj.weight\n",
      "visual.transformer.resblocks.0.mlp.c_proj.bias\n",
      "visual.transformer.resblocks.0.ln_2.weight\n",
      "visual.transformer.resblocks.0.ln_2.bias\n",
      "visual.transformer.resblocks.1.attn.in_proj_weight\n",
      "visual.transformer.resblocks.1.attn.in_proj_bias\n",
      "visual.transformer.resblocks.1.attn.out_proj.weight\n",
      "visual.transformer.resblocks.1.attn.out_proj.bias\n",
      "visual.transformer.resblocks.1.ln_1.weight\n",
      "visual.transformer.resblocks.1.ln_1.bias\n",
      "visual.transformer.resblocks.1.mlp.c_fc.weight\n",
      "visual.transformer.resblocks.1.mlp.c_fc.bias\n",
      "visual.transformer.resblocks.1.mlp.c_proj.weight\n",
      "visual.transformer.resblocks.1.mlp.c_proj.bias\n",
      "visual.transformer.resblocks.1.ln_2.weight\n",
      "visual.transformer.resblocks.1.ln_2.bias\n",
      "visual.transformer.resblocks.2.attn.in_proj_weight\n",
      "visual.transformer.resblocks.2.attn.in_proj_bias\n",
      "visual.transformer.resblocks.2.attn.out_proj.weight\n",
      "visual.transformer.resblocks.2.attn.out_proj.bias\n",
      "visual.transformer.resblocks.2.ln_1.weight\n",
      "visual.transformer.resblocks.2.ln_1.bias\n",
      "visual.transformer.resblocks.2.mlp.c_fc.weight\n",
      "visual.transformer.resblocks.2.mlp.c_fc.bias\n",
      "visual.transformer.resblocks.2.mlp.c_proj.weight\n",
      "visual.transformer.resblocks.2.mlp.c_proj.bias\n",
      "visual.transformer.resblocks.2.ln_2.weight\n",
      "visual.transformer.resblocks.2.ln_2.bias\n",
      "visual.ln_post.weight\n",
      "visual.ln_post.bias\n",
      "transformer.resblocks.0.attn.in_proj_weight\n",
      "transformer.resblocks.0.attn.in_proj_bias\n",
      "transformer.resblocks.0.attn.out_proj.weight\n",
      "transformer.resblocks.0.attn.out_proj.bias\n",
      "transformer.resblocks.0.ln_1.weight\n",
      "transformer.resblocks.0.ln_1.bias\n",
      "transformer.resblocks.0.mlp.c_fc.weight\n",
      "transformer.resblocks.0.mlp.c_fc.bias\n",
      "transformer.resblocks.0.mlp.c_proj.weight\n",
      "transformer.resblocks.0.mlp.c_proj.bias\n",
      "transformer.resblocks.0.ln_2.weight\n",
      "transformer.resblocks.0.ln_2.bias\n",
      "transformer.resblocks.1.attn.in_proj_weight\n",
      "transformer.resblocks.1.attn.in_proj_bias\n",
      "transformer.resblocks.1.attn.out_proj.weight\n",
      "transformer.resblocks.1.attn.out_proj.bias\n",
      "transformer.resblocks.1.ln_1.weight\n",
      "transformer.resblocks.1.ln_1.bias\n",
      "transformer.resblocks.1.mlp.c_fc.weight\n",
      "transformer.resblocks.1.mlp.c_fc.bias\n",
      "transformer.resblocks.1.mlp.c_proj.weight\n",
      "transformer.resblocks.1.mlp.c_proj.bias\n",
      "transformer.resblocks.1.ln_2.weight\n",
      "transformer.resblocks.1.ln_2.bias\n",
      "transformer.resblocks.2.attn.in_proj_weight\n",
      "transformer.resblocks.2.attn.in_proj_bias\n",
      "transformer.resblocks.2.attn.out_proj.weight\n",
      "transformer.resblocks.2.attn.out_proj.bias\n",
      "transformer.resblocks.2.ln_1.weight\n",
      "transformer.resblocks.2.ln_1.bias\n",
      "transformer.resblocks.2.mlp.c_fc.weight\n",
      "transformer.resblocks.2.mlp.c_fc.bias\n",
      "transformer.resblocks.2.mlp.c_proj.weight\n",
      "transformer.resblocks.2.mlp.c_proj.bias\n",
      "transformer.resblocks.2.ln_2.weight\n",
      "transformer.resblocks.2.ln_2.bias\n",
      "token_embedding.weight\n",
      "ln_final.weight\n",
      "ln_final.bias\n"
     ]
    }
   ],
   "source": [
    "for name, param in model.named_parameters():\n",
    "    print(name)"
   ]
  },
  {
   "cell_type": "code",
   "execution_count": 9,
   "metadata": {},
   "outputs": [],
   "source": [
    "embedded_text = model.encode_text(tokenized_text)"
   ]
  },
  {
   "cell_type": "code",
   "execution_count": 10,
   "metadata": {},
   "outputs": [
    {
     "data": {
      "text/plain": [
       "torch.Size([1, 512])"
      ]
     },
     "execution_count": 10,
     "metadata": {},
     "output_type": "execute_result"
    }
   ],
   "source": [
    "embedded_text.shape"
   ]
  },
  {
   "cell_type": "code",
   "execution_count": null,
   "metadata": {},
   "outputs": [],
   "source": []
  }
 ],
 "metadata": {
  "kernelspec": {
   "display_name": "dgfont-env",
   "language": "python",
   "name": "python3"
  },
  "language_info": {
   "codemirror_mode": {
    "name": "ipython",
    "version": 3
   },
   "file_extension": ".py",
   "mimetype": "text/x-python",
   "name": "python",
   "nbconvert_exporter": "python",
   "pygments_lexer": "ipython3",
   "version": "3.7.16"
  },
  "orig_nbformat": 4
 },
 "nbformat": 4,
 "nbformat_minor": 2
}
