{
 "cells": [
  {
   "cell_type": "code",
   "execution_count": 1,
   "metadata": {
    "ExecuteTime": {
     "end_time": "2023-05-02T11:48:45.735433Z",
     "start_time": "2023-05-02T11:48:45.733283Z"
    },
    "collapsed": true
   },
   "outputs": [],
   "source": [
    "import csv\n",
    "import json\n",
    "import os\n",
    "import random"
   ]
  },
  {
   "cell_type": "code",
   "execution_count": 2,
   "metadata": {
    "ExecuteTime": {
     "end_time": "2023-05-02T11:48:46.219072Z",
     "start_time": "2023-05-02T11:48:46.205943Z"
    },
    "collapsed": false
   },
   "outputs": [],
   "source": [
    "font_dir = '../gwfonts'\n",
    "csv_path = '../attributeData/estimatedAttributes.csv'\n",
    "tmp_font_to_attribute_values = {}\n",
    "\n",
    "with open(csv_path, 'r') as f:\n",
    "    reader = csv.reader(f)\n",
    "    header = next(reader)\n",
    "    attributes = header[1:]\n",
    "    for row in reader:\n",
    "        tmp_font_to_attribute_values[row[0]] = {a: v for a, v in zip(attributes, row[1:])}\n",
    "\n",
    "valid_font_to_attribute_values = {}\n",
    "font_paths = [os.path.join(font_dir, p) for p in os.listdir(font_dir)]\n",
    "for font_path in font_paths:\n",
    "    font_name = os.path.splitext(os.path.basename(font_path))[0]\n",
    "    if font_name in tmp_font_to_attribute_values.keys():\n",
    "        valid_font_to_attribute_values[font_name] = tmp_font_to_attribute_values[font_name]"
   ]
  },
  {
   "cell_type": "code",
   "execution_count": 3,
   "metadata": {
    "ExecuteTime": {
     "end_time": "2023-05-02T11:48:47.459947Z",
     "start_time": "2023-05-02T11:48:47.446283Z"
    },
    "collapsed": false
   },
   "outputs": [],
   "source": [
    "shuffled_font_names = list(valid_font_to_attribute_values.keys())\n",
    "random.seed(123)\n",
    "random.shuffle(shuffled_font_names)"
   ]
  },
  {
   "cell_type": "code",
   "execution_count": 4,
   "metadata": {
    "ExecuteTime": {
     "end_time": "2023-05-02T11:50:27.931609Z",
     "start_time": "2023-05-02T11:50:27.872121Z"
    },
    "collapsed": false
   },
   "outputs": [],
   "source": [
    "all_font_to_attribute_values = {font_name: valid_font_to_attribute_values[font_name] for font_name in shuffled_font_names}\n",
    "train_font_names = shuffled_font_names[:int(len(shuffled_font_names) * 0.80)]\n",
    "# validation_font_names = shuffled_font_names[int(len(shuffled_font_names) * 0.6):int(len(shuffled_font_names) * 0.80)]\n",
    "validation_font_names = shuffled_font_names[int(len(shuffled_font_names) * 0.80):]\n",
    "test_font_names = shuffled_font_names[int(len(shuffled_font_names) * 0.80):]\n",
    "\n",
    "train_font_to_attribute_values = {font_name: all_font_to_attribute_values[font_name] for font_name in train_font_names}\n",
    "validation_font_to_attribute_values = {font_name: all_font_to_attribute_values[font_name] for font_name in validation_font_names}\n",
    "test_font_to_attribute_values = {font_name: all_font_to_attribute_values[font_name] for font_name in test_font_names}"
   ]
  },
  {
   "cell_type": "code",
   "execution_count": 5,
   "metadata": {
    "ExecuteTime": {
     "end_time": "2023-05-02T11:50:36.683999Z",
     "start_time": "2023-05-02T11:50:36.620386Z"
    },
    "collapsed": false
   },
   "outputs": [],
   "source": [
    "#json.dump(all_font_to_attribute_values, open('../attributeData/all_font_to_attribute_values.json', 'w'))\n",
    "json.dump(train_font_to_attribute_values, open('../attributeData/train_font_to_attribute_values_6.json', 'w'))\n",
    "json.dump(validation_font_to_attribute_values, open('../attributeData/validation_font_to_attribute_values_6.json', 'w'))\n",
    "json.dump(test_font_to_attribute_values, open('../attributeData/test_font_to_attribute_values_6.json', 'w'))"
   ]
  },
  {
   "cell_type": "code",
   "execution_count": null,
   "metadata": {},
   "outputs": [],
   "source": []
  },
  {
   "cell_type": "markdown",
   "metadata": {},
   "source": [
    "## split dataset for cross-validation"
   ]
  },
  {
   "cell_type": "code",
   "execution_count": null,
   "metadata": {},
   "outputs": [],
   "source": [
    "split_num = 20\n",
    "all_font_to_attribute_values = {\n",
    "    font_name: valid_font_to_attribute_values[font_name]\n",
    "    for font_name in shuffled_font_names\n",
    "}\n",
    "for i in range(split_num):\n",
    "    test_font_names = shuffled_font_names[\n",
    "        int(len(shuffled_font_names) * i / split_num) : int(\n",
    "            len(shuffled_font_names) * (i + 1) / split_num\n",
    "        )\n",
    "    ]\n",
    "    other_font_names = (\n",
    "        shuffled_font_names[: int(len(shuffled_font_names) * i / split_num)]\n",
    "        + shuffled_font_names[int(len(shuffled_font_names) * (i + 1) / split_num) :]\n",
    "    )\n",
    "    train_font_names = other_font_names\n",
    "    train_font_names = other_font_names[:160]\n",
    "    validation_font_names = other_font_names[160:]\n",
    "    train_font_to_attribute_values = {\n",
    "        font_name: all_font_to_attribute_values[font_name]\n",
    "        for font_name in train_font_names\n",
    "    }\n",
    "    validation_font_to_attribute_values = {\n",
    "        font_name: all_font_to_attribute_values[font_name]\n",
    "        for font_name in validation_font_names\n",
    "    }\n",
    "    test_font_to_attribute_values = {\n",
    "        font_name: all_font_to_attribute_values[font_name]\n",
    "        for font_name in test_font_names\n",
    "    }\n",
    "    json.dump(\n",
    "        train_font_to_attribute_values,\n",
    "        open(\n",
    "            f\"../attributeData/train_font_to_attribute_values_cross_validation_{split_num}_{i}.json\",\n",
    "            \"w\",\n",
    "        ),\n",
    "    )\n",
    "    json.dump(\n",
    "        validation_font_to_attribute_values,\n",
    "        open(\n",
    "            f\"../attributeData/validation_font_to_attribute_values_cross_validation_{split_num}_{i}.json\",\n",
    "            \"w\",\n",
    "        ),\n",
    "    )\n",
    "    json.dump(\n",
    "        test_font_to_attribute_values,\n",
    "        open(\n",
    "            f\"../attributeData/test_font_to_attribute_values_cross_validation_{split_num}_{i}.json\",\n",
    "            \"w\",\n",
    "        ),\n",
    "    )"
   ]
  },
  {
   "cell_type": "code",
   "execution_count": 7,
   "metadata": {},
   "outputs": [],
   "source": [
    "split_num = 5\n",
    "all_font_to_attribute_values = {font_name: valid_font_to_attribute_values[font_name] for font_name in shuffled_font_names}\n",
    "for i in range(split_num):\n",
    "  test_font_names = shuffled_font_names[int(len(shuffled_font_names) * i / split_num):int(len(shuffled_font_names) * (i + 1) / split_num)]\n",
    "  other_font_names = shuffled_font_names[:int(len(shuffled_font_names) * i / split_num)] + shuffled_font_names[int(len(shuffled_font_names) * (i + 1) / split_num):]\n",
    "  train_font_names = other_font_names[:int(len(other_font_names) * 3 / 4)]\n",
    "  validation_font_names = other_font_names[int(len(other_font_names) * 3 / 4):]\n",
    "  train_font_to_attribute_values = {font_name: all_font_to_attribute_values[font_name] for font_name in train_font_names}\n",
    "  validation_font_to_attribute_values = {font_name: all_font_to_attribute_values[font_name] for font_name in validation_font_names}\n",
    "  test_font_to_attribute_values = {font_name: all_font_to_attribute_values[font_name] for font_name in test_font_names}\n",
    "  json.dump(train_font_to_attribute_values, open(f'../attributeData/train_font_to_attribute_values_cross_validation_{split_num}_{i}.json', 'w'))\n",
    "  json.dump(validation_font_to_attribute_values, open(f'../attributeData/validation_font_to_attribute_values_cross_validation_{split_num}_{i}.json', 'w'))\n",
    "  json.dump(test_font_to_attribute_values, open(f'../attributeData/test_font_to_attribute_values_cross_validation_{split_num}_{i}.json', 'w'))"
   ]
  },
  {
   "cell_type": "code",
   "execution_count": 1,
   "metadata": {
    "collapsed": false
   },
   "outputs": [
    {
     "ename": "NameError",
     "evalue": "name 'shuffled_font_names' is not defined",
     "output_type": "error",
     "traceback": [
      "\u001b[0;31m---------------------------------------------------------------------------\u001b[0m",
      "\u001b[0;31mNameError\u001b[0m                                 Traceback (most recent call last)",
      "\u001b[0;32m/tmp/ipykernel_6576/4056893445.py\u001b[0m in \u001b[0;36m<module>\u001b[0;34m\u001b[0m\n\u001b[1;32m      1\u001b[0m \u001b[0msplit_num\u001b[0m \u001b[0;34m=\u001b[0m \u001b[0;36m40\u001b[0m\u001b[0;34m\u001b[0m\u001b[0;34m\u001b[0m\u001b[0m\n\u001b[0;32m----> 2\u001b[0;31m \u001b[0mall_font_to_attribute_values\u001b[0m \u001b[0;34m=\u001b[0m \u001b[0;34m{\u001b[0m\u001b[0mfont_name\u001b[0m\u001b[0;34m:\u001b[0m \u001b[0mvalid_font_to_attribute_values\u001b[0m\u001b[0;34m[\u001b[0m\u001b[0mfont_name\u001b[0m\u001b[0;34m]\u001b[0m \u001b[0;32mfor\u001b[0m \u001b[0mfont_name\u001b[0m \u001b[0;32min\u001b[0m \u001b[0mshuffled_font_names\u001b[0m\u001b[0;34m}\u001b[0m\u001b[0;34m\u001b[0m\u001b[0;34m\u001b[0m\u001b[0m\n\u001b[0m\u001b[1;32m      3\u001b[0m \u001b[0;32mfor\u001b[0m \u001b[0mi\u001b[0m \u001b[0;32min\u001b[0m \u001b[0mrange\u001b[0m\u001b[0;34m(\u001b[0m\u001b[0msplit_num\u001b[0m\u001b[0;34m)\u001b[0m\u001b[0;34m:\u001b[0m\u001b[0;34m\u001b[0m\u001b[0;34m\u001b[0m\u001b[0m\n\u001b[1;32m      4\u001b[0m   \u001b[0mtest_font_names\u001b[0m \u001b[0;34m=\u001b[0m \u001b[0mshuffled_font_names\u001b[0m\u001b[0;34m[\u001b[0m\u001b[0mint\u001b[0m\u001b[0;34m(\u001b[0m\u001b[0mlen\u001b[0m\u001b[0;34m(\u001b[0m\u001b[0mshuffled_font_names\u001b[0m\u001b[0;34m)\u001b[0m \u001b[0;34m*\u001b[0m \u001b[0mi\u001b[0m \u001b[0;34m/\u001b[0m \u001b[0msplit_num\u001b[0m\u001b[0;34m)\u001b[0m\u001b[0;34m:\u001b[0m\u001b[0mint\u001b[0m\u001b[0;34m(\u001b[0m\u001b[0mlen\u001b[0m\u001b[0;34m(\u001b[0m\u001b[0mshuffled_font_names\u001b[0m\u001b[0;34m)\u001b[0m \u001b[0;34m*\u001b[0m \u001b[0;34m(\u001b[0m\u001b[0mi\u001b[0m \u001b[0;34m+\u001b[0m \u001b[0;36m1\u001b[0m\u001b[0;34m)\u001b[0m \u001b[0;34m/\u001b[0m \u001b[0msplit_num\u001b[0m\u001b[0;34m)\u001b[0m\u001b[0;34m]\u001b[0m\u001b[0;34m\u001b[0m\u001b[0;34m\u001b[0m\u001b[0m\n\u001b[1;32m      5\u001b[0m   \u001b[0mother_font_names\u001b[0m \u001b[0;34m=\u001b[0m \u001b[0mshuffled_font_names\u001b[0m\u001b[0;34m[\u001b[0m\u001b[0;34m:\u001b[0m\u001b[0mint\u001b[0m\u001b[0;34m(\u001b[0m\u001b[0mlen\u001b[0m\u001b[0;34m(\u001b[0m\u001b[0mshuffled_font_names\u001b[0m\u001b[0;34m)\u001b[0m \u001b[0;34m*\u001b[0m \u001b[0mi\u001b[0m \u001b[0;34m/\u001b[0m \u001b[0msplit_num\u001b[0m\u001b[0;34m)\u001b[0m\u001b[0;34m]\u001b[0m \u001b[0;34m+\u001b[0m \u001b[0mshuffled_font_names\u001b[0m\u001b[0;34m[\u001b[0m\u001b[0mint\u001b[0m\u001b[0;34m(\u001b[0m\u001b[0mlen\u001b[0m\u001b[0;34m(\u001b[0m\u001b[0mshuffled_font_names\u001b[0m\u001b[0;34m)\u001b[0m \u001b[0;34m*\u001b[0m \u001b[0;34m(\u001b[0m\u001b[0mi\u001b[0m \u001b[0;34m+\u001b[0m \u001b[0;36m1\u001b[0m\u001b[0;34m)\u001b[0m \u001b[0;34m/\u001b[0m \u001b[0msplit_num\u001b[0m\u001b[0;34m)\u001b[0m\u001b[0;34m:\u001b[0m\u001b[0;34m]\u001b[0m\u001b[0;34m\u001b[0m\u001b[0;34m\u001b[0m\u001b[0m\n",
      "\u001b[0;31mNameError\u001b[0m: name 'shuffled_font_names' is not defined"
     ]
    }
   ],
   "source": [
    "split_num = 40\n",
    "all_font_to_attribute_values = {font_name: valid_font_to_attribute_values[font_name] for font_name in shuffled_font_names}\n",
    "for i in range(split_num):\n",
    "  test_font_names = shuffled_font_names[int(len(shuffled_font_names) * i / split_num):int(len(shuffled_font_names) * (i + 1) / split_num)]\n",
    "  other_font_names = shuffled_font_names[:int(len(shuffled_font_names) * i / split_num)] + shuffled_font_names[int(len(shuffled_font_names) * (i + 1) / split_num):]\n",
    "  # split other_font_names into train and validation (5:1)\n",
    "  # train_font_names = other_font_names[:int(len(other_font_names) * 5 / 6)]\n",
    "  train_font_names = other_font_names\n",
    "  train_font_names = other_font_names[:150]\n",
    "  validation_font_names = other_font_names[150:]\n",
    "  train_font_to_attribute_values = {font_name: all_font_to_attribute_values[font_name] for font_name in train_font_names}\n",
    "  validation_font_to_attribute_values = {font_name: all_font_to_attribute_values[font_name] for font_name in validation_font_names}\n",
    "  test_font_to_attribute_values = {font_name: all_font_to_attribute_values[font_name] for font_name in test_font_names}\n",
    "  json.dump(train_font_to_attribute_values, open(f'../attributeData/train_font_to_attribute_values_cross_validation_{split_num}_{i}.json', 'w'))\n",
    "  json.dump(validation_font_to_attribute_values, open(f'../attributeData/validation_font_to_attribute_values_cross_validation_{split_num}_{i}.json', 'w'))\n",
    "  json.dump(test_font_to_attribute_values, open(f'../attributeData/test_font_to_attribute_values_cross_validation_{split_num}_{i}.json', 'w'))"
   ]
  },
  {
   "cell_type": "code",
   "execution_count": 8,
   "metadata": {},
   "outputs": [
    {
     "name": "stdout",
     "output_type": "stream",
     "text": [
      "120 40 40\n"
     ]
    }
   ],
   "source": [
    "train_font_to_attribute_values = json.load(open('../attributeData/train_font_to_attribute_values_cross_validation_5_0.json', 'r'))\n",
    "validation_font_to_attribute_values = json.load(open('../attributeData/validation_font_to_attribute_values_cross_validation_5_0.json', 'r'))\n",
    "test_font_to_attribute_values = json.load(open('../attributeData/test_font_to_attribute_values_cross_validation_5_0.json', 'r'))\n",
    "print(len(train_font_to_attribute_values), len(validation_font_to_attribute_values), len(test_font_to_attribute_values))"
   ]
  },
  {
   "cell_type": "code",
   "execution_count": null,
   "metadata": {},
   "outputs": [],
   "source": []
  }
 ],
 "metadata": {
  "kernelspec": {
   "display_name": "Python 3",
   "language": "python",
   "name": "python3"
  },
  "language_info": {
   "codemirror_mode": {
    "name": "ipython",
    "version": 3
   },
   "file_extension": ".py",
   "mimetype": "text/x-python",
   "name": "python",
   "nbconvert_exporter": "python",
   "pygments_lexer": "ipython3",
   "version": "3.7.16"
  }
 },
 "nbformat": 4,
 "nbformat_minor": 0
}
