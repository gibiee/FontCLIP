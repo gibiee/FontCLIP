{
 "cells": [
  {
   "cell_type": "code",
   "execution_count": 1,
   "metadata": {
    "ExecuteTime": {
     "end_time": "2023-04-29T19:26:33.721751Z",
     "start_time": "2023-04-29T19:26:29.217759Z"
    },
    "collapsed": true
   },
   "outputs": [
    {
     "name": "stdout",
     "output_type": "stream",
     "text": [
      "exclusive_attributes:  ['capitals', 'cursive', 'display', 'italic', 'monospace', 'serif']\n"
     ]
    }
   ],
   "source": [
    "import numpy as np\n",
    "import torch\n",
    "import torch.nn as nn\n",
    "from torch.utils.data import Dataset, DataLoader\n",
    "import torch.optim as optim\n",
    "from PIL import Image, ImageDraw, ImageFont\n",
    "import json\n",
    "import random\n",
    "import gradio as gr\n",
    "import queue\n",
    "\n",
    "import clip\n",
    "import os\n",
    "from tqdm import tqdm\n",
    "from utils.init_model import model, preprocess, load_model, device\n",
    "from utils.transform_image import draw_text_with_new_lines\n",
    "from dataset.dataset import all_attributes\n",
    "from utils.initialize_font_data import retrieve_font_path, gray_scale_image_file_dir\n",
    "from evals.evaluate_tools import predict_cos_sim\n",
    "\n",
    "from cj_fonts import inclusive_fonts, fifty_fonts\n",
    "from IPython.display import display\n",
    "import matplotlib.pyplot as plt\n",
    "import matplotlib as mpl\n",
    "import matplotlib.font_manager as font_manager\n",
    "\n",
    "from torchvision.transforms.functional import pil_to_tensor, to_pil_image"
   ]
  },
  {
   "cell_type": "code",
   "execution_count": 2,
   "metadata": {
    "ExecuteTime": {
     "end_time": "2023-04-29T19:26:33.840517Z",
     "start_time": "2023-04-29T19:26:33.723858Z"
    },
    "collapsed": false
   },
   "outputs": [],
   "source": [
    "char_size = 150\n",
    "font_dir = '../gwfonts'\n",
    "cj_font_dir = '../all-fonts'\n",
    "annotation_dir = '../attributeData/outputs'\n",
    "fox_text = 'The quick\\nbrown fox\\njumps over\\nthe lazy dog'\n",
    "font_paths = [os.path.join(font_dir, f) for f in os.listdir(font_dir)]\n",
    "cj_font_paths = [os.path.join(cj_font_dir, f) for f in os.listdir(cj_font_dir)]\n",
    "\n",
    "# add font\n",
    "for font in font_manager.findSystemFonts(font_dir):\n",
    "    font_manager.fontManager.addfont(font)\n",
    "\n",
    "for font in font_manager.findSystemFonts(cj_font_dir):\n",
    "    font_manager.fontManager.addfont(font)\n",
    "\n",
    "ttf_list = font_manager.fontManager.ttflist\n",
    "\n",
    "predicted_attributes = json.load(open('../attributeData/predicted_cj_font_attribute.json', 'r'))\n",
    "attribute_to_indexes = {attribute: all_attributes.index(attribute) for attribute in all_attributes}\n",
    "\n",
    "def compare_two_annotations(name1, name2, target_attribute, font_num=50):\n",
    "    target_attribute = target_attribute.replace(' ', '_')\n",
    "    annotation1 = json.load(open(os.path.join(annotation_dir, f'{name1}-{target_attribute}-{font_num}.json'), 'r'))\n",
    "    annotation2 = json.load(open(os.path.join(annotation_dir, f'{name2}-{target_attribute}-{font_num}.json'), 'r'))\n",
    "    correct_count = 0\n",
    "    for (font1, font2, attribute, choice1), (font3, font4, attribute2, choice2) in zip(annotation1, annotation2):\n",
    "        if not ((font1 == font3) and (font2 == font4) and (attribute == attribute2)):\n",
    "            raise ValueError('annotation not match')\n",
    "        if choice1 == choice2:\n",
    "            correct_count += 1\n",
    "    print(correct_count / len(annotation1))\n",
    "\n",
    "def compare_with_clip(name, model, text, target_attribute, font_num=50):\n",
    "    target_attribute_file_name = target_attribute.replace(' ', '_')\n",
    "    annotation = json.load(open(os.path.join(annotation_dir, f'{name}-{target_attribute_file_name}-{font_num}.json'), 'r'))\n",
    "    correct_count = 0\n",
    "    for i, (font1, font2, attribute, choice) in enumerate(annotation):\n",
    "        font_path1 = retrieve_font_path(font1)\n",
    "        font_path2 = retrieve_font_path(font2)\n",
    "        font1 = ImageFont.truetype(font_path1, char_size)\n",
    "        font2 = ImageFont.truetype(font_path2, char_size)\n",
    "        cos1, image1 = predict_cos_sim(font1, attribute, model=model, text=text)\n",
    "        cos2, image2 = predict_cos_sim(font2, attribute, model=model, text=text)\n",
    "        if choice == 'Font A':\n",
    "            if cos1 >= cos2:\n",
    "                correct_count += 1\n",
    "        elif choice == 'Font B':\n",
    "            if cos1 <= cos2:\n",
    "                correct_count += 1\n",
    "        else:\n",
    "            raise ValueError('invalid choice')\n",
    "    return correct_count / len(annotation)"
   ]
  },
  {
   "cell_type": "code",
   "execution_count": 25,
   "metadata": {
    "ExecuteTime": {
     "end_time": "2023-04-29T19:26:43.482223Z",
     "start_time": "2023-04-29T19:26:43.182261Z"
    },
    "collapsed": false
   },
   "outputs": [],
   "source": [
    "checkpoint_path = 'model_checkpoints/new_best_fox_negative_91011_1011_use_weight_image_file_dir_ex.pt'\n",
    "checkpoint_path = 'model_checkpoints/best_ViT-B_32_cnn_based_vae_loss_weight_3.0_vae_loss_kl_weight0.001_res_64_9101191011_batch64_aug200_lower_bound_of_scale0.35_use_negative_lr1e-05-0.1.pt'\n",
    "#checkpoint_path = 'model_checkpoints/67891011_891011_multiple_3_1000_image_file_dir_aug_ex.pt'\n",
    "#checkpoint_path = 'model_checkpoints/new_best_fox_negative_91011_91011_multiple_3_1000_aug_ex.pt'\n",
    "# checkpoint_path = None\n",
    "\n",
    "model = load_model(model, checkpoint_path)"
   ]
  },
  {
   "cell_type": "code",
   "execution_count": 26,
   "metadata": {
    "ExecuteTime": {
     "end_time": "2023-04-26T16:01:25.533215Z",
     "start_time": "2023-04-26T16:01:24.106121Z"
    },
    "collapsed": false
   },
   "outputs": [
    {
     "data": {
      "text/plain": [
       "0.5490196078431373"
      ]
     },
     "execution_count": 26,
     "metadata": {},
     "output_type": "execute_result"
    }
   ],
   "source": [
    "text = '春夏\\n秋冬'\n",
    "name = 'Akihiro_Kiuchi'\n",
    "target_attribute = 'robust'\n",
    "compare_with_clip(name, model, text, target_attribute)"
   ]
  },
  {
   "cell_type": "code",
   "execution_count": 23,
   "metadata": {},
   "outputs": [
    {
     "name": "stdout",
     "output_type": "stream",
     "text": [
      "thin 0.7866666666666667\n",
      "calm 0.5098039215686274\n",
      "sloppy 0.522875816993464\n",
      "sharp 0.6993464052287582\n",
      "technical 0.6862745098039215\n",
      "traditional 0.6274509803921569\n",
      "Japanese style 0.6339869281045751\n",
      "robust 0.6732026143790849\n"
     ]
    }
   ],
   "source": [
    "names = ['Akihiro_Kiuchi', 'TakahiroHosokawa', 'SodaiFuruoka']\n",
    "attributes = ['thin', 'calm', 'sloppy', 'sharp', 'technical', 'traditional', 'Japanese style', 'robust']\n",
    "\n",
    "for attribute in attributes:\n",
    "    s = 0\n",
    "    for name in names:\n",
    "        tmp_result = compare_with_clip(name, model, text, attribute)\n",
    "        #print(name, attribute, tmp_result)\n",
    "        s += tmp_result\n",
    "    print(attribute, s / len(names))"
   ]
  },
  {
   "cell_type": "code",
   "execution_count": 28,
   "metadata": {},
   "outputs": [
    {
     "name": "stdout",
     "output_type": "stream",
     "text": [
      "traditional 0.6339869281045752\n",
      "Japanese style 0.6143790849673203\n",
      "robust 0.5555555555555556\n",
      "0.6013071895424836\n"
     ]
    }
   ],
   "source": [
    "names = ['Akihiro_Kiuchi', 'TakahiroHosokawa', 'SodaiFuruoka']\n",
    "attributes = ['thin', 'calm', 'sloppy', 'sharp', 'technical', 'traditional', 'Japanese style', 'robust']\n",
    "attributes = ['thin', 'calm', 'sloppy', 'sharp', 'technical']\n",
    "attributes = ['traditional', 'Japanese style', 'robust']\n",
    "\n",
    "s = 0\n",
    "for attribute in attributes:\n",
    "    tmp_s = 0\n",
    "    for name in names:\n",
    "        tmp_result = compare_with_clip(name, model, text, attribute)\n",
    "        #print(name, attribute, tmp_result)\n",
    "        tmp_s += tmp_result\n",
    "    print(attribute, tmp_s / len(names))\n",
    "    s += tmp_s / len(names)\n",
    "print(s / len(attributes))"
   ]
  },
  {
   "cell_type": "code",
   "execution_count": 28,
   "metadata": {
    "ExecuteTime": {
     "end_time": "2023-04-19T14:51:13.722934Z",
     "start_time": "2023-04-19T14:51:13.715516Z"
    },
    "collapsed": false
   },
   "outputs": [],
   "source": [
    "def choose_font_pairs_same_apper_times_with_queue(font_paths, appear_times=8, target_font_num=50):\n",
    "    sorted_font_paths = sorted(font_paths)\n",
    "\n",
    "    random.seed(123)\n",
    "    random.shuffle(sorted_font_paths)\n",
    "    font_paths = sorted_font_paths[:target_font_num] * appear_times\n",
    "\n",
    "    font_paths_queue = queue.Queue()\n",
    "    for font_path in font_paths:\n",
    "        font_paths_queue.put(font_path)\n",
    "    flag = False\n",
    "    count = 0\n",
    "    # extract two font paths from font_paths_queue\n",
    "    while True:\n",
    "        if font_paths_queue.qsize() < 2:\n",
    "            break\n",
    "        if count > 1000:\n",
    "            break\n",
    "\n",
    "        font_path2 = font_paths_queue.get()\n",
    "        if not flag:\n",
    "            font_path1 = font_paths_queue.get()\n",
    "        flag = False\n",
    "        if font_path1 != font_path2:\n",
    "            print(font_path1, font_path2)\n",
    "            yield font_path1, font_path2\n",
    "        else:\n",
    "            count += 1\n",
    "            font_paths_queue.put(font_path2)\n",
    "            flag = True"
   ]
  },
  {
   "cell_type": "code",
   "execution_count": 34,
   "metadata": {
    "ExecuteTime": {
     "end_time": "2023-04-20T13:51:06.415482Z",
     "start_time": "2023-04-19T14:51:14.230718Z"
    },
    "collapsed": false
   },
   "outputs": [
    {
     "name": "stdout",
     "output_type": "stream",
     "text": [
      "Running on local URL:  http://127.0.0.1:7860\n",
      "\n",
      "To create a public link, set `share=True` in `launch()`.\n"
     ]
    },
    {
     "data": {
      "text/html": [
       "<div><iframe src=\"http://127.0.0.1:7860/\" width=\"100%\" height=\"500\" allow=\"autoplay; camera; microphone; clipboard-read; clipboard-write;\" frameborder=\"0\" allowfullscreen></iframe></div>"
      ],
      "text/plain": [
       "<IPython.core.display.HTML object>"
      ]
     },
     "metadata": {},
     "output_type": "display_data"
    },
    {
     "name": "stdout",
     "output_type": "stream",
     "text": [
      "Keyboard interruption in main thread... closing server.\n"
     ]
    },
    {
     "data": {
      "text/plain": []
     },
     "execution_count": 34,
     "metadata": {},
     "output_type": "execute_result"
    }
   ],
   "source": [
    "count = 0\n",
    "target_attribute = 'thin'\n",
    "text = '春夏秋冬\\n朝昼晩'\n",
    "text = '春夏\\n秋冬'\n",
    "user_name = 'Yuki_Tatsukawa'\n",
    "font_num = 50\n",
    "annotation = json.load(open(os.path.join(annotation_dir, f'{user_name}-{target_attribute}-{font_num}.json'), 'r'))\n",
    "\n",
    "default_font1 = ImageFont.truetype(retrieve_font_path(annotation[0][0]), char_size)\n",
    "default_font2 = ImageFont.truetype(retrieve_font_path(annotation[0][1]), char_size)\n",
    "default_human_choice = annotation[0][3]\n",
    "default_width = int(char_size * len(text) / (text.count('\\n') + 1))\n",
    "default_height = (char_size + 30) * (text.count('\\n') + 1)\n",
    "cos1, image1 = predict_cos_sim(default_font1, target_attribute, text=fox_text)\n",
    "cos2, image2 = predict_cos_sim(default_font2, target_attribute, text=fox_text)\n",
    "clip_prediction = 'Font A' if cos1 >= cos2 else 'Font B'\n",
    "\n",
    "def builder():\n",
    "    global count\n",
    "    assert count < len(annotation)\n",
    "    font1 = ImageFont.truetype(retrieve_font_path(annotation[count][0]), char_size)\n",
    "    font2 = ImageFont.truetype(retrieve_font_path(annotation[count][1]), char_size)\n",
    "    cos1, image1 = predict_cos_sim(font1, target_attribute, text=fox_text)\n",
    "    cos2, image2 = predict_cos_sim(font2, target_attribute, text=fox_text)\n",
    "    clip_prediction = 'Font A' if cos1 >= cos2 else 'Font B'\n",
    "    cj_image1 = draw_text_with_new_lines(text, font1, default_width, default_height)\n",
    "    cj_image2 = draw_text_with_new_lines(text, font2, default_width, default_height)\n",
    "    human_choice = annotation[count][3]\n",
    "    count += 1\n",
    "    return cj_image1, cj_image2, human_choice, clip_prediction\n",
    "\n",
    "with gr.Blocks() as demo:\n",
    "\n",
    "    with gr.Row():\n",
    "        name = gr.Text(value=user_name, label='Name', interactive=True)\n",
    "    with gr.Row():\n",
    "        image1 = gr.Image(value=draw_text_with_new_lines(text, default_font1, default_width, default_height), label='Font A', interactive=False)\n",
    "        image2 = gr.Image(value=draw_text_with_new_lines(text, default_font2, default_width, default_height), label='Font B', interactive=False)\n",
    "\n",
    "    with gr.Row():\n",
    "        #target_attribute_text = gr.Text(value=target_attribute, label='Target Attribute', interactive=False, visible=False)\n",
    "        #attribute_markdown = gr.Markdown(value=f'<div style=\"font-size: 50px; text-align: center\">Which font is more {target_attribute}?</div>', label='Target Attribute', interactive=False)\n",
    "        attribute_markdown = gr.Text(value=f'{target_attribute}', label='Target Attribute', interactive=False)\n",
    "        #target_attribute = gr.Text(value=choose_random_target_attribute(target_attributes), label='Target Attribute', interactive=False)\n",
    "\n",
    "    with gr.Row():\n",
    "        check1 = gr.Radio(choices=['Font A', 'Font B'], value = default_human_choice, label=f'Chosen by user', interactive=False)\n",
    "        check2 = gr.Radio(choices=['Font A', 'Font B'], value = clip_prediction, label=f'Chosen by CLIP', interactive=False)\n",
    "\n",
    "    with gr.Row():\n",
    "        next_button  = gr.Button(value='Next', interactive=True)\n",
    "        #next_button.click(builder, inputs=[check, target_attribute], outputs=[target_attribute, image1, image2])\n",
    "    next_button.click(builder, inputs=[], outputs=[image1, image2, check1, check2], show_progress=False)\n",
    "\n",
    "demo.launch(debug=True, share=False)\n",
    "\n"
   ]
  },
  {
   "cell_type": "code",
   "execution_count": 31,
   "metadata": {},
   "outputs": [
    {
     "data": {
      "text/plain": [
       "[['JP_Ronde-B_square', 'SanariFontB001', 'thin', 'Font B'],\n",
       " ['ZenOldMincho-Black', 'HanyiSentyPastel', 'thin', 'Font A'],\n",
       " ['crayon_1-1', 'SentyCaramel', 'thin', 'Font B'],\n",
       " ['kiloji_d', 'irohamaru-Medium', 'thin', 'Font A'],\n",
       " ['Tanugo-TTF-Regular', 'YuseiMagic-Regular', 'thin', 'Font A'],\n",
       " ['chogokubosogothic_5', 'g_pencilkaisho_free', 'thin', 'Font A'],\n",
       " ['HanyiSentyPastel', 'ゆず ポップ A [M] Light', 'thin', 'Font B'],\n",
       " ['HachiMaruPop-Regular', 'crayon_1-1', 'thin', 'Font A'],\n",
       " ['KFhimaji', 'Corporate-Logo-Medium-ver3', 'thin', 'Font B'],\n",
       " ['kiloji_d', 'Kazesawa-ExtraLight', 'thin', 'Font B'],\n",
       " ['Corporate-Logo-Medium-ver3', 'chinese-handwriting-style', 'thin', 'Font B'],\n",
       " ['SentyGoldSand', 'Chalk-S-JP', 'thin', 'Font B'],\n",
       " ['g_comickoin_freeL', '35', 'thin', 'Font A'],\n",
       " ['g_comickoin_freeB', 'ZCOOLXiaoWei-Regular', 'thin', 'Font B'],\n",
       " ['KodomoRounded', 'M+A1_heavy-10-1.2', 'thin', 'Font A'],\n",
       " ['NasuM-Bold-20200227', 'SentyGoldSand', 'thin', 'Font A'],\n",
       " ['JP_Ronde-B_square', 'ロゴたいぷゴシック', 'thin', 'Font B'],\n",
       " ['ZCOOLXiaoWei-Regular', 'NewTegomin-Regular', 'thin', 'Font B'],\n",
       " ['NasuM-Bold-20200227', 'mellehks', 'thin', 'Font A'],\n",
       " ['Senobi-Gothic-Bold', '001Shirokuma-Regular', 'thin', 'Font A'],\n",
       " ['MWindyHK-Bold', 'irohamaru-mikami-Light', 'thin', 'Font B'],\n",
       " ['SentyCaramel', 'chinese-handwriting-style', 'thin', 'Font A'],\n",
       " ['LXGWWenKai-Light', 'JP_ReggaeOne-Regular', 'thin', 'Font A'],\n",
       " ['myoungheihks', '35', 'thin', 'Font B'],\n",
       " ['g_comickoin_freeB', 'g_pencilkaisho_free', 'thin', 'Font B'],\n",
       " ['ゆず ポップ A [M] Light', 'hanyishengong-simplified', 'thin', 'Font A'],\n",
       " ['Kazesawa-ExtraLight', 'Hosohuwafont', 'thin', 'Font A'],\n",
       " ['NewTegomin-Regular', 'azukiLB', 'thin', 'Font A'],\n",
       " ['KFhimaji', 'yutaCo2_p_Regular_OT_100', 'thin', 'Font B'],\n",
       " ['mgentle-hks', 'zhs-caonima-ti', 'thin', 'Font B'],\n",
       " ['Senobi-Gothic-Bold', 'ちはや純', 'thin', 'Font B'],\n",
       " ['mgentle-hks', 'SourceHanSerif-Bold', 'thin', 'Font B'],\n",
       " ['851CHIKARA-DZUYOKU_kanaA_004', 'myoungheihks', 'thin', 'Font A'],\n",
       " ['001Shirokuma-Regular', 'M+A1_heavy-10-1.2', 'thin', 'Font A'],\n",
       " ['SanariFontB001', 'ZenOldMincho-Medium', 'thin', 'Font A'],\n",
       " ['851CHIKARA-DZUYOKU_kanaA_004', 'Tanugo-TTF-Round-Bold', 'thin', 'Font B'],\n",
       " ['Hosohuwafont', 'g_comickoin_freeL', 'thin', 'Font B'],\n",
       " ['Chalk-S-JP', 'Tanugo-TTF-Regular', 'thin', 'Font B'],\n",
       " ['HanyiSentySpringBrush', 'SourceHanSerif-Bold', 'thin', 'Font A'],\n",
       " ['ZenOldMincho-Black', 'yutaCo2_p_Regular_OT_100', 'thin', 'Font B'],\n",
       " ['azukiLB', 'chogokubosogothic_5', 'thin', 'Font B'],\n",
       " ['ちはや純', 'MWindyHK-Bold', 'thin', 'Font A'],\n",
       " ['LXGWWenKai-Light', 'mellehks', 'thin', 'Font A'],\n",
       " ['FZ-black', 'ロゴたいぷゴシック', 'thin', 'Font B'],\n",
       " ['JP_ReggaeOne-Regular', 'YuseiMagic-Regular', 'thin', 'Font B'],\n",
       " ['hanyishengong-simplified', 'HachiMaruPop-Regular', 'thin', 'Font B'],\n",
       " ['zhs-caonima-ti', 'ZenOldMincho-Medium', 'thin', 'Font B'],\n",
       " ['Tanugo-TTF-Round-Bold', 'KodomoRounded', 'thin', 'Font A'],\n",
       " ['irohamaru-mikami-Light', 'irohamaru-Medium', 'thin', 'Font A'],\n",
       " ['FZ-black', 'HanyiSentySpringBrush', 'thin', 'Font B']]"
      ]
     },
     "execution_count": 31,
     "metadata": {},
     "output_type": "execute_result"
    }
   ],
   "source": [
    "annotation"
   ]
  },
  {
   "cell_type": "code",
   "execution_count": null,
   "metadata": {
    "collapsed": false
   },
   "outputs": [],
   "source": []
  }
 ],
 "metadata": {
  "kernelspec": {
   "display_name": "Python 3",
   "language": "python",
   "name": "python3"
  },
  "language_info": {
   "codemirror_mode": {
    "name": "ipython",
    "version": 3
   },
   "file_extension": ".py",
   "mimetype": "text/x-python",
   "name": "python",
   "nbconvert_exporter": "python",
   "pygments_lexer": "ipython3",
   "version": "3.7.16"
  }
 },
 "nbformat": 4,
 "nbformat_minor": 0
}
