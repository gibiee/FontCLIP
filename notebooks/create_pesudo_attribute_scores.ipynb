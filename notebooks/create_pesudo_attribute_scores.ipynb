{
 "cells": [
  {
   "cell_type": "code",
   "execution_count": 1,
   "metadata": {},
   "outputs": [
    {
     "name": "stdout",
     "output_type": "stream",
     "text": [
      "exclusive_attributes:  []\n"
     ]
    }
   ],
   "source": [
    "import os\n",
    "import json\n",
    "from copy import copy\n",
    "from collections import defaultdict\n",
    "\n",
    "from utils.initialize_font_data import all_font_names as labeled_font_names, all_json"
   ]
  },
  {
   "cell_type": "code",
   "execution_count": 2,
   "metadata": {},
   "outputs": [
    {
     "name": "stdout",
     "output_type": "stream",
     "text": [
      "labaled fonts num:  200\n",
      "unlabaled fonts num:  969\n",
      "all fonts num:  1169\n"
     ]
    }
   ],
   "source": [
    "all_font_names = [os.path.splitext(basename)[0]\n",
    "                  for basename in os.listdir('../gwfonts')]\n",
    "unlabeled_font_names = list(set(all_font_names) - set(labeled_font_names))\n",
    "labeled_font_names = sorted(labeled_font_names)\n",
    "unlabeled_font_names = sorted(unlabeled_font_names)\n",
    "assert len(labeled_font_names) + \\\n",
    "    len(unlabeled_font_names) == len(all_font_names)\n",
    "print('labaled fonts num: ', len(labeled_font_names))\n",
    "print('unlabaled fonts num: ', len(all_font_names) - len(labeled_font_names))\n",
    "print('all fonts num: ', len(all_font_names))"
   ]
  },
  {
   "cell_type": "markdown",
   "metadata": {},
   "source": [
    "# Compare two fonts attribtues"
   ]
  },
  {
   "cell_type": "code",
   "execution_count": 3,
   "metadata": {},
   "outputs": [
    {
     "name": "stdout",
     "output_type": "stream",
     "text": [
      "angular: 52.05, 63.65\n",
      "artistic: 35.44, 53.7\n",
      "attention-grabbing: 43.08, 46.23\n",
      "attractive: 59.94, 78.17\n",
      "bad: 21.16, 12.43\n",
      "boring: 29.89, 22.43\n",
      "calm: 86.25, 86.38\n",
      "capitals: 0, 0\n",
      "charming: 68, 88.21\n",
      "clumsy: 22.8, 25.08\n",
      "complex: 27.33, 32.15\n",
      "cursive: 4.35, 4.51\n",
      "delicate: 50.17, 59.06\n",
      "disorderly: 26.25, 27.78\n",
      "display: 64.85, 72.58\n",
      "dramatic: 44.57, 56.21\n",
      "formal: 70.85, 74.91\n",
      "fresh: 90.16, 96.76\n",
      "friendly: 86.26, 90.08\n",
      "gentle: 93.2, 99.27\n",
      "graceful: 81.12, 82.7\n",
      "happy: 55.82, 63.75\n",
      "italic: 91.55, 91.16\n",
      "legible: 74.33, 89.36\n",
      "modern: 42.07, 72.12\n",
      "monospace: 0, 0\n",
      "playful: 51.55, 53.89\n",
      "pretentious: 38.26, 37.52\n",
      "serif: 9.73, 84.6\n",
      "sharp: 75.47, 77.29\n",
      "sloppy: 49.83, 52.73\n",
      "soft: 85.88, 86.15\n",
      "strong: 50.94, 50.43\n",
      "technical: 56.87, 60.73\n",
      "thin: 61.28, 55.27\n",
      "warm: 67.11, 78.5\n",
      "wide: 43.96, 44.61\n"
     ]
    }
   ],
   "source": [
    "for font1, font2 in zip(\n",
    "    all_json[\"AveriaSansLibre-Italic\"].items(),\n",
    "    all_json[\"AveriaSerifLibre-Italic\"].items(),\n",
    "):\n",
    "    print(f\"{font1[0]}: {font1[1]}, {font2[1]}\")"
   ]
  },
  {
   "cell_type": "markdown",
   "metadata": {},
   "source": [
    "# Define font families in labaled fonts"
   ]
  },
  {
   "cell_type": "code",
   "execution_count": 4,
   "metadata": {},
   "outputs": [],
   "source": [
    "font_variables = [\n",
    "    'Bold',\n",
    "    'Black',\n",
    "    'Italic',\n",
    "    'Medium',\n",
    "    'Regular',\n",
    "    'Semi',\n",
    "    'Thin',\n",
    "    'Extra',\n",
    "]\n",
    "def extract_font_family(font_name, font_variables=font_variables):\n",
    "    for variable in font_variables:\n",
    "        font_name = font_name.replace(variable, '')\n",
    "    family_name = font_name.split('-')[0]\n",
    "    return family_name\n",
    "    \n",
    "def search_fonts_with_font_family(family_name, font_names):\n",
    "    result = []\n",
    "    for font_name in font_names:\n",
    "        tmp_font_family = extract_font_family(font_name)\n",
    "        if tmp_font_family == family_name:\n",
    "            result.append(font_name)\n",
    "    return result"
   ]
  },
  {
   "cell_type": "code",
   "execution_count": 5,
   "metadata": {},
   "outputs": [
    {
     "data": {
      "text/plain": [
       "['Alegreya-Black',\n",
       " 'Alegreya-BlackItalic',\n",
       " 'Alegreya-Bold',\n",
       " 'Alegreya-Italic',\n",
       " 'Alegreya-Regular']"
      ]
     },
     "execution_count": 5,
     "metadata": {},
     "output_type": "execute_result"
    }
   ],
   "source": [
    "family_name = \"Alegreya\"\n",
    "search_fonts_with_font_family(family_name, unlabeled_font_names)"
   ]
  },
  {
   "cell_type": "code",
   "execution_count": 7,
   "metadata": {},
   "outputs": [
    {
     "ename": "NameError",
     "evalue": "name 'defaultdict' is not defined",
     "output_type": "error",
     "traceback": [
      "\u001b[0;31m---------------------------------------------------------------------------\u001b[0m",
      "\u001b[0;31mNameError\u001b[0m                                 Traceback (most recent call last)",
      "\u001b[0;32m/tmp/ipykernel_1122104/1440604059.py\u001b[0m in \u001b[0;36m<module>\u001b[0;34m\u001b[0m\n\u001b[1;32m      1\u001b[0m \u001b[0mlabeled_family_names\u001b[0m \u001b[0;34m=\u001b[0m \u001b[0;34m[\u001b[0m\u001b[0;34m]\u001b[0m\u001b[0;34m\u001b[0m\u001b[0;34m\u001b[0m\u001b[0m\n\u001b[0;32m----> 2\u001b[0;31m \u001b[0mlabeled_family_names_count\u001b[0m \u001b[0;34m=\u001b[0m \u001b[0mdefaultdict\u001b[0m\u001b[0;34m(\u001b[0m\u001b[0mint\u001b[0m\u001b[0;34m)\u001b[0m\u001b[0;34m\u001b[0m\u001b[0;34m\u001b[0m\u001b[0m\n\u001b[0m\u001b[1;32m      3\u001b[0m \u001b[0;34m\u001b[0m\u001b[0m\n\u001b[1;32m      4\u001b[0m \u001b[0;32mfor\u001b[0m \u001b[0mfont_name\u001b[0m \u001b[0;32min\u001b[0m \u001b[0mlabeled_font_names\u001b[0m\u001b[0;34m:\u001b[0m\u001b[0;34m\u001b[0m\u001b[0;34m\u001b[0m\u001b[0m\n\u001b[1;32m      5\u001b[0m     \u001b[0mfamily_name\u001b[0m \u001b[0;34m=\u001b[0m \u001b[0mextract_font_family\u001b[0m\u001b[0;34m(\u001b[0m\u001b[0mfont_name\u001b[0m\u001b[0;34m)\u001b[0m\u001b[0;34m\u001b[0m\u001b[0;34m\u001b[0m\u001b[0m\n",
      "\u001b[0;31mNameError\u001b[0m: name 'defaultdict' is not defined"
     ]
    }
   ],
   "source": [
    "labeled_family_names = []\n",
    "labeled_family_names_count = defaultdict(int)\n",
    "\n",
    "for font_name in labeled_font_names:\n",
    "    family_name = extract_font_family(font_name)\n",
    "    labeled_family_names_count[family_name] += 1\n",
    "    if family_name not in labeled_family_names:\n",
    "        labeled_family_names.append(family_name)\n",
    "print(len(labeled_family_names))"
   ]
  },
  {
   "cell_type": "code",
   "execution_count": 16,
   "metadata": {},
   "outputs": [],
   "source": [
    "def predict_font_attributes_from_name(font_name):\n",
    "  result = {\n",
    "    'italic': 0,\n",
    "    'serif': 0,\n",
    "    'thin': 0,\n",
    "  }\n",
    "  # italic\n",
    "  if 'Italic' in font_name:\n",
    "    result['italic'] = 1\n",
    "  elif 'Oblique' in font_name:\n",
    "    result['italic'] = 1\n",
    "  # serif\n",
    "  if 'Sans' in font_name:\n",
    "    result['serif'] = 0\n",
    "  elif 'Serif' in font_name:\n",
    "    result['serif'] = 1\n",
    "  # thin\n",
    "  if 'ExtraLight' in font_name:\n",
    "    result['thin'] = 0\n",
    "  elif 'Light' in font_name:\n",
    "    result['thin'] = 1\n",
    "  elif 'Thin' in font_name:\n",
    "    result['thin'] = 1\n",
    "  elif 'Regular' in font_name:\n",
    "    result['thin'] = 2\n",
    "  elif 'Medium' in font_name:\n",
    "    result['thin'] = 2\n",
    "  elif 'SemiBold' in font_name:\n",
    "    result['thin'] = 3\n",
    "  elif 'Bold' in font_name:\n",
    "    result['thin'] = 4\n",
    "  elif 'ExtraBold' in font_name:\n",
    "    result['thin'] = 5\n",
    "  elif 'Black' in font_name:\n",
    "    result['thin'] = 5\n",
    "  else:\n",
    "    result['thin'] = 2\n",
    "  return result\n",
    "\n",
    "def predict_actual_font_attributes(target_font_attributes, base_font_attributes, base_font_actual_attributes):\n",
    "  target_font_actual_attributes = copy(base_font_actual_attributes)\n",
    "  # italic\n",
    "  if target_font_attributes['italic'] == base_font_attributes['italic']:\n",
    "    target_font_actual_attributes['italic'] = base_font_actual_attributes['italic']\n",
    "  else:\n",
    "    if float(base_font_actual_attributes['italic']) >= 50.0:\n",
    "      target_font_actual_attributes['italic'] = '0'\n",
    "    else:\n",
    "      target_font_actual_attributes['italic'] = '100'\n",
    "  # serif\n",
    "  if target_font_attributes['serif'] == base_font_attributes['serif']:\n",
    "    target_font_actual_attributes['serif'] = base_font_actual_attributes['serif']\n",
    "  else:\n",
    "    if float(base_font_actual_attributes['serif']) >= 50.0:\n",
    "      target_font_actual_attributes['serif'] = '0'\n",
    "    else:\n",
    "      target_font_actual_attributes['serif'] = '100'\n",
    "  # thin\n",
    "  distance = target_font_attributes['thin'] - base_font_attributes['thin']\n",
    "  target_font_actual_attributes['thin'] = str(max(min(float(base_font_actual_attributes['thin']) - distance * 20, 90), 10))\n",
    "  return target_font_actual_attributes"
   ]
  },
  {
   "cell_type": "code",
   "execution_count": 17,
   "metadata": {},
   "outputs": [
    {
     "name": "stdout",
     "output_type": "stream",
     "text": [
      "{'italic': 0, 'serif': 0, 'thin': 2}\n",
      "{'italic': 1, 'serif': 0, 'thin': 4}\n",
      "{'angular': '79.5', 'artistic': '70.87', 'attention-grabbing': '70.27', 'attractive': '100', 'bad': '20.39', 'boring': '11.17', 'calm': '71.96', 'capitals': '0', 'charming': '100', 'clumsy': '27.3', 'complex': '65.96', 'cursive': '4.52', 'delicate': '42.39', 'disorderly': '30.34', 'display': '8.93', 'dramatic': '68.69', 'formal': '72.02', 'fresh': '91.28', 'friendly': '84.06', 'gentle': '86.68', 'graceful': '90.62', 'happy': '81.67', 'italic': '0', 'legible': '88.96', 'modern': '75.63', 'monospace': '0', 'playful': '62.65', 'pretentious': '63.84', 'serif': '85.6', 'sharp': '79.38', 'sloppy': '59.15', 'soft': '72.29', 'strong': '63.21', 'technical': '61.87', 'thin': '75.47999999999999', 'warm': '87.06', 'wide': '41.08'}\n",
      "{'angular': '79.5', 'artistic': '70.87', 'attention-grabbing': '70.27', 'attractive': '100', 'bad': '20.39', 'boring': '11.17', 'calm': '71.96', 'capitals': '0', 'charming': '100', 'clumsy': '27.3', 'complex': '65.96', 'cursive': '4.52', 'delicate': '42.39', 'disorderly': '30.34', 'display': '8.93', 'dramatic': '68.69', 'formal': '72.02', 'fresh': '91.28', 'friendly': '84.06', 'gentle': '86.68', 'graceful': '90.62', 'happy': '81.67', 'italic': '91.83', 'legible': '88.96', 'modern': '75.63', 'monospace': '0', 'playful': '62.65', 'pretentious': '63.84', 'serif': '85.6', 'sharp': '79.38', 'sloppy': '59.15', 'soft': '72.29', 'strong': '63.21', 'technical': '61.87', 'thin': '35.48', 'warm': '87.06', 'wide': '41.08'}\n"
     ]
    }
   ],
   "source": [
    "font1_name = \"Alegreya-Regular\"\n",
    "font2_name = \"Alegreya-BoldItalic\"\n",
    "\n",
    "font1_attributes = predict_font_attributes_from_name(font1_name)\n",
    "font2_attributes = predict_font_attributes_from_name(font2_name)\n",
    "print(font1_attributes)\n",
    "print(font2_attributes)\n",
    "\n",
    "# font1_actual_attributes = all_json[font1_name]\n",
    "font2_actual_attributes = all_json[font2_name]\n",
    "\n",
    "predicted_font1_actual_attributes = predict_actual_font_attributes(font1_attributes, font2_attributes, font2_actual_attributes)\n",
    "print(predicted_font1_actual_attributes)\n",
    "print(font2_actual_attributes)"
   ]
  },
  {
   "cell_type": "code",
   "execution_count": 18,
   "metadata": {},
   "outputs": [
    {
     "name": "stdout",
     "output_type": "stream",
     "text": [
      "{'italic': 0, 'serif': 0, 'thin': 4}\n",
      "{'italic': 1, 'serif': 0, 'thin': 2}\n",
      "{'angular': '86.86', 'artistic': '51.59', 'attention-grabbing': '55.03', 'attractive': '75.69', 'bad': '31.07', 'boring': '23.64', 'calm': '74.82', 'capitals': '0', 'charming': '73.24', 'clumsy': '30.18', 'complex': '37.27', 'cursive': '4.23', 'delicate': '43.82', 'disorderly': '23.75', 'display': '6.05', 'dramatic': '42.38', 'formal': '70.44', 'fresh': '93.53', 'friendly': '75.94', 'gentle': '89.13', 'graceful': '71.92', 'happy': '56.11', 'italic': '0', 'legible': '89.19', 'modern': '54.54', 'monospace': '0', 'playful': '50.53', 'pretentious': '42.95', 'serif': '81.78', 'sharp': '92.56', 'sloppy': '50.03', 'soft': '68.01', 'strong': '60.36', 'technical': '69.44', 'thin': '10', 'warm': '73.65', 'wide': '59.73'}\n",
      "{'angular': '27.86', 'artistic': '37.03', 'attention-grabbing': '61.33', 'attractive': '70.08', 'bad': '17.66', 'boring': '64.93', 'calm': '57.64', 'capitals': '0', 'charming': '63.24', 'clumsy': '33.13', 'complex': '48.1', 'cursive': '4.27', 'delicate': '24.51', 'disorderly': '20.85', 'display': '6.57', 'dramatic': '47.39', 'formal': '82.11', 'fresh': '86.72', 'friendly': '66.83', 'gentle': '78.91', 'graceful': '61', 'happy': '39.51', 'italic': '9.3', 'legible': '80.32', 'modern': '39.88', 'monospace': '0', 'playful': '35.11', 'pretentious': '48.55', 'serif': '84.11', 'sharp': '60.14', 'sloppy': '20.92', 'soft': '58.21', 'strong': '77', 'technical': '63.83', 'thin': '20.99', 'warm': '82.7', 'wide': '61.1'}\n",
      "{'angular': '86.86', 'artistic': '51.59', 'attention-grabbing': '55.03', 'attractive': '75.69', 'bad': '31.07', 'boring': '23.64', 'calm': '74.82', 'capitals': '0', 'charming': '73.24', 'clumsy': '30.18', 'complex': '37.27', 'cursive': '4.23', 'delicate': '43.82', 'disorderly': '23.75', 'display': '6.05', 'dramatic': '42.38', 'formal': '70.44', 'fresh': '93.53', 'friendly': '75.94', 'gentle': '89.13', 'graceful': '71.92', 'happy': '56.11', 'italic': '91.73', 'legible': '89.19', 'modern': '54.54', 'monospace': '0', 'playful': '50.53', 'pretentious': '42.95', 'serif': '81.78', 'sharp': '92.56', 'sloppy': '50.03', 'soft': '68.01', 'strong': '60.36', 'technical': '69.44', 'thin': '41.58', 'warm': '73.65', 'wide': '59.73'}\n"
     ]
    }
   ],
   "source": [
    "font1_name = \"Arvo-Bold\"\n",
    "font2_name = \"Arvo-Italic\"\n",
    "\n",
    "font1_attributes = predict_font_attributes_from_name(font1_name)\n",
    "font2_attributes = predict_font_attributes_from_name(font2_name)\n",
    "print(font1_attributes)\n",
    "print(font2_attributes)\n",
    "\n",
    "font1_actual_attributes = all_json[font1_name]\n",
    "font2_actual_attributes = all_json[font2_name]\n",
    "\n",
    "predicted_font1_actual_attributes = predict_actual_font_attributes(font1_attributes, font2_attributes, font2_actual_attributes)\n",
    "print(predicted_font1_actual_attributes)\n",
    "print(font1_actual_attributes)\n",
    "print(font2_actual_attributes)"
   ]
  },
  {
   "cell_type": "code",
   "execution_count": 19,
   "metadata": {},
   "outputs": [
    {
     "name": "stdout",
     "output_type": "stream",
     "text": [
      "272\n"
     ]
    }
   ],
   "source": [
    "count = 0\n",
    "predicted_unlabeled_attributes = {}\n",
    "for unlabaled_font_name in unlabeled_font_names:\n",
    "    unlabeled_font_attributes = predict_font_attributes_from_name(unlabaled_font_name)\n",
    "    unlabeled_font_actual_attributes = None\n",
    "    font_family = extract_font_family(unlabaled_font_name)\n",
    "    if font_family in labeled_family_names:\n",
    "        count += 1\n",
    "        labeled_font_names_with_the_font_family = search_fonts_with_font_family(font_family, labeled_font_names)\n",
    "        if len(labeled_font_names_with_the_font_family) >= 1:\n",
    "            predicted_actual_attributes_list = []\n",
    "            for labeled_font_name in labeled_font_names_with_the_font_family:\n",
    "                labeled_font_attributes = predict_font_attributes_from_name(labeled_font_name)\n",
    "                labeled_font_actual_attributes = all_json[labeled_font_name]\n",
    "                predicted_actual_attributes = predict_actual_font_attributes(unlabeled_font_attributes, labeled_font_attributes, labeled_font_actual_attributes)\n",
    "                predicted_actual_attributes_list.append(predicted_actual_attributes)\n",
    "            result_predicted_actual_attributes = {\n",
    "                k: sum([float(d[k]) for d in predicted_actual_attributes_list]) / len(predicted_actual_attributes_list)\n",
    "                for k in predicted_actual_attributes_list[0].keys()\n",
    "            }\n",
    "            predicted_unlabeled_attributes[unlabaled_font_name] = result_predicted_actual_attributes\n",
    "print(count)"
   ]
  },
  {
   "cell_type": "code",
   "execution_count": 20,
   "metadata": {},
   "outputs": [
    {
     "data": {
      "text/plain": [
       "{'angular': 83.17,\n",
       " 'artistic': 46.34,\n",
       " 'attention-grabbing': 72.1,\n",
       " 'attractive': 70.27,\n",
       " 'bad': 36.02,\n",
       " 'boring': 28.48,\n",
       " 'calm': 71.63,\n",
       " 'capitals': 0.0,\n",
       " 'charming': 70.91,\n",
       " 'clumsy': 26.27,\n",
       " 'complex': 48.77,\n",
       " 'cursive': 6.6,\n",
       " 'delicate': 45.55,\n",
       " 'disorderly': 42.69,\n",
       " 'display': 8.11,\n",
       " 'dramatic': 64.32,\n",
       " 'formal': 53.71,\n",
       " 'fresh': 86.16,\n",
       " 'friendly': 75.81,\n",
       " 'gentle': 85.78,\n",
       " 'graceful': 70.4,\n",
       " 'happy': 68.84,\n",
       " 'italic': 0.0,\n",
       " 'legible': 82.54,\n",
       " 'modern': 61.12,\n",
       " 'monospace': 0.0,\n",
       " 'playful': 46.55,\n",
       " 'pretentious': 55.08,\n",
       " 'serif': 9.94,\n",
       " 'sharp': 72.65,\n",
       " 'sloppy': 70.69,\n",
       " 'soft': 66.64,\n",
       " 'strong': 66.25,\n",
       " 'technical': 53.23,\n",
       " 'thin': 36.05,\n",
       " 'warm': 76.17,\n",
       " 'wide': 58.56}"
      ]
     },
     "execution_count": 20,
     "metadata": {},
     "output_type": "execute_result"
    }
   ],
   "source": [
    "predicted_unlabeled_attributes['Cantarell-Bold']"
   ]
  },
  {
   "cell_type": "markdown",
   "metadata": {},
   "source": [
    "# Dump to Json"
   ]
  },
  {
   "cell_type": "code",
   "execution_count": 23,
   "metadata": {},
   "outputs": [],
   "source": [
    "with open('../attributeData/predicted_unlabeled_attributes.json', 'w') as f:\n",
    "    json.dump(predicted_unlabeled_attributes, f)"
   ]
  },
  {
   "cell_type": "code",
   "execution_count": null,
   "metadata": {},
   "outputs": [],
   "source": []
  }
 ],
 "metadata": {
  "kernelspec": {
   "display_name": "dgfont-env",
   "language": "python",
   "name": "python3"
  },
  "language_info": {
   "codemirror_mode": {
    "name": "ipython",
    "version": 3
   },
   "file_extension": ".py",
   "mimetype": "text/x-python",
   "name": "python",
   "nbconvert_exporter": "python",
   "pygments_lexer": "ipython3",
   "version": "3.7.16"
  }
 },
 "nbformat": 4,
 "nbformat_minor": 2
}
