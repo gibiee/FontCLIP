{
 "cells": [
  {
   "cell_type": "code",
   "execution_count": 3,
   "metadata": {},
   "outputs": [],
   "source": [
    "import os\n",
    "from fine_tune import my_convert_to_rgb\n",
    "from PIL import Image"
   ]
  },
  {
   "cell_type": "code",
   "execution_count": 11,
   "metadata": {},
   "outputs": [],
   "source": [
    "image_file_dir = '../attributeData/images'\n",
    "new_image_file_dir = '../attributeData/grayscale_images'\n",
    "if not os.path.exists(new_image_file_dir):\n",
    "    os.makedirs(new_image_file_dir)"
   ]
  },
  {
   "cell_type": "code",
   "execution_count": 12,
   "metadata": {},
   "outputs": [
    {
     "name": "stdout",
     "output_type": "stream",
     "text": [
      "200 Muli-Light.png ../attributeData/images/Muli-Light.png\n"
     ]
    }
   ],
   "source": [
    "image_file_names = os.listdir(image_file_dir)\n",
    "image_paths = [os.path.join(image_file_dir, image_file_name) for image_file_name in image_file_names]\n",
    "print(len(image_paths), image_file_names[0], image_paths[0])"
   ]
  },
  {
   "cell_type": "code",
   "execution_count": 13,
   "metadata": {},
   "outputs": [],
   "source": [
    "for image_path in image_paths:\n",
    "    image = Image.open(image_path)\n",
    "    image = my_convert_to_rgb(image)\n",
    "    image_file_name = os.path.basename(image_path)\n",
    "    new_image_path = os.path.join(new_image_file_dir, image_file_name)\n",
    "    image.save(new_image_path)"
   ]
  },
  {
   "cell_type": "code",
   "execution_count": 14,
   "metadata": {},
   "outputs": [],
   "source": [
    "image = Image.open(new_image_path)"
   ]
  },
  {
   "cell_type": "code",
   "execution_count": 16,
   "metadata": {},
   "outputs": [
    {
     "data": {
      "image/png": "[encoded data removed]",
      "text/plain": [
       "<PIL.PngImagePlugin.PngImageFile image mode=RGB size=400x200>"
      ]
     },
     "execution_count": 16,
     "metadata": {},
     "output_type": "execute_result"
    }
   ],
   "source": [
    "image"
   ]
  },
  {
   "cell_type": "code",
   "execution_count": null,
   "metadata": {},
   "outputs": [],
   "source": []
  }
 ],
 "metadata": {
  "kernelspec": {
   "display_name": "dgfont-env",
   "language": "python",
   "name": "python3"
  },
  "language_info": {
   "codemirror_mode": {
    "name": "ipython",
    "version": 3
   },
   "file_extension": ".py",
   "mimetype": "text/x-python",
   "name": "python",
   "nbconvert_exporter": "python",
   "pygments_lexer": "ipython3",
   "version": "3.7.16"
  },
  "orig_nbformat": 4
 },
 "nbformat": 4,
 "nbformat_minor": 2
}
