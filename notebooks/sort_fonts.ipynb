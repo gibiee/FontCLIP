{
 "cells": [
  {
   "cell_type": "code",
   "execution_count": 1,
   "metadata": {},
   "outputs": [
    {
     "name": "stdout",
     "output_type": "stream",
     "text": [
      "loading JIT archive /home/yuki/.cache/clip/ViT-B-32.pt\n",
      "exclusive_attributes:  ['capitals', 'monospace']\n"
     ]
    }
   ],
   "source": [
    "import json\n",
    "import matplotlib.pyplot as plt\n",
    "import matplotlib.font_manager as font_manager\n",
    "from matplotlib.font_manager import FontProperties\n",
    "import numpy as np\n",
    "import os\n",
    "\n",
    "from cj_fonts import fifty_fonts\n",
    "from utils.init_model import preprocess, load_model\n",
    "from utils.initialize_font_data import fox_text_four_lines, retrieve_font_path, exclusive_attributes, inclusive_attributes, all_attributes, train_font_names, validation_font_names, test_font_names, font_names, gray_scale_image_file_dir\n",
    "from utils.dataset import MyDataset, TestDataset\n",
    "from utils.evaluate_tools import evaluate_used_dumped_image_use_score, evaluate_use_dumped_image, calculate_corr\n",
    "from utils.lora_multiheadattention import LoRAConfig"
   ]
  },
  {
   "cell_type": "code",
   "execution_count": 2,
   "metadata": {},
   "outputs": [],
   "source": [
    "font_dir = '../gwfonts'\n",
    "cj_font_dir = '../all-fonts'\n",
    "font_paths = [os.path.join(font_dir, f) for f in os.listdir(font_dir)]\n",
    "fifty_font_paths = [os.path.join(cj_font_dir, f) for f in fifty_fonts.split('\\n') if f != '']\n",
    "\n",
    "# add font\n",
    "for font in font_manager.findSystemFonts(font_dir):\n",
    "    font_manager.fontManager.addfont(font)\n",
    "\n",
    "for font in font_manager.findSystemFonts(cj_font_dir):\n",
    "    font_manager.fontManager.addfont(font)\n",
    "\n",
    "font_paths = [retrieve_font_path(font_name, font_dir=font_dir) for font_name in font_names]\n",
    "validation_font_paths = [retrieve_font_path(font_name, font_dir=font_dir) for font_name in validation_font_names]\n",
    "test_font_paths = [retrieve_font_path(font_name, font_dir=font_dir) for font_name in test_font_names]\n"
   ]
  },
  {
   "cell_type": "code",
   "execution_count": 3,
   "metadata": {},
   "outputs": [],
   "source": [
    "selected_15_cjk_font_paths = [\n",
    "  '../all-fonts/chogokubosogothic_5.ttf',\n",
    "  '../all-fonts/Kazesawa-ExtraLight.ttf',\n",
    "  '../all-fonts/ゆず ポップ A [M] Light.ttf',\n",
    "  '../all-fonts/SentyCaramel.ttf',\n",
    "  '../all-fonts/ちはや純.ttf',\n",
    "  '../all-fonts/irohamaru-mikami-Light.ttf',\n",
    "  '../all-fonts/SanariFontB001.ttf',\n",
    "  '../all-fonts/Tanugo-TTF-Round-Bold.ttf',\n",
    "  '../all-fonts/Tanugo-TTF-Regular.ttf',\n",
    "  '../all-fonts/Senobi-Gothic-Bold.ttf',\n",
    "  '../all-fonts/851CHIKARA-DZUYOKU_kanaA_004.ttf',\n",
    "  '../all-fonts/mgentle-hks.ttf',\n",
    "  '../all-fonts/NasuM-Bold-20200227.ttf',\n",
    "  '../all-fonts/FZ-black.TTF',\n",
    "  '../all-fonts/M+A1_heavy-10-1.2.otf',\n",
    "]"
   ]
  },
  {
   "cell_type": "code",
   "execution_count": 4,
   "metadata": {},
   "outputs": [],
   "source": [
    "selected_15_roman_font_paths = [\n",
    "  '../gwfonts/Sedan-Italic.ttf',\n",
    "  '../gwfonts/Sevillana-Regular.ttf',\n",
    "  '../gwfonts/GreatVibes-Regular.ttf',\n",
    "  '../gwfonts/LifeSavers-Bold.ttf',\n",
    "  '../gwfonts/Astloch-Bold.ttf',\n",
    "  '../gwfonts/GFSNeohellenic-Italic.ttf',\n",
    "  '../gwfonts/PlayfairDisplaySC-BoldItalic.ttf',\n",
    "  '../gwfonts/YanoneTagesschrift.ttf',\n",
    "  '../gwfonts/UbuntuMono-Bold.ttf',\n",
    "  '../gwfonts/Puritan-Bold.ttf',\n",
    "  '../gwfonts/Nobile-Medium.ttf',\n",
    "  '../gwfonts/Dosis-Light.ttf',\n",
    "  '../gwfonts/Roboto-Light.ttf',\n",
    "  '../gwfonts/Arimo-Bold.ttf',\n",
    "  '../gwfonts/CabinCondensed-Medium.ttf',\n",
    "]"
   ]
  },
  {
   "cell_type": "code",
   "execution_count": 5,
   "metadata": {},
   "outputs": [
    {
     "name": "stdout",
     "output_type": "stream",
     "text": [
      "loading JIT archive /home/yuki/.cache/clip/ViT-B-32.pt\n"
     ]
    }
   ],
   "source": [
    "# load clip_model\n",
    "clip_model = load_model()"
   ]
  },
  {
   "cell_type": "code",
   "execution_count": 57,
   "metadata": {},
   "outputs": [
    {
     "name": "stdout",
     "output_type": "stream",
     "text": [
      "loading JIT archive /home/yuki/.cache/clip/ViT-B-32.pt\n",
      "init_model: loading checkpoint model_checkpoints/cv_20_5_ViT-B_32_bce_lora_t-qkvo_256-1024.0_91011_batch64_aug50_cj400_lbound_of_scale0.35_max_attr_num_3_random_p_num_10000_geta0.2_use_negative_lr2e-05-0.1_image_file_dir.pt\n"
     ]
    }
   ],
   "source": [
    "checkpoint_path = \"model_checkpoints/cv_5_0_ViT-B_32_bce_lora_t-qkvo_256-1024.0_91011_batch64_aug50_cj400_lbound_of_scale0.35_max_attr_num_3_random_p_num_10000_geta0.2_use_negative_lr2e-05-0.1_image_file_dir.pt\"\n",
    "checkpoint_path = \"model_checkpoints/cv_5_1_ViT-B_32_bce_lora_t-qkvo_256-1024.0_91011_batch64_aug50_cj400_lbound_of_scale0.35_max_attr_num_3_random_p_num_10000_geta0.2_use_negative_lr2e-05-0.1_image_file_dir.pt\"\n",
    "checkpoint_path = \"model_checkpoints/cv_5_2_ViT-B_32_bce_lora_t-qkvo_256-1024.0_91011_batch64_aug50_cj400_lbound_of_scale0.35_max_attr_num_3_random_p_num_10000_geta0.2_use_negative_lr2e-05-0.1_image_file_dir.pt\"\n",
    "checkpoint_path = \"model_checkpoints/cv_20_5_ViT-B_32_bce_lora_t-qkvo_256-1024.0_91011_batch64_aug50_cj400_lbound_of_scale0.35_max_attr_num_3_random_p_num_10000_geta0.2_use_negative_lr2e-05-0.1_image_file_dir.pt\"\n",
    "# use lora model\n",
    "lora_config_text = LoRAConfig(\n",
    "    r=256,\n",
    "    alpha=1024.0,\n",
    "    bias=False,\n",
    "    learnable_alpha=False,\n",
    "    apply_q=True,\n",
    "    apply_k=True,\n",
    "    apply_v=True,\n",
    "    apply_out=True,\n",
    ")\n",
    "fclip_model = load_model(\n",
    "    checkpoint_path,\n",
    "    model_name=\"ViT-B/32\",\n",
    "    use_oft_vision=False,\n",
    "    use_oft_text=False,\n",
    "    oft_config_vision=None,\n",
    "    oft_config_text=None,\n",
    "    use_lora_vision=False,\n",
    "    use_lora_text=True,\n",
    "    lora_config_vision=None,\n",
    "    lora_config_text=lora_config_text,\n",
    "    use_coop_vision=False,\n",
    "    use_coop_text=False,\n",
    "    precontext_length_vision=None,\n",
    "    precontext_length_text=None,\n",
    "    precontext_dropout_rate=0.0,\n",
    "    pt_applied_layers=None,\n",
    ")\n",
    "fclip_model.eval()\n",
    "pass"
   ]
  },
  {
   "cell_type": "markdown",
   "metadata": {},
   "source": [
    "# Deprecated"
   ]
  },
  {
   "cell_type": "code",
   "execution_count": 51,
   "metadata": {},
   "outputs": [
    {
     "name": "stdout",
     "output_type": "stream",
     "text": [
      "No json path, use predict mode.\n",
      "font_dir is list\n"
     ]
    },
    {
     "ename": "NameError",
     "evalue": "name 'model' is not defined",
     "output_type": "error",
     "traceback": [
      "\u001b[0;31m---------------------------------------------------------------------------\u001b[0m",
      "\u001b[0;31mNameError\u001b[0m                                 Traceback (most recent call last)",
      "\u001b[0;32m/tmp/ipykernel_1753004/680986764.py\u001b[0m in \u001b[0;36m<module>\u001b[0;34m\u001b[0m\n\u001b[1;32m     22\u001b[0m \u001b[0;34m\u001b[0m\u001b[0m\n\u001b[1;32m     23\u001b[0m \u001b[0mcheckpoint_path\u001b[0m \u001b[0;34m=\u001b[0m \u001b[0;32mNone\u001b[0m\u001b[0;34m\u001b[0m\u001b[0;34m\u001b[0m\u001b[0m\n\u001b[0;32m---> 24\u001b[0;31m \u001b[0mmodel\u001b[0m \u001b[0;34m=\u001b[0m \u001b[0mload_model\u001b[0m\u001b[0;34m(\u001b[0m\u001b[0mmodel\u001b[0m\u001b[0;34m,\u001b[0m \u001b[0mcheckpoint_path\u001b[0m\u001b[0;34m=\u001b[0m\u001b[0mcheckpoint_path\u001b[0m\u001b[0;34m,\u001b[0m \u001b[0mrequires_grad\u001b[0m\u001b[0;34m=\u001b[0m\u001b[0;32mFalse\u001b[0m\u001b[0;34m)\u001b[0m\u001b[0;34m\u001b[0m\u001b[0;34m\u001b[0m\u001b[0m\n\u001b[0m\u001b[1;32m     25\u001b[0m \u001b[0mtmp_cos_sim\u001b[0m \u001b[0;34m=\u001b[0m \u001b[0mcalculate_corr\u001b[0m\u001b[0;34m(\u001b[0m\u001b[0mmodel\u001b[0m\u001b[0;34m,\u001b[0m \u001b[0mcj_data\u001b[0m\u001b[0;34m,\u001b[0m \u001b[0mpredict_mode\u001b[0m\u001b[0;34m=\u001b[0m\u001b[0;32mTrue\u001b[0m\u001b[0;34m)\u001b[0m\u001b[0;34m\u001b[0m\u001b[0;34m\u001b[0m\u001b[0m\n\u001b[1;32m     26\u001b[0m \u001b[0msorted_index\u001b[0m \u001b[0;34m=\u001b[0m \u001b[0mnp\u001b[0m\u001b[0;34m.\u001b[0m\u001b[0margsort\u001b[0m\u001b[0;34m(\u001b[0m\u001b[0mtmp_cos_sim\u001b[0m\u001b[0;34m)\u001b[0m\u001b[0;34m\u001b[0m\u001b[0;34m\u001b[0m\u001b[0m\n",
      "\u001b[0;31mNameError\u001b[0m: name 'model' is not defined"
     ]
    }
   ],
   "source": [
    "font_dir = '../gwfonts'\n",
    "text = fox_text_four_lines\n",
    "# text = '夏林\\n火山'\n",
    "texts_for_font_image = [text]\n",
    "char_size = 150\n",
    "line_num = text.count('\\n') + 1\n",
    "width = int(char_size * len(text) / line_num)\n",
    "height = int((char_size+50) * line_num)\n",
    "tmp_font_paths = validation_font_paths[:50]\n",
    "# tmp_font_paths = test_font_paths[:30]\n",
    "# tmp_font_paths = fifty_font_paths[:30]\n",
    "# tmp_font_paths = selected_15_cjk_font_paths\n",
    "# tmp_font_paths = selected_15_roman_font_paths\n",
    "image_file_dir = None\n",
    "image_file_dir = gray_scale_image_file_dir\n",
    "\n",
    "model_type = 'clip_and_fclip_roman'\n",
    "\n",
    "target_attribute = 'italic'\n",
    "tmp_target_attributes = [target_attribute]\n",
    "cj_data = TestDataset(tmp_font_paths, None, texts_for_font_image, char_size=char_size, attribute_threshold=0, target_attributes=tmp_target_attributes, image_file_dir=image_file_dir, dump_image=True, preprocess=preprocess)\n",
    "\n",
    "checkpoint_path = None\n",
    "model = load_model(model, checkpoint_path=checkpoint_path, requires_grad=False)\n",
    "tmp_cos_sim = calculate_corr(model, cj_data, predict_mode=True)\n",
    "sorted_index = np.argsort(tmp_cos_sim)\n",
    "clip_cos_sim = sorted_index\n",
    "\n",
    "# checkpoint_path = 'model_checkpoints/best_ViT-B_32_cnn_based_vae_loss_weight_3.0_vae_loss_kl_weight0.001_res_64_9101191011_batch64_aug200_lower_bound_of_scale0.35_use_negative_lr1e-05-0.1.pt'\n",
    "checkpoint_path = 'model_checkpoints/new_best_fox_negative_91011_1011_use_weight_image_file_dir_ex.pt'\n",
    "cehckpoint_path = 'model_checkpoints/leave_one_out_angular_ViT-B_32_9101191011_batch64_aug250_lower_bound_of_scale0.35_use_negative_lr2e-05-0.1_image_file_dir.pt'\n",
    "model = load_model(model, checkpoint_path=checkpoint_path, requires_grad=False)\n",
    "tmp_cos_sim = calculate_corr(model, cj_data, predict_mode=True)\n",
    "sorted_index = np.argsort(tmp_cos_sim)\n",
    "fclip_cos_sim = sorted_index\n",
    "\n",
    "assert len(clip_cos_sim) == len(fclip_cos_sim)\n",
    "\n",
    "\n",
    "preview_text = 'A'\n",
    "# preview_text = '春'\n",
    "fig_size = (30, 3)\n",
    "\n",
    "fig, ax = plt.subplots(figsize=fig_size)\n",
    "ys = [10] * len(clip_cos_sim)\n",
    "ax.scatter(clip_cos_sim, ys, alpha=0.0)\n",
    "#ax.set_title(f'Correlation coefficient: {target_attribute}')\n",
    "#ax.set_title(f'{target_attribute}')\n",
    "ax.set_xlabel('Ground truth')\n",
    "ax.set_ylabel('Cosine similarity Predicted by CLIP')\n",
    "\n",
    "my_font = FontProperties()\n",
    "\n",
    "\n",
    "for i in range(len(clip_cos_sim)):\n",
    "    clip_font_path = tmp_font_paths[clip_cos_sim[i]]\n",
    "    fclip_font_path = tmp_font_paths[fclip_cos_sim[i]]\n",
    "\n",
    "    font_base_name = os.path.basename(clip_font_path)\n",
    "    my_font.set_file(clip_font_path)\n",
    "    ax.annotate(preview_text, (i, 10), fontsize=25, fontproperties=my_font)\n",
    "\n",
    "    font_base_name = os.path.basename(fclip_font_path)\n",
    "    print(font_base_name)\n",
    "    my_font.set_file(fclip_font_path)\n",
    "    ax.annotate(preview_text, (i, 9.97), fontsize=25, fontproperties=my_font)\n",
    "    continue\n",
    "\n",
    "\n",
    "#ax.set_xlim()\n",
    "ax.set_xlim(-3, len(clip_cos_sim)+1)\n",
    "ax.set_ylim(9.95, 10.05)\n",
    "ax.annotate('CLIP', (-2.7, 10), fontsize=25)\n",
    "ax.annotate('Font CLIP', (-2.7, 9.97), fontsize=25)\n",
    "ax.annotate(f'{target_attribute}', (13.5, 10.035), fontsize=25)\n",
    "ax.arrow(7, 10.025, 15, 0, shape='full', head_width=0.01, head_length=0.5, fc='k', ec='k')\n",
    "ax.axis('off')\n",
    "\n",
    "#plt.savefig(f'outputs/fclip_cj_{target_attribute}.png')\n",
    "target_attribute = target_attribute.replace(' ', '_')\n",
    "plt.savefig(f'outputs/{model_type}_{target_attribute}_{preview_text}.png')\n",
    "plt.show()"
   ]
  },
  {
   "cell_type": "markdown",
   "metadata": {},
   "source": [
    "# Sort"
   ]
  },
  {
   "cell_type": "code",
   "execution_count": 58,
   "metadata": {},
   "outputs": [],
   "source": [
    "from fontTools.ttLib import TTFont\n",
    "from fontTools.pens.svgPathPen import SVGPathPen\n",
    "from svgwrite import Drawing\n",
    "from svgpathtools import svg2paths, wsvg\n",
    "from IPython.display import SVG, display"
   ]
  },
  {
   "cell_type": "code",
   "execution_count": 59,
   "metadata": {},
   "outputs": [],
   "source": [
    "\n",
    "def create_svg_from_font_two_lines(font_paths, clip_cos_sim, fclip_cos_sim, character, target_attribute, output_path=None, char_size=200, size=None, base_font_path = '../gwfonts/ABeeZee-Regular.ttf', target_font_paths=None):\n",
    "    if target_font_paths is None:\n",
    "        target_font_paths = font_paths\n",
    "\n",
    "    x_offset_adjust = 20\n",
    "    x_start = char_size * 4\n",
    "    if size is None:\n",
    "        size = x_start + (char_size + x_offset_adjust) * (len(target_font_paths) + 2)\n",
    "\n",
    "    dwg = Drawing(output_path, profile='tiny', size=(size, char_size * 5))\n",
    "    x_offset_clip = x_start\n",
    "    x_offset_fclip = x_start\n",
    "    for i in range(len(font_paths)):\n",
    "        print(font_paths[i])\n",
    "        #x_offset = x_start + i * (char_size +  x_offset_adjust)\n",
    "        y_offset = 80\n",
    "        font_path = font_paths[clip_cos_sim[i]]\n",
    "        if font_path in target_font_paths:\n",
    "            x_offset_clip += char_size + x_offset_adjust\n",
    "            font = TTFont(font_path)\n",
    "            glyph_set = font.getGlyphSet()\n",
    "            # if character is not ascii, use cmap\n",
    "            cmap = font.getBestCmap()\n",
    "            unicode = ord(character)\n",
    "            glyph_id = cmap[unicode]\n",
    "            glyph = glyph_set[glyph_id]\n",
    "            scale = char_size / font['head'].unitsPerEm\n",
    "\n",
    "            pen = SVGPathPen(glyph_set)\n",
    "            glyph.draw(pen)\n",
    "\n",
    "            # transform and scale\n",
    "            #g = dwg.g(transform=f'scale({scale}) translate(0, { char_size })')\n",
    "            g = dwg.g(transform=f'translate({x_offset_clip}, {char_size + y_offset}) scale({scale}, -{scale})')\n",
    "            path = dwg.path(pen.getCommands(), fill='black')\n",
    "            g.add(path)\n",
    "            dwg.add(g)\n",
    "\n",
    "        font_path = font_paths[fclip_cos_sim[i]]\n",
    "        if font_path in target_font_paths:\n",
    "            x_offset_fclip += char_size + x_offset_adjust\n",
    "            font = TTFont(font_path)\n",
    "            glyph_set = font.getGlyphSet()\n",
    "            # glyph = glyph_set[character]\n",
    "            cmap = font.getBestCmap()\n",
    "            unicode = ord(character)\n",
    "            glyph_id = cmap[unicode]\n",
    "            glyph = glyph_set[glyph_id]\n",
    "            scale = char_size / font['head'].unitsPerEm\n",
    "\n",
    "            pen = SVGPathPen(glyph_set)\n",
    "            glyph.draw(pen)\n",
    "\n",
    "            # transform and scale\n",
    "            #g = dwg.g(transform=f'scale({scale}) translate(0, { char_size })')\n",
    "            g = dwg.g(transform=f'translate({x_offset_fclip}, {char_size + y_offset + char_size + char_size // 2}) scale({scale}, -{scale})')\n",
    "            path = dwg.path(pen.getCommands(), fill='black')\n",
    "            g.add(path)\n",
    "            dwg.add(g)\n",
    "    \n",
    "    x_center = x_start + (size - x_start) / 2\n",
    "    y_attribute = 0\n",
    "    font = TTFont(base_font_path)\n",
    "    glyph_set = font.getGlyphSet()\n",
    "    attribute_char_size = char_size / 1.5\n",
    "\n",
    "    m = len(target_attribute) // 2\n",
    "\n",
    "    for i, character in enumerate(target_attribute):\n",
    "        glyph = glyph_set[character]\n",
    "        pen = SVGPathPen(glyph_set)\n",
    "        glyph.draw(pen)\n",
    "        scale = attribute_char_size / font['head'].unitsPerEm\n",
    "        g = dwg.g(transform=f'translate({x_center + attribute_char_size / 1 * (i - m)}, {attribute_char_size + y_attribute + 10}) scale({scale}, -{scale})')\n",
    "        path = dwg.path(pen.getCommands(), fill='black')\n",
    "        g.add(path)\n",
    "        dwg.add(g)\n",
    "    \n",
    "    x_text = 0\n",
    "    text = 'CLIP'\n",
    "    for i, character in enumerate(text):\n",
    "        glyph = glyph_set[character]\n",
    "        pen = SVGPathPen(glyph_set)\n",
    "        glyph.draw(pen)\n",
    "        scale = char_size / font['head'].unitsPerEm\n",
    "        tmp_x_offset = 20\n",
    "        if character == 'P':\n",
    "            tmp_x_offset = 25\n",
    "        g = dwg.g(transform=f'translate({x_text + (char_size - tmp_x_offset) * i}, {char_size + y_offset}) scale({scale}, -{scale})')\n",
    "        path = dwg.path(pen.getCommands(), fill='black')\n",
    "        g.add(path)\n",
    "        dwg.add(g)\n",
    "\n",
    "    text = 'FCLIP'\n",
    "    for i, character in enumerate(text):\n",
    "        glyph = glyph_set[character]\n",
    "        pen = SVGPathPen(glyph_set)\n",
    "        glyph.draw(pen)\n",
    "        scale = char_size / font['head'].unitsPerEm\n",
    "        tmp_x_offset = 20\n",
    "        if character == 'P':\n",
    "            tmp_x_offset = 23.5\n",
    "        g = dwg.g(transform=f'translate({x_text + (char_size - tmp_x_offset) * i}, {char_size + y_offset + char_size + char_size // 2}) scale({scale}, -{scale})')\n",
    "        path = dwg.path(pen.getCommands(), fill='black')\n",
    "        g.add(path)\n",
    "        dwg.add(g)\n",
    "    \n",
    "    # draw line\n",
    "    stroke_width = 5\n",
    "    line_x1 = x_start\n",
    "    line_x2 = size - 19\n",
    "    line_y = attribute_char_size + y_attribute + 40\n",
    "    dwg.add(dwg.line((line_x1, line_y), (line_x2, line_y), stroke='black', stroke_width=stroke_width))\n",
    "\n",
    "    # draw triangle\n",
    "    triangle_size = 10\n",
    "    triangle_y1 = line_y - triangle_size\n",
    "    triangle_y2 = line_y + triangle_size\n",
    "    #triangle_y2 = line_y\n",
    "    triangle_y3 = line_y\n",
    "    triangle_x1 = line_x2 - triangle_size\n",
    "    triangle_x2 = line_x2 - triangle_size\n",
    "    triangle_x3 = line_x2 + triangle_size\n",
    "    dwg.add(dwg.polygon([(triangle_x1, triangle_y1), (triangle_x2, triangle_y2), (triangle_x3, triangle_y3)], fill='black'))\n",
    "\n",
    "\n",
    "    dwg.save()\n",
    "    return output_path"
   ]
  },
  {
   "cell_type": "code",
   "execution_count": 73,
   "metadata": {},
   "outputs": [
    {
     "name": "stderr",
     "output_type": "stream",
     "text": [
      "'created' timestamp seems very low; regarding as unix timestamp\n",
      "'modified' timestamp seems very low; regarding as unix timestamp\n",
      "too much 'glyf' table data: expected 2512024, received 2514248 bytes\n",
      "'created' timestamp seems very low; regarding as unix timestamp\n",
      "'modified' timestamp seems very low; regarding as unix timestamp\n"
     ]
    },
    {
     "name": "stdout",
     "output_type": "stream",
     "text": [
      "No json path, use predict mode.\n",
      "font_dir is list\n",
      "../all-fonts/chogokubosogothic_5.ttf\n",
      "../all-fonts/Kazesawa-ExtraLight.ttf\n",
      "../all-fonts/ゆず ポップ A [M] Light.ttf\n"
     ]
    },
    {
     "name": "stderr",
     "output_type": "stream",
     "text": [
      "'created' timestamp seems very low; regarding as unix timestamp\n",
      "'modified' timestamp seems very low; regarding as unix timestamp\n"
     ]
    },
    {
     "name": "stdout",
     "output_type": "stream",
     "text": [
      "../all-fonts/SentyCaramel.ttf\n",
      "../all-fonts/ちはや純.ttf\n",
      "../all-fonts/irohamaru-mikami-Light.ttf\n",
      "../all-fonts/SanariFontB001.ttf\n",
      "../all-fonts/Tanugo-TTF-Round-Bold.ttf\n",
      "../all-fonts/Tanugo-TTF-Regular.ttf\n"
     ]
    },
    {
     "name": "stderr",
     "output_type": "stream",
     "text": [
      "'created' timestamp seems very low; regarding as unix timestamp\n",
      "'modified' timestamp seems very low; regarding as unix timestamp\n"
     ]
    },
    {
     "name": "stdout",
     "output_type": "stream",
     "text": [
      "../all-fonts/Senobi-Gothic-Bold.ttf\n",
      "../all-fonts/851CHIKARA-DZUYOKU_kanaA_004.ttf\n",
      "../all-fonts/mgentle-hks.ttf\n",
      "../all-fonts/NasuM-Bold-20200227.ttf\n"
     ]
    },
    {
     "name": "stderr",
     "output_type": "stream",
     "text": [
      "too much 'glyf' table data: expected 2512024, received 2514248 bytes\n"
     ]
    },
    {
     "name": "stdout",
     "output_type": "stream",
     "text": [
      "../all-fonts/FZ-black.TTF\n",
      "../all-fonts/M+A1_heavy-10-1.2.otf\n"
     ]
    },
    {
     "data": {
      "image/svg+xml": [
       "<svg baseProfile=\"tiny\" height=\"250\" version=\"1.2\" width=\"1390\" xmlns=\"http://www.w3.org/2000/svg\" xmlns:ev=\"http://www.w3.org/2001/xml-events\" xmlns:xlink=\"http://www.w3.org/1999/xlink\"><defs/><g transform=\"translate(270, 130) scale(0.048828125, -0.048828125)\"><path d=\"M662 -51 640 -11Q658 27 659.0 70.0Q660 113 666 154Q677 228 687 286Q640 295 582.0 296.5Q524 298 466 298L364 277L359 195L365 178Q501 178 651 175L656 140Q576 141 503 137Q443 140 394 132L380 134L361 130L359 74L363 12Q499 30 647 22L656 -4L641 -22Q569 -11 501 -16Q463 -24 421.5 -24.0Q380 -24 345 -44L320 -32L305 -36L284 -21L275 14L307 22L317 19L321 35L315 47Q310 114 318 178L313 205L318 264L313 277L311 312Q263 263 190 218Q154 182 102 169L83 202Q127 212 153.5 239.5Q180 267 211 282L220 297Q277 347 323 407Q346 428 349 444L322 446L308 440L291 443L278 440Q243 442 210 437Q153 429 94 426L67 437L59 464Q76 482 97 478Q121 467 148 470L165 475Q220 478 267.0 480.5Q314 483 357 492L367 496L377 501L390 532L403 543L417 577L418 581Q379 577 327.5 574.0Q276 571 225 560L200 574L195 596Q217 614 243 612L266 609Q303 612 341.0 616.0Q379 620 415 625L439 627L443 658Q454 693 456 722L430 724L417 719L392 721L356 713L341 716L327 710L296 713L159 693L141 728L154 746L231 751Q294 751 347.5 755.0Q401 759 452 773L463 777L468 780L470 812L482 869L513 880Q536 858 530 828Q519 797 521 769L543 767Q591 773 644.0 774.5Q697 776 746 790Q763 773 760 747L725 740L715 743Q695 738 674 732L660 735Q631 727 597 730L584 732L521 725Q497 677 488 628L620 625L633 623Q689 628 756 635L768 595L690 582L656 588L646 582L536 579L523 585L476 577L465 569Q444 530 432 495L436 494L536 499L510 527Q495 543 498 564Q514 576 534 573Q567 533 607 506L627 511Q742 505 854 511Q870 519 893 519Q916 503 909 475L883 467L869 470L845 465L807 473L786 467Q728 469 673 467L653 459V458V457L670 451L673 434Q736 386 803 338L806 327Q853 302 907.5 281.5Q962 261 1024 229L1000 204Q960 213 925.5 226.0Q891 239 858 255Q795 283 738 316L733 328L707 344Q676 374 645.0 404.0Q614 434 584 462H573L564 456Q482 459 407 449L401 439Q379 403 360 373Q367 348 367 326L413 330L432 328Q488 339 554 336H619L731 330L744 296L739 269Q725 222 717 185L714 156L717 140Q706 98 702.0 52.5Q698 7 689 -41Z\" fill=\"black\"/></g><g transform=\"translate(270, 205) scale(0.048828125, -0.048828125)\"><path d=\"M236 149H788V292H236ZM358 446H667Q617 515 581 594H446Q413 525 358 446ZM351 435Q294 360 229 302H796Q727 365 676 435ZM788 -10V138H236V-10ZM66 435V446H346Q392 509 434 594H148V604H438Q472 680 487 742H107V753H490Q502 803 506 846L516 845Q512 803 501 753H917V742H498Q480 672 450 604H876V594H592Q631 512 681 446H958V435H688Q811 278 961 202L955 192Q880 230 799 300V-72H788V-21H236V-72H225V300Q145 231 69 192L63 202Q216 279 338 435Z\" fill=\"black\"/></g><g transform=\"translate(340, 130) scale(0.048828125, -0.048828125)\"><path d=\"M341 -62Q325 -61 322 -45Q300 109 291 264Q292 283 311 284Q326 282 329 269Q331 270 332 271Q431 308 537 303Q588 302 639.0 289.0Q690 276 722 233Q736 187 733.5 139.5Q731 92 725.5 45.0Q720 -2 712 -49Q709 -61 699 -65Q701 -69 701 -74Q698 -90 681 -91H679Q663 -90 646 -88Q579 -80 512.0 -76.0Q445 -72 379 -87Q362 -90 354 -74Q350 -56 367 -49Q437 -32 508.0 -36.0Q579 -40 650 -48Q661 -49 673 -51Q673 -47 673 -43Q682 12 688 68Q634 79 579 81Q516 83 454 83Q399 83 346 79Q352 19 361 -40Q362 -58 344 -62ZM99 193Q85 194 81 207Q76 225 93 232Q228 287 318 403Q320 405 321 407Q210 406 100 403Q82 404 80 422Q81 440 99 442Q174 444 249 445Q299 446 350 446Q383 494 408 548Q291 546 174 543Q156 544 153 562Q155 580 172 583Q298 586 425 587Q444 635 458 684Q297 682 137 679Q119 679 117 698Q118 716 136 718Q301 722 468 723Q479 772 485 822Q489 840 507 839Q525 835 524 817Q518 770 508 723Q704 726 900 716Q918 712 918 694Q915 677 898 676H896Q702 687 507 684Q503 684 499 684Q486 635 468 588Q481 588 494 588Q679 591 863 581Q881 577 881 559Q878 542 861 541H860Q740 548 620 549Q641 495 673 447Q709 447 745 447Q841 446 937 440Q955 437 955 419Q953 401 935 400H934Q844 406 753 407Q727 407 701 408Q720 383 742 360Q823 268 940 232Q957 226 955 208Q950 194 935 193Q933 193 931 194Q804 231 714 330Q679 367 650 408Q579 409 507 408Q439 408 371 407Q359 391 346 375Q250 252 106 194Q102 193 99 193ZM687 214Q658 247 615.0 254.5Q572 262 531 263Q437 267 350 235Q340 231 332 235Q336 176 342 118Q398 123 455 123Q521 123 587 121Q640 119 692 108Q695 161 687 214ZM578 544Q577 546 577 549Q543 549 508 548Q480 548 452 548Q428 495 397 447Q444 447 490 447Q557 448 625 447Q598 493 578 544Z\" fill=\"black\"/></g><g transform=\"translate(340, 205) scale(0.0244140625, -0.0244140625)\"><path d=\"M482 307H1566V573H482ZM735 901H1315Q1226 1024 1156 1179H897Q833 1042 735 901ZM705 860Q593 714 482 614H1566Q1445 726 1345 860ZM1566 -9V266H482V-9ZM123 860V901H687Q778 1024 851 1179H287V1220H869Q933 1366 963 1475H205V1516H974Q997 1607 1004 1702L1044 1698Q1037 1605 1015 1516H1843V1475H1004Q970 1343 915 1220H1761V1179H1199Q1270 1031 1365 901H1925V860H1397Q1629 564 1934 407L1916 371Q1757 453 1607 578V-155H1566V-50H482V-155H441V578Q295 453 132 371L114 407Q428 564 655 860Z\" fill=\"black\"/></g><g transform=\"translate(410, 130) scale(0.05, -0.05)\"><path d=\"M378 173H622V231H378ZM462 477H542Q541 486 538.0 494.0Q535 502 532.0 512.0Q529 522 528 528H477Q467 495 462 477ZM415 378Q399 345 392 323H610Q601 346 588 378ZM622 36V95H378V36ZM174 378V477H357Q365 498 373 528H221V618H401Q404 634 410 668H197V770H427Q431 812 433 834L534 830L529 770H803V668H511Q505 634 504 618H779V528H627Q640 489 643 477H826V378H702Q753 295 833 237L800 114Q753 149 726 193V-88H622V-52H378V-88H274V192Q253 155 200 114L167 237Q251 298 298 378Z\" fill=\"black\"/></g><g transform=\"translate(410, 205) scale(0.048828125, -0.048828125)\"><path d=\"M403 -44 381 -32Q369 -4 369 30V111Q373 149 373.0 190.0Q373 231 385 265L395 271H477L479 273H581Q611 275 631 255Q647 213 648.0 166.0Q649 119 651 70V-16Q643 -34 625 -42H509L507 -44ZM593 16V66L591 91H549L499 89L427 91V30L429 14H507L509 16ZM589 149V181L585 213L577 215H479L433 213L431 149L547 147ZM261 193Q246 199 240 213V229Q263 253 289.0 278.0Q315 303 327 335H287L240 333Q226 339 220 353V369Q226 383 240 389L361 395L393 459H357L333 457Q319 463 313 477V493Q319 507 333 513L415 517L431 587H319Q305 594 299 608V624Q305 638 319 644L327 646H435L445 648Q451 680 454.0 712.0Q457 744 469 772Q479 780 495 778Q509 772 515 758V724L503 648H529L663 652Q677 646 683 632V616Q677 602 663 596L491 589L477 519H535L537 521H641Q655 515 661 501V485Q655 471 641 465L577 463V459L613 401H619L765 407Q782 401 788 385V369Q782 355 768 349L661 345V341Q695 309 733.5 286.0Q772 263 804 231V215Q798 201 784 195H768Q723 223 681.0 252.0Q639 281 601 319L577 343L395 335Q381 305 362.0 276.0Q343 247 315 221Q293 195 261 193ZM543 401 509 461H457Q445 427 431 395H477Z\" fill=\"black\"/></g><g transform=\"translate(480, 130) scale(0.1953125, -0.1953125)\"><path d=\"M22 159V193H105Q107 201 107 208L153 206Q159 205 159 200Q159 196 151 196Q151 194 151 193H237V159H144Q144 158 143 156Q143 154 142 153H227V125H133Q133 124 132 123Q131 121 130 120H246V87H210Q227 71 252 66Q236 45 229 20Q219 26 206 35V-23H160V-15H95V-23H49V32Q41 26 35 23Q21 46 4 60Q27 72 45 87H10V120H78Q81 123 82 125H33V153H96Q98 156 98 159ZM95 52V45H160V52ZM95 19V12H160V19ZM110 87Q109 86 107 83Q105 81 104 79H161Q160 81 158 83Q156 86 155 87Z\" fill=\"black\"/></g><g transform=\"translate(480, 205) scale(0.048828125, -0.048828125)\"><path d=\"M341 -62Q325 -61 322 -45Q300 109 291 264Q292 283 311 284Q326 282 329 269Q331 270 332 271Q431 308 537 303Q588 302 639.0 289.0Q690 276 722 233Q736 187 733.5 139.5Q731 92 725.5 45.0Q720 -2 712 -49Q709 -61 699 -65Q701 -69 701 -74Q698 -90 681 -91H679Q663 -90 646 -88Q579 -80 512.0 -76.0Q445 -72 379 -87Q362 -90 354 -74Q350 -56 367 -49Q437 -32 508.0 -36.0Q579 -40 650 -48Q661 -49 673 -51Q673 -47 673 -43Q682 12 688 68Q634 79 579 81Q516 83 454 83Q399 83 346 79Q352 19 361 -40Q362 -58 344 -62ZM99 193Q85 194 81 207Q76 225 93 232Q228 287 318 403Q320 405 321 407Q210 406 100 403Q82 404 80 422Q81 440 99 442Q174 444 249 445Q299 446 350 446Q383 494 408 548Q291 546 174 543Q156 544 153 562Q155 580 172 583Q298 586 425 587Q444 635 458 684Q297 682 137 679Q119 679 117 698Q118 716 136 718Q301 722 468 723Q479 772 485 822Q489 840 507 839Q525 835 524 817Q518 770 508 723Q704 726 900 716Q918 712 918 694Q915 677 898 676H896Q702 687 507 684Q503 684 499 684Q486 635 468 588Q481 588 494 588Q679 591 863 581Q881 577 881 559Q878 542 861 541H860Q740 548 620 549Q641 495 673 447Q709 447 745 447Q841 446 937 440Q955 437 955 419Q953 401 935 400H934Q844 406 753 407Q727 407 701 408Q720 383 742 360Q823 268 940 232Q957 226 955 208Q950 194 935 193Q933 193 931 194Q804 231 714 330Q679 367 650 408Q579 409 507 408Q439 408 371 407Q359 391 346 375Q250 252 106 194Q102 193 99 193ZM687 214Q658 247 615.0 254.5Q572 262 531 263Q437 267 350 235Q340 231 332 235Q336 176 342 118Q398 123 455 123Q521 123 587 121Q640 119 692 108Q695 161 687 214ZM578 544Q577 546 577 549Q543 549 508 548Q480 548 452 548Q428 495 397 447Q444 447 490 447Q557 448 625 447Q598 493 578 544Z\" fill=\"black\"/></g><g transform=\"translate(550, 130) scale(0.048828125, -0.048828125)\"><path d=\"M403 -44 381 -32Q369 -4 369 30V111Q373 149 373.0 190.0Q373 231 385 265L395 271H477L479 273H581Q611 275 631 255Q647 213 648.0 166.0Q649 119 651 70V-16Q643 -34 625 -42H509L507 -44ZM593 16V66L591 91H549L499 89L427 91V30L429 14H507L509 16ZM589 149V181L585 213L577 215H479L433 213L431 149L547 147ZM261 193Q246 199 240 213V229Q263 253 289.0 278.0Q315 303 327 335H287L240 333Q226 339 220 353V369Q226 383 240 389L361 395L393 459H357L333 457Q319 463 313 477V493Q319 507 333 513L415 517L431 587H319Q305 594 299 608V624Q305 638 319 644L327 646H435L445 648Q451 680 454.0 712.0Q457 744 469 772Q479 780 495 778Q509 772 515 758V724L503 648H529L663 652Q677 646 683 632V616Q677 602 663 596L491 589L477 519H535L537 521H641Q655 515 661 501V485Q655 471 641 465L577 463V459L613 401H619L765 407Q782 401 788 385V369Q782 355 768 349L661 345V341Q695 309 733.5 286.0Q772 263 804 231V215Q798 201 784 195H768Q723 223 681.0 252.0Q639 281 601 319L577 343L395 335Q381 305 362.0 276.0Q343 247 315 221Q293 195 261 193ZM543 401 509 461H457Q445 427 431 395H477Z\" fill=\"black\"/></g><g transform=\"translate(550, 205) scale(0.05, -0.05)\"><path d=\"M75 410Q67 410 61.0 416.0Q55 422 55.0 430.0Q55 438 61.0 444.5Q67 451 75 451H316Q327 451 333 460Q364 505 387 551Q389 555 387.0 558.5Q385 562 381 562H152Q144 562 138.0 568.0Q132 574 132.0 582.0Q132 590 138.0 596.0Q144 602 152 602H400Q411 602 416 614Q427 640 443 694Q444 698 442.0 702.0Q440 706 435 706H114Q105 706 99.0 712.0Q93 718 93 727Q93 747 114 747H446Q456 747 458 757L467 808Q468 818 476.0 824.5Q484 831 495 830Q505 829 511.0 821.5Q517 814 516 804Q514 788 508 758Q507 754 509.5 750.5Q512 747 516 747H886Q907 747 907 727Q907 718 901.0 712.0Q895 706 886 706H507Q496 706 493 694Q480 651 466 614Q464 610 466.5 606.0Q469 602 473 602H848Q856 602 862.0 596.0Q868 590 868.0 582.0Q868 574 862.0 568.0Q856 562 848 562H620Q610 562 614 552Q640 501 667 461Q674 451 685 451H925Q933 451 939.0 444.5Q945 438 945.0 430.0Q945 422 939.0 416.0Q933 410 925 410H716Q712 410 711.0 407.0Q710 404 712 401Q805 288 929 221Q949 209 941 187Q937 178 927.5 174.5Q918 171 910 176Q844 215 780 271Q779 272 778.0 271.0Q777 270 778 269Q792 249 792 222V-54Q792 -64 785.0 -71.0Q778 -78 768 -78Q757 -78 750.0 -71.0Q743 -64 743 -54V-37Q743 -32 738 -32H262Q257 -32 257 -37V-54Q257 -64 250.0 -71.0Q243 -78 232 -78Q222 -78 215.0 -71.0Q208 -64 208 -54V222Q208 248 220 267Q220 268 219 269Q154 212 90 176Q82 171 72.5 174.5Q63 178 59 187Q51 209 71 221Q196 289 289 401Q291 403 290.0 406.5Q289 410 285 410ZM743 18V110Q743 121 732 121H268Q257 121 257 110V18Q257 7 268 7H732Q743 7 743 18ZM743 170V257Q743 268 732 268H268Q257 268 257 257V170Q257 158 268 158H732Q743 158 743 170ZM388 461Q386 458 387.5 454.5Q389 451 393 451H610Q614 451 615.5 454.0Q617 457 615 460Q585 508 565 551Q560 562 548 562H455Q444 562 439 552Q415 502 388 461ZM346 401Q310 354 262 306Q261 304 266 303Q279 308 293 308H707Q719 308 737 302Q739 301 740.0 302.5Q741 304 740 305Q695 350 656 401Q650 410 638 410H364Q352 410 346 401Z\" fill=\"black\"/></g><g transform=\"translate(620, 130) scale(0.0244140625, -0.0244140625)\"><path d=\"M880 1771Q912 1771 944 1733V1725Q944 1719 931 1712H922Q900 1729 884 1729Q815 1686 754 1547Q747 1547 737 1514Q741 1514 741 1509Q790 1518 859 1518Q921 1518 944 1471Q944 1417 694 1400Q678 1365 631 1226H635Q904 1302 944 1302Q994 1294 994 1256Q994 1204 792 1167Q594 1114 585 1104L521 918V914H525Q669 969 952 1057Q1070 1120 1070 1167Q1071 1173 1087 1188Q1104 1182 1104 1176Q1104 1055 990 1003L948 969Q1000 969 1497 694Q1704 552 1704 508Q1704 476 1653 458Q1543 489 1543 508L1548 517V525Q1439 621 1151 800Q991 939 897 939H880Q582 834 483 804Q367 514 314 86Q297 31 259 31Q220 31 213 90V111Q213 365 335 762V766H331Q310 766 280 762Q211 762 196 796Q196 820 251 850Q272 844 272 825Q395 843 395 905Q487 1098 487 1112Q403 1124 403 1163Q403 1188 517 1248H534Q536 1248 547 1239Q555 1239 623 1400L475 1412Q420 1409 420 1404Q399 1409 399 1416V1429Q399 1449 661 1501Q683 1501 758 1649Q827 1764 880 1771ZM509 1197V1193H521Q527 1193 534 1205V1209H521Q515 1209 509 1197ZM889 635Q1058 635 1125 441Q1151 361 1151 234V204Q1151 5 1003 -197Q931 -277 825 -277Q689 -277 572 65Q559 110 547 242Q547 280 551 411Q538 471 538 496Q538 537 593 580Q614 624 631 631H639Q656 622 656 610Q752 635 889 635ZM623 437Q623 394 627 310H631Q772 373 986 373Q994 373 1049 356Q1049 477 944 538Q944 551 766 555Q623 555 623 504ZM635 251Q658 200 678 82V78L673 48Q678 48 678 44L960 90Q967 90 982 73Q982 51 800 -32Q715 -49 707 -49L648 -36V-41Q742 -197 817 -197Q938 -197 994 -58Q1058 56 1058 175V259L1053 301Q635 274 635 251Z\" fill=\"black\"/></g><g transform=\"translate(620, 205) scale(0.05, -0.05)\"><path d=\"M772 373 948 122 870 94 788 211V-59H692V-30H308V-56H212V183L138 63L57 89L232 373H90V421H262L326 526H199V574H356L415 670H166V718H445L521 842L602 816L542 718H819V670H512L453 574H787V526H664L738 421H895V373ZM567 526H423L359 421H640ZM308 319V301H725L674 373H329L296 319ZM308 158H692V253H308ZM308 110V18H692V110Z\" fill=\"black\"/></g><g transform=\"translate(690, 130) scale(0.05, -0.05)\"><path d=\"M340 185C340 178 343 175 349 175H651C657 175 660 178 660 185V210C660 217 657 220 651 220H349C343 220 340 217 340 210ZM454 491C450 482 453 478 463 478H544C553 478 556 482 552 491C552 490 550 495 546 505C543 511 539 514 533 514H475C468 514 464 511 461 505C452 488 450 483 454 491ZM362 340C354 330 356 325 368 325H634C647 325 649 330 642 339C637 346 632 352 629 357C626 362 621 365 614 365H389C383 365 378 362 374 357C371 352 367 347 362 340ZM651 48C657 48 660 51 660 58V83C660 90 657 93 651 93H349C343 93 340 90 340 83V58C340 51 343 48 349 48ZM306 501C310 510 307 514 298 514H116C109 514 106 517 106 524V606C106 613 109 616 115 616H341C348 616 352 619 354 626C355 627 355 629 356 632C356 632 357 635 358 641C360 648 357 652 349 652H85C78 652 75 655 75 662V759C75 766 78 769 84 769H375C382 769 386 772 387 779C388 788 390 800 391 815C392 822 395 825 401 825L537 820C544 820 548 817 547 810C546 798 544 788 543 780C542 773 545 769 552 769H915C922 769 925 766 925 759V662C925 655 922 652 915 652H524C517 652 513 649 512 642C509 632 508 627 508 627C505 620 508 616 517 616H884C891 616 894 613 894 606V524C894 517 891 514 884 514H704C694 514 691 510 696 501C696 500 698 495 703 486C706 481 711 478 717 478H946C953 478 956 475 956 468V375C956 368 953 365 947 365H819C803 365 801 360 812 350C851 315 899 282 956 251C962 248 964 243 962 236L921 113C918 106 914 104 908 108C883 124 857 142 831 163C821 171 816 169 816 156V-72C816 -79 813 -82 807 -82H670C663 -82 660 -79 660 -72V-59C660 -52 657 -49 651 -49H349C343 -49 340 -52 340 -59V-72C340 -79 337 -82 331 -82H194C187 -82 184 -79 184 -72V157C184 169 179 171 169 163C143 143 118 125 93 108C86 104 82 106 79 113L38 237C36 243 38 248 44 251C103 283 151 316 189 350C200 360 198 365 183 365H54C47 365 44 368 44 375V468C44 475 47 478 53 478H283C290 478 295 481 298 487C300 491 303 496 306 501Z\" fill=\"black\"/></g><g transform=\"translate(690, 205) scale(0.05, -0.05)\"><path d=\"M917 187Q935 162 935 141Q935 117 909 108Q892 103 882 103Q849 103 825 136L804 166V5Q804 -26 787.5 -42.5Q771 -59 740 -59Q704 -59 687 -36H674H325H311Q294 -56 260 -56Q229 -56 212.5 -39.5Q196 -23 196 8V132L181 108Q159 72 123 72Q96 72 82.0 82.5Q68 93 68 112Q68 133 82 155L212 367H154Q123 367 106.5 375.0Q90 383 90 397Q90 411 106.5 419.0Q123 427 154 427H249L307 520H263Q232 520 215.5 528.0Q199 536 199 550Q199 564 215.5 572.0Q232 580 263 580H343L395 664H230Q199 664 182.5 672.0Q166 680 166 694Q166 708 182.5 716.0Q199 724 230 724H432L477 797Q500 833 535 833Q562 833 576.0 822.5Q590 812 590 793Q590 772 576 750L560 724H755Q786 724 802.5 716.0Q819 708 819 694Q819 680 802.5 672.0Q786 664 755 664H523L471 580H723Q754 580 770.5 572.0Q787 564 787 550Q787 536 770.5 528.0Q754 520 723 520H681L689 510L748 427H831Q862 427 878.5 419.0Q895 411 895 397Q895 383 878.5 375.0Q862 367 831 367H790ZM434 520 377 427H620L597 459Q579 483 579 505Q579 513 582 520ZM704 307 662 367H340L303 306H304Q310 307 325 307ZM676 247H325H324V164H325H676ZM325 24H674H676V104H325H324V24Z\" fill=\"black\"/></g><g transform=\"translate(760, 130) scale(0.05, -0.05)\"><path d=\"M917 187Q935 162 935 141Q935 117 909 108Q892 103 882 103Q849 103 825 136L804 166V5Q804 -26 787.5 -42.5Q771 -59 740 -59Q704 -59 687 -36H674H325H311Q294 -56 260 -56Q229 -56 212.5 -39.5Q196 -23 196 8V132L181 108Q159 72 123 72Q96 72 82.0 82.5Q68 93 68 112Q68 133 82 155L212 367H154Q123 367 106.5 375.0Q90 383 90 397Q90 411 106.5 419.0Q123 427 154 427H249L307 520H263Q232 520 215.5 528.0Q199 536 199 550Q199 564 215.5 572.0Q232 580 263 580H343L395 664H230Q199 664 182.5 672.0Q166 680 166 694Q166 708 182.5 716.0Q199 724 230 724H432L477 797Q500 833 535 833Q562 833 576.0 822.5Q590 812 590 793Q590 772 576 750L560 724H755Q786 724 802.5 716.0Q819 708 819 694Q819 680 802.5 672.0Q786 664 755 664H523L471 580H723Q754 580 770.5 572.0Q787 564 787 550Q787 536 770.5 528.0Q754 520 723 520H681L689 510L748 427H831Q862 427 878.5 419.0Q895 411 895 397Q895 383 878.5 375.0Q862 367 831 367H790ZM434 520 377 427H620L597 459Q579 483 579 505Q579 513 582 520ZM704 307 662 367H340L303 306H304Q310 307 325 307ZM676 247H325H324V164H325H676ZM325 24H674H676V104H325H324V24Z\" fill=\"black\"/></g><g transform=\"translate(760, 205) scale(0.05, -0.05)\"><path d=\"M378 173H622V231H378ZM462 477H542Q541 486 538.0 494.0Q535 502 532.0 512.0Q529 522 528 528H477Q467 495 462 477ZM415 378Q399 345 392 323H610Q601 346 588 378ZM622 36V95H378V36ZM174 378V477H357Q365 498 373 528H221V618H401Q404 634 410 668H197V770H427Q431 812 433 834L534 830L529 770H803V668H511Q505 634 504 618H779V528H627Q640 489 643 477H826V378H702Q753 295 833 237L800 114Q753 149 726 193V-88H622V-52H378V-88H274V192Q253 155 200 114L167 237Q251 298 298 378Z\" fill=\"black\"/></g><g transform=\"translate(830, 130) scale(0.048828125, -0.048828125)\"><path d=\"M359 38H663V105H359ZM663 193V256H359V193ZM635 401H402Q377 362 367 350H671Q649 379 635 401ZM555 552H478Q476 546 471.5 535.5Q467 525 463.5 516.5Q460 508 457 501H579Q562 535 555 552ZM971 401H783Q873 300 1005 248Q961 210 923 145Q846 181 787 230V-87H663V-56H359V-92H240V218Q183 171 100 126Q89 150 66.0 179.0Q43 208 23 223Q164 292 254 401H49V501H322Q330 514 348 552H138V648H384Q386 656 397 698H104V795H415Q418 821 422 866L546 858Q543 823 539 795H918V698H521Q516 669 509 648H882V552H679Q695 522 708 501H971Z\" fill=\"black\"/></g><g transform=\"translate(830, 205) scale(0.0244140625, -0.0244140625)\"><path d=\"M880 1771Q912 1771 944 1733V1725Q944 1719 931 1712H922Q900 1729 884 1729Q815 1686 754 1547Q747 1547 737 1514Q741 1514 741 1509Q790 1518 859 1518Q921 1518 944 1471Q944 1417 694 1400Q678 1365 631 1226H635Q904 1302 944 1302Q994 1294 994 1256Q994 1204 792 1167Q594 1114 585 1104L521 918V914H525Q669 969 952 1057Q1070 1120 1070 1167Q1071 1173 1087 1188Q1104 1182 1104 1176Q1104 1055 990 1003L948 969Q1000 969 1497 694Q1704 552 1704 508Q1704 476 1653 458Q1543 489 1543 508L1548 517V525Q1439 621 1151 800Q991 939 897 939H880Q582 834 483 804Q367 514 314 86Q297 31 259 31Q220 31 213 90V111Q213 365 335 762V766H331Q310 766 280 762Q211 762 196 796Q196 820 251 850Q272 844 272 825Q395 843 395 905Q487 1098 487 1112Q403 1124 403 1163Q403 1188 517 1248H534Q536 1248 547 1239Q555 1239 623 1400L475 1412Q420 1409 420 1404Q399 1409 399 1416V1429Q399 1449 661 1501Q683 1501 758 1649Q827 1764 880 1771ZM509 1197V1193H521Q527 1193 534 1205V1209H521Q515 1209 509 1197ZM889 635Q1058 635 1125 441Q1151 361 1151 234V204Q1151 5 1003 -197Q931 -277 825 -277Q689 -277 572 65Q559 110 547 242Q547 280 551 411Q538 471 538 496Q538 537 593 580Q614 624 631 631H639Q656 622 656 610Q752 635 889 635ZM623 437Q623 394 627 310H631Q772 373 986 373Q994 373 1049 356Q1049 477 944 538Q944 551 766 555Q623 555 623 504ZM635 251Q658 200 678 82V78L673 48Q678 48 678 44L960 90Q967 90 982 73Q982 51 800 -32Q715 -49 707 -49L648 -36V-41Q742 -197 817 -197Q938 -197 994 -58Q1058 56 1058 175V259L1053 301Q635 274 635 251Z\" fill=\"black\"/></g><g transform=\"translate(900, 130) scale(0.048828125, -0.048828125)\"><path d=\"M302 -92 291 -86 287 -79V-39Q290 12 293.5 62.5Q297 113 304 163H302Q291 155 276 156L269 143Q263 139 254 140Q247 143 243 150L242 160L243 164Q232 163 223 170L220 165L217 164Q214 154 209 146Q203 141 194 141L183 148Q177 158 177 171Q199 224 222.5 276.5Q246 329 271 381H267Q247 378 227.0 373.5Q207 369 186 367Q173 376 158 379Q137 374 115 370L106 376L102 389L109 400Q126 407 145 410L149 417Q162 424 177 425Q177 433 183 439L188 441L194 450Q224 459 255.5 463.0Q287 467 319 471L348 527H346Q323 523 301 519L293 524Q287 531 289 541Q293 550 302 553L315 555L316 566H314L303 565Q295 568 292 576L291 584L298 595Q322 602 347.5 605.0Q373 608 398 611Q405 623 412.0 634.0Q419 645 425 657H423L347 647L337 654Q333 659 334 666H326L287 660L277 665Q267 675 266 688L272 698Q285 704 300 705V708L299 716L304 725Q349 732 395.5 737.5Q442 743 487 750Q496 762 503.0 774.5Q510 787 521 797H523L526 803Q545 807 561 815L573 808Q577 803 576 796H578Q589 815 605 828H614L623 822Q627 815 626 806L595 759H602L624 761H677L691 762Q716 762 738 754Q743 748 743 740L738 728Q744 728 748 722Q752 716 751 708L745 699Q737 694 726 695V692L728 683L722 672Q716 667 708 668L670 671H619L540 666L516 622H533Q575 625 618.0 627.0Q661 629 704 630L715 625L720 613Q728 613 733 607L746 594L747 583Q738 570 732 555L724 551H671L648 550V548L689 498L723 497H764Q788 492 813.5 490.0Q839 488 863 481L866 472H910Q917 469 921 462L922 452L917 443L908 439Q910 427 901 420Q892 418 884 414L878 400L864 395L759 403V400Q801 343 844.0 286.0Q887 229 923 169L917 160L904 156Q896 159 889 165Q887 151 881 139Q874 133 864 135Q855 142 842 142L839 135Q832 129 823 130L814 135L797 162H795L786 154L776 153L766 160L757 172Q749 125 745.5 77.0Q742 29 741 -20L742 -33Q737 -43 730 -51Q723 -57 713 -55Q705 -52 702 -44L701 -37Q693 -37 688 -30L685 -19H683L677 -28L674 -29Q675 -43 666 -53Q660 -57 652 -56L643 -50Q634 -37 635 -20H625Q563 -23 501.0 -28.0Q439 -33 379 -43Q380 -61 371 -75Q365 -79 356 -78L348 -73Q343 -67 344 -59H342Q339 -65 333 -68Q324 -68 320 -72L321 -77L316 -87Q310 -92 302 -92ZM625 64 626 65 625 90 626 117H613Q560 113 506.0 108.0Q452 103 400 95Q397 82 394.0 69.0Q391 56 391 42H400Q456 49 512.5 54.0Q569 59 625 64ZM633 203 641 258H634L487 240L474 245L424 236L411 180H419ZM657 354V357L630 407L571 408L570 407H507Q482 406 457.0 405.0Q432 404 409 399L377 324H383Q445 336 507.5 343.5Q570 351 633 356Q641 352 650 353ZM587 495V497Q574 515 568 537L572 546H563L473 540L449 486H454Q487 489 520.5 491.5Q554 494 587 495Z\" fill=\"black\"/></g><g transform=\"translate(900, 205) scale(0.048828125, -0.048828125)\"><path d=\"M662 -51 640 -11Q658 27 659.0 70.0Q660 113 666 154Q677 228 687 286Q640 295 582.0 296.5Q524 298 466 298L364 277L359 195L365 178Q501 178 651 175L656 140Q576 141 503 137Q443 140 394 132L380 134L361 130L359 74L363 12Q499 30 647 22L656 -4L641 -22Q569 -11 501 -16Q463 -24 421.5 -24.0Q380 -24 345 -44L320 -32L305 -36L284 -21L275 14L307 22L317 19L321 35L315 47Q310 114 318 178L313 205L318 264L313 277L311 312Q263 263 190 218Q154 182 102 169L83 202Q127 212 153.5 239.5Q180 267 211 282L220 297Q277 347 323 407Q346 428 349 444L322 446L308 440L291 443L278 440Q243 442 210 437Q153 429 94 426L67 437L59 464Q76 482 97 478Q121 467 148 470L165 475Q220 478 267.0 480.5Q314 483 357 492L367 496L377 501L390 532L403 543L417 577L418 581Q379 577 327.5 574.0Q276 571 225 560L200 574L195 596Q217 614 243 612L266 609Q303 612 341.0 616.0Q379 620 415 625L439 627L443 658Q454 693 456 722L430 724L417 719L392 721L356 713L341 716L327 710L296 713L159 693L141 728L154 746L231 751Q294 751 347.5 755.0Q401 759 452 773L463 777L468 780L470 812L482 869L513 880Q536 858 530 828Q519 797 521 769L543 767Q591 773 644.0 774.5Q697 776 746 790Q763 773 760 747L725 740L715 743Q695 738 674 732L660 735Q631 727 597 730L584 732L521 725Q497 677 488 628L620 625L633 623Q689 628 756 635L768 595L690 582L656 588L646 582L536 579L523 585L476 577L465 569Q444 530 432 495L436 494L536 499L510 527Q495 543 498 564Q514 576 534 573Q567 533 607 506L627 511Q742 505 854 511Q870 519 893 519Q916 503 909 475L883 467L869 470L845 465L807 473L786 467Q728 469 673 467L653 459V458V457L670 451L673 434Q736 386 803 338L806 327Q853 302 907.5 281.5Q962 261 1024 229L1000 204Q960 213 925.5 226.0Q891 239 858 255Q795 283 738 316L733 328L707 344Q676 374 645.0 404.0Q614 434 584 462H573L564 456Q482 459 407 449L401 439Q379 403 360 373Q367 348 367 326L413 330L432 328Q488 339 554 336H619L731 330L744 296L739 269Q725 222 717 185L714 156L717 140Q706 98 702.0 52.5Q698 7 689 -41Z\" fill=\"black\"/></g><g transform=\"translate(970, 130) scale(0.05, -0.05)\"><path d=\"M772 373 948 122 870 94 788 211V-59H692V-30H308V-56H212V183L138 63L57 89L232 373H90V421H262L326 526H199V574H356L415 670H166V718H445L521 842L602 816L542 718H819V670H512L453 574H787V526H664L738 421H895V373ZM567 526H423L359 421H640ZM308 319V301H725L674 373H329L296 319ZM308 158H692V253H308ZM308 110V18H692V110Z\" fill=\"black\"/></g><g transform=\"translate(970, 205) scale(0.048828125, -0.048828125)\"><path d=\"M359 38H663V105H359ZM663 193V256H359V193ZM635 401H402Q377 362 367 350H671Q649 379 635 401ZM555 552H478Q476 546 471.5 535.5Q467 525 463.5 516.5Q460 508 457 501H579Q562 535 555 552ZM971 401H783Q873 300 1005 248Q961 210 923 145Q846 181 787 230V-87H663V-56H359V-92H240V218Q183 171 100 126Q89 150 66.0 179.0Q43 208 23 223Q164 292 254 401H49V501H322Q330 514 348 552H138V648H384Q386 656 397 698H104V795H415Q418 821 422 866L546 858Q543 823 539 795H918V698H521Q516 669 509 648H882V552H679Q695 522 708 501H971Z\" fill=\"black\"/></g><g transform=\"translate(1040, 130) scale(0.05, -0.05)\"><path d=\"M75 410Q67 410 61.0 416.0Q55 422 55.0 430.0Q55 438 61.0 444.5Q67 451 75 451H316Q327 451 333 460Q364 505 387 551Q389 555 387.0 558.5Q385 562 381 562H152Q144 562 138.0 568.0Q132 574 132.0 582.0Q132 590 138.0 596.0Q144 602 152 602H400Q411 602 416 614Q427 640 443 694Q444 698 442.0 702.0Q440 706 435 706H114Q105 706 99.0 712.0Q93 718 93 727Q93 747 114 747H446Q456 747 458 757L467 808Q468 818 476.0 824.5Q484 831 495 830Q505 829 511.0 821.5Q517 814 516 804Q514 788 508 758Q507 754 509.5 750.5Q512 747 516 747H886Q907 747 907 727Q907 718 901.0 712.0Q895 706 886 706H507Q496 706 493 694Q480 651 466 614Q464 610 466.5 606.0Q469 602 473 602H848Q856 602 862.0 596.0Q868 590 868.0 582.0Q868 574 862.0 568.0Q856 562 848 562H620Q610 562 614 552Q640 501 667 461Q674 451 685 451H925Q933 451 939.0 444.5Q945 438 945.0 430.0Q945 422 939.0 416.0Q933 410 925 410H716Q712 410 711.0 407.0Q710 404 712 401Q805 288 929 221Q949 209 941 187Q937 178 927.5 174.5Q918 171 910 176Q844 215 780 271Q779 272 778.0 271.0Q777 270 778 269Q792 249 792 222V-54Q792 -64 785.0 -71.0Q778 -78 768 -78Q757 -78 750.0 -71.0Q743 -64 743 -54V-37Q743 -32 738 -32H262Q257 -32 257 -37V-54Q257 -64 250.0 -71.0Q243 -78 232 -78Q222 -78 215.0 -71.0Q208 -64 208 -54V222Q208 248 220 267Q220 268 219 269Q154 212 90 176Q82 171 72.5 174.5Q63 178 59 187Q51 209 71 221Q196 289 289 401Q291 403 290.0 406.5Q289 410 285 410ZM743 18V110Q743 121 732 121H268Q257 121 257 110V18Q257 7 268 7H732Q743 7 743 18ZM743 170V257Q743 268 732 268H268Q257 268 257 257V170Q257 158 268 158H732Q743 158 743 170ZM388 461Q386 458 387.5 454.5Q389 451 393 451H610Q614 451 615.5 454.0Q617 457 615 460Q585 508 565 551Q560 562 548 562H455Q444 562 439 552Q415 502 388 461ZM346 401Q310 354 262 306Q261 304 266 303Q279 308 293 308H707Q719 308 737 302Q739 301 740.0 302.5Q741 304 740 305Q695 350 656 401Q650 410 638 410H364Q352 410 346 401Z\" fill=\"black\"/></g><g transform=\"translate(1040, 205) scale(0.05, -0.05)\"><path d=\"M340 185C340 178 343 175 349 175H651C657 175 660 178 660 185V210C660 217 657 220 651 220H349C343 220 340 217 340 210ZM454 491C450 482 453 478 463 478H544C553 478 556 482 552 491C552 490 550 495 546 505C543 511 539 514 533 514H475C468 514 464 511 461 505C452 488 450 483 454 491ZM362 340C354 330 356 325 368 325H634C647 325 649 330 642 339C637 346 632 352 629 357C626 362 621 365 614 365H389C383 365 378 362 374 357C371 352 367 347 362 340ZM651 48C657 48 660 51 660 58V83C660 90 657 93 651 93H349C343 93 340 90 340 83V58C340 51 343 48 349 48ZM306 501C310 510 307 514 298 514H116C109 514 106 517 106 524V606C106 613 109 616 115 616H341C348 616 352 619 354 626C355 627 355 629 356 632C356 632 357 635 358 641C360 648 357 652 349 652H85C78 652 75 655 75 662V759C75 766 78 769 84 769H375C382 769 386 772 387 779C388 788 390 800 391 815C392 822 395 825 401 825L537 820C544 820 548 817 547 810C546 798 544 788 543 780C542 773 545 769 552 769H915C922 769 925 766 925 759V662C925 655 922 652 915 652H524C517 652 513 649 512 642C509 632 508 627 508 627C505 620 508 616 517 616H884C891 616 894 613 894 606V524C894 517 891 514 884 514H704C694 514 691 510 696 501C696 500 698 495 703 486C706 481 711 478 717 478H946C953 478 956 475 956 468V375C956 368 953 365 947 365H819C803 365 801 360 812 350C851 315 899 282 956 251C962 248 964 243 962 236L921 113C918 106 914 104 908 108C883 124 857 142 831 163C821 171 816 169 816 156V-72C816 -79 813 -82 807 -82H670C663 -82 660 -79 660 -72V-59C660 -52 657 -49 651 -49H349C343 -49 340 -52 340 -59V-72C340 -79 337 -82 331 -82H194C187 -82 184 -79 184 -72V157C184 169 179 171 169 163C143 143 118 125 93 108C86 104 82 106 79 113L38 237C36 243 38 248 44 251C103 283 151 316 189 350C200 360 198 365 183 365H54C47 365 44 368 44 375V468C44 475 47 478 53 478H283C290 478 295 481 298 487C300 491 303 496 306 501Z\" fill=\"black\"/></g><g transform=\"translate(1110, 130) scale(0.048828125, -0.048828125)\"><path d=\"M236 149H788V292H236ZM358 446H667Q617 515 581 594H446Q413 525 358 446ZM351 435Q294 360 229 302H796Q727 365 676 435ZM788 -10V138H236V-10ZM66 435V446H346Q392 509 434 594H148V604H438Q472 680 487 742H107V753H490Q502 803 506 846L516 845Q512 803 501 753H917V742H498Q480 672 450 604H876V594H592Q631 512 681 446H958V435H688Q811 278 961 202L955 192Q880 230 799 300V-72H788V-21H236V-72H225V300Q145 231 69 192L63 202Q216 279 338 435Z\" fill=\"black\"/></g><g transform=\"translate(1110, 205) scale(0.048828125, -0.048828125)\"><path d=\"M302 -92 291 -86 287 -79V-39Q290 12 293.5 62.5Q297 113 304 163H302Q291 155 276 156L269 143Q263 139 254 140Q247 143 243 150L242 160L243 164Q232 163 223 170L220 165L217 164Q214 154 209 146Q203 141 194 141L183 148Q177 158 177 171Q199 224 222.5 276.5Q246 329 271 381H267Q247 378 227.0 373.5Q207 369 186 367Q173 376 158 379Q137 374 115 370L106 376L102 389L109 400Q126 407 145 410L149 417Q162 424 177 425Q177 433 183 439L188 441L194 450Q224 459 255.5 463.0Q287 467 319 471L348 527H346Q323 523 301 519L293 524Q287 531 289 541Q293 550 302 553L315 555L316 566H314L303 565Q295 568 292 576L291 584L298 595Q322 602 347.5 605.0Q373 608 398 611Q405 623 412.0 634.0Q419 645 425 657H423L347 647L337 654Q333 659 334 666H326L287 660L277 665Q267 675 266 688L272 698Q285 704 300 705V708L299 716L304 725Q349 732 395.5 737.5Q442 743 487 750Q496 762 503.0 774.5Q510 787 521 797H523L526 803Q545 807 561 815L573 808Q577 803 576 796H578Q589 815 605 828H614L623 822Q627 815 626 806L595 759H602L624 761H677L691 762Q716 762 738 754Q743 748 743 740L738 728Q744 728 748 722Q752 716 751 708L745 699Q737 694 726 695V692L728 683L722 672Q716 667 708 668L670 671H619L540 666L516 622H533Q575 625 618.0 627.0Q661 629 704 630L715 625L720 613Q728 613 733 607L746 594L747 583Q738 570 732 555L724 551H671L648 550V548L689 498L723 497H764Q788 492 813.5 490.0Q839 488 863 481L866 472H910Q917 469 921 462L922 452L917 443L908 439Q910 427 901 420Q892 418 884 414L878 400L864 395L759 403V400Q801 343 844.0 286.0Q887 229 923 169L917 160L904 156Q896 159 889 165Q887 151 881 139Q874 133 864 135Q855 142 842 142L839 135Q832 129 823 130L814 135L797 162H795L786 154L776 153L766 160L757 172Q749 125 745.5 77.0Q742 29 741 -20L742 -33Q737 -43 730 -51Q723 -57 713 -55Q705 -52 702 -44L701 -37Q693 -37 688 -30L685 -19H683L677 -28L674 -29Q675 -43 666 -53Q660 -57 652 -56L643 -50Q634 -37 635 -20H625Q563 -23 501.0 -28.0Q439 -33 379 -43Q380 -61 371 -75Q365 -79 356 -78L348 -73Q343 -67 344 -59H342Q339 -65 333 -68Q324 -68 320 -72L321 -77L316 -87Q310 -92 302 -92ZM625 64 626 65 625 90 626 117H613Q560 113 506.0 108.0Q452 103 400 95Q397 82 394.0 69.0Q391 56 391 42H400Q456 49 512.5 54.0Q569 59 625 64ZM633 203 641 258H634L487 240L474 245L424 236L411 180H419ZM657 354V357L630 407L571 408L570 407H507Q482 406 457.0 405.0Q432 404 409 399L377 324H383Q445 336 507.5 343.5Q570 351 633 356Q641 352 650 353ZM587 495V497Q574 515 568 537L572 546H563L473 540L449 486H454Q487 489 520.5 491.5Q554 494 587 495Z\" fill=\"black\"/></g><g transform=\"translate(1180, 130) scale(0.0244140625, -0.0244140625)\"><path d=\"M482 307H1566V573H482ZM735 901H1315Q1226 1024 1156 1179H897Q833 1042 735 901ZM705 860Q593 714 482 614H1566Q1445 726 1345 860ZM1566 -9V266H482V-9ZM123 860V901H687Q778 1024 851 1179H287V1220H869Q933 1366 963 1475H205V1516H974Q997 1607 1004 1702L1044 1698Q1037 1605 1015 1516H1843V1475H1004Q970 1343 915 1220H1761V1179H1199Q1270 1031 1365 901H1925V860H1397Q1629 564 1934 407L1916 371Q1757 453 1607 578V-155H1566V-50H482V-155H441V578Q295 453 132 371L114 407Q428 564 655 860Z\" fill=\"black\"/></g><g transform=\"translate(1180, 205) scale(0.1953125, -0.1953125)\"><path d=\"M22 159V193H105Q107 201 107 208L153 206Q159 205 159 200Q159 196 151 196Q151 194 151 193H237V159H144Q144 158 143 156Q143 154 142 153H227V125H133Q133 124 132 123Q131 121 130 120H246V87H210Q227 71 252 66Q236 45 229 20Q219 26 206 35V-23H160V-15H95V-23H49V32Q41 26 35 23Q21 46 4 60Q27 72 45 87H10V120H78Q81 123 82 125H33V153H96Q98 156 98 159ZM95 52V45H160V52ZM95 19V12H160V19ZM110 87Q109 86 107 83Q105 81 104 79H161Q160 81 158 83Q156 86 155 87Z\" fill=\"black\"/></g><g transform=\"translate(1250, 130) scale(0.05, -0.05)\"><path d=\"M845 231V61Q845 17 817 -14Q803 -29 784.0 -38.0Q765 -47 742 -47H174V222Q151 215 131.5 215.5Q112 216 96 221Q80 226 67.5 237.5Q55 249 50 266Q45 282 49.0 300.0Q53 318 68 336Q86 357 116.0 374.0Q146 391 181 402Q210 412 239.5 418.5Q269 425 294 429Q301 440 307.0 451.0Q313 462 319 473H64V536H349Q354 548 358.5 560.0Q363 572 368 585H141V647H388Q392 660 395.0 672.5Q398 685 401 698H114V761H414Q417 778 419.5 796.0Q422 814 424 831H597Q593 796 585 761H897V698H569Q565 685 562.0 672.5Q559 660 554 647H868V585H530Q525 572 519.5 560.0Q514 548 508 536H946V473H474Q469 465 463.5 457.0Q458 449 453 441Q513 442 571.5 438.0Q630 434 686 425Q766 411 835.0 387.0Q904 363 955 325ZM704 306Q644 341 570.5 363.0Q497 385 420 395Q379 344 331 306H704ZM684 216Q684 228 672.5 236.5Q661 245 647 245H335V166H684ZM684 105H335V14H648Q661 14 672.5 22.5Q684 31 684 46ZM275 400Q254 398 231.0 393.0Q208 388 185 381Q159 373 136.5 361.5Q114 350 100 336Q89 325 84.5 313.0Q80 301 85 287Q89 276 100.0 272.0Q111 268 128 276Q173 297 208.0 325.5Q243 354 275 400Z\" fill=\"black\"/></g><g transform=\"translate(1250, 205) scale(0.05, -0.05)\"><path d=\"M845 231V61Q845 17 817 -14Q803 -29 784.0 -38.0Q765 -47 742 -47H174V222Q151 215 131.5 215.5Q112 216 96 221Q80 226 67.5 237.5Q55 249 50 266Q45 282 49.0 300.0Q53 318 68 336Q86 357 116.0 374.0Q146 391 181 402Q210 412 239.5 418.5Q269 425 294 429Q301 440 307.0 451.0Q313 462 319 473H64V536H349Q354 548 358.5 560.0Q363 572 368 585H141V647H388Q392 660 395.0 672.5Q398 685 401 698H114V761H414Q417 778 419.5 796.0Q422 814 424 831H597Q593 796 585 761H897V698H569Q565 685 562.0 672.5Q559 660 554 647H868V585H530Q525 572 519.5 560.0Q514 548 508 536H946V473H474Q469 465 463.5 457.0Q458 449 453 441Q513 442 571.5 438.0Q630 434 686 425Q766 411 835.0 387.0Q904 363 955 325ZM704 306Q644 341 570.5 363.0Q497 385 420 395Q379 344 331 306H704ZM684 216Q684 228 672.5 236.5Q661 245 647 245H335V166H684ZM684 105H335V14H648Q661 14 672.5 22.5Q684 31 684 46ZM275 400Q254 398 231.0 393.0Q208 388 185 381Q159 373 136.5 361.5Q114 350 100 336Q89 325 84.5 313.0Q80 301 85 287Q89 276 100.0 272.0Q111 268 128 276Q173 297 208.0 325.5Q243 354 275 400Z\" fill=\"black\"/></g><g transform=\"translate(495.0, 43.333333333333336) scale(0.03333333333333333, -0.03333333333333333)\"><path d=\"M713 525 793 496 628 0H529L409 387L288 0H189L25 496L108 525L242 102L364 483H461L580 102Z\" fill=\"black\"/></g><g transform=\"translate(528.3333333333333, 43.333333333333336) scale(0.03333333333333333, -0.03333333333333333)\"><path d=\"M170 0H80V520H170ZM125 609Q99 609 80.5 627.5Q62 646 62 672Q62 701 79.0 718.0Q96 735 125 735Q151 735 169.5 716.5Q188 698 188 672Q188 643 171.0 626.0Q154 609 125 609Z\" fill=\"black\"/></g><g transform=\"translate(561.6666666666666, 43.333333333333336) scale(0.03333333333333333, -0.03333333333333333)\"><path d=\"M277 -12Q229 -12 186.5 7.0Q144 26 112.5 61.0Q81 96 63.0 145.5Q45 195 45 257Q45 316 63.5 366.5Q82 417 113.5 453.5Q145 490 187.0 511.0Q229 532 276 532Q328 532 365.5 511.0Q403 490 424 468V740H514V126Q514 88 532.5 76.5Q551 65 573 65L554 -5Q459 -5 438 71Q415 39 376.0 13.5Q337 -12 277 -12ZM297 68Q334 68 367.5 85.5Q401 103 424 131V389Q405 413 371.5 433.5Q338 454 296 454Q260 454 230.5 439.0Q201 424 180.0 398.0Q159 372 148.0 336.5Q137 301 137 260Q137 218 149.0 183.0Q161 148 182.5 122.5Q204 97 233.5 82.5Q263 68 297 68Z\" fill=\"black\"/></g><g transform=\"translate(595.0, 43.333333333333336) scale(0.03333333333333333, -0.03333333333333333)\"><path d=\"M137 223Q146 150 188.0 109.0Q230 68 299 68Q344 68 380.0 77.5Q416 87 449 102L470 25Q434 8 389.0 -2.0Q344 -12 288 -12Q232 -12 187.0 6.5Q142 25 110.5 59.5Q79 94 62.0 144.5Q45 195 45 260Q45 318 62.0 368.0Q79 418 110.0 454.5Q141 491 184.0 511.5Q227 532 280 532Q336 532 378.0 513.0Q420 494 448.0 461.0Q476 428 490.0 384.0Q504 340 504 291Q504 256 501 223ZM278 454Q219 454 181.5 414.0Q144 374 136 296H421Q421 372 383.0 413.0Q345 454 278 454Z\" fill=\"black\"/></g><g transform=\"translate(628.3333333333333, 43.333333333333336) scale(0.03333333333333333, -0.03333333333333333)\"><path d=\"M45 257Q45 315 63.0 365.5Q81 416 113.5 453.0Q146 490 191.5 511.0Q237 532 291 532Q336 532 372.5 516.5Q409 501 436 478V520H518V126Q518 88 536.5 76.5Q555 65 577 65L558 -5Q462 -5 442 73Q430 57 414.5 41.5Q399 26 379.0 14.0Q359 2 334.0 -5.0Q309 -12 279 -12Q230 -12 187.5 7.0Q145 26 113.5 61.0Q82 96 63.5 145.5Q45 195 45 257ZM299 68Q337 68 371.0 86.0Q405 104 428 133V412Q401 431 368.5 442.5Q336 454 300 454Q264 454 234.0 440.0Q204 426 182.5 400.5Q161 375 149.0 339.0Q137 303 137 260Q137 218 149.0 182.5Q161 147 183.0 121.5Q205 96 234.5 82.0Q264 68 299 68Z\" fill=\"black\"/></g><g transform=\"translate(661.6666666666666, 43.333333333333336) scale(0.03333333333333333, -0.03333333333333333)\"><path d=\"M167 433Q195 475 238.5 503.5Q282 532 342 532Q430 532 473.5 479.0Q517 426 517 339V0H427V329Q427 386 401.0 419.5Q375 453 327 453Q304 453 282.0 444.5Q260 436 239.5 421.0Q219 406 201.5 386.0Q184 366 170 344V0H80V520H167Z\" fill=\"black\"/></g><g transform=\"translate(695.0, 43.333333333333336) scale(0.03333333333333333, -0.03333333333333333)\"><path d=\"M277 -12Q229 -12 186.5 7.0Q144 26 112.5 61.0Q81 96 63.0 145.5Q45 195 45 257Q45 316 63.5 366.5Q82 417 113.5 453.5Q145 490 187.0 511.0Q229 532 276 532Q328 532 365.5 511.0Q403 490 424 468V740H514V126Q514 88 532.5 76.5Q551 65 573 65L554 -5Q459 -5 438 71Q415 39 376.0 13.5Q337 -12 277 -12ZM297 68Q334 68 367.5 85.5Q401 103 424 131V389Q405 413 371.5 433.5Q338 454 296 454Q260 454 230.5 439.0Q201 424 180.0 398.0Q159 372 148.0 336.5Q137 301 137 260Q137 218 149.0 183.0Q161 148 182.5 122.5Q204 97 233.5 82.5Q263 68 297 68Z\" fill=\"black\"/></g><g transform=\"translate(728.3333333333334, 43.333333333333336) scale(0.03333333333333333, -0.03333333333333333)\"><path d=\"M59 520Q151 520 174 447Q181 458 195.5 473.0Q210 488 231.0 501.0Q252 514 279.0 523.0Q306 532 339 532Q384 532 425.5 514.0Q467 496 498.5 462.0Q530 428 549.0 378.0Q568 328 568 265Q568 203 549.5 152.0Q531 101 499.5 64.5Q468 28 427.0 8.0Q386 -12 341 -12Q294 -12 254.5 6.5Q215 25 189 49V-220H99V387Q99 421 82.5 435.5Q66 450 40 450ZM476 262Q476 307 463.5 342.5Q451 378 429.5 403.0Q408 428 379.5 441.0Q351 454 319 454Q276 454 241.5 432.5Q207 411 189 386V130Q215 103 248.5 85.5Q282 68 323 68Q357 68 385.0 82.0Q413 96 433.5 121.5Q454 147 465.0 182.5Q476 218 476 262Z\" fill=\"black\"/></g><g transform=\"translate(761.6666666666666, 43.333333333333336) scale(0.03333333333333333, -0.03333333333333333)\"><path d=\"M362 433Q343 441 317 441Q289 441 262.5 429.0Q236 417 215.5 393.0Q195 369 182.5 331.5Q170 294 170 243V0H80V520H167V407Q176 431 191.0 454.0Q206 477 226.5 494.0Q247 511 274.0 521.5Q301 532 334 532Q349 532 363.5 530.5Q378 529 389 526Z\" fill=\"black\"/></g><g transform=\"translate(795.0, 43.333333333333336) scale(0.03333333333333333, -0.03333333333333333)\"><path d=\"M137 223Q146 150 188.0 109.0Q230 68 299 68Q344 68 380.0 77.5Q416 87 449 102L470 25Q434 8 389.0 -2.0Q344 -12 288 -12Q232 -12 187.0 6.5Q142 25 110.5 59.5Q79 94 62.0 144.5Q45 195 45 260Q45 318 62.0 368.0Q79 418 110.0 454.5Q141 491 184.0 511.5Q227 532 280 532Q336 532 378.0 513.0Q420 494 448.0 461.0Q476 428 490.0 384.0Q504 340 504 291Q504 256 501 223ZM278 454Q219 454 181.5 414.0Q144 374 136 296H421Q421 372 383.0 413.0Q345 454 278 454Z\" fill=\"black\"/></g><g transform=\"translate(828.3333333333334, 43.333333333333336) scale(0.03333333333333333, -0.03333333333333333)\"><path d=\"M121 665H190V501H334V423H190V172Q190 143 196.5 123.0Q203 103 214.0 91.0Q225 79 240.5 73.5Q256 68 273 68Q298 68 320.0 76.0Q342 84 362 95L387 23Q367 11 333.0 -0.5Q299 -12 262 -12Q187 -12 143.5 37.0Q100 86 100 179V423H10V501H102Z\" fill=\"black\"/></g><g transform=\"translate(861.6666666666666, 43.333333333333336) scale(0.03333333333333333, -0.03333333333333333)\"><path d=\"M137 223Q146 150 188.0 109.0Q230 68 299 68Q344 68 380.0 77.5Q416 87 449 102L470 25Q434 8 389.0 -2.0Q344 -12 288 -12Q232 -12 187.0 6.5Q142 25 110.5 59.5Q79 94 62.0 144.5Q45 195 45 260Q45 318 62.0 368.0Q79 418 110.0 454.5Q141 491 184.0 511.5Q227 532 280 532Q336 532 378.0 513.0Q420 494 448.0 461.0Q476 428 490.0 384.0Q504 340 504 291Q504 256 501 223ZM278 454Q219 454 181.5 414.0Q144 374 136 296H421Q421 372 383.0 413.0Q345 454 278 454Z\" fill=\"black\"/></g><g transform=\"translate(895.0, 43.333333333333336) scale(0.03333333333333333, -0.03333333333333333)\"><path d=\"M167 433Q195 475 238.5 503.5Q282 532 342 532Q430 532 473.5 479.0Q517 426 517 339V0H427V329Q427 386 401.0 419.5Q375 453 327 453Q304 453 282.0 444.5Q260 436 239.5 421.0Q219 406 201.5 386.0Q184 366 170 344V0H80V520H167Z\" fill=\"black\"/></g><g transform=\"translate(928.3333333333334, 43.333333333333336) scale(0.03333333333333333, -0.03333333333333333)\"><path d=\"M121 665H190V501H334V423H190V172Q190 143 196.5 123.0Q203 103 214.0 91.0Q225 79 240.5 73.5Q256 68 273 68Q298 68 320.0 76.0Q342 84 362 95L387 23Q367 11 333.0 -0.5Q299 -12 262 -12Q187 -12 143.5 37.0Q100 86 100 179V423H10V501H102Z\" fill=\"black\"/></g><g transform=\"translate(961.6666666666667, 43.333333333333336) scale(0.03333333333333333, -0.03333333333333333)\"><path d=\"M170 0H80V520H170ZM125 609Q99 609 80.5 627.5Q62 646 62 672Q62 701 79.0 718.0Q96 735 125 735Q151 735 169.5 716.5Q188 698 188 672Q188 643 171.0 626.0Q154 609 125 609Z\" fill=\"black\"/></g><g transform=\"translate(995.0, 43.333333333333336) scale(0.03333333333333333, -0.03333333333333333)\"><path d=\"M466 260Q466 299 453.5 334.0Q441 369 418.5 395.0Q396 421 365.5 436.5Q335 452 299 452Q220 452 176.0 400.0Q132 348 132 262Q132 223 144.5 187.5Q157 152 179.5 125.5Q202 99 232.5 83.5Q263 68 299 68Q338 68 369.0 82.0Q400 96 421.5 121.5Q443 147 454.5 182.0Q466 217 466 260ZM40 260Q40 323 60.0 373.5Q80 424 114.5 459.0Q149 494 196.5 513.0Q244 532 299 532Q353 532 400.5 513.0Q448 494 483.0 459.0Q518 424 538.0 374.0Q558 324 558 262Q558 200 538.5 149.5Q519 99 484.0 63.0Q449 27 401.5 7.5Q354 -12 299 -12Q243 -12 195.5 8.0Q148 28 113.5 64.0Q79 100 59.5 150.0Q40 200 40 260Z\" fill=\"black\"/></g><g transform=\"translate(1028.3333333333333, 43.333333333333336) scale(0.03333333333333333, -0.03333333333333333)\"><path d=\"M545 -5Q497 -5 469.0 14.0Q441 33 430 69Q395 33 349.5 10.5Q304 -12 250 -12Q216 -12 184.5 -1.5Q153 9 128.5 32.0Q104 55 89.5 92.0Q75 129 75 182V520H165V194Q165 133 190.5 100.5Q216 68 267 68Q309 68 347.0 84.5Q385 101 415 129V520H505V135Q505 113 510.0 99.5Q515 86 523.0 78.5Q531 71 542.0 68.0Q553 65 564 65Z\" fill=\"black\"/></g><g transform=\"translate(1061.6666666666667, 43.333333333333336) scale(0.03333333333333333, -0.03333333333333333)\"><path d=\"M73 117Q99 94 138.5 80.0Q178 66 223 66Q279 66 307.5 84.5Q336 103 336 132Q336 147 330.5 160.0Q325 173 310.5 185.0Q296 197 271.0 208.5Q246 220 206 234Q132 259 96.0 293.5Q60 328 60 389Q60 419 73.5 445.0Q87 471 112.5 490.5Q138 510 174.5 521.0Q211 532 258 532Q309 532 347.5 521.5Q386 511 417 495L392 421Q365 437 330.5 447.0Q296 457 254 457Q202 457 175.0 436.0Q148 415 148 390Q148 378 152.5 368.0Q157 358 169.0 349.0Q181 340 201.0 331.0Q221 322 251 312Q300 295 334.0 277.5Q368 260 389.0 239.0Q410 218 419.0 193.5Q428 169 428 139Q428 104 413.0 76.0Q398 48 371.0 28.5Q344 9 305.5 -1.5Q267 -12 220 -12Q160 -12 113.0 3.0Q66 18 35 42Z\" fill=\"black\"/></g><g transform=\"translate(0, 130) scale(0.05, -0.05)\"><path d=\"M147 351Q147 288 163.5 236.5Q180 185 209.5 148.0Q239 111 280.0 91.0Q321 71 370 71Q419 71 455.0 82.5Q491 94 525 114L554 35Q517 15 469.5 1.5Q422 -12 359 -12Q290 -12 233.5 13.0Q177 38 136.0 84.5Q95 131 72.5 197.5Q50 264 50 347Q50 427 72.5 494.0Q95 561 137.0 609.5Q179 658 238.5 685.0Q298 712 371 712Q422 712 462.5 702.5Q503 693 539 676L510 596Q479 611 446.5 620.0Q414 629 370 629Q322 629 281.0 610.5Q240 592 210.0 556.0Q180 520 163.5 468.5Q147 417 147 351Z\" fill=\"black\"/></g><g transform=\"translate(30, 130) scale(0.05, -0.05)\"><path d=\"M506 0H90V700H185V85H506Z\" fill=\"black\"/></g><g transform=\"translate(60, 130) scale(0.05, -0.05)\"><path d=\"M90 0V700H185V0Z\" fill=\"black\"/></g><g transform=\"translate(75, 130) scale(0.05, -0.05)\"><path d=\"M90 698Q132 703 180.5 705.5Q229 708 283 708Q348 708 399.0 692.0Q450 676 485.0 648.0Q520 620 538.0 580.5Q556 541 556 495Q556 439 534.5 395.5Q513 352 474.5 322.0Q436 292 382.0 276.5Q328 261 263 261Q221 261 185 264V0H90ZM275 340Q365 340 413.5 379.5Q462 419 462 487Q462 552 415.5 590.0Q369 628 281 628Q254 628 230.0 627.0Q206 626 185 624V345Q201 343 223.5 341.5Q246 340 275 340Z\" fill=\"black\"/></g><g transform=\"translate(0, 205) scale(0.05, -0.05)\"><path d=\"M90 700H505V618H185V404H452V326H185V0H90Z\" fill=\"black\"/></g><g transform=\"translate(30, 205) scale(0.05, -0.05)\"><path d=\"M147 351Q147 288 163.5 236.5Q180 185 209.5 148.0Q239 111 280.0 91.0Q321 71 370 71Q419 71 455.0 82.5Q491 94 525 114L554 35Q517 15 469.5 1.5Q422 -12 359 -12Q290 -12 233.5 13.0Q177 38 136.0 84.5Q95 131 72.5 197.5Q50 264 50 347Q50 427 72.5 494.0Q95 561 137.0 609.5Q179 658 238.5 685.0Q298 712 371 712Q422 712 462.5 702.5Q503 693 539 676L510 596Q479 611 446.5 620.0Q414 629 370 629Q322 629 281.0 610.5Q240 592 210.0 556.0Q180 520 163.5 468.5Q147 417 147 351Z\" fill=\"black\"/></g><g transform=\"translate(60, 205) scale(0.05, -0.05)\"><path d=\"M506 0H90V700H185V85H506Z\" fill=\"black\"/></g><g transform=\"translate(90, 205) scale(0.05, -0.05)\"><path d=\"M90 0V700H185V0Z\" fill=\"black\"/></g><g transform=\"translate(106.0, 205) scale(0.05, -0.05)\"><path d=\"M90 698Q132 703 180.5 705.5Q229 708 283 708Q348 708 399.0 692.0Q450 676 485.0 648.0Q520 620 538.0 580.5Q556 541 556 495Q556 439 534.5 395.5Q513 352 474.5 322.0Q436 292 382.0 276.5Q328 261 263 261Q221 261 185 264V0H90ZM275 340Q365 340 413.5 379.5Q462 419 462 487Q462 552 415.5 590.0Q369 628 281 628Q254 628 230.0 627.0Q206 626 185 624V345Q201 343 223.5 341.5Q246 340 275 340Z\" fill=\"black\"/></g><line stroke=\"black\" stroke-width=\"5\" x1=\"200\" x2=\"1371\" y1=\"73.3333\" y2=\"73.3333\"/><polygon fill=\"black\" points=\"1361,63.3333 1361,83.3333 1381,73.3333\"/></svg>"
      ],
      "text/plain": [
       "<IPython.core.display.SVG object>"
      ]
     },
     "metadata": {},
     "output_type": "display_data"
    }
   ],
   "source": [
    "font_dir = \"../gwfonts\"\n",
    "char_size = 150\n",
    "# tmp_font_paths = validation_font_paths[:50]\n",
    "tmp_font_paths = selected_15_roman_font_paths\n",
    "tmp_font_paths = selected_15_cjk_font_paths\n",
    "if tmp_font_paths == selected_15_roman_font_paths:\n",
    "    image_file_dir = gray_scale_image_file_dir\n",
    "    target_character = \"A\"\n",
    "    texts_for_font_image = [fox_text_four_lines]\n",
    "    line_num = target_character.count(\"\\n\") + 1\n",
    "    width = int(char_size * len(target_character) / line_num)\n",
    "    height = int((char_size + 50) * line_num)\n",
    "else:\n",
    "    image_file_dir = None\n",
    "    target_character = \"春\"\n",
    "    texts_for_font_image = [\"夏林\\n火山\"]\n",
    "    line_num = target_character.count(\"\\n\") + 1\n",
    "    width = int(char_size * len(target_character) / line_num)\n",
    "    height = int((char_size + 50) * line_num)\n",
    "\n",
    "model_type = \"clip_and_fclip_roman\"\n",
    "\n",
    "# for target_attribute in ['italic, artistic']:\n",
    "for target_attribute in ['wide, pretentious']:\n",
    "# for target_attribute in ['artistic, italic']:\n",
    "    # target_attribute = 'soft'\n",
    "    try:\n",
    "        tmp_target_attributes = [target_attribute]\n",
    "        data = TestDataset(\n",
    "            tmp_font_paths,\n",
    "            None,\n",
    "            texts_for_font_image,\n",
    "            char_size=150,\n",
    "            attribute_threshold=0,\n",
    "            target_attributes=tmp_target_attributes,\n",
    "            image_file_dir=image_file_dir,\n",
    "            dump_image=True,\n",
    "            preprocess=preprocess,\n",
    "        )\n",
    "\n",
    "        tmp_cos_sim = calculate_corr(clip_model, data, predict_mode=True)\n",
    "        sorted_index = np.argsort(tmp_cos_sim)\n",
    "        clip_cos_sim = sorted_index\n",
    "\n",
    "        tmp_cos_sim = calculate_corr(fclip_model, data, predict_mode=True)\n",
    "        sorted_index = np.argsort(tmp_cos_sim)\n",
    "        fclip_cos_sim = sorted_index\n",
    "\n",
    "        assert len(clip_cos_sim) == len(fclip_cos_sim)\n",
    "\n",
    "        target_attribute = target_attribute.replace(\",\", \"and\").replace(\" \", \"\")\n",
    "        output_path = f\"outputs/svg/{target_attribute}_{target_character}.svg\"\n",
    "        display(\n",
    "            SVG(\n",
    "                create_svg_from_font_two_lines(\n",
    "                    tmp_font_paths,\n",
    "                    clip_cos_sim,\n",
    "                    fclip_cos_sim,\n",
    "                    target_character,\n",
    "                    target_attribute,\n",
    "                    output_path=output_path,\n",
    "                    char_size=50,\n",
    "                )\n",
    "            )\n",
    "        )\n",
    "    except Exception as e:\n",
    "        print(e)\n",
    "        raise(e)"
   ]
  },
  {
   "cell_type": "code",
   "execution_count": 18,
   "metadata": {},
   "outputs": [
    {
     "data": {
      "text/plain": [
       "'thin wide'"
      ]
     },
     "execution_count": 18,
     "metadata": {},
     "output_type": "execute_result"
    }
   ],
   "source": [
    "target_attribute"
   ]
  },
  {
   "cell_type": "code",
   "execution_count": 13,
   "metadata": {},
   "outputs": [
    {
     "data": {
      "text/plain": [
       "array([ 0.02318 ,  0.002777,  0.00982 ,  0.02509 , -0.003218,  0.02045 ,\n",
       "        0.0253  ,  0.03085 ,  0.01826 ,  0.02725 ,  0.02841 ,  0.02165 ,\n",
       "        0.017   ,  0.02422 ,  0.02548 ], dtype=float16)"
      ]
     },
     "execution_count": 13,
     "metadata": {},
     "output_type": "execute_result"
    }
   ],
   "source": [
    "tmp_cos_sim"
   ]
  },
  {
   "cell_type": "code",
   "execution_count": null,
   "metadata": {},
   "outputs": [],
   "source": []
  }
 ],
 "metadata": {
  "kernelspec": {
   "display_name": "dgfont-env",
   "language": "python",
   "name": "python3"
  },
  "language_info": {
   "codemirror_mode": {
    "name": "ipython",
    "version": 3
   },
   "file_extension": ".py",
   "mimetype": "text/x-python",
   "name": "python",
   "nbconvert_exporter": "python",
   "pygments_lexer": "ipython3",
   "version": "3.7.16"
  },
  "orig_nbformat": 4
 },
 "nbformat": 4,
 "nbformat_minor": 2
}
