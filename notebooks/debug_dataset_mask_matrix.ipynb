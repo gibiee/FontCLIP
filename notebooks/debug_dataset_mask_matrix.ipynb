{
 "cells": [
  {
   "cell_type": "code",
   "execution_count": 10,
   "metadata": {},
   "outputs": [],
   "source": [
    "import os\n",
    "import time\n",
    "from PIL import Image\n",
    "import re\n",
    "import torch\n",
    "from torch import nn\n",
    "import torch.optim as optim\n",
    "from torch.utils.data import DataLoader\n",
    "from torchvision.transforms.functional import to_tensor, to_pil_image\n",
    "from IPython.display import display\n",
    "from tqdm import tqdm\n",
    "\n",
    "from clip.simple_tokenizer import SimpleTokenizer\n",
    "from utils.initialize_font_data import (\n",
    "    font_dir,\n",
    "    fox_text_four_lines,\n",
    "    train_json_path,\n",
    "    exclusive_attributes,\n",
    "    gray_scale_image_file_dir,\n",
    "    all_gray_scale_image_file_dir,\n",
    "    fox_text,\n",
    "    train_json,\n",
    ")\n",
    "from utils.init_model import (\n",
    "    model,\n",
    "    preprocess,\n",
    "    my_preprocess,\n",
    "    preprocess_for_single_character,\n",
    "    device,\n",
    "    convert_weights,\n",
    "    model_name,\n",
    "    _download,\n",
    "    _MODELS,\n",
    "    load,\n",
    ")\n",
    "from utils.dataset import MyDataset, PairedImageDataset, set_image_tensors\n",
    "from utils.lora_clip import LoRACLIP\n",
    "\n",
    "tokenizer = SimpleTokenizer()"
   ]
  },
  {
   "cell_type": "code",
   "execution_count": 2,
   "metadata": {},
   "outputs": [],
   "source": [
    "def extract_attributes_from_decoded_text(text: str) -> str:\n",
    "    text = (\n",
    "        text.replace(\"<|startoftext|>\", \" \")\n",
    "        .replace(\"font <|endoftext|>\", \"\")\n",
    "        .replace(\"!\", \"\")\n",
    "    )\n",
    "    # pattern = r\"(\\bnot\\s+\\b\\w+|\\b\\w+)\"\n",
    "    # compiled_pattern = re.compile(pattern)\n",
    "    # attributes = compiled_pattern.findall(text)\n",
    "\n",
    "    attributes = text.split(\",\")\n",
    "\n",
    "    # 'attention - grabbing' to 'attention-grabbing'\n",
    "    attributes = [attribute.replace(\" - \", \"-\") for attribute in attributes]\n",
    "\n",
    "    # remove the first and last empty strings\n",
    "    attributes = [attribute[1:-1] for attribute in attributes]\n",
    "\n",
    "    return attributes"
   ]
  },
  {
   "cell_type": "code",
   "execution_count": 15,
   "metadata": {},
   "outputs": [
    {
     "name": "stderr",
     "output_type": "stream",
     "text": [
      "100%|██████████| 120/120 [00:01<00:00, 100.95it/s]\n"
     ]
    }
   ],
   "source": [
    "dataset = MyDataset(\n",
    "    font_dir=font_dir,\n",
    "    json_path=train_json_path,\n",
    "    texts_for_font_image=[fox_text_four_lines],\n",
    "    char_size=150,\n",
    "    attribute_threshold=50,\n",
    "    use_negative=True,\n",
    "    use_weight=False,\n",
    "    use_negative_loss=True,\n",
    "    preprocess=my_preprocess,\n",
    "    use_multiple_attributes=True,\n",
    "    use_random_attributes=True,\n",
    "    max_sample_num=3,\n",
    "    random_prompts_num=100,\n",
    "    exclusive_attributes=exclusive_attributes,\n",
    "    image_file_dir=all_gray_scale_image_file_dir,\n",
    "    dump_image=True,\n",
    "    single_character=False,\n",
    "    sample_num_each_epoch=100,\n",
    ")"
   ]
  },
  {
   "cell_type": "code",
   "execution_count": 16,
   "metadata": {},
   "outputs": [],
   "source": [
    "data_loader = DataLoader(dataset, batch_size=4, shuffle=True)"
   ]
  },
  {
   "cell_type": "code",
   "execution_count": 18,
   "metadata": {},
   "outputs": [
    {
     "name": "stderr",
     "output_type": "stream",
     "text": [
      "100%|██████████| 3000/3000 [00:03<00:00, 804.52it/s] "
     ]
    },
    {
     "name": "stdout",
     "output_type": "stream",
     "text": [
      "3.7323505878448486\n"
     ]
    },
    {
     "name": "stderr",
     "output_type": "stream",
     "text": [
      "\n"
     ]
    }
   ],
   "source": [
    "start = time.time()\n",
    "count = 0\n",
    "for batch in tqdm(data_loader):\n",
    "    images, texts, font_indices, attribute_indices = batch\n",
    "    mask_matrix = dataset.mask_font_idx_signed_attribute_matrix_ground_truth_fast(\n",
    "        font_indices, attribute_indices\n",
    "    )\n",
    "\n",
    "    # check if the attribute_indices are correct\n",
    "    for i in range(len(images)):\n",
    "        int_text = [int(token) for token in texts[i]]\n",
    "        decoded_text = tokenizer.decode(int_text)\n",
    "        extracted_attributes = extract_attributes_from_decoded_text(decoded_text)\n",
    "        extracted_attribute_indices = [dataset.signed_attribute_to_index(\n",
    "            extracted_attribute) for extracted_attribute in extracted_attributes]\n",
    "        # fill extracted_attribute_indices with 0\n",
    "        extracted_attribute_indices += [0] * (3 - len(extracted_attribute_indices))\n",
    "        assert torch.all(attribute_indices[i] == torch.Tensor(\n",
    "            extracted_attribute_indices)), f'{attribute_indices[i]} != {extracted_attribute_indices}'\n",
    "\n",
    "    # check if the mask_matrix is correct\n",
    "    for i in range(len(images)):\n",
    "        font_idx = font_indices[i]\n",
    "        font_name = dataset.font_names[font_idx]\n",
    "        for j in range(len(images)):\n",
    "            mask_value = mask_matrix[i][j]\n",
    "            if mask_value == 1:\n",
    "                for attribute_idx in attribute_indices[j]:\n",
    "                    if attribute_idx != 0:\n",
    "                        signed_attribute = dataset.index_to_signed_attribute(\n",
    "                            attribute_idx)\n",
    "                        ground_truth = - \\\n",
    "                            1 if signed_attribute.startswith('not ') else 1\n",
    "                        attribute = signed_attribute.replace('not ', '')\n",
    "                        attribute_sign = 1 if float(\n",
    "                            train_json[font_name][attribute]) >= 50 else -1\n",
    "                        assert attribute_sign == ground_truth, f'{font_name} {attribute} {attribute_sign} {ground_truth}'\n",
    "            else:\n",
    "                flag = False\n",
    "                for attribute_idx in attribute_indices[j]:\n",
    "                    if attribute_idx != 0:\n",
    "                        signed_attribute = dataset.index_to_signed_attribute(\n",
    "                            attribute_idx)\n",
    "                        ground_truth = - \\\n",
    "                            1 if signed_attribute.startswith('not ') else 1\n",
    "                        attribute = signed_attribute.replace('not ', '')\n",
    "                        attribute_sign = 1 if float(\n",
    "                            train_json[font_name][attribute]) >= 50 else -1\n",
    "                        if attribute_sign != ground_truth:\n",
    "                            flag = True\n",
    "                assert flag, f'{i} {j} {font_name} {attribute} {attribute_sign} {ground_truth}'\n",
    "\n",
    "    # display(to_pil_image(images[-1]))\n",
    "    # print(mask_matrix)\n",
    "    # print(extracted_attributes)\n",
    "    # print(font_indices[-1])\n",
    "    # print(attribute_indices[-1])\n",
    "\n",
    "end = time.time()\n",
    "print(end - start)"
   ]
  },
  {
   "cell_type": "code",
   "execution_count": null,
   "metadata": {},
   "outputs": [],
   "source": [
    "6.805548429489136"
   ]
  },
  {
   "cell_type": "code",
   "execution_count": null,
   "metadata": {},
   "outputs": [],
   "source": [
    "attribute_indices[1][0]"
   ]
  },
  {
   "cell_type": "code",
   "execution_count": null,
   "metadata": {},
   "outputs": [],
   "source": []
  }
 ],
 "metadata": {
  "kernelspec": {
   "display_name": "dgfont-env",
   "language": "python",
   "name": "python3"
  },
  "language_info": {
   "codemirror_mode": {
    "name": "ipython",
    "version": 3
   },
   "file_extension": ".py",
   "mimetype": "text/x-python",
   "name": "python",
   "nbconvert_exporter": "python",
   "pygments_lexer": "ipython3",
   "version": "3.7.16"
  }
 },
 "nbformat": 4,
 "nbformat_minor": 2
}
