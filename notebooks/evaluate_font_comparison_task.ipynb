{
 "cells": [
  {
   "cell_type": "code",
   "execution_count": 1,
   "metadata": {
    "ExecuteTime": {
     "end_time": "2023-05-02T14:17:25.765876Z",
     "start_time": "2023-05-02T14:17:21.720445Z"
    },
    "collapsed": true
   },
   "outputs": [
    {
     "name": "stdout",
     "output_type": "stream",
     "text": [
      "loading JIT archive /home/yuki/.cache/clip/ViT-B-32.pt\n",
      "exclusive_attributes:  []\n",
      "loading JIT archive /home/yuki/.cache/clip/ViT-B-32.pt\n"
     ]
    }
   ],
   "source": [
    "import numpy as np\n",
    "import torch\n",
    "import torch.nn as nn\n",
    "from torch.utils.data import Dataset, DataLoader\n",
    "import torch.optim as optim\n",
    "from PIL import Image, ImageDraw, ImageFont\n",
    "import json\n",
    "import random\n",
    "\n",
    "import clip\n",
    "import os\n",
    "from tqdm import tqdm\n",
    "from utils.init_model import load_model, preprocess\n",
    "from utils.initialize_font_data import retrieve_font_path, inclusive_attributes, gray_scale_image_file_dir, font_dir, cj_font_dir, train_json_path, validation_json_path, test_json_path, all_json, fox_text, fox_text_four_lines\n",
    "from utils.transform_image import generate_all_fonts_embedded_images\n",
    "from utils.evaluate_tools import generate_all_attribute_embedded_prompts, user_attribute_choices_count, compare_two_fonts, evaluate_attribute_comparison_task\n",
    "\n",
    "\n",
    "\n",
    "from cj_fonts import inclusive_fonts, fifty_fonts\n",
    "from torchvision.transforms import Compose, Resize, CenterCrop, ToTensor, Normalize, RandomCrop, RandomRotation, RandomResizedCrop\n",
    "from torchvision.transforms.functional import pil_to_tensor, to_pil_image\n",
    "\n",
    "from IPython.display import display\n",
    "import matplotlib.pyplot as plt\n",
    "import matplotlib as mpl\n",
    "import matplotlib.font_manager as font_manager\n",
    "from matplotlib.font_manager import FontProperties\n",
    "\n",
    "# If using GPU then use mixed precision training.\n",
    "device = \"cuda:0\" if torch.cuda.is_available() else \"cpu\"\n",
    "# Must set jit=False for training\n",
    "model_name = \"ViT-B/32\"\n",
    "# model_name = \"ViT-L/14\"\n",
    "model, preprocess = clip.load(model_name, device=device, jit=False)"
   ]
  },
  {
   "cell_type": "code",
   "execution_count": 2,
   "metadata": {
    "ExecuteTime": {
     "end_time": "2023-05-02T14:17:25.994983Z",
     "start_time": "2023-05-02T14:17:25.768441Z"
    },
    "collapsed": false
   },
   "outputs": [
    {
     "name": "stdout",
     "output_type": "stream",
     "text": [
      "120\n",
      "40\n",
      "40\n"
     ]
    }
   ],
   "source": [
    "fifty_font_paths = [os.path.join(cj_font_dir, f) for f in fifty_fonts.split('\\n') if f != '']\n",
    "\n",
    "# add font\n",
    "for font in font_manager.findSystemFonts(font_dir):\n",
    "    font_manager.fontManager.addfont(font)\n",
    "for font in font_manager.findSystemFonts(cj_font_dir):\n",
    "    font_manager.fontManager.addfont(font)\n",
    "\n",
    "ttf_list = font_manager.fontManager.ttflist\n",
    "\n",
    "# count font number\n",
    "train_font_num = len(list(json.load(open(train_json_path, 'r')).keys()))\n",
    "print(train_font_num)\n",
    "\n",
    "validation_font_num = len(list(json.load(open(validation_json_path, 'r')).keys()))\n",
    "print(validation_font_num)\n",
    "\n",
    "test_font_num = len(list(json.load(open(test_json_path, 'r')).keys()))\n",
    "print(test_font_num)\n",
    "\n",
    "font_names = list(all_json.keys())\n",
    "font_paths = [retrieve_font_path(font_name, font_dir=font_dir) for font_name in font_names]\n",
    "#font_names = [os.path.splitext(os.path.basename(f))[0] for f in os.listdir(font_dir)]\n",
    "\n",
    "fox_text = fox_text\n",
    "user_choices_count = user_attribute_choices_count\n",
    "\n",
    "def retrieve_choices_with_font_name(user_choices, font_name):\n",
    "    choices = []\n",
    "    for user_choice in user_choices:\n",
    "        if user_choice[3] == font_name or user_choice[4] == font_name:\n",
    "            choices.append(user_choice)\n",
    "    return choices\n",
    "\n",
    "#target_font_names = extract_font_name_from_dir()\n",
    "target_font_names = list(all_json.keys())"
   ]
  },
  {
   "cell_type": "code",
   "execution_count": 4,
   "metadata": {},
   "outputs": [
    {
     "data": {
      "text/plain": [
       "list"
      ]
     },
     "execution_count": 4,
     "metadata": {},
     "output_type": "execute_result"
    }
   ],
   "source": [
    "type(user_choices_count)"
   ]
  },
  {
   "cell_type": "code",
   "execution_count": 9,
   "metadata": {},
   "outputs": [
    {
     "name": "stdout",
     "output_type": "stream",
     "text": [
      "31\n",
      "['angular', 'artistic', 'attention-grabbing', 'attractive', 'bad', 'boring', 'calm', 'charming', 'clumsy', 'complex', 'delicate', 'disorderly', 'dramatic', 'formal', 'fresh', 'friendly', 'gentle', 'graceful', 'happy', 'legible', 'modern', 'playful', 'pretentious', 'sharp', 'sloppy', 'soft', 'strong', 'technical', 'thin', 'warm', 'wide']\n"
     ]
    }
   ],
   "source": [
    "appearance_attributes = []\n",
    "for i in range(len(user_choices_count)):\n",
    "    if user_choices_count[i][0][0] not in appearance_attributes:\n",
    "        appearance_attributes.append(user_choices_count[i][0][0])\n",
    "print(len(appearance_attributes))\n",
    "print(appearance_attributes)"
   ]
  },
  {
   "cell_type": "code",
   "execution_count": null,
   "metadata": {},
   "outputs": [],
   "source": []
  },
  {
   "cell_type": "code",
   "execution_count": 3,
   "metadata": {
    "ExecuteTime": {
     "end_time": "2023-05-02T14:17:26.503634Z",
     "start_time": "2023-05-02T14:17:26.502202Z"
    },
    "collapsed": false
   },
   "outputs": [],
   "source": [
    "def evaluate_for_target_font(font_name, embedded_prompts, embedded_images, user_choices_count=user_choices_count):\n",
    "\n",
    "    result = []\n",
    "    for user_choice_count in user_choices_count:\n",
    "\n",
    "        # e.x., (('angular', 'ARSMaquetteWebOne', 'Kenia-Regular'), {'more': 4, 'less': 3})\n",
    "        (attribute, font_a_name, font_b_name), tmp_ground_truth = user_choice_count\n",
    "        if font_name is not None:\n",
    "            if font_a_name != font_name and font_b_name != font_name:\n",
    "                continue\n",
    "\n",
    "        ground_truth = 'more' if tmp_ground_truth['more'] > tmp_ground_truth['less'] else 'less'\n",
    "\n",
    "        \"\"\"\n",
    "        if tmp_ground_truth['more'] - 1 > tmp_ground_truth['less']:\n",
    "            ground_truth = 'more'\n",
    "        elif tmp_ground_truth['more'] < tmp_ground_truth['less'] - 1:\n",
    "            ground_truth = 'less'\n",
    "        else:\n",
    "            continue\n",
    "        \"\"\"\n",
    "\n",
    "        prediction = compare_two_fonts(attribute, font_a_name, font_b_name, ground_truth, embedded_prompts, embedded_images)\n",
    "        tmp_result = (attribute, font_a_name, font_b_name, ground_truth, prediction)\n",
    "\n",
    "        result.append(tmp_result)\n",
    "\n",
    "    return result\n",
    "\n",
    "def evaluate_for_target_font_for_each_comparison(font_name, embedded_prompts, embedded_images, user_choices_count=user_choices_count):\n",
    "\n",
    "    result = []\n",
    "    for user_choice_count in user_choices_count:\n",
    "\n",
    "        # e.x., (('angular', 'ARSMaquetteWebOne', 'Kenia-Regular'), {'more': 4, 'less': 3})\n",
    "        (attribute, font_a_name, font_b_name), tmp_ground_truth = user_choice_count\n",
    "        if font_name is not None:\n",
    "            if font_a_name != font_name and font_b_name != font_name:\n",
    "                continue\n",
    "\n",
    "        total_num = tmp_ground_truth['more'] + tmp_ground_truth['less']\n",
    "        ground_truth = 'more' if tmp_ground_truth['more'] > tmp_ground_truth['less'] else 'less'\n",
    "\n",
    "\n",
    "        prediction = compare_two_fonts(attribute, font_a_name, font_b_name, ground_truth, embedded_prompts, embedded_images)\n",
    "        if prediction:\n",
    "            correct_num = tmp_ground_truth[ground_truth]\n",
    "        else:\n",
    "            correct_num = total_num - tmp_ground_truth[ground_truth]\n",
    "\n",
    "        tmp_result = (attribute, font_a_name, font_b_name, ground_truth, correct_num, total_num)\n",
    "\n",
    "        result.append(tmp_result)\n",
    "\n",
    "    return result"
   ]
  },
  {
   "cell_type": "code",
   "execution_count": 4,
   "metadata": {},
   "outputs": [
    {
     "ename": "FileNotFoundError",
     "evalue": "[Errno 2] No such file or directory: 'model_checkpoints/cross_validation_100_0_ViT-B_32_cnn_based_vae_loss_weight_1.0vae_loss_kl_weight0.001_res_64_9101191011_batch64_aug150_lower_bound_of_scale0.35_use_negative_lr1e-05-0.1_image_file_dir.pt'",
     "output_type": "error",
     "traceback": [
      "\u001b[0;31m---------------------------------------------------------------------------\u001b[0m",
      "\u001b[0;31mFileNotFoundError\u001b[0m                         Traceback (most recent call last)",
      "\u001b[0;32m/tmp/ipykernel_751192/3353669060.py\u001b[0m in \u001b[0;36m<module>\u001b[0;34m\u001b[0m\n\u001b[1;32m     16\u001b[0m   \u001b[0msignature\u001b[0m \u001b[0;34m=\u001b[0m \u001b[0;34mf'cross_validation_{cross_validation_k}_{i}_ViT-B_32_cnn_based_vae_loss_weight_1.0vae_loss_kl_weight0.001_res_64_9101191011_batch64_aug150_lower_bound_of_scale0.35_use_negative_lr1e-05-0.1_image_file_dir'\u001b[0m\u001b[0;34m\u001b[0m\u001b[0;34m\u001b[0m\u001b[0m\n\u001b[1;32m     17\u001b[0m   \u001b[0mcheckpoint_path\u001b[0m \u001b[0;34m=\u001b[0m \u001b[0;34mf'model_checkpoints/{signature}.pt'\u001b[0m\u001b[0;34m\u001b[0m\u001b[0;34m\u001b[0m\u001b[0m\n\u001b[0;32m---> 18\u001b[0;31m   \u001b[0mmodel\u001b[0m \u001b[0;34m=\u001b[0m \u001b[0mload_model\u001b[0m\u001b[0;34m(\u001b[0m\u001b[0mmodel\u001b[0m\u001b[0;34m,\u001b[0m \u001b[0mcheckpoint_path\u001b[0m\u001b[0;34m)\u001b[0m\u001b[0;34m\u001b[0m\u001b[0;34m\u001b[0m\u001b[0m\n\u001b[0m\u001b[1;32m     19\u001b[0m   \u001b[0membedded_prompts\u001b[0m \u001b[0;34m=\u001b[0m \u001b[0mgenerate_all_attribute_embedded_prompts\u001b[0m\u001b[0;34m(\u001b[0m\u001b[0minclusive_attributes\u001b[0m\u001b[0;34m,\u001b[0m \u001b[0mmodel\u001b[0m\u001b[0;34m=\u001b[0m\u001b[0mmodel\u001b[0m\u001b[0;34m)\u001b[0m\u001b[0;34m\u001b[0m\u001b[0;34m\u001b[0m\u001b[0m\n\u001b[1;32m     20\u001b[0m   \u001b[0membedded_images\u001b[0m \u001b[0;34m=\u001b[0m \u001b[0mgenerate_all_fonts_embedded_images\u001b[0m\u001b[0;34m(\u001b[0m\u001b[0mfont_paths\u001b[0m\u001b[0;34m,\u001b[0m \u001b[0mfox_text\u001b[0m\u001b[0;34m,\u001b[0m \u001b[0mmodel\u001b[0m\u001b[0;34m=\u001b[0m\u001b[0mmodel\u001b[0m\u001b[0;34m,\u001b[0m \u001b[0mpreprocess\u001b[0m\u001b[0;34m=\u001b[0m\u001b[0mpreprocess\u001b[0m\u001b[0;34m,\u001b[0m \u001b[0mimage_file_dir\u001b[0m\u001b[0;34m=\u001b[0m\u001b[0mgray_scale_image_file_dir\u001b[0m\u001b[0;34m)\u001b[0m\u001b[0;34m\u001b[0m\u001b[0;34m\u001b[0m\u001b[0m\n",
      "\u001b[0;32m~/learn-computer-vision/CLIPFont/utils/init_model.py\u001b[0m in \u001b[0;36mload_model\u001b[0;34m(model, checkpoint_path, requires_grad, device, model_name, learnable_prompt, token_type, learnable_vision, precontext_length, precontext_vision_length, vpt_applied_layers, precontext_dropout_rate, vision_layers, transformer_layers, load_state_dict, inject_lora, lora_config_vision, lora_config_text, use_attention_hook, use_oft_vision, use_oft_text, oft_config_vision, oft_config_text)\u001b[0m\n\u001b[1;32m    535\u001b[0m             )\n\u001b[1;32m    536\u001b[0m         \u001b[0;32melse\u001b[0m\u001b[0;34m:\u001b[0m\u001b[0;34m\u001b[0m\u001b[0;34m\u001b[0m\u001b[0m\n\u001b[0;32m--> 537\u001b[0;31m             \u001b[0mcheckpoint\u001b[0m \u001b[0;34m=\u001b[0m \u001b[0mtorch\u001b[0m\u001b[0;34m.\u001b[0m\u001b[0mload\u001b[0m\u001b[0;34m(\u001b[0m\u001b[0mcheckpoint_path\u001b[0m\u001b[0;34m,\u001b[0m \u001b[0mmap_location\u001b[0m\u001b[0;34m=\u001b[0m\u001b[0mdevice\u001b[0m\u001b[0;34m)\u001b[0m\u001b[0;34m\u001b[0m\u001b[0;34m\u001b[0m\u001b[0m\n\u001b[0m\u001b[1;32m    538\u001b[0m             \u001b[0mmodel\u001b[0m\u001b[0;34m.\u001b[0m\u001b[0mload_state_dict\u001b[0m\u001b[0;34m(\u001b[0m\u001b[0mcheckpoint\u001b[0m\u001b[0;34m[\u001b[0m\u001b[0;34m\"model_state_dict\"\u001b[0m\u001b[0;34m]\u001b[0m\u001b[0;34m)\u001b[0m\u001b[0;34m\u001b[0m\u001b[0;34m\u001b[0m\u001b[0m\n\u001b[1;32m    539\u001b[0m \u001b[0;34m\u001b[0m\u001b[0m\n",
      "\u001b[0;32m~/anaconda3/envs/dgfont-env/lib/python3.7/site-packages/torch/serialization.py\u001b[0m in \u001b[0;36mload\u001b[0;34m(f, map_location, pickle_module, weights_only, **pickle_load_args)\u001b[0m\n\u001b[1;32m    769\u001b[0m         \u001b[0mpickle_load_args\u001b[0m\u001b[0;34m[\u001b[0m\u001b[0;34m'encoding'\u001b[0m\u001b[0;34m]\u001b[0m \u001b[0;34m=\u001b[0m \u001b[0;34m'utf-8'\u001b[0m\u001b[0;34m\u001b[0m\u001b[0;34m\u001b[0m\u001b[0m\n\u001b[1;32m    770\u001b[0m \u001b[0;34m\u001b[0m\u001b[0m\n\u001b[0;32m--> 771\u001b[0;31m     \u001b[0;32mwith\u001b[0m \u001b[0m_open_file_like\u001b[0m\u001b[0;34m(\u001b[0m\u001b[0mf\u001b[0m\u001b[0;34m,\u001b[0m \u001b[0;34m'rb'\u001b[0m\u001b[0;34m)\u001b[0m \u001b[0;32mas\u001b[0m \u001b[0mopened_file\u001b[0m\u001b[0;34m:\u001b[0m\u001b[0;34m\u001b[0m\u001b[0;34m\u001b[0m\u001b[0m\n\u001b[0m\u001b[1;32m    772\u001b[0m         \u001b[0;32mif\u001b[0m \u001b[0m_is_zipfile\u001b[0m\u001b[0;34m(\u001b[0m\u001b[0mopened_file\u001b[0m\u001b[0;34m)\u001b[0m\u001b[0;34m:\u001b[0m\u001b[0;34m\u001b[0m\u001b[0;34m\u001b[0m\u001b[0m\n\u001b[1;32m    773\u001b[0m             \u001b[0;31m# The zipfile reader is going to advance the current file position.\u001b[0m\u001b[0;34m\u001b[0m\u001b[0;34m\u001b[0m\u001b[0;34m\u001b[0m\u001b[0m\n",
      "\u001b[0;32m~/anaconda3/envs/dgfont-env/lib/python3.7/site-packages/torch/serialization.py\u001b[0m in \u001b[0;36m_open_file_like\u001b[0;34m(name_or_buffer, mode)\u001b[0m\n\u001b[1;32m    268\u001b[0m \u001b[0;32mdef\u001b[0m \u001b[0m_open_file_like\u001b[0m\u001b[0;34m(\u001b[0m\u001b[0mname_or_buffer\u001b[0m\u001b[0;34m,\u001b[0m \u001b[0mmode\u001b[0m\u001b[0;34m)\u001b[0m\u001b[0;34m:\u001b[0m\u001b[0;34m\u001b[0m\u001b[0;34m\u001b[0m\u001b[0m\n\u001b[1;32m    269\u001b[0m     \u001b[0;32mif\u001b[0m \u001b[0m_is_path\u001b[0m\u001b[0;34m(\u001b[0m\u001b[0mname_or_buffer\u001b[0m\u001b[0;34m)\u001b[0m\u001b[0;34m:\u001b[0m\u001b[0;34m\u001b[0m\u001b[0;34m\u001b[0m\u001b[0m\n\u001b[0;32m--> 270\u001b[0;31m         \u001b[0;32mreturn\u001b[0m \u001b[0m_open_file\u001b[0m\u001b[0;34m(\u001b[0m\u001b[0mname_or_buffer\u001b[0m\u001b[0;34m,\u001b[0m \u001b[0mmode\u001b[0m\u001b[0;34m)\u001b[0m\u001b[0;34m\u001b[0m\u001b[0;34m\u001b[0m\u001b[0m\n\u001b[0m\u001b[1;32m    271\u001b[0m     \u001b[0;32melse\u001b[0m\u001b[0;34m:\u001b[0m\u001b[0;34m\u001b[0m\u001b[0;34m\u001b[0m\u001b[0m\n\u001b[1;32m    272\u001b[0m         \u001b[0;32mif\u001b[0m \u001b[0;34m'w'\u001b[0m \u001b[0;32min\u001b[0m \u001b[0mmode\u001b[0m\u001b[0;34m:\u001b[0m\u001b[0;34m\u001b[0m\u001b[0;34m\u001b[0m\u001b[0m\n",
      "\u001b[0;32m~/anaconda3/envs/dgfont-env/lib/python3.7/site-packages/torch/serialization.py\u001b[0m in \u001b[0;36m__init__\u001b[0;34m(self, name, mode)\u001b[0m\n\u001b[1;32m    249\u001b[0m \u001b[0;32mclass\u001b[0m \u001b[0m_open_file\u001b[0m\u001b[0;34m(\u001b[0m\u001b[0m_opener\u001b[0m\u001b[0;34m)\u001b[0m\u001b[0;34m:\u001b[0m\u001b[0;34m\u001b[0m\u001b[0;34m\u001b[0m\u001b[0m\n\u001b[1;32m    250\u001b[0m     \u001b[0;32mdef\u001b[0m \u001b[0m__init__\u001b[0m\u001b[0;34m(\u001b[0m\u001b[0mself\u001b[0m\u001b[0;34m,\u001b[0m \u001b[0mname\u001b[0m\u001b[0;34m,\u001b[0m \u001b[0mmode\u001b[0m\u001b[0;34m)\u001b[0m\u001b[0;34m:\u001b[0m\u001b[0;34m\u001b[0m\u001b[0;34m\u001b[0m\u001b[0m\n\u001b[0;32m--> 251\u001b[0;31m         \u001b[0msuper\u001b[0m\u001b[0;34m(\u001b[0m\u001b[0m_open_file\u001b[0m\u001b[0;34m,\u001b[0m \u001b[0mself\u001b[0m\u001b[0;34m)\u001b[0m\u001b[0;34m.\u001b[0m\u001b[0m__init__\u001b[0m\u001b[0;34m(\u001b[0m\u001b[0mopen\u001b[0m\u001b[0;34m(\u001b[0m\u001b[0mname\u001b[0m\u001b[0;34m,\u001b[0m \u001b[0mmode\u001b[0m\u001b[0;34m)\u001b[0m\u001b[0;34m)\u001b[0m\u001b[0;34m\u001b[0m\u001b[0;34m\u001b[0m\u001b[0m\n\u001b[0m\u001b[1;32m    252\u001b[0m \u001b[0;34m\u001b[0m\u001b[0m\n\u001b[1;32m    253\u001b[0m     \u001b[0;32mdef\u001b[0m \u001b[0m__exit__\u001b[0m\u001b[0;34m(\u001b[0m\u001b[0mself\u001b[0m\u001b[0;34m,\u001b[0m \u001b[0;34m*\u001b[0m\u001b[0margs\u001b[0m\u001b[0;34m)\u001b[0m\u001b[0;34m:\u001b[0m\u001b[0;34m\u001b[0m\u001b[0;34m\u001b[0m\u001b[0m\n",
      "\u001b[0;31mFileNotFoundError\u001b[0m: [Errno 2] No such file or directory: 'model_checkpoints/cross_validation_100_0_ViT-B_32_cnn_based_vae_loss_weight_1.0vae_loss_kl_weight0.001_res_64_9101191011_batch64_aug150_lower_bound_of_scale0.35_use_negative_lr1e-05-0.1_image_file_dir.pt'"
     ]
    }
   ],
   "source": [
    "cross_validation_k = 100\n",
    "result = []\n",
    "correct_num = 0\n",
    "total_num = 0\n",
    "for i in range(cross_validation_k):\n",
    "  tmp_test_json_path = f\"../attributeData/test_font_to_attribute_values_cross_validation_{cross_validation_k}_{i}.json\"\n",
    "  tmp_test_json = json.load(open(tmp_test_json_path, \"r\"))\n",
    "  tmp_test_font_names = list(tmp_test_json.keys())\n",
    "\n",
    "  signature = f'cross_validation_{cross_validation_k}_{i}_task_for_validation_ViT-B_32_9101191011_batch64_aug190_use_negative_use_negative_loss1e-06_lr2e-05-0.1_image_file_dir'\n",
    "  signature = f'cross_validation_{cross_validation_k}_{i}_task_for_validation_ViT-B_32_9101191011_batch64_aug190_use_negative_use_negative_loss1e-06_lr2e-05-0.1_image_file_dir'\n",
    "  signature = f'cross_validation_{cross_validation_k}_{i}_task_for_validation_ViT-B_32_cnn_based_vae_loss_weight_1.0vae_loss_kl_weight0.001_res_64_9101191011_batch64_aug150_lower_bound_of_scale0.35_use_negative_lr2e-05-0.1'\n",
    "  signature = f'cross_validation_{cross_validation_k}_{i}_ViT-B_32_cnn_based_vae_loss_weight_1.0vae_loss_kl_weight0.001_res_64_9101191011_batch64_aug100_lower_bound_of_scale0.35_use_negative_lr1e-05-0.1_image_file_dir'\n",
    "  signature = f'cross_validation_{cross_validation_k}_{i}_ViT-B_32_cnn_based_vae_loss_weight_1.0vae_loss_kl_weight0.001_res_64_9101191011_batch64_aug150_lower_bound_of_scale0.35_use_negative_lr1e-05-0.1_image_file_dir'\n",
    "  signature = f'cross_validation_{cross_validation_k}_{i}_ViT-B_32_cnn_based_vae_loss_weight_1.0vae_loss_kl_weight0.001_res_64_9101191011_batch64_aug200_lower_bound_of_scale0.35_use_negative_lr1e-05-0.1_image_file_dir'\n",
    "  signature = f'cross_validation_{cross_validation_k}_{i}_ViT-B_32_cnn_based_vae_loss_weight_1.0vae_loss_kl_weight0.001_res_64_9101191011_batch64_aug150_lower_bound_of_scale0.35_use_negative_lr1e-05-0.1_image_file_dir'\n",
    "  checkpoint_path = f'model_checkpoints/{signature}.pt'\n",
    "  model = load_model(model, checkpoint_path)\n",
    "  embedded_prompts = generate_all_attribute_embedded_prompts(inclusive_attributes, model=model)\n",
    "  embedded_images = generate_all_fonts_embedded_images(font_paths, fox_text, model=model, preprocess=preprocess, image_file_dir=gray_scale_image_file_dir)\n",
    "\n",
    "  for target_font_name in tmp_test_font_names:\n",
    "      # tmp_result = evaluate_for_target_font(target_font_name, embedded_prompts, embedded_images)\n",
    "      # classification_rate = sum([1 for r in tmp_result if r[-1]])/len(tmp_result)\n",
    "      tmp_result = evaluate_for_target_font_for_each_comparison(target_font_name, embedded_prompts, embedded_images)\n",
    "      tmp_correct_num, tmp_total_num = sum([r[-2] for r in tmp_result]), sum([r[-1] for r in tmp_result])\n",
    "      tmp_classification_rate = tmp_correct_num / tmp_total_num\n",
    "      print(target_font_name, tmp_classification_rate)\n",
    "      correct_num += tmp_correct_num\n",
    "      total_num += tmp_total_num\n",
    "\n",
    "average = correct_num / total_num\n",
    "print(average)"
   ]
  },
  {
   "cell_type": "code",
   "execution_count": 5,
   "metadata": {},
   "outputs": [
    {
     "data": {
      "text/plain": [
       "0.6341244239631336"
      ]
     },
     "execution_count": 5,
     "metadata": {},
     "output_type": "execute_result"
    }
   ],
   "source": [
    "correct_num / total_num"
   ]
  },
  {
   "cell_type": "code",
   "execution_count": null,
   "metadata": {},
   "outputs": [],
   "source": []
  },
  {
   "cell_type": "code",
   "execution_count": 6,
   "metadata": {},
   "outputs": [
    {
     "name": "stderr",
     "output_type": "stream",
     "text": [
      "  0%|          | 0/40 [00:00<?, ?it/s]"
     ]
    },
    {
     "name": "stdout",
     "output_type": "stream",
     "text": [
      "FanwoodText-Italic 0.6440092165898618\n",
      "ShareTech-Regular 0.5961981566820277\n",
      "IstokWeb-Bold 0.6278801843317973\n",
      "Lekton-Italic 0.6779953917050692\n",
      "CabinCondensed 0.6347926267281107\n",
      "0.6361751152073732\n"
     ]
    },
    {
     "name": "stderr",
     "output_type": "stream",
     "text": [
      "\n"
     ]
    }
   ],
   "source": [
    "cross_validation_k = 40\n",
    "result = []\n",
    "correct_num = 0\n",
    "total_num = 0\n",
    "for i in tqdm(range(cross_validation_k)):\n",
    "  tmp_test_json_path = f\"../attributeData/test_font_to_attribute_values_cross_validation_{cross_validation_k}_{i}.json\"\n",
    "  tmp_test_json = json.load(open(tmp_test_json_path, \"r\"))\n",
    "  tmp_test_font_names = list(tmp_test_json.keys())\n",
    "\n",
    "  signature = f'cross_validation_{cross_validation_k}_{i}_ViT-B_32_9101191011_batch64_aug140_use_negative_use_negative_loss1e-06_lr2e-05-0.1_image_file_dir'\n",
    "  checkpoint_path = f'model_checkpoints/{signature}.pt'\n",
    "  model = load_model(model, checkpoint_path)\n",
    "  embedded_prompts = generate_all_attribute_embedded_prompts(inclusive_attributes, model=model)\n",
    "  embedded_images = generate_all_fonts_embedded_images(font_paths, fox_text, model=model, preprocess=preprocess, image_file_dir=gray_scale_image_file_dir)\n",
    "\n",
    "  for target_font_name in tmp_test_font_names:\n",
    "      # tmp_result = evaluate_for_target_font(target_font_name, embedded_prompts, embedded_images)\n",
    "      # classification_rate = sum([1 for r in tmp_result if r[-1]])/len(tmp_result)\n",
    "      tmp_result = evaluate_for_target_font_for_each_comparison(target_font_name, embedded_prompts, embedded_images)\n",
    "      tmp_correct_num, tmp_total_num = sum([r[-2] for r in tmp_result]), sum([r[-1] for r in tmp_result])\n",
    "      tmp_classification_rate = tmp_correct_num / tmp_total_num\n",
    "      print(target_font_name, tmp_classification_rate)\n",
    "      correct_num += tmp_correct_num\n",
    "      total_num += tmp_total_num\n",
    "  break\n",
    "\n",
    "average = correct_num / total_num\n",
    "print(average)"
   ]
  },
  {
   "cell_type": "code",
   "execution_count": 4,
   "metadata": {},
   "outputs": [],
   "source": [
    "checkpoint_path = 'model_checkpoints/new_best_fox_negative_91011_1011_use_weight_image_file_dir_all_fonts_ex.pt'\n",
    "#checkpoint_path = 'model_checkpoints/best_fox_negative_91011_1011_use_weight_aug_ex.pt'\n",
    "checkpoint_path = 'model_checkpoints/best_fox_negative_91011_1011_use_weight_ex_2e5.pt'\n",
    "#checkpoint_path = 'model_checkpoints/new_best_fox_negative_91011_91011_multiple_3_1000_aug_ex.pt'\n",
    "checkpoint_path = 'model_checkpoints/new_best_fox_negative_91011_1011_multiple_2_100_ex.pt'\n",
    "checkpoint_path = 'model_checkpoints/67891011_891011_multiple_3_1000_image_file_dir_aug_ex.pt'\n",
    "checkpoint_path = 'model_checkpoints/91011_1011_multiple_3_1000_image_file_dir_aug.pt'\n",
    "checkpoint_path = 'model_checkpoints/891011_1011_multiple_3_1000_image_file_dir_aug.pt'\n",
    "#checkpoint_path = 'model_checkpoints/new_best_fox_negative_91011_1011_use_weight_image_file_dir_ex.pt'\n",
    "checkpoint_path = 'model_checkpoints/91011_91011_multiple_3_1000_image_file_dir_aug_ex.pt'\n",
    "checkpoint_path = 'model_checkpoints/91011_1011_multiple_3_1000_aug_ex.pt'\n",
    "checkpoint_path = 'model_checkpoints/91011_91011_multiple_3_1000_image_file_dir_all_aug_ex.pt'\n",
    "checkpoint_path = 'model_checkpoints/model_45.pt'\n",
    "checkpoint_path = None\n",
    "model = load_model(model, checkpoint_path)\n",
    "image_file_dir = None\n",
    "image_file_dir = '../attributeData/images'\n",
    "embedded_prompts = generate_all_attribute_embedded_prompts(inclusive_attributes, model=model)\n",
    "embedded_images = generate_all_fonts_embedded_images(font_paths, fox_text, model=model, preprocess=preprocess, image_file_dir=image_file_dir)"
   ]
  },
  {
   "cell_type": "code",
   "execution_count": 5,
   "metadata": {},
   "outputs": [
    {
     "name": "stdout",
     "output_type": "stream",
     "text": [
      "0.5186578341013824\n"
     ]
    }
   ],
   "source": [
    "\"\"\"\n",
    "result = evaluate_for_target_font(None, embedded_prompts, embedded_images)\n",
    "classification_rate = sum([1 for r in result if r[-1]])/len(result)\n",
    "print(classification_rate)\n",
    "\"\"\"\n",
    "\n",
    "result = evaluate_for_target_font_for_each_comparison(None, embedded_prompts, embedded_images)\n",
    "classification_rate = sum([r[-2] for r in result])/sum([r[-1] for r in result])\n",
    "print(classification_rate)"
   ]
  },
  {
   "cell_type": "code",
   "execution_count": 10,
   "metadata": {},
   "outputs": [
    {
     "name": "stdout",
     "output_type": "stream",
     "text": [
      "FanwoodText-Italic 0.4879032258064516\n",
      "ShareTech-Regular 0.41935483870967744\n",
      "IstokWeb-Bold 0.5080645161290323\n",
      "Lekton-Italic 0.5120967741935484\n",
      "CabinCondensed 0.4717741935483871\n",
      "PressStart2P-Regular 0.5645161290322581\n",
      "ModernAntiqua-Regular 0.40725806451612906\n",
      "Arvo-Bold 0.5\n",
      "Satisfy 0.5887096774193549\n",
      "Muli 0.5282258064516129\n",
      "Palatino-Roman 0.5725806451612904\n",
      "SourceCodePro-ExtraLight 0.3790322580645161\n",
      "Montez-Regular 0.5645161290322581\n",
      "Raleway-SemiBold 0.4596774193548387\n",
      "UbuntuCondensed-Regular 0.42338709677419356\n",
      "Slackey 0.5887096774193549\n",
      "BadScript-Regular 0.6814516129032258\n",
      "AveriaLibre-LightItalic 0.532258064516129\n",
      "Rambla-Regular 0.5\n",
      "Roboto-MediumItalic 0.5564516129032258\n",
      "Julee-Regular 0.6129032258064516\n",
      "PTSerif-BoldItalic 0.33064516129032256\n",
      "MervaleScript-Regular 0.43548387096774194\n",
      "CrimsonText-Semibold 0.5403225806451613\n",
      "IM_FELL_English_Roman 0.5282258064516129\n",
      "Amethysta-Regular 0.5443548387096774\n",
      "TitilliumWeb-ThinItalic 0.4596774193548387\n",
      "CantoraOne-Regular 0.4959677419354839\n",
      "Raleway-Bold 0.5524193548387096\n",
      "ArialRoundedMTBold 0.4838709677419355\n",
      "Parisienne-Regular 0.5685483870967742\n",
      "GentiumBasic-Bold 0.5120967741935484\n",
      "Frijole 0.5\n",
      "Rosario-Bold 0.5604838709677419\n",
      "Orbitron-Black 0.5282258064516129\n",
      "Asset 0.6209677419354839\n",
      "Brevia-Regular 0.5524193548387096\n",
      "SourceCodePro-Black 0.5\n",
      "JustAnotherHand-Regular 0.4879032258064516\n",
      "Redressed 0.6491935483870968\n",
      "Economica-Italic 0.4717741935483871\n",
      "OriginalSurfer-Regular 0.5080645161290323\n",
      "GillSansStd 0.5403225806451613\n",
      "ArialUnicodeMS 0.5725806451612904\n",
      "Cabin-SemiBoldItalic 0.4475806451612903\n",
      "Arvo-Italic 0.45161290322580644\n",
      "GillSansStd-BoldItalic 0.532258064516129\n",
      "Buenard-Bold 0.5967741935483871\n",
      "NovaRound 0.5\n",
      "Signika-Semibold 0.5201612903225806\n",
      "Ranchers-Regular 0.5483870967741935\n",
      "Rosarivo-Italic 0.4879032258064516\n",
      "Asap-Regular 0.5241935483870968\n",
      "StardosStencil-Bold 0.47580645161290325\n",
      "Strait-Regular 0.4959677419354839\n",
      "Rationale-Regular 0.49193548387096775\n",
      "GEInspira 0.4879032258064516\n",
      "Tinos-Bold 0.5040322580645161\n",
      "Tinos 0.5846774193548387\n",
      "ARSMaquetteWebOne 0.5080645161290323\n",
      "AveriaSerifLibre-Italic 0.5483870967741935\n",
      "PlayfairDisplay-Black 0.5201612903225806\n",
      "Fenix 0.4959677419354839\n",
      "HoeflerText-Regular 0.5362903225806451\n",
      "Tulpen 0.4314516129032258\n",
      "FingerPaint 0.4959677419354839\n",
      "Jura-Light 0.4959677419354839\n",
      "GFSDidot-Regular 0.5725806451612904\n",
      "PasseroOne-Regular 0.4637096774193548\n",
      "Alegreya-BoldItalic 0.6612903225806451\n",
      "Sacramento-Regular 0.4596774193548387\n",
      "Megrim 0.5\n",
      "AllertaStencil-Regular 0.5725806451612904\n",
      "AdventPro-SemiBold 0.5201612903225806\n",
      "Merriweather 0.4435483870967742\n",
      "Andada-Italic 0.4879032258064516\n",
      "Roboto-Regular 0.6209677419354839\n",
      "RobotoCondensed-Light 0.4879032258064516\n",
      "Kenia-Regular 0.5161290322580645\n",
      "Andada-Bold 0.5201612903225806\n",
      "Trochut-Italic 0.4838709677419355\n",
      "AveriaSansLibre-Italic 0.5846774193548387\n",
      "Orbitron-Medium 0.4879032258064516\n",
      "Trochut 0.4637096774193548\n",
      "Lato-BlackItalic 0.5\n",
      "Bello-Pro 0.5685483870967742\n",
      "ArchivoNarrow-Regular 0.532258064516129\n",
      "Calluna-Regular 0.5040322580645161\n",
      "Iceland-Regular 0.5241935483870968\n",
      "MavenProBlack 0.4838709677419355\n",
      "Bentham-Regular 0.5\n",
      "Oranienbaum-Regular 0.532258064516129\n",
      "Lato-Italic 0.5080645161290323\n",
      "ClickerScript-Regular 0.41935483870967744\n",
      "BlackOpsOne-Regular 0.5846774193548387\n",
      "KellySlab-Regular 0.5887096774193549\n",
      "BilboSwashCaps-Regular 0.6048387096774194\n",
      "Enriqueta-Regular 0.5443548387096774\n",
      "FrancoisOne-Regular 0.5040322580645161\n",
      "BubblerOne 0.5362903225806451\n",
      "Lato-BoldItalic 0.592741935483871\n",
      "Marvel-BoldItalic 0.532258064516129\n",
      "GoudyBookletter1911 0.5080645161290323\n",
      "Paprika-Regular 0.6370967741935484\n",
      "PlayfairDisplay-Italic 0.5685483870967742\n",
      "PTSans-Caption 0.5725806451612904\n",
      "LobsterTwo-Italic 0.6048387096774194\n",
      "Thabit 0.6169354838709677\n",
      "CenturyGothic 0.5241935483870968\n",
      "MarckScript-Regular 0.6411290322580645\n",
      "BenchNine-Regular 0.5080645161290323\n",
      "SonsieOne-Regular 0.5\n",
      "Wellfleet-Regular 0.4274193548387097\n",
      "BowlbyOneSC-Regular 0.6088709677419355\n",
      "TitilliumWeb-Black 0.5040322580645161\n",
      "EagleLake-Regular 0.6975806451612904\n",
      "Tuffy-BoldItalic 0.5443548387096774\n",
      "TenorSans 0.5524193548387096\n",
      "Rokkitt 0.5040322580645161\n",
      "RobotoCondensed-Regular 0.5483870967741935\n",
      "LucidaSansStd 0.5443548387096774\n",
      "YanoneTagesschrift 0.6008064516129032\n",
      "MergeOne-Regular 0.3185483870967742\n",
      "Sedan-Italic 0.6975806451612904\n",
      "Roboto-Light 0.5564516129032258\n",
      "CabinCondensed-Medium 0.4798387096774194\n",
      "LifeSavers-Bold 0.5\n",
      "Muli-Light 0.5161290322580645\n",
      "Ubuntu-Italic 0.5524193548387096\n",
      "Acme-Regular 0.5362903225806451\n",
      "Arimo-Bold 0.5483870967741935\n",
      "SigmarOne 0.5241935483870968\n",
      "Dosis-Light 0.5\n",
      "GFSNeohellenic-Italic 0.6008064516129032\n",
      "Nobile-Medium 0.5\n",
      "Puritan-Bold 0.5524193548387096\n",
      "GentiumBasic 0.5524193548387096\n",
      "Bevan 0.4879032258064516\n",
      "Telex-Regular 0.5564516129032258\n",
      "Smokum-Regular 0.5766129032258065\n",
      "Astloch-Bold 0.4959677419354839\n",
      "Sevillana-Regular 0.5040322580645161\n",
      "UbuntuMono-Bold 0.5201612903225806\n",
      "Futura-Medium 0.5080645161290323\n",
      "GreatVibes-Regular 0.5\n",
      "Rokkitt-Light 0.5201612903225806\n",
      "PlayfairDisplaySC-BoldItalic 0.43951612903225806\n",
      "OldStandardTT-Regular 0.5362903225806451\n",
      "AndadaSC-Bold 0.532258064516129\n",
      "GillSansStd-Bold 0.5161290322580645\n",
      "HeadlandOne-Regular 0.4959677419354839\n",
      "Magra-Bold 0.5604838709677419\n",
      "Share-BoldOSF 0.5040322580645161\n",
      "NanumGothicCoding-Bold 0.5443548387096774\n",
      "Signika-Light 0.5725806451612904\n",
      "Milonga-Regular 0.5685483870967742\n",
      "Nobile-MediumItalic 0.5403225806451613\n",
      "Roboto-Black 0.6733870967741935\n",
      "Philosopher 0.5080645161290323\n",
      "Overlock-Italic 0.5241935483870968\n",
      "Syncopate-Bold 0.5887096774193549\n",
      "GentiumBasic-BoldItalic 0.6048387096774194\n",
      "Inconsolata-Regular 0.6088709677419355\n",
      "EmblemaOne-Regular 0.5887096774193549\n",
      "SourceCodePro-Light 0.4153225806451613\n",
      "Merriweather-Bold 0.49193548387096775\n",
      "Oswald-Bold 0.46774193548387094\n",
      "Neuton-Light 0.5040322580645161\n",
      "AnonymousPro 0.5645161290322581\n",
      "LeagueGothic 0.5524193548387096\n",
      "Arizonia-Regular 0.4838709677419355\n",
      "Cantarell-BoldOblique 0.5806451612903226\n",
      "Simonetta-Black 0.6008064516129032\n",
      "OpenSans-CondensedLight 0.532258064516129\n",
      "OFLGoudyStMTT 0.5161290322580645\n",
      "Marvel-Bold 0.5120967741935484\n",
      "Oswald-Regular 0.5524193548387096\n",
      "CrimsonText-BoldItalic 0.6209677419354839\n",
      "TitanOne 0.6169354838709677\n",
      "Oldenburg-Regular 0.4475806451612903\n",
      "Chivo-Italic 0.5080645161290323\n",
      "Share-BoldItalicOSF 0.5685483870967742\n",
      "QuattrocentoSans-Italic 0.5524193548387096\n",
      "RopaSans-Regular 0.4879032258064516\n",
      "Lora-BoldItalic 0.625\n",
      "SourceSansPro-Semibold 0.532258064516129\n",
      "UbuntuMono-Italic 0.5\n",
      "Damion 0.5120967741935484\n",
      "Lobster 0.4959677419354839\n",
      "IM_FELL_French_Canon_Roman 0.5161290322580645\n",
      "FredokaOne-Regular 0.532258064516129\n",
      "Aldrich 0.4959677419354839\n",
      "JosefinSans-SemiBoldItalic 0.4879032258064516\n",
      "Voltaire 0.4959677419354839\n",
      "Arvo-BoldItalic 0.4798387096774194\n",
      "RacingSansOne-Regular 0.5564516129032258\n",
      "SourceSansPro-LightIt 0.5483870967741935\n",
      "Arimo-BoldItalic 0.5725806451612904\n",
      "Niconne-Regular 0.7258064516129032\n",
      "Cardo-Italic 0.625\n"
     ]
    }
   ],
   "source": [
    "result = []\n",
    "for target_font_name in font_names:\n",
    "    tmp_result = evaluate_for_target_font(target_font_name, embedded_prompts, embedded_images)\n",
    "    classification_rate = sum([1 for r in tmp_result if r[-1]])/len(tmp_result)\n",
    "    result.append((target_font_name, classification_rate))\n",
    "    print(target_font_name, classification_rate)\n",
    "\n",
    "average = sum([r[1] for r in result])/len(result)\n",
    "print(average)"
   ]
  },
  {
   "cell_type": "code",
   "execution_count": 8,
   "metadata": {
    "ExecuteTime": {
     "end_time": "2023-04-27T15:57:25.730030Z",
     "start_time": "2023-04-27T15:52:35.316066Z"
    },
    "collapsed": false
   },
   "outputs": [
    {
     "name": "stdout",
     "output_type": "stream",
     "text": [
      "model_checkpoints/one_leave_out_CrimsonText-Semibold.pt\n",
      "CrimsonText-Semibold 0.7338709677419355\n",
      "model_checkpoints/one_leave_out_Amethysta-Regular.pt\n",
      "Amethysta-Regular 0.6895161290322581\n",
      "model_checkpoints/one_leave_out_Tinos-Bold.pt\n",
      "Tinos-Bold 0.7540322580645161\n",
      "model_checkpoints/one_leave_out_Rosario-Bold.pt\n",
      "Rosario-Bold 0.7338709677419355\n",
      "model_checkpoints/one_leave_out_MavenProBlack.pt\n",
      "MavenProBlack 0.75\n",
      "model_checkpoints/one_leave_out_Parisienne-Regular.pt\n"
     ]
    },
    {
     "ename": "KeyboardInterrupt",
     "evalue": "",
     "output_type": "error",
     "traceback": [
      "\u001b[0;31m---------------------------------------------------------------------------\u001b[0m",
      "\u001b[0;31mKeyboardInterrupt\u001b[0m                         Traceback (most recent call last)",
      "\u001b[0;32m/tmp/ipykernel_44370/1545408871.py\u001b[0m in \u001b[0;36m<module>\u001b[0;34m\u001b[0m\n\u001b[1;32m      5\u001b[0m     \u001b[0mmodel\u001b[0m \u001b[0;34m=\u001b[0m \u001b[0mload_model\u001b[0m\u001b[0;34m(\u001b[0m\u001b[0mmodel\u001b[0m\u001b[0;34m,\u001b[0m \u001b[0mcheckpoint_path\u001b[0m\u001b[0;34m)\u001b[0m\u001b[0;34m\u001b[0m\u001b[0;34m\u001b[0m\u001b[0m\n\u001b[1;32m      6\u001b[0m     \u001b[0membedded_prompts\u001b[0m \u001b[0;34m=\u001b[0m \u001b[0mgenerate_all_attribute_embedded_prompts\u001b[0m\u001b[0;34m(\u001b[0m\u001b[0minclusive_attributes\u001b[0m\u001b[0;34m,\u001b[0m \u001b[0mmodel\u001b[0m\u001b[0;34m=\u001b[0m\u001b[0mmodel\u001b[0m\u001b[0;34m)\u001b[0m\u001b[0;34m\u001b[0m\u001b[0;34m\u001b[0m\u001b[0m\n\u001b[0;32m----> 7\u001b[0;31m     \u001b[0membedded_images\u001b[0m \u001b[0;34m=\u001b[0m \u001b[0mgenerate_all_fonts_embedded_images\u001b[0m\u001b[0;34m(\u001b[0m\u001b[0mfont_paths\u001b[0m\u001b[0;34m,\u001b[0m \u001b[0mfox_text\u001b[0m\u001b[0;34m,\u001b[0m \u001b[0mmodel\u001b[0m\u001b[0;34m=\u001b[0m\u001b[0mmodel\u001b[0m\u001b[0;34m,\u001b[0m \u001b[0mpreprocess\u001b[0m\u001b[0;34m=\u001b[0m\u001b[0mpreprocess\u001b[0m\u001b[0;34m)\u001b[0m\u001b[0;34m\u001b[0m\u001b[0;34m\u001b[0m\u001b[0m\n\u001b[0m\u001b[1;32m      8\u001b[0m     \u001b[0mtmp_result\u001b[0m \u001b[0;34m=\u001b[0m \u001b[0mevaluate_for_target_font\u001b[0m\u001b[0;34m(\u001b[0m\u001b[0mtarget_font_name\u001b[0m\u001b[0;34m,\u001b[0m \u001b[0membedded_prompts\u001b[0m\u001b[0;34m,\u001b[0m \u001b[0membedded_images\u001b[0m\u001b[0;34m)\u001b[0m\u001b[0;34m\u001b[0m\u001b[0;34m\u001b[0m\u001b[0m\n\u001b[1;32m      9\u001b[0m     \u001b[0mclassification_rate\u001b[0m \u001b[0;34m=\u001b[0m \u001b[0msum\u001b[0m\u001b[0;34m(\u001b[0m\u001b[0;34m[\u001b[0m\u001b[0;36m1\u001b[0m \u001b[0;32mfor\u001b[0m \u001b[0mr\u001b[0m \u001b[0;32min\u001b[0m \u001b[0mtmp_result\u001b[0m \u001b[0;32mif\u001b[0m \u001b[0mr\u001b[0m\u001b[0;34m[\u001b[0m\u001b[0;34m-\u001b[0m\u001b[0;36m1\u001b[0m\u001b[0;34m]\u001b[0m\u001b[0;34m]\u001b[0m\u001b[0;34m)\u001b[0m\u001b[0;34m/\u001b[0m\u001b[0mlen\u001b[0m\u001b[0;34m(\u001b[0m\u001b[0mtmp_result\u001b[0m\u001b[0;34m)\u001b[0m\u001b[0;34m\u001b[0m\u001b[0;34m\u001b[0m\u001b[0m\n",
      "\u001b[0;32m~/learn-computer-vision/CLIPFont/fine_tune.py\u001b[0m in \u001b[0;36mgenerate_all_fonts_embedded_images\u001b[0;34m(font_paths, text, model, preprocess, char_size, image_file_dir)\u001b[0m\n\u001b[1;32m    146\u001b[0m             \u001b[0mtext_image\u001b[0m \u001b[0;34m=\u001b[0m \u001b[0mdraw_text_with_new_lines\u001b[0m\u001b[0;34m(\u001b[0m\u001b[0mtext\u001b[0m\u001b[0;34m,\u001b[0m \u001b[0mfont\u001b[0m\u001b[0;34m,\u001b[0m \u001b[0mwidth\u001b[0m\u001b[0;34m,\u001b[0m \u001b[0mheight\u001b[0m\u001b[0;34m)\u001b[0m\u001b[0;34m\u001b[0m\u001b[0;34m\u001b[0m\u001b[0m\n\u001b[1;32m    147\u001b[0m             \u001b[0mimage_tensor\u001b[0m \u001b[0;34m=\u001b[0m \u001b[0mpreprocess\u001b[0m\u001b[0;34m(\u001b[0m\u001b[0mtext_image\u001b[0m\u001b[0;34m)\u001b[0m\u001b[0;34m.\u001b[0m\u001b[0munsqueeze\u001b[0m\u001b[0;34m(\u001b[0m\u001b[0;36m0\u001b[0m\u001b[0;34m)\u001b[0m\u001b[0;34m.\u001b[0m\u001b[0mto\u001b[0m\u001b[0;34m(\u001b[0m\u001b[0mdevice\u001b[0m\u001b[0;34m)\u001b[0m\u001b[0;34m\u001b[0m\u001b[0;34m\u001b[0m\u001b[0m\n\u001b[0;32m--> 148\u001b[0;31m             \u001b[0membedded_image\u001b[0m \u001b[0;34m=\u001b[0m \u001b[0mmodel\u001b[0m\u001b[0;34m.\u001b[0m\u001b[0mencode_image\u001b[0m\u001b[0;34m(\u001b[0m\u001b[0mimage_tensor\u001b[0m\u001b[0;34m)\u001b[0m\u001b[0;34m.\u001b[0m\u001b[0mcpu\u001b[0m\u001b[0;34m(\u001b[0m\u001b[0;34m)\u001b[0m\u001b[0;34m\u001b[0m\u001b[0;34m\u001b[0m\u001b[0m\n\u001b[0m\u001b[1;32m    149\u001b[0m             \u001b[0mresult\u001b[0m\u001b[0;34m[\u001b[0m\u001b[0mfont_name\u001b[0m\u001b[0;34m]\u001b[0m \u001b[0;34m=\u001b[0m \u001b[0membedded_image\u001b[0m\u001b[0;34m\u001b[0m\u001b[0;34m\u001b[0m\u001b[0m\n\u001b[1;32m    150\u001b[0m         \u001b[0;32mreturn\u001b[0m \u001b[0mresult\u001b[0m\u001b[0;34m\u001b[0m\u001b[0;34m\u001b[0m\u001b[0m\n",
      "\u001b[0;32m~/learn-computer-vision/CLIPFont/clip/model.py\u001b[0m in \u001b[0;36mencode_image\u001b[0;34m(self, image)\u001b[0m\n\u001b[1;32m    410\u001b[0m \u001b[0;34m\u001b[0m\u001b[0m\n\u001b[1;32m    411\u001b[0m     \u001b[0;32mdef\u001b[0m \u001b[0mencode_image\u001b[0m\u001b[0;34m(\u001b[0m\u001b[0mself\u001b[0m\u001b[0;34m,\u001b[0m \u001b[0mimage\u001b[0m\u001b[0;34m)\u001b[0m\u001b[0;34m:\u001b[0m\u001b[0;34m\u001b[0m\u001b[0;34m\u001b[0m\u001b[0m\n\u001b[0;32m--> 412\u001b[0;31m         \u001b[0;32mreturn\u001b[0m \u001b[0mself\u001b[0m\u001b[0;34m.\u001b[0m\u001b[0mvisual\u001b[0m\u001b[0;34m(\u001b[0m\u001b[0mimage\u001b[0m\u001b[0;34m.\u001b[0m\u001b[0mtype\u001b[0m\u001b[0;34m(\u001b[0m\u001b[0mself\u001b[0m\u001b[0;34m.\u001b[0m\u001b[0mdtype\u001b[0m\u001b[0;34m)\u001b[0m\u001b[0;34m)\u001b[0m\u001b[0;34m\u001b[0m\u001b[0;34m\u001b[0m\u001b[0m\n\u001b[0m\u001b[1;32m    413\u001b[0m \u001b[0;34m\u001b[0m\u001b[0m\n\u001b[1;32m    414\u001b[0m     \u001b[0;32mdef\u001b[0m \u001b[0mencode_text\u001b[0m\u001b[0;34m(\u001b[0m\u001b[0mself\u001b[0m\u001b[0;34m,\u001b[0m \u001b[0mtext\u001b[0m\u001b[0;34m)\u001b[0m\u001b[0;34m:\u001b[0m\u001b[0;34m\u001b[0m\u001b[0;34m\u001b[0m\u001b[0m\n",
      "\u001b[0;32m~/anaconda3/envs/dgfont-env/lib/python3.7/site-packages/torch/nn/modules/module.py\u001b[0m in \u001b[0;36m_call_impl\u001b[0;34m(self, *input, **kwargs)\u001b[0m\n\u001b[1;32m   1192\u001b[0m         if not (self._backward_hooks or self._forward_hooks or self._forward_pre_hooks or _global_backward_hooks\n\u001b[1;32m   1193\u001b[0m                 or _global_forward_hooks or _global_forward_pre_hooks):\n\u001b[0;32m-> 1194\u001b[0;31m             \u001b[0;32mreturn\u001b[0m \u001b[0mforward_call\u001b[0m\u001b[0;34m(\u001b[0m\u001b[0;34m*\u001b[0m\u001b[0minput\u001b[0m\u001b[0;34m,\u001b[0m \u001b[0;34m**\u001b[0m\u001b[0mkwargs\u001b[0m\u001b[0;34m)\u001b[0m\u001b[0;34m\u001b[0m\u001b[0;34m\u001b[0m\u001b[0m\n\u001b[0m\u001b[1;32m   1195\u001b[0m         \u001b[0;31m# Do not call functions when jit is used\u001b[0m\u001b[0;34m\u001b[0m\u001b[0;34m\u001b[0m\u001b[0;34m\u001b[0m\u001b[0m\n\u001b[1;32m   1196\u001b[0m         \u001b[0mfull_backward_hooks\u001b[0m\u001b[0;34m,\u001b[0m \u001b[0mnon_full_backward_hooks\u001b[0m \u001b[0;34m=\u001b[0m \u001b[0;34m[\u001b[0m\u001b[0;34m]\u001b[0m\u001b[0;34m,\u001b[0m \u001b[0;34m[\u001b[0m\u001b[0;34m]\u001b[0m\u001b[0;34m\u001b[0m\u001b[0;34m\u001b[0m\u001b[0m\n",
      "\u001b[0;32m~/learn-computer-vision/CLIPFont/clip/model.py\u001b[0m in \u001b[0;36mforward\u001b[0;34m(self, x)\u001b[0m\n\u001b[1;32m    290\u001b[0m \u001b[0;34m\u001b[0m\u001b[0m\n\u001b[1;32m    291\u001b[0m         \u001b[0mx\u001b[0m \u001b[0;34m=\u001b[0m \u001b[0mx\u001b[0m\u001b[0;34m.\u001b[0m\u001b[0mpermute\u001b[0m\u001b[0;34m(\u001b[0m\u001b[0;36m1\u001b[0m\u001b[0;34m,\u001b[0m \u001b[0;36m0\u001b[0m\u001b[0;34m,\u001b[0m \u001b[0;36m2\u001b[0m\u001b[0;34m)\u001b[0m  \u001b[0;31m# NLD -> LND\u001b[0m\u001b[0;34m\u001b[0m\u001b[0;34m\u001b[0m\u001b[0m\n\u001b[0;32m--> 292\u001b[0;31m         \u001b[0mx\u001b[0m \u001b[0;34m=\u001b[0m \u001b[0mself\u001b[0m\u001b[0;34m.\u001b[0m\u001b[0mtransformer\u001b[0m\u001b[0;34m(\u001b[0m\u001b[0mx\u001b[0m\u001b[0;34m)\u001b[0m\u001b[0;34m\u001b[0m\u001b[0;34m\u001b[0m\u001b[0m\n\u001b[0m\u001b[1;32m    293\u001b[0m         \u001b[0mx\u001b[0m \u001b[0;34m=\u001b[0m \u001b[0mx\u001b[0m\u001b[0;34m.\u001b[0m\u001b[0mpermute\u001b[0m\u001b[0;34m(\u001b[0m\u001b[0;36m1\u001b[0m\u001b[0;34m,\u001b[0m \u001b[0;36m0\u001b[0m\u001b[0;34m,\u001b[0m \u001b[0;36m2\u001b[0m\u001b[0;34m)\u001b[0m  \u001b[0;31m# LND -> NLD\u001b[0m\u001b[0;34m\u001b[0m\u001b[0;34m\u001b[0m\u001b[0m\n\u001b[1;32m    294\u001b[0m \u001b[0;34m\u001b[0m\u001b[0m\n",
      "\u001b[0;32m~/anaconda3/envs/dgfont-env/lib/python3.7/site-packages/torch/nn/modules/module.py\u001b[0m in \u001b[0;36m_call_impl\u001b[0;34m(self, *input, **kwargs)\u001b[0m\n\u001b[1;32m   1192\u001b[0m         if not (self._backward_hooks or self._forward_hooks or self._forward_pre_hooks or _global_backward_hooks\n\u001b[1;32m   1193\u001b[0m                 or _global_forward_hooks or _global_forward_pre_hooks):\n\u001b[0;32m-> 1194\u001b[0;31m             \u001b[0;32mreturn\u001b[0m \u001b[0mforward_call\u001b[0m\u001b[0;34m(\u001b[0m\u001b[0;34m*\u001b[0m\u001b[0minput\u001b[0m\u001b[0;34m,\u001b[0m \u001b[0;34m**\u001b[0m\u001b[0mkwargs\u001b[0m\u001b[0;34m)\u001b[0m\u001b[0;34m\u001b[0m\u001b[0;34m\u001b[0m\u001b[0m\n\u001b[0m\u001b[1;32m   1195\u001b[0m         \u001b[0;31m# Do not call functions when jit is used\u001b[0m\u001b[0;34m\u001b[0m\u001b[0;34m\u001b[0m\u001b[0;34m\u001b[0m\u001b[0m\n\u001b[1;32m   1196\u001b[0m         \u001b[0mfull_backward_hooks\u001b[0m\u001b[0;34m,\u001b[0m \u001b[0mnon_full_backward_hooks\u001b[0m \u001b[0;34m=\u001b[0m \u001b[0;34m[\u001b[0m\u001b[0;34m]\u001b[0m\u001b[0;34m,\u001b[0m \u001b[0;34m[\u001b[0m\u001b[0;34m]\u001b[0m\u001b[0;34m\u001b[0m\u001b[0;34m\u001b[0m\u001b[0m\n",
      "\u001b[0;32m~/learn-computer-vision/CLIPFont/clip/model.py\u001b[0m in \u001b[0;36mforward\u001b[0;34m(self, x)\u001b[0m\n\u001b[1;32m    241\u001b[0m \u001b[0;34m\u001b[0m\u001b[0m\n\u001b[1;32m    242\u001b[0m     \u001b[0;32mdef\u001b[0m \u001b[0mforward\u001b[0m\u001b[0;34m(\u001b[0m\u001b[0mself\u001b[0m\u001b[0;34m,\u001b[0m \u001b[0mx\u001b[0m\u001b[0;34m:\u001b[0m \u001b[0mtorch\u001b[0m\u001b[0;34m.\u001b[0m\u001b[0mTensor\u001b[0m\u001b[0;34m)\u001b[0m\u001b[0;34m:\u001b[0m\u001b[0;34m\u001b[0m\u001b[0;34m\u001b[0m\u001b[0m\n\u001b[0;32m--> 243\u001b[0;31m         \u001b[0;32mreturn\u001b[0m \u001b[0mself\u001b[0m\u001b[0;34m.\u001b[0m\u001b[0mresblocks\u001b[0m\u001b[0;34m(\u001b[0m\u001b[0mx\u001b[0m\u001b[0;34m)\u001b[0m\u001b[0;34m\u001b[0m\u001b[0;34m\u001b[0m\u001b[0m\n\u001b[0m\u001b[1;32m    244\u001b[0m \u001b[0;34m\u001b[0m\u001b[0m\n\u001b[1;32m    245\u001b[0m \u001b[0;34m\u001b[0m\u001b[0m\n",
      "\u001b[0;32m~/anaconda3/envs/dgfont-env/lib/python3.7/site-packages/torch/nn/modules/module.py\u001b[0m in \u001b[0;36m_call_impl\u001b[0;34m(self, *input, **kwargs)\u001b[0m\n\u001b[1;32m   1192\u001b[0m         if not (self._backward_hooks or self._forward_hooks or self._forward_pre_hooks or _global_backward_hooks\n\u001b[1;32m   1193\u001b[0m                 or _global_forward_hooks or _global_forward_pre_hooks):\n\u001b[0;32m-> 1194\u001b[0;31m             \u001b[0;32mreturn\u001b[0m \u001b[0mforward_call\u001b[0m\u001b[0;34m(\u001b[0m\u001b[0;34m*\u001b[0m\u001b[0minput\u001b[0m\u001b[0;34m,\u001b[0m \u001b[0;34m**\u001b[0m\u001b[0mkwargs\u001b[0m\u001b[0;34m)\u001b[0m\u001b[0;34m\u001b[0m\u001b[0;34m\u001b[0m\u001b[0m\n\u001b[0m\u001b[1;32m   1195\u001b[0m         \u001b[0;31m# Do not call functions when jit is used\u001b[0m\u001b[0;34m\u001b[0m\u001b[0;34m\u001b[0m\u001b[0;34m\u001b[0m\u001b[0m\n\u001b[1;32m   1196\u001b[0m         \u001b[0mfull_backward_hooks\u001b[0m\u001b[0;34m,\u001b[0m \u001b[0mnon_full_backward_hooks\u001b[0m \u001b[0;34m=\u001b[0m \u001b[0;34m[\u001b[0m\u001b[0;34m]\u001b[0m\u001b[0;34m,\u001b[0m \u001b[0;34m[\u001b[0m\u001b[0;34m]\u001b[0m\u001b[0;34m\u001b[0m\u001b[0;34m\u001b[0m\u001b[0m\n",
      "\u001b[0;32m~/anaconda3/envs/dgfont-env/lib/python3.7/site-packages/torch/nn/modules/container.py\u001b[0m in \u001b[0;36mforward\u001b[0;34m(self, input)\u001b[0m\n\u001b[1;32m    202\u001b[0m     \u001b[0;32mdef\u001b[0m \u001b[0mforward\u001b[0m\u001b[0;34m(\u001b[0m\u001b[0mself\u001b[0m\u001b[0;34m,\u001b[0m \u001b[0minput\u001b[0m\u001b[0;34m)\u001b[0m\u001b[0;34m:\u001b[0m\u001b[0;34m\u001b[0m\u001b[0;34m\u001b[0m\u001b[0m\n\u001b[1;32m    203\u001b[0m         \u001b[0;32mfor\u001b[0m \u001b[0mmodule\u001b[0m \u001b[0;32min\u001b[0m \u001b[0mself\u001b[0m\u001b[0;34m:\u001b[0m\u001b[0;34m\u001b[0m\u001b[0;34m\u001b[0m\u001b[0m\n\u001b[0;32m--> 204\u001b[0;31m             \u001b[0minput\u001b[0m \u001b[0;34m=\u001b[0m \u001b[0mmodule\u001b[0m\u001b[0;34m(\u001b[0m\u001b[0minput\u001b[0m\u001b[0;34m)\u001b[0m\u001b[0;34m\u001b[0m\u001b[0;34m\u001b[0m\u001b[0m\n\u001b[0m\u001b[1;32m    205\u001b[0m         \u001b[0;32mreturn\u001b[0m \u001b[0minput\u001b[0m\u001b[0;34m\u001b[0m\u001b[0;34m\u001b[0m\u001b[0m\n\u001b[1;32m    206\u001b[0m \u001b[0;34m\u001b[0m\u001b[0m\n",
      "\u001b[0;32m~/anaconda3/envs/dgfont-env/lib/python3.7/site-packages/torch/nn/modules/module.py\u001b[0m in \u001b[0;36m_call_impl\u001b[0;34m(self, *input, **kwargs)\u001b[0m\n\u001b[1;32m   1192\u001b[0m         if not (self._backward_hooks or self._forward_hooks or self._forward_pre_hooks or _global_backward_hooks\n\u001b[1;32m   1193\u001b[0m                 or _global_forward_hooks or _global_forward_pre_hooks):\n\u001b[0;32m-> 1194\u001b[0;31m             \u001b[0;32mreturn\u001b[0m \u001b[0mforward_call\u001b[0m\u001b[0;34m(\u001b[0m\u001b[0;34m*\u001b[0m\u001b[0minput\u001b[0m\u001b[0;34m,\u001b[0m \u001b[0;34m**\u001b[0m\u001b[0mkwargs\u001b[0m\u001b[0;34m)\u001b[0m\u001b[0;34m\u001b[0m\u001b[0;34m\u001b[0m\u001b[0m\n\u001b[0m\u001b[1;32m   1195\u001b[0m         \u001b[0;31m# Do not call functions when jit is used\u001b[0m\u001b[0;34m\u001b[0m\u001b[0;34m\u001b[0m\u001b[0;34m\u001b[0m\u001b[0m\n\u001b[1;32m   1196\u001b[0m         \u001b[0mfull_backward_hooks\u001b[0m\u001b[0;34m,\u001b[0m \u001b[0mnon_full_backward_hooks\u001b[0m \u001b[0;34m=\u001b[0m \u001b[0;34m[\u001b[0m\u001b[0;34m]\u001b[0m\u001b[0;34m,\u001b[0m \u001b[0;34m[\u001b[0m\u001b[0;34m]\u001b[0m\u001b[0;34m\u001b[0m\u001b[0;34m\u001b[0m\u001b[0m\n",
      "\u001b[0;32m~/learn-computer-vision/CLIPFont/clip/model.py\u001b[0m in \u001b[0;36mforward\u001b[0;34m(self, x)\u001b[0m\n\u001b[1;32m    223\u001b[0m     \u001b[0;32mdef\u001b[0m \u001b[0mforward\u001b[0m\u001b[0;34m(\u001b[0m\u001b[0mself\u001b[0m\u001b[0;34m,\u001b[0m \u001b[0mx\u001b[0m\u001b[0;34m:\u001b[0m \u001b[0mtorch\u001b[0m\u001b[0;34m.\u001b[0m\u001b[0mTensor\u001b[0m\u001b[0;34m)\u001b[0m\u001b[0;34m:\u001b[0m\u001b[0;34m\u001b[0m\u001b[0;34m\u001b[0m\u001b[0m\n\u001b[1;32m    224\u001b[0m         \u001b[0mx\u001b[0m \u001b[0;34m=\u001b[0m \u001b[0mx\u001b[0m \u001b[0;34m+\u001b[0m \u001b[0mself\u001b[0m\u001b[0;34m.\u001b[0m\u001b[0mattention\u001b[0m\u001b[0;34m(\u001b[0m\u001b[0mself\u001b[0m\u001b[0;34m.\u001b[0m\u001b[0mln_1\u001b[0m\u001b[0;34m(\u001b[0m\u001b[0mx\u001b[0m\u001b[0;34m)\u001b[0m\u001b[0;34m)\u001b[0m\u001b[0;34m\u001b[0m\u001b[0;34m\u001b[0m\u001b[0m\n\u001b[0;32m--> 225\u001b[0;31m         \u001b[0mx\u001b[0m \u001b[0;34m=\u001b[0m \u001b[0mx\u001b[0m \u001b[0;34m+\u001b[0m \u001b[0mself\u001b[0m\u001b[0;34m.\u001b[0m\u001b[0mmlp\u001b[0m\u001b[0;34m(\u001b[0m\u001b[0mself\u001b[0m\u001b[0;34m.\u001b[0m\u001b[0mln_2\u001b[0m\u001b[0;34m(\u001b[0m\u001b[0mx\u001b[0m\u001b[0;34m)\u001b[0m\u001b[0;34m)\u001b[0m\u001b[0;34m\u001b[0m\u001b[0;34m\u001b[0m\u001b[0m\n\u001b[0m\u001b[1;32m    226\u001b[0m         \u001b[0;32mreturn\u001b[0m \u001b[0mx\u001b[0m\u001b[0;34m\u001b[0m\u001b[0;34m\u001b[0m\u001b[0m\n\u001b[1;32m    227\u001b[0m \u001b[0;34m\u001b[0m\u001b[0m\n",
      "\u001b[0;32m~/anaconda3/envs/dgfont-env/lib/python3.7/site-packages/torch/nn/modules/module.py\u001b[0m in \u001b[0;36m_call_impl\u001b[0;34m(self, *input, **kwargs)\u001b[0m\n\u001b[1;32m   1192\u001b[0m         if not (self._backward_hooks or self._forward_hooks or self._forward_pre_hooks or _global_backward_hooks\n\u001b[1;32m   1193\u001b[0m                 or _global_forward_hooks or _global_forward_pre_hooks):\n\u001b[0;32m-> 1194\u001b[0;31m             \u001b[0;32mreturn\u001b[0m \u001b[0mforward_call\u001b[0m\u001b[0;34m(\u001b[0m\u001b[0;34m*\u001b[0m\u001b[0minput\u001b[0m\u001b[0;34m,\u001b[0m \u001b[0;34m**\u001b[0m\u001b[0mkwargs\u001b[0m\u001b[0;34m)\u001b[0m\u001b[0;34m\u001b[0m\u001b[0;34m\u001b[0m\u001b[0m\n\u001b[0m\u001b[1;32m   1195\u001b[0m         \u001b[0;31m# Do not call functions when jit is used\u001b[0m\u001b[0;34m\u001b[0m\u001b[0;34m\u001b[0m\u001b[0;34m\u001b[0m\u001b[0m\n\u001b[1;32m   1196\u001b[0m         \u001b[0mfull_backward_hooks\u001b[0m\u001b[0;34m,\u001b[0m \u001b[0mnon_full_backward_hooks\u001b[0m \u001b[0;34m=\u001b[0m \u001b[0;34m[\u001b[0m\u001b[0;34m]\u001b[0m\u001b[0;34m,\u001b[0m \u001b[0;34m[\u001b[0m\u001b[0;34m]\u001b[0m\u001b[0;34m\u001b[0m\u001b[0;34m\u001b[0m\u001b[0m\n",
      "\u001b[0;32m~/learn-computer-vision/CLIPFont/clip/model.py\u001b[0m in \u001b[0;36mforward\u001b[0;34m(self, x)\u001b[0m\n\u001b[1;32m    192\u001b[0m         \u001b[0morig_type\u001b[0m \u001b[0;34m=\u001b[0m \u001b[0mx\u001b[0m\u001b[0;34m.\u001b[0m\u001b[0mdtype\u001b[0m\u001b[0;34m\u001b[0m\u001b[0;34m\u001b[0m\u001b[0m\n\u001b[1;32m    193\u001b[0m         \u001b[0mret\u001b[0m \u001b[0;34m=\u001b[0m \u001b[0msuper\u001b[0m\u001b[0;34m(\u001b[0m\u001b[0;34m)\u001b[0m\u001b[0;34m.\u001b[0m\u001b[0mforward\u001b[0m\u001b[0;34m(\u001b[0m\u001b[0mx\u001b[0m\u001b[0;34m.\u001b[0m\u001b[0mtype\u001b[0m\u001b[0;34m(\u001b[0m\u001b[0mtorch\u001b[0m\u001b[0;34m.\u001b[0m\u001b[0mfloat32\u001b[0m\u001b[0;34m)\u001b[0m\u001b[0;34m)\u001b[0m\u001b[0;34m\u001b[0m\u001b[0;34m\u001b[0m\u001b[0m\n\u001b[0;32m--> 194\u001b[0;31m         \u001b[0;32mreturn\u001b[0m \u001b[0mret\u001b[0m\u001b[0;34m.\u001b[0m\u001b[0mtype\u001b[0m\u001b[0;34m(\u001b[0m\u001b[0morig_type\u001b[0m\u001b[0;34m)\u001b[0m\u001b[0;34m\u001b[0m\u001b[0;34m\u001b[0m\u001b[0m\n\u001b[0m\u001b[1;32m    195\u001b[0m \u001b[0;34m\u001b[0m\u001b[0m\n\u001b[1;32m    196\u001b[0m \u001b[0;34m\u001b[0m\u001b[0m\n",
      "\u001b[0;31mKeyboardInterrupt\u001b[0m: "
     ]
    }
   ],
   "source": [
    "result = []\n",
    "for target_font_name in target_font_names:\n",
    "    checkpoint_path = retrieve_one_leave_out_model_path(target_font_name)\n",
    "    print(checkpoint_path)\n",
    "    model = load_model(model, checkpoint_path)\n",
    "    embedded_prompts = generate_all_attribute_embedded_prompts(inclusive_attributes, model=model)\n",
    "    embedded_images = generate_all_fonts_embedded_images(font_paths, fox_text, model=model, preprocess=preprocess)\n",
    "    tmp_result = evaluate_for_target_font(target_font_name, embedded_prompts, embedded_images)\n",
    "    classification_rate = sum([1 for r in tmp_result if r[-1]])/len(tmp_result)\n",
    "    result.append((target_font_name, classification_rate))\n",
    "    print(target_font_name, classification_rate)\n"
   ]
  },
  {
   "cell_type": "code",
   "execution_count": 16,
   "metadata": {},
   "outputs": [
    {
     "name": "stdout",
     "output_type": "stream",
     "text": [
      "0.7262147221414024\n"
     ]
    }
   ],
   "source": [
    "cr = evaluate_attribute_comparison_task(validation_font_names, fox_text, model=model, image_file_dir=image_file_dir)\n",
    "print(cr)"
   ]
  },
  {
   "cell_type": "code",
   "execution_count": 16,
   "metadata": {
    "ExecuteTime": {
     "end_time": "2023-05-02T14:19:14.585783Z",
     "start_time": "2023-05-02T14:19:14.584345Z"
    },
    "collapsed": false
   },
   "outputs": [
    {
     "name": "stdout",
     "output_type": "stream",
     "text": [
      "0.7456451612903231\n"
     ]
    }
   ],
   "source": [
    "\n",
    "average = sum([r[1] for r in result])/len(result)\n",
    "print(average)\n"
   ]
  },
  {
   "cell_type": "code",
   "execution_count": null,
   "metadata": {
    "collapsed": false
   },
   "outputs": [],
   "source": []
  },
  {
   "cell_type": "code",
   "execution_count": null,
   "metadata": {
    "collapsed": false
   },
   "outputs": [],
   "source": []
  },
  {
   "cell_type": "code",
   "execution_count": 29,
   "metadata": {
    "ExecuteTime": {
     "end_time": "2023-04-30T17:23:03.661431Z",
     "start_time": "2023-04-30T17:23:03.620655Z"
    },
    "collapsed": false
   },
   "outputs": [
    {
     "name": "stdout",
     "output_type": "stream",
     "text": [
      "0.8222989405791508\n"
     ]
    }
   ],
   "source": [
    "average = sum([r[1] for r in result])/len(result)\n",
    "print(average)"
   ]
  },
  {
   "cell_type": "code",
   "execution_count": null,
   "metadata": {
    "collapsed": false
   },
   "outputs": [],
   "source": []
  }
 ],
 "metadata": {
  "kernelspec": {
   "display_name": "Python 3",
   "language": "python",
   "name": "python3"
  },
  "language_info": {
   "codemirror_mode": {
    "name": "ipython",
    "version": 3
   },
   "file_extension": ".py",
   "mimetype": "text/x-python",
   "name": "python",
   "nbconvert_exporter": "python",
   "pygments_lexer": "ipython3",
   "version": "3.7.16"
  }
 },
 "nbformat": 4,
 "nbformat_minor": 0
}
