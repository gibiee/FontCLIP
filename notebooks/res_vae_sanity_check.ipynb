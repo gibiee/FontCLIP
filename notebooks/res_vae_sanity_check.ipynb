{
 "cells": [
  {
   "cell_type": "code",
   "execution_count": 1,
   "metadata": {},
   "outputs": [
    {
     "name": "stdout",
     "output_type": "stream",
     "text": [
      "exclusive_attributes:  ['capitals', 'monospace']\n",
      "loading JIT archive /home/yuki/.cache/clip/ViT-B-32.pt\n"
     ]
    }
   ],
   "source": [
    "from PIL import Image, ImageFont\n",
    "import string\n",
    "import numpy as np\n",
    "from tqdm import tqdm\n",
    "import os\n",
    "import torch\n",
    "from torch import nn\n",
    "from torch.utils.data import DataLoader\n",
    "import torch.optim as optim\n",
    "from torchvision.transforms.functional import to_pil_image\n",
    "from IPython.display import display\n",
    "import wandb\n",
    "import os\n",
    "from utils.ex_clip import ExCLIP\n",
    "from dotenv import load_dotenv\n",
    "\n",
    "load_dotenv()\n",
    "\n",
    "from utils.transform_image import (\n",
    "    draw_text_with_new_lines,\n",
    "    char_size,\n",
    "    transform_for_resize,\n",
    ")\n",
    "from utils.initialize_font_data import (\n",
    "    fox_text_four_lines,\n",
    "    train_json_path,\n",
    "    font_dir,\n",
    "    all_gray_scale_image_file_dir,\n",
    "    exclusive_attributes,\n",
    ")\n",
    "from utils.init_model import (\n",
    "    preprocess,\n",
    "    load_model,\n",
    "    device,\n",
    "    my_preprocess,\n",
    ")\n",
    "from utils.clip_vae import VAE, VAELoss, Discriminator, AE, AELoss\n",
    "from utils.dataset import MyDataset, set_image_tensors\n",
    "from utils.ex_clip import ExCLIP\n",
    "from utils.lora_clip import LoRAConfig\n"
   ]
  },
  {
   "cell_type": "code",
   "execution_count": 2,
   "metadata": {},
   "outputs": [
    {
     "name": "stderr",
     "output_type": "stream",
     "text": [
      "100%|██████████| 120/120 [00:01<00:00, 104.41it/s]\n"
     ]
    },
    {
     "name": "stdout",
     "output_type": "stream",
     "text": [
      "load image tensors from image files ...\n"
     ]
    },
    {
     "name": "stderr",
     "output_type": "stream",
     "text": [
      "100%|██████████| 120/120 [00:02<00:00, 53.95it/s]\n"
     ]
    }
   ],
   "source": [
    "vae_target_characters = string.ascii_uppercase + string.ascii_lowercase\n",
    "vae_target_characters_size = 64\n",
    "dataset = MyDataset(\n",
    "    font_dir,\n",
    "    train_json_path,\n",
    "    texts_for_font_image=[fox_text_four_lines],\n",
    "    use_negative=True,\n",
    "    use_weight=False,\n",
    "    use_score=False,\n",
    "    use_multiple_attributes=True,\n",
    "    use_random_attributes=True,\n",
    "    random_prompts_num=100,\n",
    "    max_sample_num=3,\n",
    "    rich_prompt=False,\n",
    "    sample_num_each_epoch=30,\n",
    "    image_file_dir=all_gray_scale_image_file_dir,\n",
    "    attribute_threshold=50,\n",
    "    attribute_under_threshold=50,\n",
    "    preprocess=preprocess,\n",
    "    dump_image=True,\n",
    "    exclusive_attributes=exclusive_attributes,\n",
    "    geta=0.2,\n",
    "    single_character=False,\n",
    "    use_negative_loss=True,\n",
    "    use_contrastive_image_loss=False,\n",
    "    use_vae_loss=True,\n",
    "    vae_target_characters=vae_target_characters,\n",
    "    vae_target_characters_size=vae_target_characters_size,\n",
    "    store_unnormalized_image=False,\n",
    "    n_px_of_unnormalized_image=64,\n",
    "    use_clip_like_format=False,\n",
    "    char_size=250,\n",
    "    context_length=77,\n",
    ")\n",
    "set_image_tensors(\n",
    "    dataset,\n",
    "    preprocess=my_preprocess,\n",
    "    sample_num=2,\n",
    ")"
   ]
  },
  {
   "cell_type": "code",
   "execution_count": 3,
   "metadata": {},
   "outputs": [
    {
     "name": "stdout",
     "output_type": "stream",
     "text": [
      "data_loader 57\n"
     ]
    }
   ],
   "source": [
    "data_loader = DataLoader(dataset, batch_size=64, shuffle=True)\n",
    "print(\"data_loader\", len(data_loader))"
   ]
  },
  {
   "cell_type": "code",
   "execution_count": 12,
   "metadata": {},
   "outputs": [],
   "source": [
    "generator = VAE(\n",
    "  clip_model=None,\n",
    "  output_ch=1,\n",
    "  cnn_based=True,\n",
    "  mode_dual=False,\n",
    "  use_embedding=False,\n",
    "  l_relu=True,\n",
    "  content_conditioned=False,\n",
    ").to(device)"
   ]
  },
  {
   "cell_type": "code",
   "execution_count": 13,
   "metadata": {},
   "outputs": [
    {
     "name": "stdout",
     "output_type": "stream",
     "text": [
      "torch.Size([64, 1, 64, 64])\n"
     ]
    }
   ],
   "source": [
    "for batch in iter(data_loader):\n",
    "    (\n",
    "        images,\n",
    "        texts,\n",
    "        font_indices,\n",
    "        attribute_indices,\n",
    "        vae_target_images,\n",
    "        one_hot_vectors,\n",
    "    ) = batch\n",
    "    vae_target_images = vae_target_images.to(device)\n",
    "    print(vae_target_images.shape)\n",
    "    break"
   ]
  },
  {
   "cell_type": "code",
   "execution_count": 17,
   "metadata": {},
   "outputs": [
    {
     "name": "stdout",
     "output_type": "stream",
     "text": [
      "torch.Size([64, 4096])\n"
     ]
    },
    {
     "data": {
      "image/png": "[encoded data removed]",
      "text/plain": [
       "<PIL.Image.Image image mode=L size=64x64>"
      ]
     },
     "metadata": {},
     "output_type": "display_data"
    }
   ],
   "source": [
    "x, mean, var = generator(vae_target_images)\n",
    "print(x.shape)\n",
    "display(to_pil_image(x[0].view(64, 64).cpu()))"
   ]
  },
  {
   "cell_type": "code",
   "execution_count": null,
   "metadata": {},
   "outputs": [],
   "source": []
  }
 ],
 "metadata": {
  "kernelspec": {
   "display_name": "dgfont-env",
   "language": "python",
   "name": "python3"
  },
  "language_info": {
   "codemirror_mode": {
    "name": "ipython",
    "version": 3
   },
   "file_extension": ".py",
   "mimetype": "text/x-python",
   "name": "python",
   "nbconvert_exporter": "python",
   "pygments_lexer": "ipython3",
   "version": "3.7.16"
  }
 },
 "nbformat": 4,
 "nbformat_minor": 2
}
