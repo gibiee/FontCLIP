{
 "cells": [
  {
   "cell_type": "code",
   "execution_count": 10,
   "metadata": {},
   "outputs": [],
   "source": [
    "import PIL\n",
    "from PIL import Image\n",
    "from IPython.display import display"
   ]
  },
  {
   "cell_type": "code",
   "execution_count": 6,
   "metadata": {},
   "outputs": [],
   "source": [
    "def rgb_to_gray_scale(r, g, b):\n",
    "    return (r * 0.2989 + g * 0.5870 + b * 0.1140)"
   ]
  },
  {
   "cell_type": "code",
   "execution_count": 12,
   "metadata": {},
   "outputs": [],
   "source": [
    "def convert_black_and_white(image: PIL.Image) -> PIL.Image:\n",
    "  width, height = image.size\n",
    "  for x in range(width):\n",
    "    for y in range(height):\n",
    "      if image.mode == 'RGBA':\n",
    "        r, g, b, a = image.getpixel((x, y))\n",
    "        # calculate grayscale value\n",
    "        gray_scale = int(rgb_to_gray_scale(r, g, b) * (a / 255))\n",
    "      elif image.mode == 'RGB':\n",
    "        r, g, b = image.getpixel((x, y))\n",
    "        # calculate grayscale value\n",
    "        gray_scale = int(rgb_to_gray_scale(r, g, b))\n",
    "      elif image.mode == 'L':\n",
    "        gray_scale = image.getpixel((x, y))\n",
    "      else:\n",
    "        raise Exception('Unknown image mode: {}'.format(image.mode))\n",
    "      if gray_scale < 128:\n",
    "        image.putpixel((x, y), (0, 0, 0))\n",
    "      else:\n",
    "        image.putpixel((x, y), (255, 255, 255))\n",
    "  return image"
   ]
  },
  {
   "cell_type": "code",
   "execution_count": 21,
   "metadata": {},
   "outputs": [],
   "source": [
    "img_path = '/Users/yuki/Downloads/C_KFC.png'"
   ]
  },
  {
   "cell_type": "code",
   "execution_count": 22,
   "metadata": {},
   "outputs": [
    {
     "data": {
      "image/png": "[encoded data removed]",
      "text/plain": [
       "<PIL.PngImagePlugin.PngImageFile image mode=RGBA size=373x334>"
      ]
     },
     "metadata": {},
     "output_type": "display_data"
    }
   ],
   "source": [
    "image = Image.open(img_path)\n",
    "bw_image = convert_black_and_white(image)\n",
    "bw_image.save('/Users/yuki/Downloads/C_KFC_bw.png')\n",
    "display(bw_image)"
   ]
  },
  {
   "cell_type": "code",
   "execution_count": 16,
   "metadata": {},
   "outputs": [
    {
     "name": "stdout",
     "output_type": "stream",
     "text": [
      "255 255 255 255\n"
     ]
    }
   ],
   "source": [
    "r, g, b, a = image.getpixel((0, 0))\n",
    "print(r, g, b, a)"
   ]
  },
  {
   "cell_type": "code",
   "execution_count": null,
   "metadata": {},
   "outputs": [],
   "source": []
  }
 ],
 "metadata": {
  "kernelspec": {
   "display_name": "venv",
   "language": "python",
   "name": "python3"
  },
  "language_info": {
   "codemirror_mode": {
    "name": "ipython",
    "version": 3
   },
   "file_extension": ".py",
   "mimetype": "text/x-python",
   "name": "python",
   "nbconvert_exporter": "python",
   "pygments_lexer": "ipython3",
   "version": "3.9.17"
  },
  "orig_nbformat": 4
 },
 "nbformat": 4,
 "nbformat_minor": 2
}
