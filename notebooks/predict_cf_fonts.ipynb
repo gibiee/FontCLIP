{
 "cells": [
  {
   "cell_type": "code",
   "execution_count": 1,
   "metadata": {},
   "outputs": [],
   "source": [
    "import numpy as np\n",
    "import torch\n",
    "import torch.nn as nn\n",
    "from torch.utils.data import Dataset, DataLoader\n",
    "import torch.optim as optim\n",
    "from PIL import Image, ImageDraw, ImageFont\n",
    "import json\n",
    "import random\n",
    "\n",
    "import clip\n",
    "import os\n",
    "from tqdm import tqdm\n",
    "from fine_tune import draw_text_with_new_lines, MyDataset, TestDataset, calculate_corr, load_model, evaluate, all_attributes, preprocess, my_preprocess, _convert_image_to_rgb, set_image_tensors, inclusive_attributes, exclusive_attributes, evaluate_use_dumped_image\n",
    "from cj_fonts import inclusive_fonts, fifty_fonts\n",
    "from torchvision.transforms import Compose, Resize, CenterCrop, ToTensor, Normalize, RandomCrop, RandomRotation, RandomResizedCrop\n",
    "from IPython.display import display\n",
    "import matplotlib.pyplot as plt\n",
    "import matplotlib as mpl\n",
    "import matplotlib.font_manager as font_manager\n",
    "from matplotlib.font_manager import FontProperties\n",
    "import PIL\n",
    "\n",
    "# If using GPU then use mixed precision training.\n",
    "device = \"cuda:0\" if torch.cuda.is_available() else \"cpu\"\n",
    "# Must set jit=False for training\n",
    "model, preprocess = clip.load(\"ViT-B/32\", device=device, jit=False)\n",
    "from torchvision.transforms.functional import pil_to_tensor, to_pil_image"
   ]
  },
  {
   "cell_type": "code",
   "execution_count": 2,
   "metadata": {},
   "outputs": [],
   "source": [
    "checkpoint_path = 'model_checkpoints/model_1.pt'\n",
    "model = load_model(model, checkpoint_path)"
   ]
  },
  {
   "cell_type": "code",
   "execution_count": null,
   "metadata": {},
   "outputs": [],
   "source": []
  }
 ],
 "metadata": {
  "kernelspec": {
   "display_name": "venv",
   "language": "python",
   "name": "python3"
  },
  "language_info": {
   "codemirror_mode": {
    "name": "ipython",
    "version": 3
   },
   "file_extension": ".py",
   "mimetype": "text/x-python",
   "name": "python",
   "nbconvert_exporter": "python",
   "pygments_lexer": "ipython3",
   "version": "3.9.10"
  },
  "orig_nbformat": 4
 },
 "nbformat": 4,
 "nbformat_minor": 2
}
