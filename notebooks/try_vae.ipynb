{
 "cells": [
  {
   "cell_type": "code",
   "execution_count": 1,
   "metadata": {},
   "outputs": [
    {
     "name": "stdout",
     "output_type": "stream",
     "text": [
      "exclusive_attributes:  ['capitals', 'monospace']\n",
      "loading JIT archive /home/yuki/.cache/clip/ViT-B-32.pt\n"
     ]
    }
   ],
   "source": [
    "from PIL import Image, ImageFont\n",
    "import string\n",
    "import numpy as np\n",
    "from tqdm import tqdm\n",
    "import torch\n",
    "from torch import nn\n",
    "from torch.utils.data import DataLoader\n",
    "import torch.optim as optim\n",
    "from torchvision.transforms.functional import to_pil_image, to_tensor\n",
    "from IPython.display import display\n",
    "\n",
    "import clip\n",
    "from clip.model import CLIP\n",
    "from utils.transform_image import draw_text_with_new_lines, char_size, transform_for_resize\n",
    "from utils.initialize_font_data import fox_text, fox_text_four_lines, gray_scale_image_file_dir, train_json_path, font_dir, all_gray_scale_image_file_dir, exclusive_attributes\n",
    "from utils.init_model import model, preprocess, load_model, device, my_preprocess, preprocess_for_aug, preprocess_for_normalize\n",
    "from utils.clip_vae import VAE, VAELoss, Discriminator\n",
    "from dataset.dataset import MyDataset, set_image_tensors\n",
    "from models.lora_clip import LoRAConfig"
   ]
  },
  {
   "cell_type": "code",
   "execution_count": null,
   "metadata": {},
   "outputs": [],
   "source": [
    "def create_image(text, font, char_size=char_size):\n",
    "    if len(text) == 1:\n",
    "        width = char_size\n",
    "        height = char_size\n",
    "        image = draw_text_with_new_lines(text, font, width, height)\n",
    "        return image\n",
    "    line_num = text.count(\"\\n\") + 1\n",
    "    width = int(char_size * len(text) * 0.66 / line_num)\n",
    "    height = int(char_size * 1.0) * line_num\n",
    "    image = draw_text_with_new_lines(text, font, width, height)\n",
    "    return image\n",
    "\n",
    "\n",
    "def alphabet_to_index(alphabet):\n",
    "    return ord(alphabet) - ord(\"A\")"
   ]
  },
  {
   "cell_type": "code",
   "execution_count": 3,
   "metadata": {},
   "outputs": [],
   "source": [
    "# use lora model\n",
    "lora_config_vision = LoRAConfig(\n",
    "    r=256,\n",
    "    alpha=512.0,\n",
    "    bias=False,\n",
    "    learnable_alpha=False,\n",
    "    apply_q=False,\n",
    "    apply_k=False,\n",
    "    apply_v=False,\n",
    "    apply_out=False,\n",
    ")\n",
    "lora_config_text = LoRAConfig(\n",
    "    r=256,\n",
    "    alpha=1024.0,\n",
    "    bias=False,\n",
    "    learnable_alpha=False,\n",
    "    apply_q=True,\n",
    "    apply_k=True,\n",
    "    apply_v=True,\n",
    "    apply_out=True,\n",
    ")\n",
    "signature = \"cv_5_3_ViT-B_32_bce_lora_t-qkvo_256-1024.0_91011_batch64_aug250_lbound_of_scale0.35_max_attr_num_3_random_p_num_70000_geta0.2_use_negative_til1.0_lr2e-05-0.1_image_file_dir\"\n",
    "checkpoint_path = f\"model_checkpoints/{signature}.pt\"\n",
    "lora_model = load_model(\n",
    "    model,\n",
    "    checkpoint_path,\n",
    "    model_name=\"ViT-B/32\",\n",
    "    learnable_prompt=False,\n",
    "    learnable_vision=False,\n",
    "    precontext_length=48,\n",
    "    precontext_vision_length=0,\n",
    "    precontext_dropout_rate=0,\n",
    "    vpt_applied_layers=None,\n",
    "    use_oft_vision=False,\n",
    "    use_oft_text=False,\n",
    "    oft_config_vision=None,\n",
    "    oft_config_text=None,\n",
    "    inject_lora=True,\n",
    "    lora_config_vision=lora_config_vision,\n",
    "    lora_config_text=lora_config_text,\n",
    ")\n",
    "lora_model.eval()\n",
    "for param in lora_model.parameters():\n",
    "    param.requires_grad = False"
   ]
  },
  {
   "cell_type": "code",
   "execution_count": 4,
   "metadata": {},
   "outputs": [],
   "source": [
    "# vae_checkpoint_path = f'model_checkpoints/vae/{signature}.pt'\n",
    "vae_checkpoint_path = None\n",
    "output_ch = 1\n",
    "vae = VAE(lora_model, output_ch=output_ch, cnn_based=True, mode_dual=False,\n",
    "          l_relu=True, content_conditioned=True, content_dim=52).to(device)\n",
    "if vae_checkpoint_path is not None:\n",
    "    print(\"load vae checkpoint\")\n",
    "    vae.load_state_dict(\n",
    "        torch.load(vae_checkpoint_path)[\"model_state_dict\"]\n",
    "    )"
   ]
  },
  {
   "cell_type": "code",
   "execution_count": 5,
   "metadata": {},
   "outputs": [
    {
     "data": {
      "image/png": "[encoded data removed]",
      "text/plain": [
       "<PIL.Image.Image image mode=RGB size=150x150>"
      ]
     },
     "metadata": {},
     "output_type": "display_data"
    }
   ],
   "source": [
    "text = fox_text_four_lines\n",
    "target_alphabet = \"B\"\n",
    "target_alphabet_index = alphabet_to_index(target_alphabet)\n",
    "font_path = \"../gwfonts/ABeeZee-Italic.ttf\"\n",
    "font = ImageFont.truetype(font_path, char_size)\n",
    "image = create_image(target_alphabet, font, char_size=char_size)\n",
    "display(image)\n",
    "\n",
    "# Define content condition, one-hot vector\n",
    "condition_one_hot_vector = torch.zeros(52).to(device)\n",
    "condition_one_hot_vector[target_alphabet_index] = 1"
   ]
  },
  {
   "cell_type": "code",
   "execution_count": 6,
   "metadata": {},
   "outputs": [
    {
     "name": "stdout",
     "output_type": "stream",
     "text": [
      "torch.Size([1, 1, 64, 64])\n"
     ]
    },
    {
     "data": {
      "image/png": "[encoded data removed]",
      "text/plain": [
       "<PIL.Image.Image image mode=RGB size=224x224>"
      ]
     },
     "metadata": {},
     "output_type": "display_data"
    },
    {
     "data": {
      "image/png": "[encoded data removed]",
      "text/plain": [
       "<PIL.Image.Image image mode=L size=64x64>"
      ]
     },
     "metadata": {},
     "output_type": "display_data"
    },
    {
     "name": "stdout",
     "output_type": "stream",
     "text": [
      "torch.Size([64, 512])\n",
      "torch.Size([64, 4096]) torch.Size([64, 512]) torch.Size([64, 512])\n",
      "torch.Size([64, 1, 64, 64])\n"
     ]
    },
    {
     "data": {
      "image/png": "[encoded data removed]",
      "text/plain": [
       "<PIL.Image.Image image mode=L size=64x64>"
      ]
     },
     "metadata": {},
     "output_type": "display_data"
    }
   ],
   "source": [
    "preprocess_for_resize_224 = transform_for_resize(224)\n",
    "preprocess_for_resize_64 = transform_for_resize(64)\n",
    "# auged_image = preprocess_for_aug(image)\n",
    "# display(to_pil_image(auged_image))\n",
    "auged_image = preprocess_for_resize_224(image)\n",
    "auged_image_gray = to_tensor(to_pil_image(auged_image).convert(\"L\"))\n",
    "preprocessed_image = to_pil_image(preprocess_for_normalize(auged_image))\n",
    "image_for_clip = preprocess(preprocessed_image).unsqueeze(0).to(device)\n",
    "image_for_vae = (\n",
    "    preprocess_for_resize_64(to_pil_image(auged_image).convert(\"L\"))\n",
    "    .unsqueeze(0)\n",
    "    .to(device)\n",
    ")\n",
    "embedded_image = lora_model.encode_image(image_for_clip)\n",
    "print(image_for_vae.shape)\n",
    "display(preprocessed_image)\n",
    "display(to_pil_image(image_for_vae[0].cpu()))\n",
    "\n",
    "input = torch.stack([embedded_image.squeeze(0)] * 64, dim=0)\n",
    "content_variable = torch.stack(\n",
    "    [condition_one_hot_vector] * 64, dim=0).to(vae.dtype)\n",
    "print(input.shape)\n",
    "x, mean, var = vae(input, content_variable=content_variable)\n",
    "print(x.shape, mean.shape, var.shape)\n",
    "# reshape x to 224 * 224\n",
    "reshaped_x = x.view(x.shape[0], 1, 64, 64)\n",
    "print(reshaped_x.shape)\n",
    "display(to_pil_image(reshaped_x[0]))"
   ]
  },
  {
   "cell_type": "code",
   "execution_count": 49,
   "metadata": {},
   "outputs": [
    {
     "name": "stderr",
     "output_type": "stream",
     "text": [
      "100%|██████████| 120/120 [00:01<00:00, 106.00it/s]\n"
     ]
    },
    {
     "name": "stdout",
     "output_type": "stream",
     "text": [
      "load image tensors from image files ...\n"
     ]
    },
    {
     "name": "stderr",
     "output_type": "stream",
     "text": [
      "100%|██████████| 120/120 [00:53<00:00,  2.25it/s]"
     ]
    },
    {
     "name": "stdout",
     "output_type": "stream",
     "text": [
      "3600\n"
     ]
    },
    {
     "name": "stderr",
     "output_type": "stream",
     "text": [
      "\n"
     ]
    }
   ],
   "source": [
    "vae_target_characters = string.ascii_uppercase + string.ascii_lowercase\n",
    "dataset = MyDataset(\n",
    "    font_dir,\n",
    "    train_json_path,\n",
    "    texts_for_font_image=[fox_text_four_lines],\n",
    "    use_negative=True,\n",
    "    use_weight=False,\n",
    "    use_score=False,\n",
    "    use_multiple_attributes=True,\n",
    "    use_random_attributes=True,\n",
    "    random_prompts_num=100,\n",
    "    max_sample_num=3,\n",
    "    rich_prompt=False,\n",
    "    sample_num_each_epoch=30,\n",
    "    image_file_dir=all_gray_scale_image_file_dir,\n",
    "    attribute_threshold=50,\n",
    "    attribute_under_threshold=50,\n",
    "    preprocess=preprocess,\n",
    "    dump_image=True,\n",
    "    exclusive_attributes=exclusive_attributes,\n",
    "    geta=0.2,\n",
    "    single_character=False,\n",
    "    use_negative_loss=True,\n",
    "    use_contrastive_image_loss=False,\n",
    "    use_vae_loss=True,\n",
    "    vae_target_characters=vae_target_characters,\n",
    "    vae_target_characters_size=64,\n",
    "    store_unnormalized_image=False,\n",
    "    n_px_of_unnormalized_image=64,\n",
    "    use_clip_like_format=False,\n",
    "    char_size=250,\n",
    "    context_length=77,\n",
    ")\n",
    "set_image_tensors(\n",
    "    dataset,\n",
    "    preprocess=my_preprocess,\n",
    "    sample_num=100,\n",
    ")\n",
    "data_loader = DataLoader(dataset, batch_size=64, shuffle=True)\n",
    "val_data_loader = DataLoader(dataset, batch_size=64, shuffle=False)\n",
    "print(len(dataset))"
   ]
  },
  {
   "cell_type": "code",
   "execution_count": 50,
   "metadata": {},
   "outputs": [],
   "source": [
    "vae = VAE(\n",
    "    lora_model,\n",
    "    output_ch=output_ch,\n",
    "    cnn_based=True,\n",
    "    mode_dual=False,\n",
    "    l_relu=True,\n",
    "    content_conditioned=True,\n",
    "    content_dim=len(vae_target_characters),\n",
    ").to(device)\n",
    "content_discriminator = Discriminator(lora_model, input_ch=1, ch=64,latent_dim=256,output_dim=len(vae_target_characters)).to(device)"
   ]
  },
  {
   "cell_type": "code",
   "execution_count": 51,
   "metadata": {},
   "outputs": [],
   "source": [
    "EPOCH = 500\n",
    "vae_loss = VAELoss(beta=0.03, rmse=True).to(device)\n",
    "ce_loss = nn.CrossEntropyLoss()\n",
    "d_loss_weight = 0.1\n",
    "vae_optimizer = optim.Adam(\n",
    "    vae.parameters(),\n",
    "    lr=1e-5,\n",
    "    betas=(0.9, 0.98),\n",
    "    eps=1e-6,\n",
    "    weight_decay=0.2,\n",
    ")\n",
    "vae_schedular = optim.lr_scheduler.LinearLR(\n",
    "    vae_optimizer,\n",
    "    start_factor=1,\n",
    "    total_iters=EPOCH * len(data_loader),\n",
    ")\n",
    "discriminator_optimizer = optim.Adam(\n",
    "    content_discriminator.parameters(),\n",
    "    lr=1e-4,\n",
    "    betas=(0.9, 0.98),\n",
    "    eps=1e-6,\n",
    "    weight_decay=0.2,\n",
    ")\n",
    "discriminator_schedular = optim.lr_scheduler.LinearLR(\n",
    "    discriminator_optimizer,\n",
    "    start_factor=1,\n",
    "    total_iters=EPOCH * len(data_loader),\n",
    ")\n",
    "\n",
    "def validation(images_for_display, vae_target_images_for_display, one_hot_vectors_for_display):\n",
    "    vae.eval()\n",
    "    with torch.no_grad():\n",
    "        total_loss = 0\n",
    "        total_d_loss = 0\n",
    "        for batch in iter(val_data_loader):\n",
    "            (\n",
    "                images,\n",
    "                texts,\n",
    "                font_indices,\n",
    "                attribute_indices,\n",
    "                vae_target_images,\n",
    "                one_hot_vectors,\n",
    "            ) = batch\n",
    "            embedded_image = lora_model.encode_image(images.to(device))\n",
    "            # normalization\n",
    "            # embedded_image = embedded_image / embedded_image.norm(dim=-1, keepdim=True)\n",
    "            x, mean, var = vae(\n",
    "                embedded_image, content_variable=one_hot_vectors.to(device)\n",
    "            )\n",
    "            ground_truth = vae_target_images.view(vae_target_images.shape[0], -1).to(\n",
    "                device\n",
    "            )\n",
    "            loss = vae_loss(x, ground_truth, mean, var)\n",
    "            d_loss = ce_loss(content_discriminator(x.view(x.shape[0], 1, 64, 64).to(device)), one_hot_vectors.argmax(dim=-1).to(device))\n",
    "            total_loss += loss.item()\n",
    "            total_d_loss += d_loss.item()\n",
    "    embedded_image = lora_model.encode_image(images_for_display.to(device))\n",
    "    x, mean, var = vae(\n",
    "        embedded_image, content_variable=one_hot_vectors_for_display.to(device)\n",
    "    )\n",
    "    ground_truth = vae_target_images_for_display.view(vae_target_images_for_display.shape[0], -1).to(\n",
    "        device\n",
    "    )\n",
    "    display(to_pil_image(ground_truth[0].view(64, 64)))\n",
    "    display(to_pil_image(x[0].view(64, 64)))\n",
    "    print(total_loss / len(val_data_loader))\n",
    "    print(total_d_loss / len(val_data_loader))\n",
    "    vae.train()"
   ]
  },
  {
   "cell_type": "code",
   "execution_count": 60,
   "metadata": {},
   "outputs": [
    {
     "name": "stderr",
     "output_type": "stream",
     "text": [
      "  0%|          | 0/500 [00:00<?, ?it/s]"
     ]
    },
    {
     "data": {
      "image/png": "[encoded data removed]",
      "text/plain": [
       "<PIL.Image.Image image mode=L size=64x64>"
      ]
     },
     "metadata": {},
     "output_type": "display_data"
    },
    {
     "data": {
      "image/png": "[encoded data removed]",
      "text/plain": [
       "<PIL.Image.Image image mode=L size=64x64>"
      ]
     },
     "metadata": {},
     "output_type": "display_data"
    },
    {
     "name": "stderr",
     "output_type": "stream",
     "text": [
      "  0%|          | 1/500 [00:06<58:10,  7.00s/it]"
     ]
    },
    {
     "name": "stdout",
     "output_type": "stream",
     "text": [
      "0.3583556058114035\n",
      "3.9539131030701755\n"
     ]
    },
    {
     "name": "stderr",
     "output_type": "stream",
     "text": [
      "  2%|▏         | 10/500 [00:48<37:54,  4.64s/it]"
     ]
    },
    {
     "data": {
      "image/png": "[encoded data removed]",
      "text/plain": [
       "<PIL.Image.Image image mode=L size=64x64>"
      ]
     },
     "metadata": {},
     "output_type": "display_data"
    },
    {
     "data": {
      "image/png": "[encoded data removed]",
      "text/plain": [
       "<PIL.Image.Image image mode=L size=64x64>"
      ]
     },
     "metadata": {},
     "output_type": "display_data"
    },
    {
     "name": "stderr",
     "output_type": "stream",
     "text": [
      "  2%|▏         | 11/500 [00:55<43:39,  5.36s/it]"
     ]
    },
    {
     "name": "stdout",
     "output_type": "stream",
     "text": [
      "0.3489369174890351\n",
      "3.952131304824561\n"
     ]
    },
    {
     "name": "stderr",
     "output_type": "stream",
     "text": [
      "  4%|▍         | 20/500 [01:36<37:07,  4.64s/it]"
     ]
    },
    {
     "data": {
      "image/png": "[encoded data removed]",
      "text/plain": [
       "<PIL.Image.Image image mode=L size=64x64>"
      ]
     },
     "metadata": {},
     "output_type": "display_data"
    },
    {
     "data": {
      "image/png": "[encoded data removed]",
      "text/plain": [
       "<PIL.Image.Image image mode=L size=64x64>"
      ]
     },
     "metadata": {},
     "output_type": "display_data"
    },
    {
     "name": "stderr",
     "output_type": "stream",
     "text": [
      "  4%|▍         | 21/500 [01:43<42:37,  5.34s/it]"
     ]
    },
    {
     "name": "stdout",
     "output_type": "stream",
     "text": [
      "0.33649002878289475\n",
      "3.951720120614035\n"
     ]
    },
    {
     "name": "stderr",
     "output_type": "stream",
     "text": [
      "  6%|▌         | 30/500 [02:25<36:19,  4.64s/it]"
     ]
    },
    {
     "data": {
      "image/png": "[encoded data removed]",
      "text/plain": [
       "<PIL.Image.Image image mode=L size=64x64>"
      ]
     },
     "metadata": {},
     "output_type": "display_data"
    },
    {
     "data": {
      "image/png": "[encoded data removed]",
      "text/plain": [
       "<PIL.Image.Image image mode=L size=64x64>"
      ]
     },
     "metadata": {},
     "output_type": "display_data"
    },
    {
     "name": "stderr",
     "output_type": "stream",
     "text": [
      "  6%|▌         | 31/500 [02:32<41:45,  5.34s/it]"
     ]
    },
    {
     "name": "stdout",
     "output_type": "stream",
     "text": [
      "0.34274345531798245\n",
      "3.9514802631578947\n"
     ]
    },
    {
     "name": "stderr",
     "output_type": "stream",
     "text": [
      "  8%|▊         | 40/500 [03:13<35:35,  4.64s/it]"
     ]
    },
    {
     "data": {
      "image/png": "[encoded data removed]",
      "text/plain": [
       "<PIL.Image.Image image mode=L size=64x64>"
      ]
     },
     "metadata": {},
     "output_type": "display_data"
    },
    {
     "data": {
      "image/png": "[encoded data removed]",
      "text/plain": [
       "<PIL.Image.Image image mode=L size=64x64>"
      ]
     },
     "metadata": {},
     "output_type": "display_data"
    },
    {
     "name": "stderr",
     "output_type": "stream",
     "text": [
      "  8%|▊         | 41/500 [03:20<40:56,  5.35s/it]"
     ]
    },
    {
     "name": "stdout",
     "output_type": "stream",
     "text": [
      "0.32891310307017546\n",
      "3.951720120614035\n"
     ]
    },
    {
     "name": "stderr",
     "output_type": "stream",
     "text": [
      " 10%|█         | 50/500 [04:02<34:46,  4.64s/it]"
     ]
    },
    {
     "data": {
      "image/png": "[encoded data removed]",
      "text/plain": [
       "<PIL.Image.Image image mode=L size=64x64>"
      ]
     },
     "metadata": {},
     "output_type": "display_data"
    },
    {
     "data": {
      "image/png": "[encoded data removed]",
      "text/plain": [
       "<PIL.Image.Image image mode=L size=64x64>"
      ]
     },
     "metadata": {},
     "output_type": "display_data"
    },
    {
     "name": "stderr",
     "output_type": "stream",
     "text": [
      " 10%|█         | 51/500 [04:09<39:57,  5.34s/it]"
     ]
    },
    {
     "name": "stdout",
     "output_type": "stream",
     "text": [
      "0.321044921875\n",
      "3.9516173245614037\n"
     ]
    },
    {
     "name": "stderr",
     "output_type": "stream",
     "text": [
      " 12%|█▏        | 60/500 [04:50<34:04,  4.65s/it]"
     ]
    },
    {
     "data": {
      "image/png": "[encoded data removed]",
      "text/plain": [
       "<PIL.Image.Image image mode=L size=64x64>"
      ]
     },
     "metadata": {},
     "output_type": "display_data"
    },
    {
     "data": {
      "image/png": "[encoded data removed]",
      "text/plain": [
       "<PIL.Image.Image image mode=L size=64x64>"
      ]
     },
     "metadata": {},
     "output_type": "display_data"
    },
    {
     "name": "stderr",
     "output_type": "stream",
     "text": [
      " 12%|█▏        | 61/500 [04:57<39:07,  5.35s/it]"
     ]
    },
    {
     "name": "stdout",
     "output_type": "stream",
     "text": [
      "0.3220985814144737\n",
      "3.9528166118421053\n"
     ]
    },
    {
     "name": "stderr",
     "output_type": "stream",
     "text": [
      " 14%|█▍        | 70/500 [05:39<33:15,  4.64s/it]"
     ]
    },
    {
     "data": {
      "image/png": "[encoded data removed]",
      "text/plain": [
       "<PIL.Image.Image image mode=L size=64x64>"
      ]
     },
     "metadata": {},
     "output_type": "display_data"
    },
    {
     "data": {
      "image/png": "[encoded data removed]",
      "text/plain": [
       "<PIL.Image.Image image mode=L size=64x64>"
      ]
     },
     "metadata": {},
     "output_type": "display_data"
    },
    {
     "name": "stderr",
     "output_type": "stream",
     "text": [
      " 14%|█▍        | 71/500 [05:46<38:11,  5.34s/it]"
     ]
    },
    {
     "name": "stdout",
     "output_type": "stream",
     "text": [
      "0.33287503426535087\n",
      "3.951343201754386\n"
     ]
    },
    {
     "name": "stderr",
     "output_type": "stream",
     "text": [
      " 16%|█▌        | 80/500 [06:28<32:33,  4.65s/it]"
     ]
    },
    {
     "data": {
      "image/png": "[encoded data removed]",
      "text/plain": [
       "<PIL.Image.Image image mode=L size=64x64>"
      ]
     },
     "metadata": {},
     "output_type": "display_data"
    },
    {
     "data": {
      "image/png": "[encoded data removed]",
      "text/plain": [
       "<PIL.Image.Image image mode=L size=64x64>"
      ]
     },
     "metadata": {},
     "output_type": "display_data"
    },
    {
     "name": "stderr",
     "output_type": "stream",
     "text": [
      " 16%|█▌        | 81/500 [06:35<37:42,  5.40s/it]"
     ]
    },
    {
     "name": "stdout",
     "output_type": "stream",
     "text": [
      "0.3195201137609649\n",
      "3.9517886513157894\n"
     ]
    },
    {
     "name": "stderr",
     "output_type": "stream",
     "text": [
      " 18%|█▊        | 90/500 [07:16<31:45,  4.65s/it]"
     ]
    },
    {
     "data": {
      "image/png": "[encoded data removed]",
      "text/plain": [
       "<PIL.Image.Image image mode=L size=64x64>"
      ]
     },
     "metadata": {},
     "output_type": "display_data"
    },
    {
     "data": {
      "image/png": "[encoded data removed]",
      "text/plain": [
       "<PIL.Image.Image image mode=L size=64x64>"
      ]
     },
     "metadata": {},
     "output_type": "display_data"
    },
    {
     "name": "stderr",
     "output_type": "stream",
     "text": [
      " 18%|█▊        | 91/500 [07:23<36:23,  5.34s/it]"
     ]
    },
    {
     "name": "stdout",
     "output_type": "stream",
     "text": [
      "0.32583778782894735\n",
      "3.952645285087719\n"
     ]
    },
    {
     "name": "stderr",
     "output_type": "stream",
     "text": [
      " 20%|██        | 100/500 [08:05<30:53,  4.63s/it]"
     ]
    },
    {
     "data": {
      "image/png": "[encoded data removed]",
      "text/plain": [
       "<PIL.Image.Image image mode=L size=64x64>"
      ]
     },
     "metadata": {},
     "output_type": "display_data"
    },
    {
     "data": {
      "image/png": "[encoded data removed]",
      "text/plain": [
       "<PIL.Image.Image image mode=L size=64x64>"
      ]
     },
     "metadata": {},
     "output_type": "display_data"
    },
    {
     "name": "stderr",
     "output_type": "stream",
     "text": [
      " 20%|██        | 101/500 [08:12<35:27,  5.33s/it]"
     ]
    },
    {
     "name": "stdout",
     "output_type": "stream",
     "text": [
      "0.31921600877192985\n",
      "3.9518914473684212\n"
     ]
    },
    {
     "name": "stderr",
     "output_type": "stream",
     "text": [
      " 22%|██▏       | 110/500 [08:53<30:11,  4.65s/it]"
     ]
    },
    {
     "data": {
      "image/png": "[encoded data removed]",
      "text/plain": [
       "<PIL.Image.Image image mode=L size=64x64>"
      ]
     },
     "metadata": {},
     "output_type": "display_data"
    },
    {
     "data": {
      "image/png": "[encoded data removed]",
      "text/plain": [
       "<PIL.Image.Image image mode=L size=64x64>"
      ]
     },
     "metadata": {},
     "output_type": "display_data"
    },
    {
     "name": "stderr",
     "output_type": "stream",
     "text": [
      " 22%|██▏       | 111/500 [09:00<34:40,  5.35s/it]"
     ]
    },
    {
     "name": "stdout",
     "output_type": "stream",
     "text": [
      "0.31894616913377194\n",
      "3.95202850877193\n"
     ]
    },
    {
     "name": "stderr",
     "output_type": "stream",
     "text": [
      " 24%|██▍       | 120/500 [09:42<29:26,  4.65s/it]"
     ]
    },
    {
     "data": {
      "image/png": "[encoded data removed]",
      "text/plain": [
       "<PIL.Image.Image image mode=L size=64x64>"
      ]
     },
     "metadata": {},
     "output_type": "display_data"
    },
    {
     "data": {
      "image/png": "[encoded data removed]",
      "text/plain": [
       "<PIL.Image.Image image mode=L size=64x64>"
      ]
     },
     "metadata": {},
     "output_type": "display_data"
    },
    {
     "name": "stderr",
     "output_type": "stream",
     "text": [
      " 24%|██▍       | 121/500 [09:49<33:46,  5.35s/it]"
     ]
    },
    {
     "name": "stdout",
     "output_type": "stream",
     "text": [
      "0.32685289884868424\n",
      "3.9510690789473686\n"
     ]
    },
    {
     "name": "stderr",
     "output_type": "stream",
     "text": [
      " 26%|██▌       | 130/500 [10:30<28:37,  4.64s/it]"
     ]
    },
    {
     "data": {
      "image/png": "[encoded data removed]",
      "text/plain": [
       "<PIL.Image.Image image mode=L size=64x64>"
      ]
     },
     "metadata": {},
     "output_type": "display_data"
    },
    {
     "data": {
      "image/png": "[encoded data removed]",
      "text/plain": [
       "<PIL.Image.Image image mode=L size=64x64>"
      ]
     },
     "metadata": {},
     "output_type": "display_data"
    },
    {
     "name": "stderr",
     "output_type": "stream",
     "text": [
      " 26%|██▌       | 131/500 [10:37<32:51,  5.34s/it]"
     ]
    },
    {
     "name": "stdout",
     "output_type": "stream",
     "text": [
      "0.32224849232456143\n",
      "3.951583059210526\n"
     ]
    },
    {
     "name": "stderr",
     "output_type": "stream",
     "text": [
      " 26%|██▋       | 132/500 [10:43<29:54,  4.88s/it]\n"
     ]
    },
    {
     "ename": "KeyboardInterrupt",
     "evalue": "",
     "output_type": "error",
     "traceback": [
      "\u001b[0;31m---------------------------------------------------------------------------\u001b[0m",
      "\u001b[0;31mKeyboardInterrupt\u001b[0m                         Traceback (most recent call last)",
      "\u001b[0;32m/tmp/ipykernel_2446625/1262729999.py\u001b[0m in \u001b[0;36m<module>\u001b[0;34m\u001b[0m\n\u001b[1;32m     25\u001b[0m         \u001b[0mground_truth\u001b[0m \u001b[0;34m=\u001b[0m \u001b[0mvae_target_images\u001b[0m\u001b[0;34m.\u001b[0m\u001b[0mview\u001b[0m\u001b[0;34m(\u001b[0m\u001b[0mvae_target_images\u001b[0m\u001b[0;34m.\u001b[0m\u001b[0mshape\u001b[0m\u001b[0;34m[\u001b[0m\u001b[0;36m0\u001b[0m\u001b[0;34m]\u001b[0m\u001b[0;34m,\u001b[0m \u001b[0;34m-\u001b[0m\u001b[0;36m1\u001b[0m\u001b[0;34m)\u001b[0m\u001b[0;34m.\u001b[0m\u001b[0mto\u001b[0m\u001b[0;34m(\u001b[0m\u001b[0mdevice\u001b[0m\u001b[0;34m)\u001b[0m\u001b[0;34m\u001b[0m\u001b[0;34m\u001b[0m\u001b[0m\n\u001b[1;32m     26\u001b[0m         \u001b[0mloss\u001b[0m \u001b[0;34m=\u001b[0m \u001b[0mvae_loss\u001b[0m\u001b[0;34m(\u001b[0m\u001b[0mx\u001b[0m\u001b[0;34m,\u001b[0m \u001b[0mground_truth\u001b[0m\u001b[0;34m,\u001b[0m \u001b[0mmean\u001b[0m\u001b[0;34m,\u001b[0m \u001b[0mvar\u001b[0m\u001b[0;34m)\u001b[0m\u001b[0;34m\u001b[0m\u001b[0;34m\u001b[0m\u001b[0m\n\u001b[0;32m---> 27\u001b[0;31m         \u001b[0md_loss\u001b[0m \u001b[0;34m=\u001b[0m \u001b[0mce_loss\u001b[0m\u001b[0;34m(\u001b[0m\u001b[0mcontent_discriminator\u001b[0m\u001b[0;34m(\u001b[0m\u001b[0mx\u001b[0m\u001b[0;34m.\u001b[0m\u001b[0mview\u001b[0m\u001b[0;34m(\u001b[0m\u001b[0mx\u001b[0m\u001b[0;34m.\u001b[0m\u001b[0mshape\u001b[0m\u001b[0;34m[\u001b[0m\u001b[0;36m0\u001b[0m\u001b[0;34m]\u001b[0m\u001b[0;34m,\u001b[0m \u001b[0;36m1\u001b[0m\u001b[0;34m,\u001b[0m \u001b[0;36m64\u001b[0m\u001b[0;34m,\u001b[0m \u001b[0;36m64\u001b[0m\u001b[0;34m)\u001b[0m\u001b[0;34m.\u001b[0m\u001b[0mto\u001b[0m\u001b[0;34m(\u001b[0m\u001b[0mdevice\u001b[0m\u001b[0;34m)\u001b[0m\u001b[0;34m)\u001b[0m\u001b[0;34m,\u001b[0m \u001b[0mone_hot_vectors\u001b[0m\u001b[0;34m.\u001b[0m\u001b[0margmax\u001b[0m\u001b[0;34m(\u001b[0m\u001b[0mdim\u001b[0m\u001b[0;34m=\u001b[0m\u001b[0;34m-\u001b[0m\u001b[0;36m1\u001b[0m\u001b[0;34m)\u001b[0m\u001b[0;34m.\u001b[0m\u001b[0mto\u001b[0m\u001b[0;34m(\u001b[0m\u001b[0mdevice\u001b[0m\u001b[0;34m)\u001b[0m\u001b[0;34m)\u001b[0m \u001b[0;34m*\u001b[0m \u001b[0md_loss_weight\u001b[0m\u001b[0;34m\u001b[0m\u001b[0;34m\u001b[0m\u001b[0m\n\u001b[0m\u001b[1;32m     28\u001b[0m         \u001b[0mloss\u001b[0m \u001b[0;34m+=\u001b[0m \u001b[0md_loss\u001b[0m\u001b[0;34m\u001b[0m\u001b[0;34m\u001b[0m\u001b[0m\n\u001b[1;32m     29\u001b[0m         \u001b[0mloss\u001b[0m\u001b[0;34m.\u001b[0m\u001b[0mbackward\u001b[0m\u001b[0;34m(\u001b[0m\u001b[0;34m)\u001b[0m\u001b[0;34m\u001b[0m\u001b[0;34m\u001b[0m\u001b[0m\n",
      "\u001b[0;31mKeyboardInterrupt\u001b[0m: "
     ]
    }
   ],
   "source": [
    "(\n",
    "    images_for_display,\n",
    "    _,\n",
    "    _,\n",
    "    _,\n",
    "    vae_target_images_for_display,\n",
    "    one_hot_vectors_for_display,\n",
    ") = next(iter(val_data_loader))\n",
    "for epoch in tqdm(range(EPOCH)):\n",
    "    vae.train()\n",
    "    for batch in iter(data_loader):\n",
    "        vae_optimizer.zero_grad()\n",
    "        discriminator_optimizer.zero_grad()\n",
    "        (\n",
    "            images,\n",
    "            texts,\n",
    "            font_indices,\n",
    "            attribute_indices,\n",
    "            vae_target_images,\n",
    "            one_hot_vectors,\n",
    "        ) = batch\n",
    "        embedded_image = lora_model.encode_image(images.to(device))\n",
    "        # normalization\n",
    "        # embedded_image = embedded_image / embedded_image.norm(dim=-1, keepdim=True)\n",
    "        x, mean, var = vae(embedded_image, content_variable=one_hot_vectors.to(device))\n",
    "        ground_truth = vae_target_images.view(vae_target_images.shape[0], -1).to(device)\n",
    "        loss = vae_loss(x, ground_truth, mean, var)\n",
    "        d_loss = ce_loss(content_discriminator(x.view(x.shape[0], 1, 64, 64).to(device)), one_hot_vectors.argmax(dim=-1).to(device)) * d_loss_weight\n",
    "        loss += d_loss\n",
    "        loss.backward()\n",
    "        vae_optimizer.step()\n",
    "        vae_schedular.step()\n",
    "        discriminator_optimizer.step()\n",
    "        discriminator_schedular.step()\n",
    "    if epoch % 10 == 0:\n",
    "        validation(images_for_display, vae_target_images_for_display, one_hot_vectors_for_display)"
   ]
  },
  {
   "cell_type": "code",
   "execution_count": 58,
   "metadata": {},
   "outputs": [
    {
     "data": {
      "image/png": "[encoded data removed]",
      "text/plain": [
       "<PIL.Image.Image image mode=L size=64x64>"
      ]
     },
     "metadata": {},
     "output_type": "display_data"
    },
    {
     "data": {
      "image/png": "[encoded data removed]",
      "text/plain": [
       "<PIL.Image.Image image mode=RGB size=224x224>"
      ]
     },
     "metadata": {},
     "output_type": "display_data"
    }
   ],
   "source": [
    "display(to_pil_image(vae_target_images[0]))\n",
    "display(to_pil_image(images[0]))"
   ]
  },
  {
   "cell_type": "code",
   "execution_count": 32,
   "metadata": {},
   "outputs": [
    {
     "data": {
      "text/plain": [
       "tensor(0.0395, device='cuda:0', dtype=torch.float16, grad_fn=<MulBackward0>)"
      ]
     },
     "execution_count": 32,
     "metadata": {},
     "output_type": "execute_result"
    }
   ],
   "source": [
    "d_loss"
   ]
  },
  {
   "cell_type": "code",
   "execution_count": 18,
   "metadata": {},
   "outputs": [
    {
     "data": {
      "text/plain": [
       "torch.Size([64, 4096])"
      ]
     },
     "execution_count": 18,
     "metadata": {},
     "output_type": "execute_result"
    }
   ],
   "source": [
    "x.shape"
   ]
  },
  {
   "cell_type": "code",
   "execution_count": null,
   "metadata": {},
   "outputs": [],
   "source": []
  }
 ],
 "metadata": {
  "kernelspec": {
   "display_name": "dgfont-env",
   "language": "python",
   "name": "python3"
  },
  "language_info": {
   "codemirror_mode": {
    "name": "ipython",
    "version": 3
   },
   "file_extension": ".py",
   "mimetype": "text/x-python",
   "name": "python",
   "nbconvert_exporter": "python",
   "pygments_lexer": "ipython3",
   "version": "3.7.16"
  },
  "orig_nbformat": 4
 },
 "nbformat": 4,
 "nbformat_minor": 2
}
